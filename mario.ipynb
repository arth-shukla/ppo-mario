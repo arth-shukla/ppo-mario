{
  "cells": [
    {
      "attachments": {},
      "cell_type": "markdown",
      "metadata": {
        "id": "Vsu3DASF9oOZ"
      },
      "source": [
        "# DDQN to Beat Mario"
      ]
    },
    {
      "attachments": {},
      "cell_type": "markdown",
      "metadata": {
        "id": "TmJC6m4o-bg3"
      },
      "source": [
        "## Background\n",
        "\n",
        "In 2013, DeepMind made the Deep Q Network to play Atari Games (https://arxiv.org/pdf/1312.5602.pdf). This DQN was able to learn to play simple Atari games at human level, kickstarting the past decade of DeepRL research.\n",
        "\n",
        "In 2015, DeepMind published another paper which played even more Atari Games (https://storage.googleapis.com/deepmind-media/dqn/DQNNaturePaper.pdf). This new model included a target network to reduce Q-value overestimation in the previous DQN model. This model is sometimes called DDQNs, and it's what we'll implement here to beat Mario!"
      ]
    },
    {
      "attachments": {},
      "cell_type": "markdown",
      "metadata": {
        "id": "zmmHHVWJ91H5"
      },
      "source": [
        "## Setup and Some Exploration"
      ]
    },
    {
      "attachments": {},
      "cell_type": "markdown",
      "metadata": {
        "id": "EK8eCfnF-Hpu"
      },
      "source": [
        "First, we install gymnasium and the Mario Env.\n",
        "\n",
        "The Mario env can be found here: https://pypi.org/project/gym-super-mario-bros/"
      ]
    },
    {
      "cell_type": "code",
      "execution_count": 1,
      "metadata": {
        "colab": {
          "base_uri": "https://localhost:8080/"
        },
        "id": "97LB2zyA90n1",
        "outputId": "ace16065-3afb-4b63-a812-3412c3c88422"
      },
      "outputs": [],
      "source": [
        "# uncomment if using colab; if running locally it's recommended to install via conda\n",
        "# !pip uninstall -y gym\n",
        "# !pip install gymnasium\n",
        "# !pip install gym_super_mario_bros==7.3.0\n",
        "# !pip install wandb"
      ]
    },
    {
      "attachments": {},
      "cell_type": "markdown",
      "metadata": {
        "id": "AoJma_vthJhe"
      },
      "source": [
        "Before we transform the env with wrappers and make our agent, let's take a look at the environment as-is. Below we take some random actions and generate a video"
      ]
    },
    {
      "cell_type": "code",
      "execution_count": 2,
      "metadata": {
        "id": "5PeKvTbRImQ_"
      },
      "outputs": [],
      "source": [
        "import gymnasium as gym\n",
        "from gym.wrappers import RecordVideo\n",
        "\n",
        "from nes_py.wrappers import JoypadSpace\n",
        "import gym_super_mario_bros\n",
        "from gym_super_mario_bros.actions import SIMPLE_MOVEMENT\n",
        "\n",
        "import numpy as np\n",
        "\n",
        "import warnings\n",
        "warnings.filterwarnings('ignore')\n",
        "\n",
        "env = gym_super_mario_bros.make(\"SuperMarioBros-1-1-v0\", apply_api_compatibility=True, render_mode='rgb_array')\n",
        "env = JoypadSpace(env, SIMPLE_MOVEMENT)\n",
        "\n",
        "def run_test(env, num_steps=50):\n",
        "    frames = []\n",
        "    out = env.reset()\n",
        "    for _ in range(num_steps):\n",
        "        next_state, reward, done, truncated, info = env.step(action=env.action_space.sample())\n",
        "        frames.append(np.copy(env.render()))\n",
        "    return frames\n",
        "\n",
        "frames = run_test(env)"
      ]
    },
    {
      "cell_type": "code",
      "execution_count": 3,
      "metadata": {
        "colab": {
          "base_uri": "https://localhost:8080/"
        },
        "id": "ZAeHNXeZp_4K",
        "outputId": "128bac45-414d-44ff-987c-5d61ab3f1725"
      },
      "outputs": [
        {
          "name": "stdout",
          "output_type": "stream",
          "text": [
            "(240, 256, 3)\n"
          ]
        }
      ],
      "source": [
        "print(frames[-1].shape)"
      ]
    },
    {
      "attachments": {},
      "cell_type": "markdown",
      "metadata": {
        "id": "rmdoA8i-hejy"
      },
      "source": [
        "We can reuse the following code to see what our bot does later on:"
      ]
    },
    {
      "cell_type": "code",
      "execution_count": 4,
      "metadata": {
        "id": "mM80quT3QU6r"
      },
      "outputs": [],
      "source": [
        "from IPython.display import HTML\n",
        "from base64 import b64encode\n",
        "import numpy as np\n",
        "import os\n",
        "import cv2\n",
        "from tqdm import tqdm\n",
        "\n",
        "def display_vid(frames, vid_name='./video.mp4', compressed_name='./compressed.mp4', fps=30):\n",
        "\n",
        "    if os.path.isfile(vid_name):\n",
        "      !rm video.mp4\n",
        "    if os.path.isfile(compressed_name):\n",
        "      !rm compressed.mp4\n",
        "\n",
        "    h, w, c = frames[-1].shape\n",
        "    out = cv2.VideoWriter(vid_name, cv2.VideoWriter_fourcc(*'VP90'), fps, (w, h))\n",
        "    for frame in tqdm(frames):\n",
        "        img = cv2.cvtColor(frame, cv2.COLOR_BGR2RGB)\n",
        "        out.write(img)\n",
        "    out.release()\n",
        "\n",
        "    mp4 = open(vid_name,'rb').read()\n",
        "    data_url = \"data:video/mp4;base64,\" + b64encode(mp4).decode()\n",
        "    return HTML(\"\"\"\n",
        "    <video width=400 controls>\n",
        "          <source src=\"%s\" type=\"video/mp4\">\n",
        "    </video>\n",
        "    \"\"\" % data_url)"
      ]
    },
    {
      "cell_type": "code",
      "execution_count": 5,
      "metadata": {
        "colab": {
          "base_uri": "https://localhost:8080/",
          "height": 414
        },
        "id": "FIJF-g33QpHx",
        "outputId": "89d1c426-82fb-4605-da9e-3162e93329f7"
      },
      "outputs": [
        {
          "name": "stderr",
          "output_type": "stream",
          "text": [
            "'rm' is not recognized as an internal or external command,\n",
            "operable program or batch file.\n",
            "100%|██████████| 50/50 [00:00<00:00, 320.42it/s]\n"
          ]
        },
        {
          "data": {
            "text/html": [
              "\n",
              "    <video width=400 controls>\n",
              "          <source src=\"data:video/mp4;base64,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\" type=\"video/mp4\">\n",
              "    </video>\n",
              "    "
            ],
            "text/plain": [
              "<IPython.core.display.HTML object>"
            ]
          },
          "execution_count": 5,
          "metadata": {},
          "output_type": "execute_result"
        }
      ],
      "source": [
        "display_vid(frames)"
      ]
    },
    {
      "attachments": {},
      "cell_type": "markdown",
      "metadata": {
        "id": "BNLa9SFHipWS"
      },
      "source": [
        "## Preprocessing Environment"
      ]
    },
    {
      "attachments": {},
      "cell_type": "markdown",
      "metadata": {
        "id": "K2mJZj2Eluj2"
      },
      "source": [
        "The DeepMind papers for Atari games transforms the environments to make it easier for the DQN/DDQN to learn. In particular,\n",
        "\n",
        "1. Use only every 4th frame\n",
        "2. Grayscale each image, downscale to 110x84, then crop appropriately to remove unnecesssary info\n",
        "3. Pass a stack of 4 frames so that the model can see trajectory (falling and jumping are different contexts, but may lead to the same observation).\n",
        "\n",
        "\n",
        "We will implement some of these simplifying transformations using Gymnasium's `gym.Wrapper`. Wrapper code is altered from https://blog.paperspace.com/building-double-deep-q-network-super-mario-bros/."
      ]
    },
    {
      "cell_type": "code",
      "execution_count": 6,
      "metadata": {
        "id": "xkegIeYhm-eD"
      },
      "outputs": [],
      "source": [
        "import collections\n",
        "import cv2\n",
        "\n",
        "class MaxAndSkipEnv(gym.Wrapper):\n",
        "    def __init__(self, env=None, skip=4):\n",
        "        super(MaxAndSkipEnv, self).__init__(env)\n",
        "        self._obs_buffer = collections.deque(maxlen=2)\n",
        "        self._replay_buffer = collections.deque(maxlen=4)\n",
        "        self._skip = skip\n",
        "\n",
        "    def step(self, action):\n",
        "        total_reward = 0.0\n",
        "        done = None\n",
        "        for _ in range(self._skip):\n",
        "            obs, reward, done, truncated, info = self.env.step(action)\n",
        "            self._obs_buffer.append(obs)\n",
        "            self._replay_buffer.append(obs.copy())\n",
        "            total_reward += reward\n",
        "            if done:\n",
        "                break\n",
        "        max_frame = np.max(np.stack(self._obs_buffer), axis=0)\n",
        "        return max_frame, total_reward, done, truncated, info\n",
        "\n",
        "    def render(self, mode='rgb_array'):\n",
        "        if mode == 'rgb_array':\n",
        "            return self._replay_buffer\n",
        "        \n",
        "        return self.env.render(mode=mode)\n",
        "\n",
        "    def reset(self, **kwargs):\n",
        "        self._obs_buffer.clear()\n",
        "        obs = self.env.reset()\n",
        "        self._obs_buffer.append(obs)\n",
        "        return obs\n",
        "\n",
        "\n",
        "class ProcessFrame84(gym.ObservationWrapper):\n",
        "    def __init__(self, env=None):\n",
        "        super(ProcessFrame84, self).__init__(env)\n",
        "        self.observation_space = gym.spaces.Box(low=0, high=255, shape=(84, 84, 1), dtype=np.uint8)\n",
        "\n",
        "    def observation(self, observation):\n",
        "        return ProcessFrame84.process(observation)\n",
        "\n",
        "    @staticmethod\n",
        "    def process(frame):\n",
        "        assert frame.size == 240 * 256 * 3, \"Unknown resolution.\"\n",
        "\n",
        "        img = np.reshape(frame, [240, 256, 3]).astype(np.float32)\n",
        "        img = img[:, :, 0] * 0.299 + img[:, :, 1] * 0.587 + img[:, :, 2] * 0.114\n",
        "        resized_screen = cv2.resize(img, (84, 110), interpolation=cv2.INTER_AREA)\n",
        "        x_t = resized_screen[18:102, :]\n",
        "        x_t = np.reshape(x_t, [84, 84, 1])\n",
        "        return x_t.astype(np.uint8)\n",
        "\n",
        "\n",
        "class TransposeObs(gym.ObservationWrapper):\n",
        "    def __init__(self, env):\n",
        "        super(TransposeObs, self).__init__(env)\n",
        "        w, h, n = self.observation_space.shape\n",
        "        self.observation_space = gym.spaces.Box(low=0.0, high=1.0, shape=(n, w, h), dtype=np.float32)\n",
        "\n",
        "    def observation(self, observation):\n",
        "        return np.moveaxis(observation, 2, 0)\n",
        "\n",
        "\n",
        "class ScaledFloatFrame(gym.ObservationWrapper):\n",
        "    def observation(self, observation):\n",
        "        return np.array(observation).astype(np.float32) / 255.0\n",
        "\n",
        "\n",
        "class BufferWrapper(gym.ObservationWrapper):\n",
        "    def __init__(self, env, n_steps, dtype=np.float32):\n",
        "        super(BufferWrapper, self).__init__(env)\n",
        "        self.dtype = dtype\n",
        "        old_space = env.observation_space\n",
        "        self.observation_space = gym.spaces.Box(old_space.low.repeat(n_steps, axis=0),\n",
        "                                                old_space.high.repeat(n_steps, axis=0), dtype=dtype)\n",
        "\n",
        "    def reset(self, **kwargs):\n",
        "        self.buffer = np.zeros_like(self.observation_space.low, dtype=self.dtype)\n",
        "        return self.observation(self.env.reset()), {}\n",
        "\n",
        "    def observation(self, observation):\n",
        "        self.buffer[:-1] = self.buffer[1:]\n",
        "        self.buffer[-1] = observation[0]\n",
        "        return self.buffer"
      ]
    },
    {
      "cell_type": "code",
      "execution_count": 7,
      "metadata": {
        "id": "7sWxQ2rAjFLX"
      },
      "outputs": [],
      "source": [
        "from gym.wrappers import FrameStack\n",
        "from nes_py.wrappers import JoypadSpace\n",
        "from gym_super_mario_bros.actions import RIGHT_ONLY\n",
        "\n",
        "def preprocessed_env(world=1, level=1):\n",
        "    env = gym_super_mario_bros.make(f'SuperMarioBros-{world}-{level}-v0', apply_api_compatibility=True, render_mode='rgb_array')\n",
        "    env = MaxAndSkipEnv(env)\n",
        "    env = ProcessFrame84(env)\n",
        "    env = TransposeObs(env)\n",
        "    env = BufferWrapper(env, 4)\n",
        "    env = ScaledFloatFrame(env)\n",
        "    # we will use complex movement for PPO instead of right only since it's a more advanced algo\n",
        "    return JoypadSpace(env, RIGHT_ONLY)"
      ]
    },
    {
      "cell_type": "code",
      "execution_count": 8,
      "metadata": {
        "colab": {
          "base_uri": "https://localhost:8080/"
        },
        "id": "v1Z7ud1a55kJ",
        "outputId": "c7fd887d-fdd7-4313-d20d-aad12765bc5d",
        "scrolled": true
      },
      "outputs": [
        {
          "name": "stdout",
          "output_type": "stream",
          "text": [
            "obs space (4, 84, 84)\n",
            "act space 5\n"
          ]
        }
      ],
      "source": [
        "env = preprocessed_env()\n",
        "print('obs space', env.observation_space.shape)\n",
        "print('act space', env.action_space.n)"
      ]
    },
    {
      "cell_type": "code",
      "execution_count": 9,
      "metadata": {
        "colab": {
          "base_uri": "https://localhost:8080/",
          "height": 451
        },
        "id": "MN2eDywqR7kC",
        "outputId": "89514658-51f5-469b-9fd4-0f3a8e14077e"
      },
      "outputs": [
        {
          "data": {
            "text/plain": [
              "<matplotlib.image.AxesImage at 0x25382f91710>"
            ]
          },
          "execution_count": 9,
          "metadata": {},
          "output_type": "execute_result"
        },
        {
          "data": {
            "image/png": "[encoded data removed]",
            "text/plain": [
              "<Figure size 640x480 with 1 Axes>"
            ]
          },
          "metadata": {},
          "output_type": "display_data"
        }
      ],
      "source": [
        "import matplotlib.pyplot as plt\n",
        "\n",
        "plt.imshow(env.reset()[0][-1], cmap='gray')"
      ]
    },
    {
      "attachments": {},
      "cell_type": "markdown",
      "metadata": {
        "id": "RT_tBITRA6Ty"
      },
      "source": [
        "We now have a preprocessed environment! We can proceed to working on our Agent."
      ]
    },
    {
      "attachments": {},
      "cell_type": "markdown",
      "metadata": {
        "id": "vCd3JjKZA_s9"
      },
      "source": [
        "## Training Convolutional PPO"
      ]
    },
    {
      "attachments": {},
      "cell_type": "markdown",
      "metadata": {
        "id": "q655hjwkBWHy"
      },
      "source": [
        "I will be adapting a previous PPO implementation I made (https://github.com/arth-shukla/ppo-gym-cartpole) to use convolutions to process the observations.\n",
        "\n",
        "I will use the same convolutions as in the original DeepMind papers, which I implemented for a DDQN (https://github.com/arth-shukla/ddqn-mario).\n",
        "\n",
        "1. Conv2d with 32 8x8 kernels, stride 4 + nonlinearlity (we will use ReLU)\n",
        "2. Conv2d with 64 4x4 kernels, stride 2 + nonlinearity\n",
        "3. Conv2d with 64 3x3 kernels, stride 1 + nonlinearity\n",
        "4. FC layer with 512 nodes + nonlinearity\n",
        "5. FC layer with # nodes equal to # actions\n",
        "6. Softmax &rarr; Categorical distr\n",
        "\n",
        "The implementation can be found in `ppo-conv.py`."
      ]
    },
    {
      "cell_type": "code",
      "execution_count": 10,
      "metadata": {},
      "outputs": [],
      "source": [
        "%load_ext autoreload\n",
        "%autoreload 2"
      ]
    },
    {
      "cell_type": "code",
      "execution_count": 11,
      "metadata": {
        "id": "Pln8Nen6ppv4"
      },
      "outputs": [],
      "source": [
        "from ppo.agent import PPOAgent\n",
        "from tqdm import tqdm\n",
        "import torch\n",
        "from pathlib import Path\n",
        "\n",
        "def train(\n",
        "        logging=True, log_init=True, wandb_proj='Mario-PPO', run_name=None,\n",
        "        checkpoint_dir = './checkpoints', pretrained_path=None,\n",
        "        num_games = 10000, avg_over = 100, save_every = 500,\n",
        "        buffer_size = 512,\n",
        "        batch_size = 16,\n",
        "        epochs = 10,\n",
        "        lr = 1e-4,\n",
        "        scheduler_gamma = None,\n",
        "        discount = 0.9,\n",
        "        gae_lambda = 1.0,\n",
        "        policy_clip = 0.2,\n",
        "        norm_advantage = False,\n",
        "        entropy_coeff = None,\n",
        "        critic_coeff = 0.5,\n",
        "        max_grad_norm = None,\n",
        "        early_stop_kl = None,\n",
        "        embed = 512,\n",
        "    ):\n",
        "    import wandb\n",
        "\n",
        "    if logging and log_init:\n",
        "        wandb.login()\n",
        "        wandb.init(project=wandb_proj, name=run_name, config=dict(\n",
        "            buffer_size = buffer_size,\n",
        "            batch_size = batch_size,\n",
        "            epochs = epochs,\n",
        "            lr = lr,\n",
        "            scheduler_gamma = scheduler_gamma,\n",
        "            discount = discount,\n",
        "            gae_lambda = gae_lambda,\n",
        "            policy_clip = policy_clip,\n",
        "            norm_advantage = norm_advantage,\n",
        "            entropy_coeff = entropy_coeff,\n",
        "            critic_coeff = critic_coeff,\n",
        "            max_grad_norm = max_grad_norm,\n",
        "            early_stop_kl = early_stop_kl,\n",
        "            embed = embed,\n",
        "        ))\n",
        "\n",
        "    env = preprocessed_env()\n",
        "\n",
        "    # create agent (note this is done in train because it needs hyperparams)\n",
        "    agent = PPOAgent(\n",
        "        obs_shape=env.observation_space.shape,\n",
        "        act_shape=env.action_space.shape,\n",
        "        act_n=env.action_space.n,\n",
        "        buffer_size = buffer_size,\n",
        "        batch_size = batch_size,\n",
        "        epochs = epochs,\n",
        "        lr = lr,\n",
        "        scheduler_gamma = scheduler_gamma,\n",
        "        discount = discount,\n",
        "        gae_lambda = gae_lambda,\n",
        "        policy_clip = policy_clip,\n",
        "        norm_advantage = norm_advantage,\n",
        "        entropy_coeff = entropy_coeff,\n",
        "        critic_coeff = critic_coeff,\n",
        "        max_grad_norm = max_grad_norm,\n",
        "        early_stop_kl = early_stop_kl,\n",
        "        embed = embed,\n",
        "    )\n",
        "    \n",
        "    # load model if pretrained\n",
        "    if pretrained_path != None:\n",
        "        agent.load(load_path=pretrained_path)\n",
        "    \n",
        "    # data tracking\n",
        "    score_hist = []\n",
        "    avg_score = 0\n",
        "    num_steps = 0\n",
        "\n",
        "    # if using kldiv early end, track with this var\n",
        "    early_end = False\n",
        "\n",
        "    # num_games is the number of games to play, where each game ends\n",
        "    # when the agent meets terminal conditions for the env\n",
        "    for ep_num in tqdm(range(num_games)):\n",
        "\n",
        "        obs = env.reset()[0].__array__()\n",
        "        done = False\n",
        "        score = 0\n",
        "        steps = 0\n",
        "\n",
        "        # run loop where model gathers data for \"learn_every\"\n",
        "        # steps then learns using that information\n",
        "        while not done:\n",
        "\n",
        "            # choose action (actor)\n",
        "            action, log_prob, val = agent.act(obs)\n",
        "\n",
        "            # get results of action\n",
        "            next_obs, reward, done, _, _ = env.step(action)\n",
        "\n",
        "            # save data to memory for experience learning\n",
        "            agent.cache(obs, action, log_prob, val, reward, done)\n",
        "\n",
        "            # when buffer full, learn and clear mem\n",
        "            if agent.mem_full():\n",
        "                learn_log_dict = agent.learn(next_obs.__array__())\n",
        "                agent.clear_mem()\n",
        "                if logging:\n",
        "                    learn_log_dict['step'] = num_steps\n",
        "                    wandb.log(learn_log_dict)\n",
        "                \n",
        "            # update obs and tracking vars\n",
        "            obs = next_obs.__array__()\n",
        "            score += reward\n",
        "            steps += 1\n",
        "            num_steps += 1\n",
        "\n",
        "        score_hist.append(score)\n",
        "        \n",
        "        if (ep_num % save_every == 0) or (ep_num == num_games - 1):\n",
        "            save_path = Path(checkpoint_dir) / Path(f'mario_ppo_{ep_num}.pt')\n",
        "            agent.save(save_path=save_path)\n",
        "    \n",
        "        if logging:\n",
        "            log_dict = {\n",
        "                'train/total_rewards': score,\n",
        "                'train/ep_len': steps,\n",
        "                'ep_num': ep_num,\n",
        "            }\n",
        "            if len(score_hist) > avg_over:\n",
        "                log_dict[f'train/avg_reward_last_{avg_over}'] = np.mean(score_hist[-avg_over:])\n",
        "            wandb.log(log_dict)\n",
        "\n",
        "    env.close()\n",
        "    wandb.finish()"
      ]
    },
    {
      "cell_type": "code",
      "execution_count": 12,
      "metadata": {},
      "outputs": [],
      "source": [
        "def fancy_feature_testing(\n",
        "    run_name='standard_run',\n",
        "    entropy_coeff = None,\n",
        "    early_stop_kl = None,\n",
        "    scheduler_gamma = None,\n",
        "    norm_advantage = False,\n",
        "    max_grad_norm = None\n",
        "):\n",
        "    checkpoint_dir = f'./checkpoints/{run_name}'\n",
        "    NUM_GAMES = 1300\n",
        "    if not os.path.exists(checkpoint_dir):\n",
        "        os.makedirs(checkpoint_dir)\n",
        "    train(\n",
        "        logging=True, log_init=True, wandb_proj='Mario-PPO', run_name=run_name,\n",
        "        checkpoint_dir = checkpoint_dir, pretrained_path=None,\n",
        "        num_games = NUM_GAMES, avg_over = 100, save_every = 100,\n",
        "        buffer_size = 512,\n",
        "        batch_size = 16,\n",
        "        epochs = 10,\n",
        "        lr = 1e-4,\n",
        "        discount = 0.9,\n",
        "        gae_lambda = 1.0,\n",
        "        policy_clip = 0.2,\n",
        "        critic_coeff = 0.5,\n",
        "        embed = 512,\n",
        "\n",
        "        entropy_coeff = entropy_coeff,\n",
        "        early_stop_kl = early_stop_kl,\n",
        "        scheduler_gamma = scheduler_gamma,\n",
        "        norm_advantage = norm_advantage,\n",
        "        max_grad_norm = max_grad_norm\n",
        "    )"
      ]
    },
    {
      "cell_type": "code",
      "execution_count": 13,
      "metadata": {},
      "outputs": [],
      "source": [
        "# entropy_coeff = None,   # 0.01\n",
        "# early_stop_kl = None,   # 0.01\n",
        "# scheduler_gamma = None  # 0.9\n",
        "# norm_advantage = False, # True\n",
        "# max_grad_norm = None,  # 0.5\n",
        "# ['standard_run', 'entropy', 'ent_earlystopkl', 'ent_early_scheduler', 'ent_early_sch_norms']"
      ]
    },
    {
      "cell_type": "code",
      "execution_count": 14,
      "metadata": {},
      "outputs": [
        {
          "name": "stderr",
          "output_type": "stream",
          "text": [
            "Failed to detect the name of this notebook, you can set it manually with the WANDB_NOTEBOOK_NAME environment variable to enable code saving.\n",
            "\u001b[34m\u001b[1mwandb\u001b[0m: Currently logged in as: \u001b[33marth-shukla\u001b[0m. Use \u001b[1m`wandb login --relogin`\u001b[0m to force relogin\n"
          ]
        },
        {
          "data": {
            "text/html": [
              "Tracking run with wandb version 0.15.3"
            ],
            "text/plain": [
              "<IPython.core.display.HTML object>"
            ]
          },
          "metadata": {},
          "output_type": "display_data"
        },
        {
          "data": {
            "text/html": [
              "Run data is saved locally in <code>c:\\Users\\arths\\Documents\\GitHub\\ppo-mario\\wandb\\run-20230605_001621-aqup4q8m</code>"
            ],
            "text/plain": [
              "<IPython.core.display.HTML object>"
            ]
          },
          "metadata": {},
          "output_type": "display_data"
        },
        {
          "data": {
            "text/html": [
              "Syncing run <strong><a href='https://wandb.ai/arth-shukla/Mario-PPO/runs/aqup4q8m' target=\"_blank\">entropy</a></strong> to <a href='https://wandb.ai/arth-shukla/Mario-PPO' target=\"_blank\">Weights & Biases</a> (<a href='https://wandb.me/run' target=\"_blank\">docs</a>)<br/>"
            ],
            "text/plain": [
              "<IPython.core.display.HTML object>"
            ]
          },
          "metadata": {},
          "output_type": "display_data"
        },
        {
          "data": {
            "text/html": [
              " View project at <a href='https://wandb.ai/arth-shukla/Mario-PPO' target=\"_blank\">https://wandb.ai/arth-shukla/Mario-PPO</a>"
            ],
            "text/plain": [
              "<IPython.core.display.HTML object>"
            ]
          },
          "metadata": {},
          "output_type": "display_data"
        },
        {
          "data": {
            "text/html": [
              " View run at <a href='https://wandb.ai/arth-shukla/Mario-PPO/runs/aqup4q8m' target=\"_blank\">https://wandb.ai/arth-shukla/Mario-PPO/runs/aqup4q8m</a>"
            ],
            "text/plain": [
              "<IPython.core.display.HTML object>"
            ]
          },
          "metadata": {},
          "output_type": "display_data"
        },
        {
          "name": "stderr",
          "output_type": "stream",
          "text": [
            "  0%|          | 2/13000 [00:29<53:38:40, 14.86s/it]\n"
          ]
        },
        {
          "ename": "KeyboardInterrupt",
          "evalue": "",
          "output_type": "error",
          "traceback": [
            "\u001b[1;31m---------------------------------------------------------------------------\u001b[0m",
            "\u001b[1;31mKeyboardInterrupt\u001b[0m                         Traceback (most recent call last)",
            "Cell \u001b[1;32mIn[14], line 1\u001b[0m\n\u001b[1;32m----> 1\u001b[0m fancy_feature_testing(run_name\u001b[39m=\u001b[39;49m\u001b[39m'\u001b[39;49m\u001b[39mentropy\u001b[39;49m\u001b[39m'\u001b[39;49m, entropy_coeff\u001b[39m=\u001b[39;49m\u001b[39m0.01\u001b[39;49m)\n",
            "Cell \u001b[1;32mIn[12], line 13\u001b[0m, in \u001b[0;36mfancy_feature_testing\u001b[1;34m(run_name, entropy_coeff, early_stop_kl, scheduler_gamma, norm_advantage, max_grad_norm)\u001b[0m\n\u001b[0;32m     11\u001b[0m \u001b[39mif\u001b[39;00m \u001b[39mnot\u001b[39;00m os\u001b[39m.\u001b[39mpath\u001b[39m.\u001b[39mexists(checkpoint_dir):\n\u001b[0;32m     12\u001b[0m     os\u001b[39m.\u001b[39mmakedirs(checkpoint_dir)\n\u001b[1;32m---> 13\u001b[0m train(\n\u001b[0;32m     14\u001b[0m     logging\u001b[39m=\u001b[39;49m\u001b[39mTrue\u001b[39;49;00m, log_init\u001b[39m=\u001b[39;49m\u001b[39mTrue\u001b[39;49;00m, wandb_proj\u001b[39m=\u001b[39;49m\u001b[39m'\u001b[39;49m\u001b[39mMario-PPO\u001b[39;49m\u001b[39m'\u001b[39;49m, run_name\u001b[39m=\u001b[39;49mrun_name,\n\u001b[0;32m     15\u001b[0m     checkpoint_dir \u001b[39m=\u001b[39;49m checkpoint_dir, pretrained_path\u001b[39m=\u001b[39;49m\u001b[39mNone\u001b[39;49;00m,\n\u001b[0;32m     16\u001b[0m     num_games \u001b[39m=\u001b[39;49m NUM_GAMES, avg_over \u001b[39m=\u001b[39;49m \u001b[39m100\u001b[39;49m, save_every \u001b[39m=\u001b[39;49m \u001b[39m100\u001b[39;49m,\n\u001b[0;32m     17\u001b[0m     buffer_size \u001b[39m=\u001b[39;49m \u001b[39m512\u001b[39;49m,\n\u001b[0;32m     18\u001b[0m     batch_size \u001b[39m=\u001b[39;49m \u001b[39m16\u001b[39;49m,\n\u001b[0;32m     19\u001b[0m     epochs \u001b[39m=\u001b[39;49m \u001b[39m10\u001b[39;49m,\n\u001b[0;32m     20\u001b[0m     lr \u001b[39m=\u001b[39;49m \u001b[39m1e-4\u001b[39;49m,\n\u001b[0;32m     21\u001b[0m     discount \u001b[39m=\u001b[39;49m \u001b[39m0.9\u001b[39;49m,\n\u001b[0;32m     22\u001b[0m     gae_lambda \u001b[39m=\u001b[39;49m \u001b[39m1.0\u001b[39;49m,\n\u001b[0;32m     23\u001b[0m     policy_clip \u001b[39m=\u001b[39;49m \u001b[39m0.2\u001b[39;49m,\n\u001b[0;32m     24\u001b[0m     critic_coeff \u001b[39m=\u001b[39;49m \u001b[39m0.5\u001b[39;49m,\n\u001b[0;32m     25\u001b[0m     embed \u001b[39m=\u001b[39;49m \u001b[39m512\u001b[39;49m,\n\u001b[0;32m     26\u001b[0m \n\u001b[0;32m     27\u001b[0m     entropy_coeff \u001b[39m=\u001b[39;49m entropy_coeff,\n\u001b[0;32m     28\u001b[0m     early_stop_kl \u001b[39m=\u001b[39;49m early_stop_kl,\n\u001b[0;32m     29\u001b[0m     scheduler_gamma \u001b[39m=\u001b[39;49m scheduler_gamma,\n\u001b[0;32m     30\u001b[0m     norm_advantage \u001b[39m=\u001b[39;49m norm_advantage,\n\u001b[0;32m     31\u001b[0m     max_grad_norm \u001b[39m=\u001b[39;49m max_grad_norm\n\u001b[0;32m     32\u001b[0m )\n",
            "Cell \u001b[1;32mIn[11], line 95\u001b[0m, in \u001b[0;36mtrain\u001b[1;34m(logging, log_init, wandb_proj, run_name, checkpoint_dir, pretrained_path, num_games, avg_over, save_every, buffer_size, batch_size, epochs, lr, scheduler_gamma, discount, gae_lambda, policy_clip, norm_advantage, entropy_coeff, critic_coeff, max_grad_norm, early_stop_kl, embed)\u001b[0m\n\u001b[0;32m     90\u001b[0m \u001b[39m# run loop where model gathers data for \"learn_every\"\u001b[39;00m\n\u001b[0;32m     91\u001b[0m \u001b[39m# steps then learns using that information\u001b[39;00m\n\u001b[0;32m     92\u001b[0m \u001b[39mwhile\u001b[39;00m \u001b[39mnot\u001b[39;00m done:\n\u001b[0;32m     93\u001b[0m \n\u001b[0;32m     94\u001b[0m     \u001b[39m# choose action (actor)\u001b[39;00m\n\u001b[1;32m---> 95\u001b[0m     action, log_prob, val \u001b[39m=\u001b[39m agent\u001b[39m.\u001b[39;49mact(obs)\n\u001b[0;32m     97\u001b[0m     \u001b[39m# get results of action\u001b[39;00m\n\u001b[0;32m     98\u001b[0m     next_obs, reward, done, _, _ \u001b[39m=\u001b[39m env\u001b[39m.\u001b[39mstep(action)\n",
            "File \u001b[1;32mc:\\Users\\arths\\Documents\\GitHub\\ppo-mario\\ppo\\agent.py:68\u001b[0m, in \u001b[0;36mPPOAgent.act\u001b[1;34m(self, obs)\u001b[0m\n\u001b[0;32m     65\u001b[0m action \u001b[39m=\u001b[39m categorical_dist\u001b[39m.\u001b[39msample()\n\u001b[0;32m     67\u001b[0m \u001b[39m# get approx value from critic\u001b[39;00m\n\u001b[1;32m---> 68\u001b[0m val \u001b[39m=\u001b[39m \u001b[39mself\u001b[39;49m\u001b[39m.\u001b[39;49mcritic(state)\n\u001b[0;32m     70\u001b[0m \u001b[39m# get probability of action based on policy, action, and val\u001b[39;00m\n\u001b[0;32m     71\u001b[0m prob \u001b[39m=\u001b[39m torch\u001b[39m.\u001b[39msqueeze(categorical_dist\u001b[39m.\u001b[39mlog_prob(action))\u001b[39m.\u001b[39mitem()\n",
            "File \u001b[1;32mc:\\Users\\arths\\anaconda3\\envs\\ppo-mario\\Lib\\site-packages\\torch\\nn\\modules\\module.py:1501\u001b[0m, in \u001b[0;36mModule._call_impl\u001b[1;34m(self, *args, **kwargs)\u001b[0m\n\u001b[0;32m   1496\u001b[0m \u001b[39m# If we don't have any hooks, we want to skip the rest of the logic in\u001b[39;00m\n\u001b[0;32m   1497\u001b[0m \u001b[39m# this function, and just call forward.\u001b[39;00m\n\u001b[0;32m   1498\u001b[0m \u001b[39mif\u001b[39;00m \u001b[39mnot\u001b[39;00m (\u001b[39mself\u001b[39m\u001b[39m.\u001b[39m_backward_hooks \u001b[39mor\u001b[39;00m \u001b[39mself\u001b[39m\u001b[39m.\u001b[39m_backward_pre_hooks \u001b[39mor\u001b[39;00m \u001b[39mself\u001b[39m\u001b[39m.\u001b[39m_forward_hooks \u001b[39mor\u001b[39;00m \u001b[39mself\u001b[39m\u001b[39m.\u001b[39m_forward_pre_hooks\n\u001b[0;32m   1499\u001b[0m         \u001b[39mor\u001b[39;00m _global_backward_pre_hooks \u001b[39mor\u001b[39;00m _global_backward_hooks\n\u001b[0;32m   1500\u001b[0m         \u001b[39mor\u001b[39;00m _global_forward_hooks \u001b[39mor\u001b[39;00m _global_forward_pre_hooks):\n\u001b[1;32m-> 1501\u001b[0m     \u001b[39mreturn\u001b[39;00m forward_call(\u001b[39m*\u001b[39;49margs, \u001b[39m*\u001b[39;49m\u001b[39m*\u001b[39;49mkwargs)\n\u001b[0;32m   1502\u001b[0m \u001b[39m# Do not call functions when jit is used\u001b[39;00m\n\u001b[0;32m   1503\u001b[0m full_backward_hooks, non_full_backward_hooks \u001b[39m=\u001b[39m [], []\n",
            "File \u001b[1;32mc:\\Users\\arths\\Documents\\GitHub\\ppo-mario\\ppo\\model.py:96\u001b[0m, in \u001b[0;36mPPOCritic.forward\u001b[1;34m(self, x)\u001b[0m\n\u001b[0;32m     93\u001b[0m \u001b[39mdef\u001b[39;00m \u001b[39mforward\u001b[39m(\u001b[39mself\u001b[39m, x):\n\u001b[0;32m     94\u001b[0m     num_batches \u001b[39m=\u001b[39m x\u001b[39m.\u001b[39msize(\u001b[39m0\u001b[39m)\n\u001b[1;32m---> 96\u001b[0m     x \u001b[39m=\u001b[39m \u001b[39mself\u001b[39;49m\u001b[39m.\u001b[39;49mconv(x)\n\u001b[0;32m     97\u001b[0m     x \u001b[39m=\u001b[39m x\u001b[39m.\u001b[39mview(num_batches, \u001b[39m-\u001b[39m\u001b[39m1\u001b[39m)\n\u001b[0;32m     98\u001b[0m     x \u001b[39m=\u001b[39m \u001b[39mself\u001b[39m\u001b[39m.\u001b[39mout(x)\n",
            "File \u001b[1;32mc:\\Users\\arths\\anaconda3\\envs\\ppo-mario\\Lib\\site-packages\\torch\\nn\\modules\\module.py:1501\u001b[0m, in \u001b[0;36mModule._call_impl\u001b[1;34m(self, *args, **kwargs)\u001b[0m\n\u001b[0;32m   1496\u001b[0m \u001b[39m# If we don't have any hooks, we want to skip the rest of the logic in\u001b[39;00m\n\u001b[0;32m   1497\u001b[0m \u001b[39m# this function, and just call forward.\u001b[39;00m\n\u001b[0;32m   1498\u001b[0m \u001b[39mif\u001b[39;00m \u001b[39mnot\u001b[39;00m (\u001b[39mself\u001b[39m\u001b[39m.\u001b[39m_backward_hooks \u001b[39mor\u001b[39;00m \u001b[39mself\u001b[39m\u001b[39m.\u001b[39m_backward_pre_hooks \u001b[39mor\u001b[39;00m \u001b[39mself\u001b[39m\u001b[39m.\u001b[39m_forward_hooks \u001b[39mor\u001b[39;00m \u001b[39mself\u001b[39m\u001b[39m.\u001b[39m_forward_pre_hooks\n\u001b[0;32m   1499\u001b[0m         \u001b[39mor\u001b[39;00m _global_backward_pre_hooks \u001b[39mor\u001b[39;00m _global_backward_hooks\n\u001b[0;32m   1500\u001b[0m         \u001b[39mor\u001b[39;00m _global_forward_hooks \u001b[39mor\u001b[39;00m _global_forward_pre_hooks):\n\u001b[1;32m-> 1501\u001b[0m     \u001b[39mreturn\u001b[39;00m forward_call(\u001b[39m*\u001b[39;49margs, \u001b[39m*\u001b[39;49m\u001b[39m*\u001b[39;49mkwargs)\n\u001b[0;32m   1502\u001b[0m \u001b[39m# Do not call functions when jit is used\u001b[39;00m\n\u001b[0;32m   1503\u001b[0m full_backward_hooks, non_full_backward_hooks \u001b[39m=\u001b[39m [], []\n",
            "File \u001b[1;32mc:\\Users\\arths\\anaconda3\\envs\\ppo-mario\\Lib\\site-packages\\torch\\nn\\modules\\container.py:217\u001b[0m, in \u001b[0;36mSequential.forward\u001b[1;34m(self, input)\u001b[0m\n\u001b[0;32m    215\u001b[0m \u001b[39mdef\u001b[39;00m \u001b[39mforward\u001b[39m(\u001b[39mself\u001b[39m, \u001b[39minput\u001b[39m):\n\u001b[0;32m    216\u001b[0m     \u001b[39mfor\u001b[39;00m module \u001b[39min\u001b[39;00m \u001b[39mself\u001b[39m:\n\u001b[1;32m--> 217\u001b[0m         \u001b[39minput\u001b[39m \u001b[39m=\u001b[39m module(\u001b[39minput\u001b[39;49m)\n\u001b[0;32m    218\u001b[0m     \u001b[39mreturn\u001b[39;00m \u001b[39minput\u001b[39m\n",
            "File \u001b[1;32mc:\\Users\\arths\\anaconda3\\envs\\ppo-mario\\Lib\\site-packages\\torch\\nn\\modules\\module.py:1501\u001b[0m, in \u001b[0;36mModule._call_impl\u001b[1;34m(self, *args, **kwargs)\u001b[0m\n\u001b[0;32m   1496\u001b[0m \u001b[39m# If we don't have any hooks, we want to skip the rest of the logic in\u001b[39;00m\n\u001b[0;32m   1497\u001b[0m \u001b[39m# this function, and just call forward.\u001b[39;00m\n\u001b[0;32m   1498\u001b[0m \u001b[39mif\u001b[39;00m \u001b[39mnot\u001b[39;00m (\u001b[39mself\u001b[39m\u001b[39m.\u001b[39m_backward_hooks \u001b[39mor\u001b[39;00m \u001b[39mself\u001b[39m\u001b[39m.\u001b[39m_backward_pre_hooks \u001b[39mor\u001b[39;00m \u001b[39mself\u001b[39m\u001b[39m.\u001b[39m_forward_hooks \u001b[39mor\u001b[39;00m \u001b[39mself\u001b[39m\u001b[39m.\u001b[39m_forward_pre_hooks\n\u001b[0;32m   1499\u001b[0m         \u001b[39mor\u001b[39;00m _global_backward_pre_hooks \u001b[39mor\u001b[39;00m _global_backward_hooks\n\u001b[0;32m   1500\u001b[0m         \u001b[39mor\u001b[39;00m _global_forward_hooks \u001b[39mor\u001b[39;00m _global_forward_pre_hooks):\n\u001b[1;32m-> 1501\u001b[0m     \u001b[39mreturn\u001b[39;00m forward_call(\u001b[39m*\u001b[39;49margs, \u001b[39m*\u001b[39;49m\u001b[39m*\u001b[39;49mkwargs)\n\u001b[0;32m   1502\u001b[0m \u001b[39m# Do not call functions when jit is used\u001b[39;00m\n\u001b[0;32m   1503\u001b[0m full_backward_hooks, non_full_backward_hooks \u001b[39m=\u001b[39m [], []\n",
            "File \u001b[1;32mc:\\Users\\arths\\anaconda3\\envs\\ppo-mario\\Lib\\site-packages\\torch\\nn\\modules\\conv.py:463\u001b[0m, in \u001b[0;36mConv2d.forward\u001b[1;34m(self, input)\u001b[0m\n\u001b[0;32m    462\u001b[0m \u001b[39mdef\u001b[39;00m \u001b[39mforward\u001b[39m(\u001b[39mself\u001b[39m, \u001b[39minput\u001b[39m: Tensor) \u001b[39m-\u001b[39m\u001b[39m>\u001b[39m Tensor:\n\u001b[1;32m--> 463\u001b[0m     \u001b[39mreturn\u001b[39;00m \u001b[39mself\u001b[39;49m\u001b[39m.\u001b[39;49m_conv_forward(\u001b[39minput\u001b[39;49m, \u001b[39mself\u001b[39;49m\u001b[39m.\u001b[39;49mweight, \u001b[39mself\u001b[39;49m\u001b[39m.\u001b[39;49mbias)\n",
            "File \u001b[1;32mc:\\Users\\arths\\anaconda3\\envs\\ppo-mario\\Lib\\site-packages\\torch\\nn\\modules\\conv.py:459\u001b[0m, in \u001b[0;36mConv2d._conv_forward\u001b[1;34m(self, input, weight, bias)\u001b[0m\n\u001b[0;32m    455\u001b[0m \u001b[39mif\u001b[39;00m \u001b[39mself\u001b[39m\u001b[39m.\u001b[39mpadding_mode \u001b[39m!=\u001b[39m \u001b[39m'\u001b[39m\u001b[39mzeros\u001b[39m\u001b[39m'\u001b[39m:\n\u001b[0;32m    456\u001b[0m     \u001b[39mreturn\u001b[39;00m F\u001b[39m.\u001b[39mconv2d(F\u001b[39m.\u001b[39mpad(\u001b[39minput\u001b[39m, \u001b[39mself\u001b[39m\u001b[39m.\u001b[39m_reversed_padding_repeated_twice, mode\u001b[39m=\u001b[39m\u001b[39mself\u001b[39m\u001b[39m.\u001b[39mpadding_mode),\n\u001b[0;32m    457\u001b[0m                     weight, bias, \u001b[39mself\u001b[39m\u001b[39m.\u001b[39mstride,\n\u001b[0;32m    458\u001b[0m                     _pair(\u001b[39m0\u001b[39m), \u001b[39mself\u001b[39m\u001b[39m.\u001b[39mdilation, \u001b[39mself\u001b[39m\u001b[39m.\u001b[39mgroups)\n\u001b[1;32m--> 459\u001b[0m \u001b[39mreturn\u001b[39;00m F\u001b[39m.\u001b[39;49mconv2d(\u001b[39minput\u001b[39;49m, weight, bias, \u001b[39mself\u001b[39;49m\u001b[39m.\u001b[39;49mstride,\n\u001b[0;32m    460\u001b[0m                 \u001b[39mself\u001b[39;49m\u001b[39m.\u001b[39;49mpadding, \u001b[39mself\u001b[39;49m\u001b[39m.\u001b[39;49mdilation, \u001b[39mself\u001b[39;49m\u001b[39m.\u001b[39;49mgroups)\n",
            "\u001b[1;31mKeyboardInterrupt\u001b[0m: "
          ]
        }
      ],
      "source": [
        "fancy_feature_testing(run_name='entropy', entropy_coeff=0.01)"
      ]
    },
    {
      "cell_type": "code",
      "execution_count": null,
      "metadata": {},
      "outputs": [],
      "source": [
        "fancy_feature_testing(run_name='ent_earlystopkl', entropy_coeff=0.01, early_stop_kl=0.01)"
      ]
    },
    {
      "cell_type": "code",
      "execution_count": null,
      "metadata": {},
      "outputs": [],
      "source": [
        "fancy_feature_testing(run_name='ent_early_norms', entropy_coeff=0.01, early_stop_kl=0.01, norm_advantage=True, max_grad_norm=0.5)"
      ]
    },
    {
      "cell_type": "code",
      "execution_count": null,
      "metadata": {},
      "outputs": [],
      "source": [
        "fancy_feature_testing(run_name='ent_early_scheduler', entropy_coeff=0.01, early_stop_kl=0.01, norm_advantage=True, max_grad_norm=0.5, scheduler_gamma=0.99)"
      ]
    },
    {
      "cell_type": "code",
      "execution_count": null,
      "metadata": {},
      "outputs": [],
      "source": [
        "fancy_feature_testing(run_name='standard_run')"
      ]
    },
    {
      "cell_type": "code",
      "execution_count": null,
      "metadata": {},
      "outputs": [],
      "source": [
        "# import wandb\n",
        "# wandb.finish()"
      ]
    },
    {
      "attachments": {},
      "cell_type": "markdown",
      "metadata": {
        "id": "fwZRdwmKppv5"
      },
      "source": [
        "## Let's Watch Our Bot Play!"
      ]
    },
    {
      "cell_type": "code",
      "execution_count": null,
      "metadata": {
        "id": "XIaLmkKmppv4"
      },
      "outputs": [],
      "source": [
        "# def run_level(pretrained_path=None):\n",
        "#     with torch.no_grad():\n",
        "#         frames = []\n",
        "        \n",
        "#         env = preprocessed_env()\n",
        "\n",
        "#         agent = DQNAgent(\n",
        "#             state_space=env.observation_space.shape,\n",
        "#             action_space=env.action_space.n,\n",
        "#             max_memory_size=30000,\n",
        "#             batch_size=32,\n",
        "#             gamma=0.90,\n",
        "#             lr=0.00025,\n",
        "#             exploration_max=1.0,\n",
        "#             exploration_min=0.02,\n",
        "#             exploration_decay=0.99,\n",
        "#             have_mem=False\n",
        "#         )\n",
        "\n",
        "#         if pretrained_path != None:\n",
        "#             agent.load(pretrained_path)\n",
        "\n",
        "#         agent.local_net.eval()\n",
        "\n",
        "#         env.reset()\n",
        "\n",
        "#         state, _ = env.reset()\n",
        "#         state = torch.Tensor([state])\n",
        "#         total_reward = 0\n",
        "#         steps = 0\n",
        "\n",
        "#         total_reward = 0\n",
        "#         while True:\n",
        "#             action = agent.act(state)\n",
        "#             steps += 1\n",
        "\n",
        "#             next_state, reward, terminal, truncated, info = env.step(int(action[0]))\n",
        "\n",
        "#             total_reward += reward\n",
        "\n",
        "#             state = torch.Tensor([next_state])\n",
        "            \n",
        "#             for x in env.render():\n",
        "#                 frames.append(x.copy())\n",
        "\n",
        "#             if terminal:\n",
        "#                 break\n",
        "\n",
        "#         env.close()\n",
        "        \n",
        "#         return frames"
      ]
    },
    {
      "cell_type": "code",
      "execution_count": null,
      "metadata": {
        "colab": {
          "base_uri": "https://localhost:8080/"
        },
        "id": "E8SlNcbpppv5",
        "outputId": "3a7139c3-df5d-42d8-a4ac-57b8a286efa5"
      },
      "outputs": [],
      "source": [
        "# frames = run_level(pretrained_path='./acm_ai_ddqn_checkpoint.pt')"
      ]
    },
    {
      "attachments": {},
      "cell_type": "markdown",
      "metadata": {
        "id": "alX-AQ6Tppv5"
      },
      "source": [
        "Let's watch our DDQN play Mario! Note that it might still lose sometimes..."
      ]
    },
    {
      "cell_type": "code",
      "execution_count": null,
      "metadata": {
        "colab": {
          "base_uri": "https://localhost:8080/",
          "height": 414
        },
        "id": "hDdVp210ppv5",
        "outputId": "d10045db-6f16-4c03-8d0b-117d0ab6e57a"
      },
      "outputs": [],
      "source": [
        "# display_vid(frames, fps=60)"
      ]
    }
  ],
  "metadata": {
    "accelerator": "GPU",
    "colab": {
      "gpuType": "T4",
      "provenance": []
    },
    "kernelspec": {
      "display_name": "Python 3 (ipykernel)",
      "language": "python",
      "name": "python3"
    },
    "language_info": {
      "codemirror_mode": {
        "name": "ipython",
        "version": 3
      },
      "file_extension": ".py",
      "mimetype": "text/x-python",
      "name": "python",
      "nbconvert_exporter": "python",
      "pygments_lexer": "ipython3",
      "version": "3.11.3"
    }
  },
  "nbformat": 4,
  "nbformat_minor": 0
}
