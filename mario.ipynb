{
  "cells": [
    {
      "attachments": {},
      "cell_type": "markdown",
      "metadata": {
        "id": "Vsu3DASF9oOZ"
      },
      "source": [
        "# PPO to Beat Mario"
      ]
    },
    {
      "attachments": {},
      "cell_type": "markdown",
      "metadata": {
        "id": "TmJC6m4o-bg3"
      },
      "source": [
        "## Background\n",
        "\n",
        "In the ACM AI Spring 2023 Deep RL workshop, I made a DDQN to play Mario. It took about 13000 episodes to train and performed pretty well on level 1-1 of NES Mario (TODO: INSERT LINK).\n",
        "\n",
        "Here, I implement PPO from scratch to solve Mario, with the aim of reducing train time and improving performance."
      ]
    },
    {
      "attachments": {},
      "cell_type": "markdown",
      "metadata": {
        "id": "zmmHHVWJ91H5"
      },
      "source": [
        "## Setup and Some Exploration"
      ]
    },
    {
      "attachments": {},
      "cell_type": "markdown",
      "metadata": {
        "id": "EK8eCfnF-Hpu"
      },
      "source": [
        "First, we install gymnasium and the Mario Env.\n",
        "\n",
        "The Mario env can be found here: https://pypi.org/project/gym-super-mario-bros/"
      ]
    },
    {
      "cell_type": "code",
      "execution_count": 1,
      "metadata": {
        "colab": {
          "base_uri": "https://localhost:8080/"
        },
        "id": "97LB2zyA90n1",
        "outputId": "ace16065-3afb-4b63-a812-3412c3c88422"
      },
      "outputs": [],
      "source": [
        "# uncomment if using colab; if running locally it's recommended to install via conda\n",
        "# !pip uninstall -y gym\n",
        "# !pip install gymnasium\n",
        "# !pip install gym_super_mario_bros==7.3.0\n",
        "# !pip install wandb"
      ]
    },
    {
      "attachments": {},
      "cell_type": "markdown",
      "metadata": {
        "id": "AoJma_vthJhe"
      },
      "source": [
        "Before we transform the env with wrappers and make our agent, let's take a look at the environment as-is. Below we take some random actions and generate a video"
      ]
    },
    {
      "cell_type": "code",
      "execution_count": 2,
      "metadata": {
        "id": "5PeKvTbRImQ_"
      },
      "outputs": [],
      "source": [
        "import gymnasium as gym\n",
        "from gym.wrappers import RecordVideo\n",
        "\n",
        "from nes_py.wrappers import JoypadSpace\n",
        "import gym_super_mario_bros\n",
        "from gym_super_mario_bros.actions import SIMPLE_MOVEMENT\n",
        "\n",
        "import numpy as np\n",
        "\n",
        "import warnings\n",
        "warnings.filterwarnings('ignore')\n",
        "\n",
        "env = gym_super_mario_bros.make(\"SuperMarioBros-1-1-v0\", apply_api_compatibility=True, render_mode='rgb_array')\n",
        "env = JoypadSpace(env, SIMPLE_MOVEMENT)\n",
        "\n",
        "def run_test(env, num_steps=50):\n",
        "    frames = []\n",
        "    out = env.reset()\n",
        "    for _ in range(num_steps):\n",
        "        next_state, reward, done, truncated, info = env.step(action=env.action_space.sample())\n",
        "        frames.append(np.copy(env.render()))\n",
        "    return frames\n",
        "\n",
        "frames = run_test(env)"
      ]
    },
    {
      "cell_type": "code",
      "execution_count": 3,
      "metadata": {
        "colab": {
          "base_uri": "https://localhost:8080/"
        },
        "id": "ZAeHNXeZp_4K",
        "outputId": "128bac45-414d-44ff-987c-5d61ab3f1725"
      },
      "outputs": [
        {
          "name": "stdout",
          "output_type": "stream",
          "text": [
            "(240, 256, 3)\n"
          ]
        }
      ],
      "source": [
        "print(frames[-1].shape)"
      ]
    },
    {
      "attachments": {},
      "cell_type": "markdown",
      "metadata": {
        "id": "rmdoA8i-hejy"
      },
      "source": [
        "We can reuse the following code to see what our bot does later on:"
      ]
    },
    {
      "cell_type": "code",
      "execution_count": 4,
      "metadata": {
        "id": "mM80quT3QU6r"
      },
      "outputs": [],
      "source": [
        "from IPython.display import HTML\n",
        "from base64 import b64encode\n",
        "import numpy as np\n",
        "import os\n",
        "import cv2\n",
        "from tqdm import tqdm\n",
        "\n",
        "def display_vid(frames, vid_name='./video.mp4', fps=30, fourcc='vp90'):\n",
        "\n",
        "    if os.path.isfile(vid_name):\n",
        "      !rm video.mp4\n",
        "\n",
        "    h, w, c = frames[-1].shape\n",
        "    out = cv2.VideoWriter(vid_name, cv2.VideoWriter_fourcc(*fourcc), fps, (w, h))\n",
        "    for frame in tqdm(frames):\n",
        "        img = cv2.cvtColor(frame, cv2.COLOR_BGR2RGB)\n",
        "        out.write(img)\n",
        "    out.release()\n",
        "\n",
        "    mp4 = open(vid_name,'rb').read()\n",
        "    data_url = \"data:video/mp4;base64,\" + b64encode(mp4).decode()\n",
        "    return HTML(\"\"\"\n",
        "    <video width=400 controls>\n",
        "          <source src=\"%s\" type=\"video/mp4\">\n",
        "    </video>\n",
        "    \"\"\" % data_url)"
      ]
    },
    {
      "cell_type": "code",
      "execution_count": 5,
      "metadata": {
        "colab": {
          "base_uri": "https://localhost:8080/",
          "height": 414
        },
        "id": "FIJF-g33QpHx",
        "outputId": "89d1c426-82fb-4605-da9e-3162e93329f7"
      },
      "outputs": [
        {
          "name": "stderr",
          "output_type": "stream",
          "text": [
            "'rm' is not recognized as an internal or external command,\n",
            "operable program or batch file.\n",
            "100%|██████████| 50/50 [00:00<00:00, 303.87it/s]\n"
          ]
        },
        {
          "data": {
            "text/html": [
              "\n",
              "    <video width=400 controls>\n",
              "          <source src=\"data:video/mp4;base64,AAAAHGZ0eXBpc29tAAACAGlzb21pc28ybXA0MQAAAAhmcmVlAAEJDG1kYXSCSYNCAA/wDvYMOCQcGEgADRB/2du5r+b+T/oP4vx/I+f4v1PrPifm+yP8r9Hxflfr+R4T7oP1fcF/wHzP1/898ftH6Pt7/lvtD+v937v3/o+T6P3q/uY/5j2/+P9P8Pr/+2/N+3/hvxfo/xv+I/ITcvnrvpfaf/J9d7T/rvxvk+9+N8n5PBqxeJHxvmfM+N8P439Ke0/2n+l+09jYz4fwPaex91+ze03pX3DCf3LNsso7N8D2ntPZMFXxLvRBeU8gun+q3d6r13qvSEZN3jJXifmEC8FW0Fs7f8nsHw98AKmQAHyMPwARCrjn6LKNY61BJ/8QsS1qoBetkPsvQHV9Hw3nVdQzerEbQhEjyNlfnbTlm4BBqT/+R7R4zU/b031X9FKcyevujZ3T8WQqNdWLyPFGraWEUxFfwYOPoWP7QEyzodvadfXCVzLZHdr4kan/W92ADEB2JqIPSuMzIlNX3bdiTDX6gvyhrK52hpzLd9V4CLMUl16+dtnsJ9VYj9iCMYCL59Iihsu7Svu91kooBqJ7o7L9OHcuqLaSGtm5iw5eecOYScWAEJBj7iPqMbkpVsPiadnov2xWEXJN36CRHajHE1bxpwd8m2VA6XvNfDQrD4psNXe1zLvfU4QTNeFjJCD75VfwddEJ9s3QbVj1mrNLrxaMtKT/lO2G35Zz6cH+XbwujJtq7f6D5aJq0N/RBcLnf/IUVerIZfQB90tN0T4xaMVVathwdoWNVyW4Kzzm5KluS7OdciiYrntfvGtFWfDQ5TlNymI9QaznIOm2VhLTp2FXNqq+x66L48fSbtRW6deoGLUSldqsUpxFd2LD22lKJofSo+sIpJzMQ5/0onjdjQbhMCUrJDSbnyV1PjvaorrvSW5Huvmab94pelg285ne5dCFpClZ3wY0DCRJmMjbXzv76BQ8nUyakID+OD5m5aqakZVzf9sPqV7/ZiggFespShOu9fUQUmSoxvKav3hobgknvNwzdwpyaLjOPXV2YKXhR4qL/QsoU1GQwlANgx11cpzMoKDTkpY14NKfkBIDEy+qiv/mlgz4J2CuyYPBYoFskFGIPc1v4CZZ0O3tPYrfniWyO7XxI0pFt0hA30UThHqgrNMwvfyKQFYQHOb2gN4fG8X6v++nKGqTkn1vMoRZtzvLwt/w4jNmugf0sfMaJ//ulgAtJoPOgkZndPjvgcxG1PXU3oGxWIrgi1aSqe2PAEk0bYg4zIwYjc09P4p/FfuhSpelBIrAJL6LUFirSpMXdcv2evTVpw9bmnJWdIhD21qiLe1Mkozlyi7mJZSNLye57+TUIy+QjpbaXvSv/IipODHgV+KepfDtuM/V4puu8d5gOsEmaFOIMfSL+jEhl8o5l+EJWf8DW64HSwA3cRn0XovKQSyBXGFBd2ftZw5/fWNiO2u/FeW52b7YzzjEhervfVJPbhm1BiNSgcz+lljPZ4W2orhp0K996EU770MkWM8ydvUHM/kOTlbig+Zm3g9nqA/qmR6jREgf7VnzD/LUFV2kdD7Y9TgKK2fBK9xmHT2A5/0rvF4k6QolKGApnnWrmMZfODlDFGfr0iLJbKVwyo24Eqp1/ZqUeqoR+91FO1BZKQJ+xLoFXVCYK7z+RKvAqVU3BDmtoGX+ITWiGmyeC0N62mn43mycrX5MjImoJ30HxdHYYw2ofuZwTJYz7EcMppyzeGNM4qy2jhxe2tYKrrOwdN6wuiALO0MnZkC5b4gB8z/+9gRUtUjsoOkOi+/9iRPl6MBM8QcIVP/xfUIhfnlPIul01v2Wbq2IR6UxYSrCiYjSm8nbVRMx82Fy92PLnSYQfCzAKfB1t4ucYowq+SY+kYD7+ohJrZUtnbQCeiiSuk7mowfZ3mXpbzuSWwqVU3BDlOua56repmff/IJOgkXW3m7LZ6LMMVIhGX6YPH5uPASKakdMx8XnGQGBMb0fo678YJNleF/zUAOILAtv3hulGGBqNvPTeuoV1r6Xsz7MNqGF1lQkOWmpUJoL9TjSBN223lEC8xFi3SiF2y6rM7fym/IDHK6T/Fc/dkZ5tnIZxvkVKlz79x3LI9k+hP864z1c+0J+aMvLxHT4pbwIgMHMQx14/+hNLyX1m7dahKq+gRNPAlTQ80aQBtHlu4mczAz6zAXYBB7Q69EnK99yQpL/yaUvdB8lcoiWNpmbBFWqw4Me4UfB+yWejVGpLZ9nicU6A75kK98D60NHMblnQC6l9OUI9T2KwnqOAkaF1fJiJ7rGKQdhZlONSMN8TsaQE7KhchRJu4ldcYlz0Xtt+fvsFSa9h6HTlsebphfwblJcbJGoni8zc0KNPKO+NtLFBw8QbeN3ajOkJhaWL5h/fz/pD839xRHjq1j7Vo8aZzpe6Vheps+tBNffcVDliSuB4JCDIbcIaaAU13feAdbGWy/HcfgfGPL9Ecao4Qo+ICToZmp5qQIpwPRCLvoGPbgOLNhxtck1ESU01CMYejyDJ1/no8xFKG2saVdMbP91+x9Rg4WklV8Ie1J//I9o8ZqftuvVvLSfJbSmd04VY5PIZ1Z20u3DEdX5lZe9YvEkouexh6LD//lEm6Fib8ZGd6w5V9qxulQIYK7gr5s8vJCkz3bQUaRmfI+dmHKkpne7ttThi9x6LTcI8TAbZRpaa+uZbI7tfEjU/63w8z/NdIzegbgV7pJzWn7v+OGifBsA3Sg+36NbrFXupwrlmy4zIcljPz+7EZXP23RpFU34oETqC1s/gpa4O3cVKIynpnUXz/H1WTOZBTYK3mUCsxsOjHcBOeg2pW3cnTC9AQ/4Ry8cpfjhTNsa7aO0bcuw3JPP64fRROEeqBtH8ubLVI010pFySPEla8jbIz9I6KRUZaTWSzviXb9RmCNMn7Ovb0O4YioLQD3h4/wl82Z2Jti/bMH/yRm6s362g1D7i/PsE0PQEpn0X4glwatbtrs2xCkqUQQEAvCysHJyYDxq0i9+kZXuSdRsiXBiTL+3ukizm8RT1PO9RjwgJL2FC2GDMt0+0OsxZUji2D7EGluB3UAVZQ+KeB8m+ywMkgD4oQO8q8ShFxscqzST58+N45g6JesqD3MmmZDSpSSIa5YfvHjNhP/e6vm/9j+V5yh9p9b+SVgPNBn/8LgP37LDeQCOdiH3lPZbAANnBgO975lu7Mx00XvBdsLMRG+fcVodrb8abGUNYCKHwiy98abGUNYCKHwi9HQ0/GmxlDWAih8IvR0F/402MoawEUPhF6OgCGOYklEHGrmOATPebDgIcxoeB4cIXjVA4NGPTXyhFXx0OLPoDVzisC93txIXcepn5vpCVFaCeDPNnmgh5KHLo7r8b9oVFWF/vJEjNcptr+yqHrfHnpBabVZzY1NhTkvJGu+hB3MVJTlX1wcGnYZ4yqhofaVTVnscA0Sl/DBna7LGuNFlQjmBB2/9q8OENEIdeXiAUN4VwP63qhX1p178x2AhIdhcf7xgtzB2TjsTIqWzj7wUNdkMJtcOQ8cbZd+NUsBp92C98lGZeM9UwN1MjgrR+4zcUuZvwGM2xtccFLmb8EA4N1XqFJE0pF+AUVjsSRf1OQ3gb/QvDeg4f1OQ3gb/QvDehVZDT8abGUNYCKHwi9HQX/jTYyhrARQ+EXo6AIY5iSUQcauY4BM95sOAhzGh4HhwheNUDg0Y9NfKEVfHQ4s+gNFlQtZT6G2T+bCUvevNg927hpWswqf/BZiPXOfafzRFH6kiNX7RER5nPH9PSUyy49CYx0VkkX4+uL/LuCe4UB0hahv5yR09U4892w1x8hwO09m+0U4ACa/d/+sK+KFM8QznANFC7QhdRsC+D3LL07J7u9xAia8qWFwtIMMlRAtI4xit1XFTcTSCSlUvHRw5wyoMN7Lr0L4t3t00UpgcvDNMwoqw2p9K5FyqRSvzSUg6fCcBpbWP5B0wxQxRNAE5bX6t/UVDpev3Xn+8D8DdECXgUj+am/BgQWUtxd5Ws+vzhWi7eoHNu5Qd4O1QtTF4+njYuwDDjQfTnY1T3K2GsVCdKx0gXsbH+V4FXTGq+5R/fEn47fo1x5DERm1ntRsC+D3LL07J7u9xAia8qWFwtIMMlRAs+u/y9/KZ7v0HF8lHBahDKp1nIrqR1ZrZ7vTo6BX3DZamBvqh08xYec5mBymEGGbjEHT4TPrVgZomPsQSCzl2Msa67LyrsqVBsinIcT6lr5kjh5KufairmNUffRbpXG2aJ9+bQdSeoICZQd3jySdSvbpFK7rZFD+gvwGEJznn6rJY4oCtUn+CU6PFkfFxj2bZb1rX+yhbHThJG6EpS7+BcelaB4GpQAU3HaKiYEzrk1SejUAL5wkg7E+cYqPOsg4JAGC6YU7WHku2nNUlNRV4VYyxmQ/jM3n9+9GP/gqmD85BIwXBYLONHCf8E6HSz37jtjPBqvYd2JvvqtVmY8d/o5vUcjL5AwNVfc8JKThFciAcZmIlO/R7+YRkqLPzzre78JTlxtcYt2gsG7P5FWeE1MCH7j1zEyPhHKuVgjM1u6KtieypkeKyP0NGEDFkRUEDpI+SNyKUX6RmnvQQ0LIMINhc9HKK6OJGfbCCciEeF5aRiIXPIsQWd+yV+OQpgZGsZ/d4bJR60qZtCZssDoy2ssfrqwq0H7jOlMI+rV5xPhXe9ZyK6kdWa2e706OgV9w2Wpgb6odPMWHnOZgcphBhm4xB0+E4HNLY1MnTYaFS7xf7D9nbLpvxv/xI0SkN8mLjryClaaGS4zqQmKB5nEWja0USmIVG+/nhzEiKAebx9/S5oXxXqGr06x1PA2Y5dihmokO53iIe8FUs3Uyvr5YXnVA8BtkdS//FRRBtSb4+eIZzgGihdoQuo2BezIx3MCOToTsGdgumABFMl+GSogWjmzFI7oDLf0bNhgQ8Ih63jzVLaKCDuDyF94JUzPzk2+SW+fSpAppPpXIuVSKV+aSkHT4TUr0qrEGPsP//ePnChuMRB3Vzp65xrVzd4sbyEPR5kbPwzhZTo7JSic66SpNWmqEbRR5Q28edsEn0sPMSb6lkYiPGNvso4txTTwKaSJyN+fl0Ql1vDB7zZtvOhtalk6NFMdQBx1W+2IHKQb64eLOx2+7QYbLIsy/OIL5XFhiDMkg6MtrKyFuTNCRlnSq7VWEknvV0SzVjLA5rZ7vTo6BTTX6E7WUzv39xalb24Nt7224yMivHUYi5x4A61kuM5ossPqLbqkJRtnxls02CpGJSRqhaE3mdXmYfhIvoO7A/HhfF1LkXcXxUQ/rf/5Z4HSEUzKPJHSRSZkZTgux4j/iiklc+KqYmH19NKkeMyvr3d9L/ZN4xabvRlExO/mnUBo917XO/FiOP4R44f1MA5jeBLWlaNLKhztX8mMlbeOf0w0kqoTupsgPbkmrc2igg7g8hfeCVMzXdMZrQ6Vu6CgqX8VIB5U9glrnT3jkK6ymNQ25ttw3rus0y+PepNLqjwdL1+68/3gf3Swe7rOM/0RLA8pnErQKrxnBl/MSZrGgP9jmjDqcJQb6Q7X9sfOkyr/ePd1sddduEv9vMGHcq/x8mhtIl/RsP41/qBmc9QGii8KZkTlQi3NmvwTpeUtN+ofRxFWvcWQPiMF2AdrVSyBc97Fxa59OHLMe1dpzIT3LLctGdQ+yOOt1eCnx+/cbZO7jkPM4ztVC4nM/Oi3DY+xWRNyyKEpbVcQH0nrDY++zoKJS8+xv/xI0SkN8mLjryClaaGS4zqQmJVj09p2WW0bqTqpxpZwjVbrHQJ2EczpEOBzwPj0/XhgoVQ/NkRaa8A5zR90jKbyTZgRmqD2tw1yZ6t81BnuV/zQU+VCHnpiB30YMBPk03LhMqKCyQukFYFQyVECzdgBjNw9EMDWP6BUnJt0sHM8o6WdmuPnXPIdduxKeuAEdcT2M4ow2abMIW1rwRtbO37X9gO5sHs5FSwdJRDj205XF+UKH5TrGCCB1weJYPd1nGf6IlgeUziVoFV4zgy/mJM1jQH+6/mQ/iiQxDw7ds3e2bXxBRrcN/RN6TtC8YKW1xwUuZvwKq2y2XZ0/a8CgCyu7SrWzfpba44KXM34DGbY2uOClzN+CAcG6r1CkiaUi/AXVEDTU9QaLiQkOsZ6tY83QPoAUaBhWMn+olzPXFrcwfj3lDXWCUgmz4Qx0Pz2mube3P6WfnSuJbNpzBIyr4gJCvwObIaiQ9i8gXA8jYf9cK73rORXUjqzWz3enR0CvuGy1MDfVDp5iw85zMDlMIMM3GIOnwnA5pbGpk3nOupkK4OevMnkzDUsxhKs1rtzN8okcMs+GhESwPKZu+0Cq8ZwWw/fm0BEFO3l82+1SX77VRYENNxjrvJO+DAEtg7kEMgXY+aVoZ76jAslxYVd2egBodDPVvmoM9yv+ZrtjaaQu4+w7fFuuC9kC/OIL3SHQ3+CAtaqWQLy2xuhJQdYsZb3lM7SyXIpPkN/cGRVof9kXglTM/OTb5Jb59KkCmk+lci5VIpX5pKQdPhOBzS2NTJvOcwEBdAgYJpyfUbeH5TrGCCB1wS4JhnV5mH4SL6DuuLw1QmFJUmrTVCQRxluZrGn1gjYBtdcdN14EkLtk3PvgwBLYO5BDIF2/ggiAJ0/n1QB+ipWep7/uqfbe/0vvbEkALSOoZH5SImRjuYEcnQnYM7AJp6YPQ9yGSogWi6SffZxWB60cCaaDYHWrMnvXoMN7Lr0L4t3t00hcUo5wzTMKKsNqfSuRcqkUr80lIOnwnA5pbGpk6bDQqXeNVBYl0Og3509c41q5u8WN5CHo8yNn4Zwsp0ejEw4x/5s1esss46XxHWfWHD6Sceo4BzWm2Xc54dY8R/xRSSufFU7KRCFPnPY5sj2dmf8ifdFI/1Qav+cjyBsX4t1krXMH+HNLTfqH0cRVr3FgY5cuY/ILGh/RXydtt98HcVlHMSwRB9xzoPes5FdSOrNbPd6dHQLQ6h0J2spnfv7i1K3twbb3ttxkZFeOoxbf75k7hec66mR8EqQADpvS93meSP+ry5yWLvH6MzR18qJ2HleKtpmd3FltjsSZrjzllvNV6mY/jmx/z9IpX30oW/edl4gBouUQ5AnXAQ6wEfI4Olw1x3bVTgT/y5VsIbTiWc/q7ZbE7lwpAJlK484zmRAb/XwZ+MbWdGVfEBIV7cG6M3D0QwNY/oFScjOBtOyXnLx2kFx5BPTO3J1p64AR1xPYzijDZpswhbWvBG1s7ftf2A7mwezkVnO9Cl+rfoKJS8+xv/xI0SkN8mLjryClaaGS4zqQmJVj09p2WW0bqTqpxpZwjVbrHc44VSd7GC+sz0cYo6Ypd0Qy09zRmksd5h4NDYcDYXPRye7uLMFMzHUAcdVvtiBukSoQ89MQO+jBgJ8mm5cJlRQWSF0grAqGSogWbsAMZuHohgabsw93EN3jsi0GG9l16F8W726aOYcr/0XlRugk4/RGGBzMTUeWoSj7hmrS/Ri/Gat2FoRacm5+VKOp6dglmMJVmtduZxMq64b2p8XAFwNjyuGxRCLRta6joTrugjR6oWMOgu8VPVKI7W3MTQoaJUkHiP+KKSVz4qpigY1Y6rosLiPYZlcitNVh++JPx2/RrjyGUAPde1zvxYjj+EeOH9TAOY3gS1pWjSyoc7V/Jg2KXH2xACS3WszN3zBFQcl2ATbA5rZ7vTo6BXzk2+SW+fSpAppPpXIuVSKV+aSkHT4TeFbR+AxZSRmPWH9U6KlHU9OwSzGEqzWu3M4mVdcN7U+LgC4Gx5XDYohFo2tdR0J13QRo9ULGHQXeRZ+7A43YinT3E+uGgvmQZcFR00Z2uERvvFjtSsySFZdrDPhfQz1b5qDPcr/mgp8qEPPTEDvowYCfJpuXCZUUFkhdIKwKhkqIFm7ADGbh6IYGsf0CpOTbpYOZ5R0s7NcfOueQ67diU9cAI64nsZxRhs02YQtrXgja2dv2v7AdzYPZyKznehS/Vv0FEpefY3/4kaJSG+TFx15BStNDJcZ1ITEqx6e07LLaN1J1U40s4Rqt1juccKpO9jBfWVAY76tnqDRcSEh1jPVqLtWi5YdtQtgj4ZSD9uqGiMjPQUziYnfzTpmd2y7kflIibqKL3gf1MA5jeBNNVnMfkFjQ/or5O22++DuKyjmJYIg+45guW31LaKCDuDyF94JUzPzk2+SW+fSpAppPpXIuVSKV+aSkHT4Tgc0tjUybznXUyPglSAAdN6Xu8zyR/1eXOSxd4/RmaOvlROw8rxVtK5u5WzRPvzaAiCnby+bfapL99qosCGm4yXOXrNofawXHOwdM8NFKO70xMfK20WJdCYZrOWMpYk/Hb9GuPIYiM2s9qNgXs3UUXvA/qYBzG8CaarOY/ILGh/RXydtt98HcVlHMSwRB9xzBctvqW0UEHcHkL7wSpmfnJt8kt8+lSBTSfSuRcqkUr80lIOnwnA5pbGpk3nOupkfBKkAA6b0vd5nkj/q8ucli7x+jM0dfKidh5XiraVzdytmiffm0BEFO3l82+1SX77VRYENNcyT3qYYWPkCdetoqHJkk0JLKJJYVutQbdWiPiEtvZL7R8QMuWhOPzR9iVKx6EbgVUYUjTe3ga4hjypZntoPpzsap7lbDVpaPpdCnB4DjEyzBWKeBSqkf6oNX/OR5A2MAU3Pk80k76jmLlZPEWZfnEF8svLhDnhwdGW1ljEhitXujn6MT3fI2H/Uh4C7ERTc5gc1s93p0dAtDqHQnaymd+/uLUre3Btve23GRkV46jFt/vmTuF5zrqZHwSpAAOm9L3eZ5I/6vLnJYu8fozNHXyonYeV4q2lc3crZon35tARBTt5fNvtUl++1UWBDTb6lLcXOy8QA0XKIcgTmuT54wFPcRvi/NJlp7JsxlLEn47fo1x5DI17SaYzC/vidQfQhiIV6ru7Ln+GPZFRo4RBaBaTcGjcOfy2grgTTQbA60YqjjPPKOlnZrj51zyHXhM+O1unzQoPzfziAo4QIeyqbKfpbbKKo+dBlBbzcGhUvZb8feNPvNnVTDcu8PRRPqa2J+vNSeKKWOnhIhWcKWG+2U8/1ZYUdsA1BpYAgBdnTvQOu6F8VA9xPrhoL5kGXBUdNGdrhEb7xY7UrMkhWXawz4X0M9W+agz3K/5oKfKhDz0xA76MGAnyablwmVFBZIXSCsCoZKiBZuwAxm4eiGBrH9AqTk26WDmeUdLOzXHzrnkOu3YlPXACOuJ7GcUYbNNmELa14I2tnb9r+wHc2D2cis5mEgVBxjODIIsbG//EjRKQ3yYuOvIKVpoZLjOpCYlWPT2nZZbRupOqnGlnCNVusdAnYRzOkQ4HIMjKcF2PEf8UUkrnxVTEw+vppUjFKNxyzswi8Qq8GegpnExO/mnUBo917XO/FiOP4R44f1MA5jeBLWlaNLKhztX8mDYpcfbEAJLdazM3fMEVByXYBNsDmtnu9OjoFfOTb5Jb59KkCmk+lci5VIpX5pKQdPhN4XJ397VqUuthftzZ8uYcUPROW+r/X8vP8cTKuuG9qfFwBcDY8rhsUQi0bWuo6E67oI0eqFjDoOCYohguVQkJddQXaEu0PtYLjnYOmexzMpV4rL5fXkkKy7WGfC+hnq3zUGe5X/NBT5UIeemIHfRgwE+TTcuEyooLJC6QVgVDJUQLN2AGM3D0QwNY/oFScm3SwczyjpZ2a4+dc8h127Ep64AR1xPYzijDZpswhbWvBG1s7ftf2A7mwezkVnMwkCoOMZwZBFjY3/4kaJSG+TFx15BStNDJcZ1ITEqx6e07LLaN1J1U40s4Rqt1joE7COZ0iHA5BkZTgux4j/iiklc+KqYmH19NKkYpRuOWdmL0lIT/y5VsIbTiWc/q7ZbE7lwpAaXVoOi3ogTsGdgZ+MbWdGVfEBIV7cG6M3D0QwNN2Ye7iG7x2RaDDey69C+Ld7dNHMOV/6Lyo3QScfojDA5mJqPLUJR9wzVpfoxfjNW7C0ItOTc/KlGb9UeDpev3Xn+8D+6WD3dZxn+iJYHlM4laBVeM4Mv5iTNY0B/uv5kP4oj0R7BcqhIViaKtl1KwFe4f5HDOHE1I8FQG1dUiFNE+lmtgzqKV+UjUETPpXhld2hOzQ+mt3QxIZUCzzhJASoK+W5SZnQcKDUGeuPZ2wbU54jXV/hO6s+URxpfukuQU9XbalcI2//whMVR4VvdUttlBnjeYvQKi3wHIRdOjuxTDRae9yNMKc6kaSBlhpoPHBVxQARKW8YmJQn6shYW2IGytpME2hFxlWwLXbqFJk8bhz+M06kRwjnDlAp99Jz3UhDEhlQLJQzrhGZOzUiK+xrn+zLsMn4bd7v5nr2IpI9exm8KITXD2b1296sjaUGQ7C352iDVv9nHDpIlySMEK/iXSA3fKAHyZ8Wl8f4KX991ue+9ibxoFxTb0CwSf+ZZY52DpngUhV+4wzxDYXPRyjzvZCz/xjki2+95r/ntZA/YJISI+c6IefI5eE2sHQ+6KLoRrq/QjPfwAPv0+te2sArJb1ZUhTeSOkAdz+rhUdLOzXHzrnkOvCZ8drdPmhQfm/nEBRwgQ9lU2U/S22UTrviSPdWK7bmtPgCUedyfDOWBDMDSV4ZycjiTMXHXkFK00MlxnUhMUDzOItG1oolMQqKN3EdZ9YcPpJx6jgHNabSITAOL7E52NU9ythqwHl++q6MNBwtSZp3srlfv/QrBC19CuP/PayB+wSQkR850Q8+Ry8JtYOh90UXQjXV+hGe/gAffp9a9tYBWScHrRbe8kdIA7no9mZ6u1h/2ReCVMz85Nvklvn0qQKaT6VyLlUilfmkpB0+Ez61YGaJj7D//3j5wobhhry6og6qhC5ijS6+7tSO7YDtxFXPtRVzGqebgYTEWuuA6E68ItHlDbx52wSfSw8xJvqWOb/My9iIa9BfsrWnTy8akIq/Ip1Hn7D0HR9NKhA/HtJYHydwTi1adgc2H6F4qBbBuJDBZ6Oq3XNXoSdXdYufOsiGmoRXeq5yeX3q3W8I0v3SXIKerttSuEbf/4QmKo8K3uqW2ygzxvMXoFRb4DkIunR3YphotPfQOADERgtzE78+ibD/PTTCMG10JNn/dTDpdX3HwSvG4SexMiKl781iIJcVsZMTl9U6ZzMWFc7kjTlf5A8Uo3kTFnhjJSdiAUDZ9rBcc7B0zu3nx3QIsetjnuBWLlvTU3/tpCSA+hXH/ntZA/YJISI+c6IefI5eE2sHQ+6KLoRrq/QjPfwAPv0+te2sArJOD1otveSOkAdz0ezM9Xaw/7IvBKmZ+cm3yS3z6VIFNJ9K5FyqRSvzSUg6fCZ9asDNEx9h//7x84UNww15dUQdVQhcxRpdfd2pHdsB24irn2oq5jVPNwMJiLXXAdCdeEWjyht487YJPpYeYk31LHRl16mBjoQhIMVVaQP1NihqsKTrEiRQcZU+7rwMAiH5cq2ENpxLOfu8fJhdRsC+D3LL07J7u9xAiZsMDxeHXxMdZa5EM5R5mMoPsqflkBjDWKYbRYHPuBswkvDIQKuZR5yR2aduGly5MCezSi067qdruy6AgfedvJjkogXjM66mQrZp940+7qLqVyv9fy8/xvlEjhlnw0IiWB5TN32XNJCWtd5kWb9puHHC6RDeNcN9sRw2nO9bKsnSGWf1VZMt4S/284fp05spDZ82fVZ2YReIVeDPQUziYnfzTqA0e69rnfixHH8I8cP6mAcxvAlrStGllQ52r+TBsUuPtiAElutZmbvmCKg5LsAm2BzWz3enR0CvnJt8kt8+lSBTSfSuRcqkUr80lIOnwm8Lk7+9q1KXWwv25s+XMOKHonLfV/r+Xn+OJlXXDe1Pi4AuBseVw2KIRaNrXUdCdd0EaPVCxh0F3kWfuwOu1eQkb/SA4ncwupjatihOJ/6bakfE4GBwkmhcE7uLMFMzHUAcdVvtiBukSoQ89MQO+jBgJ8mm5cJlRQWSF0grAqGSogWbsAMZuHohgax/QKk5Nulg5nlHSzs1x8655Drt2JT1wAjriexnFGGzTZhC2teCNrZ2/a/+ImYKIZdND+05Nz8qUdT07BLMYSrNa7cziZV1w3tT4uALgbHlcNiiEWja11HQnXdBGj1QsYdBd5Fn7sDjdiKd5Dc7uNB9OdjVPcrYawQrTb4WJNpsLno5Pd3FmCmZjqAOOq32xA3SJUIeemIHfRgwE+TTcuEyooLJC6QVgVDJUQLN2AGM3D0QwNY/oFScm3SwczyjpZ2a4+dc8h127Ep64AR1xPYzijDZpswhbWvBG1s7ftf/ETMFEMumh/acm5+VKOp6dglmMJVmtduZxMq64b2p8XAFwNjyuGxRCLRta6joTrugjR6oWMOgu8iz92BxuxFOnuJ9cNBfMgy4Kjpoztdb4dYCPqSkJzr75ABT9KyDt6MomJ3806gNHuva534sRx/CPHD+pgHMbwJa0rRpZUOdq/kwbFLj7YgBJbrWZm75gioOS7AJtgc1s93p0dAr5ybfJLfPpUgU0n0rkXKpFK/NJSDp8JvC5O/vatSl1uDu5UHGM3jZoZZZnunG8Xqs+ICFsnbVjJZwS3q9UoYYx9g4LvqhZv0FePBv6I9dQg6L0goXo8xAAhgBAkpwYSgAAAyAAAGf6uGfSAIYAQJKcKEvAAANwAABn+riPbdW+Ue+C6mdLfANC+RqqRDoW/ahIfDpuTttuf7Cnzp/55xsjjVi/Bcn1gNk4BWiLUxQZOWlCYhYMPvR0EH0/4vtCQuJLTaOAKM2YQBtKSMTNIOfXkQZMLbMGKlpf9GyMxBVqc2o3qq+UDkDAIgfceDPGAIYAQJKsJErAAAQNWAAAaXJIOeIcH4dbJKJzDh5aoLB+Ku/+xzgvlEkY4LQ0NTo4C46q8CzUPQLbsSsphUWzcIAyZMSLnTtibLDvKKWwVM7XDWnlEG8znFShA4NlXE11Y/T51m5ghgBAkqwUScAAAyAAAGlyOGCGAECSrBRIoAADIAAAaXI4YIYAwJKcJEHgAHp3gJ4B73gfzOne09d7H3TLvdf3F1H3TLvUf137H2PumddI7T7RWN6j6122mPXUCY6+KPb+Wh1r4HBvXeuaN7H1H+r+nNM8cvXeo9c1Fu71H9HNDzm2HiyAg4GhrvaMu8nOqf4gBmb5F1FmrGKdo+r4r7r+i7Z9FSoAAH8pU8BF+3dQizsep2P1L0OWKqFxVcciNxlRMfWG7TskefBLpsFNEzKKyazksMRikHXSKMhoUn9bp0NnMZaKoQdSC6VgrSCO1RUK39hjbEITc3YU8GGYNKvVoJv5c8IReOeiHw9rcxWSA+ZGTCTBocFcdDE5YVZO6QuX/eb9/fcNcBG0a5+cVVNh3Wlbuv4waBtZ8RMgbrsMDE5SZxT6g1T4i9mfBf09phM0737UbtMtt5bFkmBkEgY7yW0VbVRzgKEyp2GOCKSRJiwOE6kUl0Sbv46BTESSmjGScTm6Dw2jL7Pbf5wIryZVjuvTcOkqlP/kvIN7OIcOydvqMJF5SiINiWQxQCUIRYvRpXOHWwct0WsoxbRkTdK1GZAXyyLPmKEjZQ6Y/RhlJuPnek9bOLXtIMYcmclIWBFzv6L1B1KyBbt/9PzDzItizEh6WU1wDBaSZ0bjWMYnJQQMD/kuX/Zb7EGPb6qc3Q554BKumsZ/MNeVurKBC82e0WY2hAquAGrf7VjGxYW6ne89tz/iQ9+Q3aoEQ13ELoD4nywY3pS+X8+qCXRMUomrsJfNEeShuYQxRgRwWEEdty8N2W5whlY99e9JDoGxn5JylEf1jQgmFGEpJS99mFQJjIyhm2owNj89Aix52J6pGuvdGMBnZBRo/DJp5ICiS7LhnDywbFVJsnQc9I4v+3YVn3Ojzui7TTISdVZz//5dNaH6jcbNB7/UEgoq46NnXIhOBg0s67Baa264eYM74OiO9IFYZHIM8dPWXiSL2er0IQLS2JP8L44DD1+E+xCdIbVjuN+9mAE9z3GG1NRpbcrYu3FRX5dNUMINbZ2MBYGbxlcfSBxgBVPrLrQQXpWKXDvX5RETkJ4ozbOSxaru9ZrqN0TDSxJXhsxwLmqnVfa2lBJzJo7qNiZoG8VD4iUyJSPEv3swAnue4w2pqNLblbD2G78b1GGcq2UKSHn/dGr0J2Xgs7w+10p/9OJrjceULs7yO+Cx8hQKzBKMgAcn9QK5bxRcvQfs+dOm8u6pzLAVG0pWbaaqd/Uu2/RHYP4T623I/oNT3gZEEIMVuq5koJKnOiS4YQRntXGDfmKkNyqc6ZHACsHKOWB86P5SFA/rNiX8NKWiMuCloauHvJN1q8I/TI8gnhECYR9UE6iGGedaW+M4cdsGy4c8RJkU6MS5GqskMlS5rEg7G91Bi/9vTKWDFlZK73CLk8v0v75bxWGBRjWUaJ/kHFp6jG6/7AXjb48n3SRr3ft5ZKRD3ETto6jX9HdASHbSsiZ/oHH19NwyPLIEARE9Qh6vwhkLAK5+QFy8lkvpgSp16CJqQ302GFCjtr4c+Q6jtMSIT75/uqnQBIBSl8/qri/JLiFPPF4p9XG9AOEF5vCoDh07MBhiItZamxEc6aOdnK6pL7TukjV2XJ96+vg+a+nnRXr/SfjK6rw3i2ARGI49BnF+J8SK2vB5Bc4RNsCbZ79Cs0NJE4Ry/DGnBmgxJHxGAtQaTv9IVMmwOryp//8EMuPlrVSIi/Vn2ChY9zgxT/bkPIlihjcf0Gp7iugzVOLadx9Fq4hoTE2Ww4OlIBgTYy2sJpkkTpIeWpsf8548qBk/TCsd/PQY347gQkHfaOHqOBLB3tq9IhhW39egBCREJBKJS4Xt083/DN9c8Ndh6c8AuS8fql9LwhHuwRhQBmliEYVKPWrr0IPUyhDB01g8Eub0wtea0xVhuPnr+lNbSwC19i7yiewELI1THe/B4Q5GqkNscCGJwk49YyTC7SaSazomI4AIrBcP9LxCrU/uCNfgsPW4IrPpLZMb4k4JMDUJrj+s5rHAhicJOPWiwSF9FJyhj3mFnhBr3dyEPW1b0LB+nbDCivib0YtDAnuxUIxOQL6cdfw2J+9qcFGXrbLPnWnO1AJyx2bhltyvgVvnFJSNOpJh4aIHvE045ua3nz11zmXJr5BTtAEbnFo3tDuV7/S8gh6rQV7HJYF9AMs18xZO2ZTA6zebvOvLEBExTMxp83aQx+yHxX8sDZbUXjD0S5dDTlwvLWfNDZCF+PrF+iWBSkVm4kCedeWICJil5gw0z6+XvjXgZqINHUXjD0S5dDTlwvKzxT2fFmUdRSJs6kbOjQ6uqCUlFQjCxlHupk7ClZnTyMvem7opuIxmsnqmEtKPu/eDXqevDMz78Hf6lkM5mfWoBkqODT94W08zNsZXQlzemFr6siGqR3uVdluNeM0NC7Afo/1SrmpMQDWuA4iU1qSkadSTDw0QPc1M6cFofaYuo3VPBFMhtU+DYq73szGH52M5VxG+hYVA1wREEYDVHYBOyl4Q8YUF7EqTWSLRCNh8AZbPCDXleSfSnrol7oyMJCklREyKHLRa0IBJZ76E6+rYq+L7iX2iI7etru7sa8+Vb8+Hlu0hkIOPyXvn+0PUQs7QQN0JAbfVYOwlQXfju4k+pDChOzXGcIJBaYZr0OBElgpH9OckDEACkm/UnuBRSxhwGRybiHUVtcclexkCdVIKp6tZih6YzURn4HmogBZZ1ztkUpR/ujHJCwEnIlGSf6YHxtKHD1WhEY2Qkf1+c/2jzzlytY5RYnIMlq0G72xu3+lNQ7uAzpsVN0FfZqp37xtmWeEGwdQeku/vjix3K2El9R6pZvth014C72yzTzTL4t6chVe/pu/nYj6sv9KKzxjJwt+AvKqwcxd7T3GotpGWeQKnlHgq3lxghc31TefEbOF3Sr13XSeh3SIMtgLqwwlLvMnKY4+fzomI4AI2SbqXs1wFvLrRROpxaPlbaNoI0I8a7DQ7y2ac1ufKhPAAeWLlxTqUEr2ZQqBb5OwpW5BNW7fSSo+2XnOwSjnVMzMQAKwKeL1ZuFSiOBIIUrPVV6cvob6thG3L+UgbSvCXN6YWvqyIapHY1POZec7BKOgmScvWl9LwhHuwRhaIzSxCMKlHrV16EHwt/LL6QXrLOiYjgAjZJupezXklU3GvGaGhf5r/UJ3IQ5fK4x329KCp3OBYK+YaENibSQXdVNf+tRISK4emmYqwvobf/6e/VjQ5OVATDXDsWKn527ih47nuouKrdlZku3K4Ysq14XHVYgWvvSceIsOars8INfU3EGpqeIEW62bR9OaKP/jDPNv+qdzKbtL3p7Etpp2X/zDjMmn4A80Da5TrQh5fPBux/dqpCEZGRorFWxJEcAEZ21QAWO3VGjNpM3jle3p4ocPVaENuTShBuShWpVt7X1KEGtuR1Uiem/x48ZJU6yuaenirlkBuWrRhG0e6WTsxDpCTYMMa6CJoFIiiVXas5dE1sdFKLcvajrO66ryEn+Zf+oLMs8INg6qamyXF5t6A5sBhky5NgPAILpiwqMKGVkwq1gGNPVE5DbF4INcYSWhIi+LAvgieEG6OlYqSsmgPyvNAhU3EYzWT1TCWlH3f6Lh8/3w0UvXprMDhFIbAT3QP3sJD+7WrDRJPvz4eW7SGQg5BycNR5I4f/eSUfCbFZkqqsNs7JAFoq99SQ0sQjCpR61dehB8Lfyy+kF6yzomI4AIph5QwlrTmYcELO0EDdE2BwT4WyLhlAOyuxySQ0sQjCpR61dehB8Lfyy+kF6yzomI4AIph5QwlK2Vb9xrxmhoYFCv51sEaKXYQXTAxPSYM3Tq55Pu/1Fzp71McVPQrrgic6VipQVSpL3z/yP9MoUJcUS6B7EBAhgBAkqwkR4AADRJ6YTXZnO9FdKr98ABrEzP2WRBfA10+EGYUl4XBmIzX/XrJXSQpJpwVLJtDI1dPC8gCrnXxXkK6HM71UtjF/mLNKjVmVZelzGQ/xvAkv6cnPGDjys9O4GtIF6TYK/geol9rTWE6v9UoQWzoj6l3t3KssFMxGHqmcovxD6L6bosrwZCcNgZWCVctYvH7mkovT7xZ3cgXKHAYvMLYZIh3Y1CSeKiYSBFLGP5khtu+IlEhEIX7/b67TQCGAECSrCRG4AADcAAAaxMz9EK2a3w+EdFLXvl/88/ooUpyAuRfJh1s/crmOvsjZuSgGQGfM/ia08go3d1x+qC+fs+dsvp5dg9kP5xlgaAjsxf9AISWYZLG9FctGq5J1x/VEwuJD/F0iHwBI7q9QBScPCkS3ZWqnsG1YH+pAnw9pvzxbmDhP2zfTNhF0Q1vcnKAhgBAkpwsRkAAAyAAAGsTM/d+5HjzTESf01DC+59364R+Gqv8Xf4H//9yZN353qUVvy+34x/bY7WoKDYEL/gwf/dkm01vr//K4l6M1pQB3ZkDPMGWAhHNfa4DAfEptWZX6v6AKctKqfH+CgX/7Wi5t/nqjM62f//9JDYGEs4xULIO0WPH3j+TyuSoCk///zu5blt+g7Z+ldzXFcPIpECGAECSnCxFwAAIMWbR9/dYAABrcAbQbAFe+kniAnoFsmx3dUhMUSJaexsIKIkfjFAImFarUlciZr/fn05FYH4ng9WCFelX4yHzx/0EHzaOM8dABy5wZv1sx4ba7oE8X0JdY6FOKeiOPR7Nfi4GsfkSEsgN3OjKSDzrVBxw+6B7jndeZGX+QC5lYcbTIv8ri+5ZAIYAQJKcHEVAAAVwkWgAAGsTNHYhJ7Rlb3NWf3zRW7wzYVc9EIIeuKU7vDK25ZDrTwHcPrFXeZ77mNvatbvUEmk7tX+1MFHmn4xIfGQN+x535y2dCuIy0v/vBwZ8YdLTv/78l7Paaa131uQKvdCS7HhSFm2fP8KQa8T2zSpXUX4gSeizZWZvS/G9vjfxpO55IxGXkNw/hxs/1kiz+G4aKfD/9nkg/+gWKsLuJSq99M8OH+6jz+mpw2gyKtbO9SBZBA73Uy9SAIJJg0IAD/AO9gQ4JBwYHgAPUH/d+jx3NP39vyfk//l+L8X/Cfr8fz9P436Ps7/Z/b6r9n4/l/wes+R+j7Z/5H5PjfV/I/Z8T/rvtD/Q8R4r+D4n6vuY/J9mf5H8P7f2/q/P8b834/978n7P8b/iP+r9xikl7i//t7r/5/9ue6+l4B8z5PwO4vouwfRdU9191+zav+N8n3vYPmdO975ZXtNWfP91/knY+B9a975OWD915n/7l7r9v6do7IHzPgeu/0p/kntPh+o/nPb+TTdH7H722Afhex4ivGDijD2nDN6cn8A37xF0743Tvacmtwjrf6flfl9QRjodtR3X9F2D5PVPgbsAWcgAfIGGoAGX1AQH8NkLHdYB8eMQM8EA0AwMsHpuotU5f0ZdkzdgLHCRnaHw6bd7k1R0UieUA+kBArLMVdEllg1OS7nQVxVd5k4q/16LLl/qtS3nsafXdyrnPuvWEI4h8s6vfihtUKs4NTPIHkwVqxI1IIew4/QgMkCAi0WpgWhPlRUiTrpPkUeeLuyFoSPed/aTH0nrdJooEYEEdHb3eaRakzA/I3t7gh0PCeTTKDM477LY5W3Bo0OKeegntY/ktqzlqlXG5kNoqI7VN82EXtVyt3ziOqqrKuxjsr1Ed+pXjvXcOXGxOOm9o9tv5N5fvjuH/Ei1iMYzj06VtiSBrj4nCkOzwI+b814OPbTS/79E93hfqwV4WlIhNvofSCRoTO4IBw7ijI7Dsn9Thuefv8ju6aKiV6f4rg3pgklJJ7kHRgsWLnpOIf6CZoNCc+U5HbJkJUV4DqBQlQqBFu9m2mH65bTxHypYaG4NjU+DwFv+ogmUGqmafsuOJhj4nephS0X5KEPTYwJY874KQ7iTXusi1zEW+Lfslihtyul0QyGeuSLZTfSHL6tb/jQeFncUbthqf8YqFUGIrBaWmOPZBYynOdDdEmpGHLcO1YTQhGKJ8hC0KFPrRjqp27dZNWcxPlFIsuV1kV+Rii2dQMmioTDSdrORrozpkIkTm+VmKu5OF6CWkpSmyI9z3Z3ixPOBS5ltnDcgJwCQ5iTUeb/JbybbzwuIPTI+wZ52I/Y0YhvXDtWlS98vdAi9C0P1l3OcrFT8r5tWjtlC6KA1jc8Oo82oh/KQBjQMfLTmO9heymSIu0BHscpNAU5UaTPpDEgxYaL1hvIS+oFueV2xx1TM9G8rJWrvgPycr5xdbuVoMTpZ63UURElOUWGJG+zNttFJCs9ROR2OKv2eYSv8tk6iVCiGp9/cx6mNTSEnzQMWHdKUbinYv8UNN13Q/od7Zdjg2CSSUXJHdBb3OuFoy1AMsmKk7HmVjV9BlORZ3Txd/cYozcxxiApAjAelsW6jrcBElfCM20hVrlwmWgnKEGzdONpv2DLx9cShaUPQdp3T4WZM30sXaZiWN+aKfmNedEA3wPgE5MDKk6JNcs5+l8r0Hld5R5WwU5pQYg6ey+kbSGbSm/JX/9GMc5AZNsNpC7TGzI3S7leBVjVNQBhQnTR/GvuXDV5MnWpHJZeDghigIeTSDrJ1UOBwXCCOcQbfmdAEMxIw9o4ZecZ0ePitSztf+D68PUIcG7qrfo8HgEtpZu4vcSu5l1bYz88Hi+QFloSPaL8Mp4VjR5PWv2HpZ7r0d1JiDy2ab0tRAG7Q2xeEUBrwPg4VEq+tHbSRLbNUuMUSO6C3udcLRlqAZZMVJ2PMrGr4QrhNyMPCH8luqcib8vK52PmkQX8+N6h6uMAJLOl5zlDeylevMOMhezeAq99Rk8ZuXur52UDqoknHFFe530C8QPysj25ConHcouD3NnkMSmSX15hFFeLxpoIFpvL9LaNNtOXhUZ1Nq8pt63TV+z9vTdBIUwMdi/zB22D8+SFl+XpzUqEAKVn2+eRiCpbdlLgSwFEcP14PfRNwX9AXrErlqClOrR62ypI8iCYS1/lgyudKXMGnQFzm2G82nhuNeJ9pI1GCV3NGmfc96zKpVPS9wgSpxfu7y9rFxsDyCpc2d3c278tt1F5krhQm6qRC7SAiIoKRIAFRKq66/r6T+gy01dlX6rfdh1eXLd5zLix6YE3OTVlCxqNCaXsXgb3eBJUxv1c9ijIJilGRAECH///4gS/UG72E1c9mtR89/F+NyfT8DsDNfLlQdW3eoXsHC5eSwRuxjfIWn2vuroxwQDtb5i4s682SN8rAhfnv4hqbskTXEMNbJZcXpKilgiZy5fIiRHEC1A2DCCdX4f9dXKen/789tUSc8ekCka9J5k1FzBp0Cl5/rIDd+QRBv8B9w2D9fUVeUEDrt+iowMt3428gJzxLAjfyiuhcVTC3eiaY3cWSYOtQEJ2dYoRVZsV5A2UXQHyCcQFXZS5E7ZYu/l5LliP/VTfWrWLlvpwnp3qzFTNTU0S2b2PC03HXZX8Whr7SCOk9uh8YMzGZZZGtr/2PHrWoUWiuGqY1RrwhzwNmUY+gUh/yLfUjMftip7Gv0eRlKtzd7eX1keQOA7jLrFM/3Vr+b5c4vSTPHteBimejdL4H5zQVh5Xct+/o1FMDLIq405PdIldjbP4576YIhkj5ElbYljfudui+3/f/nzcAUkOlMdeAbMxNjvUEItCaFyVI7KPVedvqUkhGUmq+oTa/VhultZ27B0de3oV2KM8xN9gnbUv6FaYn3zvf7FCCKFj5LbRzhk356FqhikP+yj3fKNrdQVS/J8g1OFTZCi/OHuyUN58iSUwUgE66H1pKMCYK3fdvMd71dihc14KQv//pDvDmrdYOmjE/He1fxJhQLBv9AbF/DbPP1z9dfLDxRpElDmAM/SFT9aqbED86ESQNs513ONEZoFcXK3oy/NZ4NccD3FJrIv/QkWRcuBwhImmjnvjwT4miJCSubD3WE9g0RVLVTrEHvcK1+WMEjOUbmI918pAzCZ5nFjfGr/0SmRT8LddjcxxR4ykzpzcgKgwud6oLj0CRckNNZJbdE8WwIBoBgZYPTdRapy/oy7Jm7AWOEjO0Ph0273JqjopE8oB9ICBWWYq6JLLBqclm4XtkQHj6Nuzyj0UlS89djeoSF92TYAfwfc/zr2XguLo7yVlLkD7//xMj//xfcZJFM5NNdogm51E5NLYQxH4u+vvd8PhKc+sFnplZo1jkslSwiv8BJQVuLHsMBGmQbinYv8UNN13Q/od7Zdjg2CSSUXJHdBb3OuFoy1AMsmKk7HmVjV75F2QTo9rP4tPcE0oTIj/XZRAGcuayGfjvCn7xrQ16Ns6ktBcctyhx/kLDsR4GV+zyLw2PyhcjPbrkWFTJaFoyVWCIS8UlG84BfweTwO1i7c4da4ML+KN14rTuyFfs3gQSZlxy0qFfkulDTdd0P6He2XY4NchXLusQtDIgYZN3nAobnVvGva4opqAzmpYaUevL5lY/kYcF61+chgpdEzrkmhF6GxPOFcJ9NkgB6fuV8SDbnDQZ4YgA8wzHY8yT39Q4Wr7G/RVLDmHbj6yOe/+w9jIvIOj01rp1gaVvu9UGPVTib/oZ9zaNcQJlHznOIVAIi9u5MViIgviPdYB4zw/J7Vzge/IHJ8aRfG+GvuA8SYAzRPi1GUdy6+4G0Pxorqga24IDS6wTyxDDour7mcmPWg99eBt+HVwrnlSK26/iTz3q0hgclx7ms86NFNeJpcaMb+Y4aCDSwYvLFjKbI0vbXLwTK1f5wCcFimMmYT5/7/3YQVyNAhgpXwsyV4CeLI+C5JegQDIJNPR6V//xDfBKLtCT/IoD/ytf6Ps7gX8sCaZ0z0fPkasAIO0410LjNH+muIpMilcjH/qnAh03Wo4In8YbW6C7/yEQYEomci//h9APQv/JmIAPlq+k4BF//D6Aehf+TMQAIJ7K7oUi//h9APQv/JmIAAO/h5mTrkGnvUut8XBW+Tlejm6soP6gWsYVBfFWZOMF7UKJChWh2aeITy+Zhnny7zj3uJJa6y+ExPsNZ9PY46v2aAn/9m+Peb8/+H9tvibl4Bdfmemic2K4bE4gzqHNQEsTRcUNvy7rxgoUmoCP3N1gConUBsrmxmgDKJzz4Jla0ZX7P+9zn24nZyULketNOgp5VDK6Tl3vNkdzFizf5dZKQ/c0/hZeVLx4zHZjvmsITsDl/Dd2SIc9JSeXqsu7cjEYIdK+mXXhPX5WwnMhcW8PrWxivk/WqPShJn6MyKlgpNbPFsogUUPZ7SOS6ntDfkoGOKsIJznN2Qz/bH/NgpWTuo/Mtfbj2pnVjQi/VBbLljQQGkD3hvL+AAZKCpRwpttbs6zA/vhOXpTPHxHf8WNr0MciROP9MUt60KVdxNpMYbqJviKn3Kyh7QmdIQm38AMxC7Gh/ptg0V59c0YZlrATuOatRGyvMxKnFJCRucJ4l3auZbv3oyfRxy444lIYtrtbKxk7gQd///tuEEuEUIO41xQPd//9uDLR7QhfzzStS9CSDiKaQbTav3F7ctstq9RE/jDa3QXf+QiDAlEzkX/8PoB6F/5MxAB8tX0nAIv/4fQD0L/yZiABBPZXdCkX/8PoB6F/5MxAAB38PMydcg096l1vi4K3ycr0c3VlB/UC1jCoL4qzJxgvahRIUK0OzTxCeXzMM8+XecetHJg8KnZtLdC5mMNmg1y6v4GOqaHPCBl//+lcL5H7qnaTrkcs/Rgwk99n1Q5QQtXj2VzyeURjRnY9I4Qh2SCYbje+TNOQQ2TnSE1A+HSVzC0W8QKR5sEOK+K9696hEufhKqSJfXwZ/nU8AMKW/hZs4E8rtViV0v9JNlt8MBGEJl7sp+U9jmrm9hdnDBIRGTmHT3J4Sg8dhXU+WRqEluCHP65DHLBSMOYIaLzfnvplBKP+IF2Z/AVhWAgkGwnl4iAYqyENCaAyXhUOQt8a4ylCZF/wDe1AqeC+7T3ypZL5nf4XU75f4g3WXOUtkAxqTj0aARZgVGMinN5czZplI57tklplna2sNTo+b9z9q7pVOA5D+ql8Inl3iTx53yTcxPTr0/+gYg/Y/VdHavu4lhox1wPfJCjvf6iBUTz+nM90SSHrteZseBOWi0f/19rz7UNQT4fd3OdHpXEds9ymG430UgkhFPin2h9Qrgkxzz0e3pYzZbEdSDE8j6ulubir0+WUVsx8mMceaqXyTY8rvVFpbvNeKx/0lrb8bn+/gqomYaJFXrj4TXIpdbY8gmbCiUyIjaGupI1tyOb6EmqQ6qM5WSeP+kB3L/RRSFoEC8F/sj4kdPwXQbdHme7QxFjsJYYD0zQG6+/wPuL3pFI/yKuWtayHXDueuVZToVadrTUYlMzstxzDSFb0uetNCUZoVsl78ftavoDEEP//9K4XyP3VO0nXI5Z+i/IjMTFSM76k+jhschwg5FljfQYND/5mQOyFjnJF+/CVGl7b7ejv7Urzs+/j216+/Kq/JL8HLxRxqXagZkMJMzXIX16Of/19rz7UNQT4fd3OdHpXEds9ymG430UgkhFPin2h9Qrgkxzz0e3pYzZbEdSDE8j6ulubir0+WUVsx8mMceaqXyTY8rvVFpbvNeKx/0lrb8bn+/gqomYaJFXrj4TXIpdbY8gmbCiUyIjaGupI1tyOb6EmqQ6qM5WSeP+kB3L/RRSFoEC8F/sj4kdPwXQbdHme7QxFjsJYYD0zQG6+/wPuL3pFI/yKuWtayHXDueuVZToVadrTUYlMzstxzKvn1jwgFGjBbsEf6wyB0gX5Voc3fnwCIK5K5Axa+dofx42euk3r+q//zHm0gTOo4vJdxge0VRfCascmy2+GAjCEy92U/KexzVze2W19YdrO4PwAl0v/xeJirqfLI1CS2ERTSEpx5qpfJNjO15XujRp4e+sb4YFj3qkX+2FrpYHHUhvmeP9Ffnc4Rkj8dt42RNZLY/xVydTeV3Ni1y2SKzpX6o6Ou/+IN1l0YOBY7EUQiCi9tft3dXAjm8uZs0ykdBMld89Q8AYTSpdAGf0ulujvp+6Lv7iftDmbzumnDTtdthsw41w8b3yZpyCGyc6QmoHw6SuYWkvK0NlgvYpDv1JeAsAjIg5ZGd5FI0RY8DKGXONKiqatjW3k0abtg1i0hCp6noEi51/lTFICtf/LLjCqmQoFtaUsO+GaFMKg2cNRZSu0UsLsiQ3A6eaSZ96otSCubFH/EC7M/gKwrAQSDYTy8RAMVZCGhNAZLwqHIW+NcZShMi/4BoSXYmGTnlnKYh0PWvXL7bhmFAi5Rl5JteYzvvHfT9YYS7HkjwcrZplI6CZK75x10bC56x+g4eyLOc7wne31wRea5a6aTI3WP9UXCon5L5j/cgdQWw46Rlt1CWsl+f1T705XvTtP77KkdhPqBH4QeUJRPDeyxmxqBlDLnGlRVNW+d/aNzTGxyEVqQrHjspo5WahI4QFBJiGNChgAzy50REhqxQ5CUFXgHusOjL0C/z1MhtnGFApH5vzxAXDdQg5gQPD7Rej7u1yWrAnlih7H7kdLrbHkEzYUSmREbQ11JGt7Op7RrkCowRDB2d9E7QJMFVa0PLzggkhQ7buJjKNXYx6HXwQ2+zW8R0lkxeZB3UN6I3V3Sk15UO5s0a1AMgFwtpGi639NCJnmpn9kauND3jH+5A6gthx0jLbqEtZL8/qn3pyvenaf32VI7CfUCPwg8oSieG9ljNjUDKGXONKiqat87+0bmmNjkIrUhWPHZTRys1CRwgKCTEMaFDABnlzoiJDVihyEoKvAPdYdGXoF/nqZDbOMKBTL6QMF/OaZhit7X1JuOvv7BbsgrErpRLXXswuioQ6s1TjiXWOvaebJ6vDIh4oRAp95FhuWlGkGLbd+N8s6xZpXHR7/gSmiLi0DTG3zAMHcJLJmzTKRz3bJLTo85p3jyVPFNlAjMYBfKK4umWPblmlj18BYnjKDSUV7V2D+Z9j9V0dq+7iWGjHXA/XzUG1vsk8IAuwwqS8BYBGRByZRI5QweeW9BDtMZxR6OuCbAEia0QGw7Cs9GzD38xgwoOgoOc3967QKGk8V/nTDoYGVk62vwGhUfNerLxMnHUKkafNwAXPEQbzfG2zI9DfDAse9Ui/2wtdLA46kN8zx/or87nCMkfjtvGyJrJbH+Kuy0YWsNoWOjrv3qLd+cPrWh+onyT7y4U3gAcEf0BvecMyPcA9LkJ3PdAj3mgL66X8QpvW3RnebLtiaRHkmchniGw6AGH5yZG6yDG8rnWKv4gkc2doiW+iS4wpv/+bhB7MtnI8V3AhY/+hmxOkMZeRpiE30md58G6VoT+526bcKjqsHspmLH//7bhmdoiW+iS4wpv/+ejjqj2KQChnax0t5LPXoii6g6NL2329Hf2pXnZ9/HuO+bYFRLcQSVBZOZ7okkPXa8zPGQzf89//lEZjSMAdriItUHOeAZ9/Ijw96NmHv5jBhQdBQc5v72ifqv33wCvjxPHzNH2GYJWCaswgcqBS3y4YDf504wKXTRtBQbVUSYR8fbZG8QLsz+ArD/zGckg2E8vEQDFWQholHuHdkQPPluapEYL4hRNBybgvu098qVwITGkedvv/ue4JTbS5CrgRRCIKL21+3dzDYDxzeXM2aZSOgmSu+dp6WUp/dQKYGRAs4TcRZiqlGOKCPE80dwTrQNAwyX80mS+LkVv8kAsbe9wIXAkokKgRqrLgmI2SfjW6rE91P8HffmOvaI8TliMxpGAO1xEWqDniEJE9xvvDjcQpRI3nSxh9fgIuyRzewuzhgkIjJzDp7k8JQKeDDXU0XAq+wzBeeXQrWLe5uAD3MakR3Nr8gt7CvZq1VFdf5jOSQbCeXiIBirIQ0KRyEX+UsTDzePzd4jr+NKey/nL+s16QE7Bj+zCCHXL/RRSFnxvN3oUnZR8gAXEjMnVPdoYix2EsMB6ZoDdTWAGE0+98N42jZo15Z4Xgcc4x5+RWbRap4adrtsNmHANIq6SMb6r111YPHMqVcuqEKsIb/wS9YHqSRShQPCE7vthyd8rDQofjzaQJnUcXku4wPaKtjmGdk0kueUokbzpYw+vwEXZI5vYXZwwSERk5h09yeEoFPBhrqaLgVfYZgvPLvoNVd2kRJwMDFVF/OaZhjdDAse9Ui/2wtdLA46kN8zx/or8vhOo4Twy2jtVu/QOcP9lkY7/n2G2b4nZKR1im2dHXf/EG6y5ylsgGNScejQCLMCoxkU5vLmbNMpHPdsktMs7W1hqdHzfuftXdKpwHIf1UvhE8u7ZbJQWooe8ujxg2kLzNYfkMPBpab5zCDVmdbs5d517vvXi+XXR/xRzChqLddG/UPqydlYI26/t1B5m5qmsmoJtVUtauHqH3mBcALYQVFh/x4CaYuT5PqtxZh09yeEoFPBiWE0Jp67gJo60/TXli/YeyAokte6NGnh76ybKwNDeL+X3drktWBPLFD2P3I6XMxagsKC96vvpJhnVkn95jIMA26Kxa5bJE3Z81MvbGj/Kdh9cXnAsdiKIRBRe2v27uL1LkJ3PdAj3mgL66WbBLKVAG0eGWSVtHggl5ZUP/cT9ocyytLH77OZnZbjmSNtf04C+O+3o7+1K87Pv494VblKd+fAIgrkZ86Jc5FKOswDpuK/MsZsagZQy5xpUVTVsa28mjTdsGsWkIWWH6m5LYvTQruHNMItMYSdfot+tiOqG8kplR/9bl6enTTwQ87TipbB08ylGTSJMI+PtsjeIF2Z/AVh/5jOSQbCeXiIBirIQ0Sj3DuyIHny3NUiMF8QoydWqpqieEGi32ojYiN8/noLTkycUlrrLHOOtw+QMHMbLHnYZMasZes6pSSJDTc/CUpg1Mj+CiR+Puyb/1EZyrjj8BmGs4QvzRu5eGkjO/4P8ZzFbzYuZ1Qx5TBs1G+qfenK96dp/fZTqBe9QiXPwlRSWQaZ8IGNQMoZc40qKpq3zv7RuaY2OQitSFY8dlNHKzUJHCAoJMQxoUMAGeXOiIkNWKHISgq8A91h0ZegYKc1u4HTzKUUsjDGY08PfWN8MCx71SL/bC10sDjqQ3zPH+ivzucIyR+O28bImslsf4q6VXJ/jtEXuZFLGS6ZCPNbIQpY2qjHte+R5j00RcWgaY2+YBg7hJZM2aZSOe7ZJadHnNO8eSp4psoEZjAL5RXF0yx7cs05LGe/MxynFUJnbRUv3IHUFsOOkZbdQlrJfn9U+9OV707T++ynUC96hEufhKiksg0z4QMagZQy5xpUVTVvnf2jc0xschFakKx47KaOVmoSOEBQSYhjQoYAM8udERIasUOQlBV4B7rDoy9Av89TIbZxhQKZfSBgv5zTMMVva+pNx19/YLdkFYldKJa69mF0VCHVmqccS6x17TzZPV4aAt9fKo4MOTdmUZtjTxcZxZiPfSKKAqUNe0Jx6NAIswKjGolKSGpc90CPeaAvrpfxCm9bdGd5su2JpEeSZyGeIbDoAYfnJkbrIMbyudYq6niP1fAW5MOkXzEDDeLjU4b5e4a7gLKQfrxy502k1hfBHwBHmL+4tzS4pWI40Apx5kvPceBqUwKxYqnojgOMTICI8+QcTUX/vXaBQ0niv86YdDAysnW1+A0Kj5r1ZeJk46hUjT5uAC54iDeb422ZHob4YFj3qkX+2FrpYHHUhvmeP9Ffnc4Rkj8dt42RNZLY/xV0quT/HaIvcyKWMl0yEea2QhSxtVGPa98jzHpoi4tA0xt8wDB3CSyZs0ykc92yS06POad48lTxTZQIzGAXyiuLplj25ZpY9fAWJ4yg0lFew9xupmPW0hiCXmzZWN68pKCHZByB5JOaJphXybv+VfZKTkfyzzRHicsRmNIwB2uIi1Qc8QhInuN94cbiFKJG86WMPr8BF2SOb2F2cMEhEZOYdPcnhKBTcp6yL3G9qcCW9pZFvNTngsE4aQiKh3MLMUnQiCRDL3e4t+lUaBfXkOT5hBR3/6cgXxWd5DiydUQof2/k/oLuqNyvPn1u3vLrUJjSPO33/3PcEqNS/P79I7ThF5ahU2Qr2w51kzZplI57tklplna2sNTo+b9z9q7pVOA5D+ql8Inl3fATJjCUIYQiBAOk5NEECINrY66kL1jpoaRiHY4xg2LnnfE9Hmtlaa//DUW67qpRmoT1esOlBNhUh/d+P4QTaA9ZANQ2p7jFpj9hjrIUzmWfphFwFW8IgCjfwAlqjurS+QrqfLI1CS2ERTSEvcMdLhrntzTz1Q1V0aZG2FezVqqK6/zGckg2E8vEQDFWQhoUjkIv8pYmHm8fm7xHX8aU9l/OX9Zr0gJ2DH9mEEOuX+iikLPjebvQpOyj5AAuJGZOqe7QxFjsJYYD0zQG6msAMJp974bxtGzRr1nrqWu5Z9oRp5aLMSpXCyked/jIqvbMEvnz7Fk1vt8JIcCmOv1PVffzpSiJ21x80LqYumIimIStoVelNRnvTdJf1rfvazczCRMLf8p1xs1GkQlTD1d5thq+Z62kMQS82bKxvXlJQQ7HGMGvS+wrCJ1czOCK8563kmfc9D6snZWCNuv7dQeZuaprJqCbVVLWrh6h95gXAC2EFRYf8eAmmLk+T6rcWYdPcnhKBAwkA/flwKvsMvB/391nkLV7H5Dku1VRfzmmYY3QwLHvVIv9sLXSwOOpDfM8f6K/L4TqOE8Mto7Vbv0DnD/ZZGO/59htm+J2StvvDSbMHy/xBusucpbIBjUnHo0AizAqMZFOby5mzTKRz3bJLTLO1tYanR837n7V3Srbbc5sMbhn6HM3ndNOGna7bDZhxOxo1xtZmpJI/Dc6W9eUlBDshsI8UR1N9Ka3VYnup/g778xmLqgfl0Ni3oHHzYgtjBeGuWMdx0l1QLdeG2Qr2Wyxo43UhsDutGR9hRU59eXu2wgDnlOTKuZX83dd+EhifTC5ywUjDl89wQMzHUa4TvMYJPjrDs2N+CqiZhokVeuPhNcilzMWoLCgver76SYZ1ZJ/eYyDANuisWuWyRWdK/VHR13/xBusVo26OkyRXMfRRxRmA1q8I8tFYy9bXOwe/fF2woFVAqzF0p/CGJY3Uz11LXcs+0I08tFmJUrhZSPO/xoAtP4zmK3mxczqhjymDZqN9U+9OV707T++ynUC96hEufhKiksg0z4QMagZQy5xpUVTVvnf2jc0xschFakKx47KaOVmoSOEBQSYhjQoYAM8udERIasUOQlBV4B7rDoy9AwU5rdwOnmUoyaRJhHx9tkbxAuzP4CsP/MZySDYTy8RAMVZCGiUe4d2RA8+W5qkRgviFHb2n8aT63jo8th+9CuCfHEy+kC16A0spDWV9JqWQl6TxAWVrv4UyZs0ykc92yS06POad48lTxTZQIzGAsOXLHeE9GQqLYf5hfH2nBMn2DlJsv1fAW5MOkXzEDDeLjU4b5e4a7gLKQfrxy502k1hfBHwBHmL+4tzS4pWI40Apx5kvPceBqUwKxYqnojgOMTICI8+QcTUX/vXaBQ0niv86YdDAysnW1+A0Kj5r1ZeJk5hAkMR1gnCfYHdFImxCzAob4YFj3qkX+2FrpYHHUhvmeP9Ffnc4Rkj8dt42RNZLY/xV0quT/HaIvcyKWMl0yEea2QhSxtVGPa98jzHpoi4tA0xt8wDB3CSyZs0ykc92yS06POad48lTxTZQIzGAXyiuLplj25ZpyWM9+ZjlOKoTO2ipfuQOoLYcdIy26hLWS/P6p96cr3p2n99lSOwn1Aj8IPKEonhvZYzY1AyhlzjSoqmrfO/tG5pjY5CK1IVjx2U0crNQkcICgkxDGhQwAZ5c6IiQ1YoTLp3X/O2tPpl3FV6mKf1XsfjNhLqpfreSzAob4YFj3qkX+2FrpYHHUhvmeP9Ffnc4Rkj8dt42RNZLY/xV2WjC1htCx0dd+9Rbvzh9a0P1E+SfeXCm8ADgj+gN7zhmR7gHpchO57oEe80BfXS/iFN626M7zZdsTSI8k1gUIszeMQ/289Yh1sPs4bu35LvN/nrUS62O/CdbVvu36pC9UoF/bFbUHQURw+C+WEZJt+MD0SOUMHnlvQQ7TGcUejrgmwBImtEBsOwrPRsw9/MYMKDoKDnN/eu0ChpPFf50w6GBlZOtr8BoVHzXqy8TJzCBIYjrBOE+wO6KRNiFmBQ3wwLHvVIv9sLXSwOOpDfM8f6K/O5wjJH47bxsiayWx/irpVcn+O0Re5kUsZLpkI81shCljaqMe175HmPTRFxaBpjb5gGDuElkzZplI57tklp0ec07x5KnimygRmMAvlFcXTLHtyzTksZ78zHKcVQmd/af9xkUiFP7IslbcSVCCsewaRVeoEe3Je6hYitzwK8CUBOpNdtAKcKZnld9VF0pV2NoZMRqp90ofXsHaGxNcIUCOPaWU/UfsiRsQKCcmFKrySrKWue9Dcxbvk5KzGc/2m42uIrSiQy9uMd836N1NB4j7uT45GsQ6/tLFcpRCJZLQGCUSlRiHoZ8GLpmIJNjL3H/3MZqnkQoGBmAyhAu3vccI9z+XFSNQ5Nue1LC54zH0L9gGxclzWz75NJH3zWB+7j0PUfl3hnxXHJIsDeyRci2DB8pHXYx2NxUrP0jDgjiAzvb/ZMcJ6j7hNIBLON8eUOFoOB9mX5lpjOg8hP8MnVXz+uLTlwcbTnUhiAg7SlmRVAY/JRql3FVrA1Ot4x5uUBjyzUW3gEgYTW8LBCTYy9x4LrDqcIWlMDTHJLq9AKNGC3YI/1hkDpAzFl5m7LPKBXE16FYIzpnRUs0JiH/oTI//19rz7UNQT4fd3OdHsL84h0k2W3wt9I4wb4Hp0RojeFIZpV/R7eljNlsR1IMTyPq6W5uKvT5ZRWzHyYxx5qpfJNjO+kkOdza/ILepLbnUqorr/MZySDYTy8RAMVZCGiUe4d2RA8+W5qkRgviFE0HJuC+7T3ypWUooT+EYn3+57glJK7OMTtJmn3/h5+4nDeYHE0isZetrnYPfvi7YUDQYIzOAPxWNM2Y2F/7ou/uJ+0OZvO6acNO122GzDiEurDoCUdVfZLBhhvFxqcLOWo8hrHG/Gl4KTax1M5D0QiSRMvpKokf/9fa8+1DUE+H3dznR7C/OIdJNlt8LfSOMG+B6dEaI3hSGaVf0e3pYzZbEdSDE8kW3svHcgEdwYqUsDolMeaqXyTYzvpJDnc2vyC3qS251KqK6/zGckg2E8vEQDFWQholHuHdkQPPluapEYL4hRNBybgvu098qVwITGkedvv/ue4JSSuzjE7SZp9/4efuJw3mBxNIrGXra52D374u2FA0GCMzgD8VjTNmNhf+6Lv7iftDmZQNfAssKKH8CM8B+Qsz5b2bsvWvIWt1ZjFETob+HwtRQvjkaUwxG/YxwPIjOZQEzfBka2N5eSESIGg28TZbMh+PTAkZZBv+Ylnaa/VqeyoOQXj9WUpalXxEjdkpmUo0hx3zb5SiTVwJ5rCtUq6JQdnraRJRz06QeS2TD3fGSQYu2wvj44gJ/2qe3MlIF3kJaWOrqg2upe9BIgUed5HKKZqm1Kv7B6V5llQGbqoUPhUNRcz8N7UW3WDMphSgMp5e+WZ1SdRE7xSt5EwOjq01t6jm0sDWnP11IIWd6cEMq9D9jgvVo6rHwUGfBhMvw4KNR/rDIHSBflWijOALKQfryBBMOvUIlz8JWEk/q1z/+vtefahqCfD7u5zo9hfnEOkmy2+FvpHGDfA9OiNEbwpDNKv6Pb0sZstiOpBieWA1R4G6zvIUVhg3ZDww/SCyTKWwlMjDGY08PfWN8MCx71SL/bC10sDjqQ3zPH+ivzucIyR+O28bImslsf4q5OpvK7mxa5bJE3Z81MvbGj/Kdh9Upx6lMg0hfFiLqFTZDGU6nwJ5+wm0DusGA+/sX26jy36z7SAXUxgzF1VHqKWmYskebkuIk9UemPrVXxeZuH6QWw46Rlt1CWsl+f1TusKnDzT++y1kXQuWEZJt+MTZFGahPV6w6UE2FSH934/hBNoD1kA1DanuMWmP2GOshTOZZ+mEXAVbwiAKN/ACWqO6tDn4A5gOBHcGKk7xnvKP7zJ4XJSjJpEmEfH22RvEC7M/gKw/8xnJINhPLxEAxVkIaJR7h3ZEDz5bmqRGC+IUTQcm4L7tPfKlZSihP4Riff7nuCVIdCUNe0Jx6NAIswKjGRTm8uZs0ykc92yS0yztbWGp0fN+5+1d0qnAch/VS+ETy7xJ4875JuYnp16fye1/TgL477ejv7Urzs+/j3hVuUp358AiCuRdWhcsIyTb8YHokcoYPPLegh2mM4o9HXBNgCRNaIDYdhWejZh7+YwYUHQUHOb+9doFDSeK/zph0MDKydbX4DQqPmvVl4mTjqFSNPm4ALniIN5vjbZkehvhgWPeqRf7YWulgcdSG+Z4/0V+dzhGSPx23jZE1ktj/FXZaMLWG0LHR1371Fu/OH1rQ/UT5J95cKbwAOCP6A3vOGZHuAelyE7nugR7zQF9dL+IU3rbozvNl2xNIjyTOQzxDYdADD85MjdZBjeVzrFXUUr+nAXx329Hf2pXnZ9/HvCrcpTvz4BEFcjPnRLnIpR1mAI8xf3FuaXFKxHGgFOPMl57jwNSmBWLFU9EcBxiZARHnyDiai/967QKGk8V/nTDoYGVk62vwGhUfNerLxMnMIEhiOsE4T7A7opE2IWYFDfDAse9Ui/2wtdLA46kN8zx/or87nCMkfjtvGyJrJbH+KulVyf47RF7mRSxkumQjzWyEKWNqox7XvkeY9NEXFoGmNvmAYO4SWTNmmUjnu2SWnR5zTvHkqeKbKBGYwC+UVxdMse3LNOSxnvzMcpxVCZ2zGL9XwFuTDpF8xAw3i41OG+XuGu4CykH68cudNpNYXwR8AR5i/uLc0uKViONAKceZLz3HgalMCsWKp6I4DjEyAiPPkHE1F/712gUNJ4r/OmHQwMrJ1tfgNCo+a9WXiZOYQJDEdYJwn2B3RSJsQswKG+GBY96pF/tha6WBx1Ib5nj/RX53OEZI/HbeNkTWS2P8VdlowtYbQsdHXfvUW784fWtD9RPkn3lwpvAA4I/oDe84Zke4B6XITue6BHvNAX10v4hTetujO82XbE0iPJM5DPENh0AMP5bdron8rmSDcQqRY37JyWtu5Gs/lz0AbK706jYU+5QY82CHFV4m/8kPXa8zQt7WLxvcB/6/BQws2cCeV7xgsz6gRu5o4Zp62SwLgBbCCosP+PATCToND4VFbe/9BSEBF72EXvvWVYLWQjQsnFA4HTzKUZNIkwj4+2yN4gXZn8BWH/mM5JBsJ5eIgGKshDRKPcO7IgefLc1SIwXxCjJ1aqmqJ4QaLfaiNiI3z+egtOTJxSWusj2lJbCrvhJyvmWFazMjQFjsJYYD0zQG9RpVVf+r+zerHYc1UKhUGKFAF3kuQ3R2UuTAi0jVxoRCGAECSnARE4AADcAAAZ/rFfaC/8iHV7hyCZ3ZmB3cjiRjD2QF3EvAHetRrXVbnb9QSaWh/0bOsP2A1844Mn/2ClR06ojJhFPPdYVzJXcAF7AZJw1nRLnQHNW/x2/WEvm7c1lKJK4ScPcu6k/viC07jqF/bhc/vEQ+Vrk8WAA2Q7wiGAECSnAxEYAADcAAAZ/rFfZUeixTOsuVP08QZJu0xYc2cN32pFreUqsPr5LvyHc6v/p4GGquzd5qWAf3GLtW5Blct1WH1ItTdHday+S4fhCba0TjNI98sauy1alz9+XzqSaR1iwc+yUxSmUfRGLnwa6v//14ykdGM99lCqg622g9VVNhRJnzd5IfgF/EqftJP4H5vgFarT8vx/XM7d297Nc0sPEQvHoj7nMZGm9+YyB9/PBGjioyhwR8AhgBAkpwMRAAAAyAAAGf6uGfSAIYAQJKcDEOgAAMgAABn+rhn0gCGAECS8DENAAAMIAAAZyKgQK9wuDiDwTKu0ERWqH6UbfFojRARrPFh+AZRmg9w3/95K5RC9cUb8TbsqsKFZabQ2SXs/pr7m+XyU0HfsE/wbejBqT31pHlyedYg+B0NdhPVzPasAP+9gcVezBaUDeXl3sx36q74xOGKevY2vdo3P0PkKW+7zudzDAXbTZKOMAq5L8vbIf188Nx3jVKJbYrAAIYAwJKcCEGAAAMgAABn+sV9veYxh8rODYojfw6jYXU4RhuF5afJUW//6yhD/7LKojUtWT9CVGfuK9/uX1/1sOVHl71JX82IO/vGcSa4gSJsPm/N2X1tEZxVf/RJ7cuw/jFrFtQrbccKuTcE74t/4aZrbiooXF5GO382PcGPW7S9bNYUIoP7FZdzeXwpX8s2hf6v5afNkMBZeiRYhyOFjfgsuQbGcyau/UpZqDChQQ1oa6tnfP+dvjwAhgBAkpwQQwAADXo/3Yh8woa+106AAABoDX/4li67FK8WIgytA4bv9GDoZN/Y4KzrXG1ghhWtNzwPeTCvYf/ldibRIvCaA1hqm8daCxciONU4UkdpLnhyThRsEfC2/rMhOlkan9BD2U5z/UiWTFF89w6Oy/ErqhqEaRsV0wjaevdtpRq/fI1OdYvKs6qLIIkFCNCc2rEDk9U0WsEfC2/rMhOlkaoDSgki+UUsiWTFF89/LKh+zJpPai8wL1yxNP9uJTcSVrLsW+fSaZKJPy6udFWOTMpsTLa/wXaN1kuaDzKcKOZN79LwK+oxHR+YqKj/iHIbJyflLrDgAjo0ZRLSrK9Yv0Ff/oGVt7oozUfKf613vuiY/vANEWqyehDSRXBLyU6kx/W8ncp77YwVQMbDrtD9f2O5o1WLBRxBkTQhClkHfULQauAMNifn1jFx0gRpTcKQgiIEboWE66QtZireiTZrXXJAWK0uSi68qOF0rlfhOfWmvVkAGkfPr3UlK6xFzWO7F3QWoBMx/+Yzy8PUqN2rthTV/MAekQ2tO6cwoqQMzzUW4EaR9HMcxEt6vCl2srH0uOzQ6MNAh3hAhgBAkvAhCwAADCAAAGcioECpkeXDOCQqsigJ6wNLiISYeo/tk8J4EUvXNHqAqRGETTgutkWlT2dJ6R1eMVVV//12vsBahmYfsMqjA1bf0nr8zDNuEU//b2kWCP/9gOl5HK01B9zBGsu3aF0NTvhyuhD6Md5ekcJqcji6bczvjRQXNAl0Hv2Bbw2Xf0B6WbiNpEZnNfLHlCrY13iD/8MXVFy97QL049xmN/QV+qRAhgBAkpwIQoAACxIyhPA2A9fioAAAZ/rFfaK2ge2e6Nk+E4kbFu8HeY8Jm/sK2wOlOa5mJdZ78EkSkI9LrPMWrhi8XiEBn2u/azLwA+sMpMsnqhX+2CN0vXjc99ZWHr9/RAnv8pQtaFiTxCnSuOrZMwyvO49+E+8K3YwJ4W0w+1N+kci/+fiH7FqC06xV7HXMV3sGE0A7+4J3bY9SYrjy30AAoWI28hs2Aq6NF1p9Sy6QM/y1lZUnkUlYJ6qsSGNdfbnOzA81k0tFhLFHqSuwVQjO7BK1OrQOGn2GsMZa2NT2pOqOYhN5Jam2ukK8KhjcuawE2jafluOH1FHE9hMAhgBAkqwIQkAAAyAAAGf6xXyWVL4CqxHcAflZy2ndOIZq6WvVquwaPEKaeMv0HCt7cnZ4KSsKjZ+Ebf6Qakgo/2dKxCSG8RmjVCPRkf7CU/tDTif1MNKy1J3mwWQLZG8yQ1U1cinwN0OXqkvg8CMh9mz/9eSmL/+k9mwFp+tv4zfd6lMafJDP/6nnUepPhGPctMPvEm+Wld1iKLTmZgOQPBNjiW0uwwaONY4pLPXEbv67lo+rc1aQOC6wvlBPSYxX90Tv3WHPgIYAQJKsCEIAAAQmqgAAaTEO8ly9g8uiVmrRa0vG/AVCcd3TpcOr4EoY3vzCKJsGphhjQS4loBx//Wf9CvfncXgykPZz6Xa/LKTZ+MS3JKQbUYFWU04SztaPGmv90Xb0lXEhF+AQui+HYLS80HijqkJun97oMAFc77dN+/MWf9m+PmAWVZDaL1jH///tirhR6HGz8haw7Ed80RQlrpJdKGbMslnT0SLv1U//2m9vuDAiU+Dd9X4tmhBU5X+HykTq+826uQUoN3sS1sjNSfD2WPdeE/zGfoOpj0VHUkWDXmK7XmVX9oJJg0IAD/AO9gQ4JBwYGAAP0H/d+jx3M/37/yfm//V+P7xP5/mbq98X9of7vv1fnfj9g+T+z436Ptn/jfTfO8f8j/5nxP+u+0Pxfu/d8j93kHrPuY/R9f+L9P6P4f0fv8f/w3zv8b/iP+u+xv84pKPPq/S+0/+9/bnuvqOAfM7T3F8/s3z+qe6+6/WtR/G+f73sHz+qfD6d7TVn0Xvf8k97/vrhPWvb9O9ReP3XzPdfuXwP6L6p67d17/je0/2D7T/Hvh/zPrvb+TnrHCP2P3tMBfbPseON1H0roXsW7vTe5HsXT/kfs+J+b4X+GSs7Nb8/p+Z+f5H6CMdEVUcRO0Fv7r+f2b5/VPgbsAWcgAB8gcbAAr3gCF7RnlVoblm+7lqAaCndAvYOsdQrRHqWwdxji94B4NktMNU65TOMNP9Ekg/PbKxHigEafVxeiqJj1ibJ34pyDLgMgzDdp3YEprRsvcwsFgQjdpURBeEZb1uKxncvi2FUMssCaIsUTfrfDctYKpUExKEKktEYsymJvpl/1HBM135Oi/w4wFAqyYf8qzE2dswnvTupb1eJlhXL5ZUcznpFQW3y2G78tl/XSCZo1bRFHFTuMuJs0k134jZia5fD7ooeLN3MXOhhaVjhAB25hRSjf+FuvWN4F2Yi00SPQ8Pd6wtgbllKH68O0iSrhMemqsVun9g8XCYnD3VkZHCs5nAXY8oenqPjO8nLQWGBe3sbXwBZ5SQAitsFQ2YZhtUTRTNnwqMmIPXxU6jaBEiDGYN1qku40zztxU4sbrSzuC7X0FurLTHEBC44Mrx3Vt6Lh1tB4EjbafAldSliJalBSTT3M7hMDtUja5ca3cMuiDsIYvH0BfSO2SE+ZmDyDf+yfIKX0XselyultXk/ep1yNwPuGBjzOEGTTanV+Pj6JOHG7F5LIIiIuBGnse5qL//1oMUqp8dmwyAjeSuqcjOmrRCcP7b+7QuX6lpBtiLrpI7yaJXT2NU50T99clVbkPjTsd5n+pkvVHJcH6ywFKEVuFUqyy6gR7E7RDaTmkf6YqwPt88dtqS6qPdeSR7OHBukk4Z7AhvJOQIbRpS8OdNnN+46dqtE61PWoh89J/uP/+n4pau7w8eBzg2k+f63ZRrMQijHXewKWovtQRqART1txbyyDQbTJTcyWMGM3c5/7oPOhK2/qQSbFel283Yx3sXkZL5K6g+n2DAdbGWrVWgDDIGSxNf9ezPnvntbOqs5I5P/tfEcNHOvcC/e/GJaHPBnAJPA16Ln09lFq8Ne8SLvz3tvfUVf0zQQgs0ezs0JienJzcl19uvkMt63FYzuXxbCqGWWBNEWKJv1vhuWsFUqCYlCFSWiMWZTE30y/6jgma78nSKC3m2fko9X4227d5uUGVpyKkFYUMZ3PkIvnQMoS2VIoKBy1Ca9bgsR5ZZ/yBzUPC12W7EHgIvgk+O6UThrqcBjQP8tLfymysDz/NL/4AgPeA+fWvPIS7aVPYwHwh+J+1LzKtD8TkFnqScT34JNI9bt7i+nBoZj1PEf0CI+XXf7ve2x4wyz6WmuXAFrYvpywIrNOFYe1R/8GnY/tSq25JM8GmDBXflswCS0c9+BIDr61uzscSMIkiHJ8Eg33rW9X26Ap7kIbEsy9cbFZun3WAB9m6Y5RK0y/6jgma78nSWoU33Ncm+f6GwK3umaLTkVEzerVrR1nI1L6TJkiyfUpMkvM7Q/s33rW9X26Ap7kIbEsy9cbFZun3WAB9m6Y5RK0y/6jgma78nRvJ4McU25Y/+hsCt3bNGG574bEKVC/onSPo/h6q8NwMyyHLTt1l34SgdoKRWGpkW0+aQ9ZK8K4JUZDrQZYRGT/yZJUijh2TH7xgATsd5UGX16R6hj8qTnaN0tUxpT/R42G/qiprr4Kc/ChrtfoKViUTwgiQqxYT+IHCu4TZaRj3cWEC3oQq6LGnqSZdCsgcE/XbfDoiX8jNgenOGJYYm6T+FS9sQLiKZns8vmme+ITsAVyevawLH5ePKtIVIlk7YIk3Fhgaz/4ObRRF7Z79HQzozWCvu5lUSn8XU4ch3P8Ab0/adKUnjkSno/V6ys5B5/1kn+iaW3KzRM+l3FspLv39wvJC5xrOthYuppDQRVkbmgPHQIxp9SUGG1Fy2TIppxFKbExd6Htj35kBTe00pKeg9eBFi6BAh/khrJxv8nkMRd+P7gj7KwCExydyDRTSJ9Vnobc8MLbsE8j89e5UdyC6MAcqxkIF98h87bgMS6hB5s/8brjQUN2WjLUH3RQyeOcWGv+q5QZtvgj+bYygG4Rx8if0Ct0hMh6amaMV2RO1opHtYFj85M8far8lgFVLOl/3Ka9nsj6y1HaVGKzPKTBeE7hXYaf+lfqaBlme6a+dIRtdlI8wliORQ2HEzSq47rzo9lqKM5zwlMGZtjoDK9zK39dK/ifcU8SF1teOGzWunY2PKoXl5o7CtaQmXMG4pbb2pLaCy81hWhk6jY1ype31mEtZqawZmMyy9SVW+qwgNZVdI+2dqnVey289SEaVLI23ZY5Ccf1tKWA5i4h2XaQ7XUUU/bhiCeZQxXmeBwSqXq0eZx7v2Gsj1QIAEcVkUtLM33YjOBXlr///wVAmvBQD1htgnY32dC1MmqLlWfBllrvtgpgGJd5VCy/ctWDENfHr75ce/vTNgCfTYxyDSjHaPpsFL7UR+X2A9qiFVUj5LVEM7zqW/3eyc3DdvRJWS4+rLrq/ooQ70T6+TneEdYTi69mk6UfkvdUcCKoJlpiW44L6z4hy9hmq8InKhPD/UN6NkmO7BZHZHEF9avgTrmbzgYe+qXU/i+4fK8lag3N+utB/5Rfbrc9kfK2WrvWgqQMilxWFznl40M7OM7rB8clqE+Q6qcAN1MwlJkn8/xi/A96C4NAq8ape1YofdaeKzf9w7WS6kQIZSoi0DeRk4QYRM+nJdS6uslzloElPppkA/ZbntiiwaRQ8rgSlyUklL3pgvJJtAlvI9q9byaScWsOufVZDdUCNnY/b3kGXo20TSF+NSxSpiATm+roJtwo/Z36Q0BpWy/4WuU4rzRZsbW0PcqfmPbXpcGI7a9O6ZNb2XhOpP7tn03/PReZrLnzaov71PBBMu4bk4y6OUjwalqNaFwlU50kjUsTcyHCGlsdonw5UG+wxlLznuSj3doqd8ivGwwsrVRgyqNdH2vno9ePcU1I58XqqiPCvjd1XqB/pEIuSOr/rikyHm4JrMHGpE7MwNnciwssczPb2yI7fBWvbYdPf9+9+IlFIRSlckrRbqviAmR7ve7fEudHuEmV4EmBHQL9HPD8GxSLfqUD4RymRr3iMQBIeDNGerV0o5dfm/XDgKkcyf0EBZ+YIenPEcIryn3TJKQ0WFVk4zbfzzIlWqYUR2pEs1Hrvj2I/2npb1IigL0Fk3ZF3vQx6K3GPy4ipGOppfZL06Eoo9bH3pSLYvBx4WBuzoLIj+XyoZpNZJUTr3l0EbhzMHgrGL0G3ha1Irj3yqOX/UTRn2HGspTWAPfgxCJkduGlYK6pNco7MUEv1ns0N7FEtP/8A+dQJuFp/i+K5fpHjCWdE+V6SYlAqWw2FUZ2q9/g7yI+Rq7WvVI2zoUwDVTeNdNet5AX1XHw2ayN9OCmnnGv74EycL/6QrGAcpnoIU6bfCsFqBHjaVUJe3wADlx8qsfaUTQNPjyjnj09NM+4TLH6BtKCbiItDNLWOBEkxP2zm4yO+wsK9IZlXsw6s1qhouuMTjTc3BH0RabnqC3KLTcgZu4g+RWhL/1u9vdYvHyPsxtJ3mHL52ddpa1R6kg5GMQNvFtVImbPYRlY8EM8CSnqZ7WtzAlHAu/CtybCjX9uEpj7XDmVBHywl/5mS2hjBT1LnqUjjJtwG7wLqZEjQT4uL1XDSiilIaKmMdwhci5th+wogZkMjH/qnBMCLArIQSMZxRLaVWXJOsVcXCO/Ax5BVbR3wSIFEu+yEUFLkczBCFiYF9ZYvDJBGR6IyNDW6EIAF6mxfKnwaBbmU57XAtDHfpQ3mZwCkzQjVY+bZrevv2SXVHrlfEDlV+80twXhplmuoamZ861N/39IWdOw9ghvEWuNdweYj9EHO9JhaTTtDHJRG318AFTS/G6zoNnPJRrbiqFO3T1h/2IJDu1BPD/sF2gbiL9GxSxLsgui38WELKMNXH3zZYpWvrLZucDt36F1xmRRwwBxQ47aT/RBhjsR/ye0jJaL0Xf80CH96JATJCy1dLHrtdWvZmHYhw1agXzFA7AQYznAFx+9XhoiygWhuhp4UAQCx/dc645Qhwp5z1C9x6Bi582j2Mt+Rl+xzfGSuL+lNE+ZsfVy6R9mWxHV44cFdqn/xYeOTLj21S+zCFJdr2nP+GKjbjiafjvMa1by/4FcvZhyDR/UFID3TtPzOaVbVCvi7yItEd2tci4fp6ZN8sptVoRvyE8YRkeiMjQ1uoxuPW+QEjGcUS2lVq4g/FzFRFsDrDTUm8mOahvQNgR3KiJ1TtKP/MjSQogZDAjvwMeQVW0xb1NgBwRQUuRzMEIWJhTbQSKObONl23OipmcY/ON3sXy96lUCQjmmVl24rEy/pKJBIlx3KACTvJ/SIBx6fDYEMFAh/ejqkL7C5SWL90CnU/PLiKo033etRfHblXssPqVG2UIzOTZMtO8pV4nQcWmYekbfsaeeoq8xr1T7kXSthaaNbQKfQF3Ndpfu4f9Lb8C3DTei3cTdWu03DB8458fmkqnmDoUIacS31J14jnb1L6YOSiMQBJL2Vfly8SHlZwtkS723DTzjkvJ2LBdzPSIGmYhfM2IjHjzrngw2petnjbSVoF37/NMgXGp5NISaAywy+chD/t9i3im0FrwVotsfmdnklsFxdNu3bL6v4XxsFJmnPC/k/qG/wl1LvMDOq+o+4niJ7bJIdz/3+zmIGY5v6JcsxVFLTjWl+LQ2+BKF8fHBMfPNyg6ks21xzX1E0g966URdsOzqlDvn4QxvlpV/QCjrDvEmuVuQp4V1S26z6f+KcFtEtdvXdRy9vUoGDPTOqmM2it4dn3Ry+wt6z7++i7IQX2WdH2/QQ/il4cVkCAUwIWiBvSpBvv1Pj1y4TyOBApT6WRvwHkXVbkygs1YXaEF0+pbEnGuH7HANthqjVd3P+hquwdF9Dc/T+4+FQ9W/ObrMBNJ3glXSHPvnc2NWefpOmnpBLia7mysh93NP3SDvhyPmyzsB3gcpS9Uo3pkJUPXL2yNalQHlhItVm0M2SLZOX5ozYH4B6wnTJ35WuylJ9+iYbbiA5JX3p1tef7sySBcnf2LYcjg/ndwd2A6EA1+YGCw5s7Dw+YJCcpGOsZGGlucLUDo5CkP5AyVDYK9EJN1Qtw8Hybqum6Rlrez3mZgYAZ0a2Ik/iRco6x56zcM0NcvI2jzhkgu5PUR1h3oOzBcqbxiCN7mYGj+4HVD3C58hRd1OTbqeDHZ76LB0QajbGd30lLeTuHbiFkHo6vPzBvTxAm0jsC+l3IQGtAhScVKPgTh42v0ShKgDjb1BjbxoH6Gx+ozT3jB3o59Hw0X05aSeNXm1inRmThDlK57BSEGy/H6dCrGvAO9q4bYv2k0CFbVgCTBakecH5DXDkfb58MzdGHo5b8WQU5iVcmY4XmG9YS+xKk8UO+fhDG+WlX9AKOsO8Sa5W5CnhXVLbrPp/4pwW0S1/6XseX9cg2BPMSLGgCLEuLQM74MYVRtBmtcgY/5bPaWK+YkDUbEJRpVOhuAvZLHlyUkMCl03kVXSdiwXc7wFU4wHkXVbkygssVJejO0XDfAYX+43tkGsEGFes4p/0je7THOAZIEOEoVnON8LjHTBf8dRyeiQwzz7SPg/BhEXMXd+elCG9/oHgsHeK3tT9u2ntOMwQaipviWpMsN6ZCVD1y9sjOEmUsh21Q3rUFyPa3h2mOQPkAPydqO4OxnvbHTvd6xqO4yIizMGfhhH1CwPgdBnHUHuQjWUuRk8cGlGzyuPKIork4+zFEwPEj//upktFIT6eeXN4FmySRk5U9PGbc+tEbLUmvSnJR4kKgTN1240UA6ze2ywp7ZXjaCAW9Y1fyvfEIw6Lb08lPuw907M9NPZ7ySngzNNd2RCgxeEd10FH55J2H7ADB7o+Qxuo5a2a0cwj6DmY769ld0ZiNWN0pbLjz6w3Ts8ckeCdG37BnvQB+8TeU5P82S0cN35vhRJAsuaiSIhozcCjKNszsMEr6sz9E14GPbx5XT5zeEApomsp+XNnMpJfrRckWS/vN5ySoFWati5R6R3QABN6V+j03S6tjTC/1hqAjvtw6/HvsrUuEbPr1QuH/5pick9yykZpzvKcm6ERuvkYoOzGGl+oGlOSjxIzKczsuKx98YjKy7OFsiXezYL1oK9dqeoWGOxrFy8CyiMABxbuVHqiDRCQ+OdpN98dUTWNKiaBZygS1WQ4/y9udPWmExPSUfkAGfN8dRyeqjVDuE1wXts6ZAR9Eaf5yE0Mxg9Z6l3mBnVfUfcTxE9zjaMS4zktNwX56pIw7rN/p9ai5Dm0cTZbJpybQF407uetU8CojyigelCc1ZqEPY7cOTR8wiPA8Nu9oR+4phziPwMg6WtmN/wVJSa42uCGSK2CMxz6S77//7qZLRSE+nnlzd/88VBKmGqdM60/TLJDSg4CXx7DGJ0kC/pi8fZ+WB4+xtt37HhC5utKCR5bLYnceHnZ4qFbQWlqRvyz3klPBmaa7siFBi8I7roKPzyTsP2AGD3R8hjdRy1s1o5hH0HMx317K7o2m0kgop059Mu3zlULPU3nq4VmMMVSijWMAvKRMOjhu/OEUkO8O8/ZzEDMc39Eqhtw35C9OOP4T2b3rmfDF49A1dnsU90keha9sNMer5+p20BsGeefDQ4SHdSmH09C8AcReb9YV0ZjGbPgq15BYPqhqwn1b9Pf/3UyWikJ9PPLm7/54qCVMNU6Z1p+mWSGlBwEvj2GMTpIF/TF4+z8sDx9jbbv2PCFzdaUEjy2WxO4ts/29yfupCppEQCZqJrrcN8Bhf7je2QawQYV6zin/SN7tMc4BkgQ4ShWc43wuMdMF/x1HJ6M+KVBdAkZqmb63+Gi4rCweu3hQeIZoUyQFrLykTDo4bvzhFJDvDvP2cxAzHN/RKobcN+QvTjj+E9m965sShht42EgWO/rdtd716pmOWm9UInVDsb3KNhH1CwPgdBnHUHuT3lsXIyeMMK+lvRE1rZgFQljnLvv//upktFIT6eeXN3/zxUEqYap0zrT9MskNKDgJfHsMYnSQL+mLx9n5YHj7G23fseELm60oJHlstidxbZ/uAqmscpg/o5gPx46Aeo87lMqHAZt1lLSBbRwvm3zL0vrPxvOdEfp1GigB9oqsHXSg3flVaeQyI9fWD3HLc7+qqJir07x0SHkfkKqqc+BOS4oniJ7lvPO6y+wZDx5IXOGNcyFUFGZ8pSR9HnFndWb7Ud0qYqjnuOLbVBhpeY3DaZLnuY5RNoJ+O8xrVvL/gVy9mHINH9QUgPdO0/M5o4be198zs+VvjgbwkT6Qge4ORRpNBeW7skyQ3LJcl7MOQaP6gpAe6dp+ZzSraoV8XeRFojoUTDviCFuToBJBgWB4bd7Qj9xTDnEfgY+D08j7SDtDg2Dy2aP/qugK5rfPAJHb1KBgz0zqpjNodaY7tCYPShIuOxJaVEZstkjVIv2XSv6hGSRZFk1u6BvSpBvuPfn2vgNwRW18q1uxpAqk0wLS1I7zvRyIqnZ88h9pgUmEgM+t63AnEHTBmxtfQ23exUlsarMLrZ5pYPvs6rFdxYaGANVs3No39E3HnpQ/yHhXkqgj4BPgtZeUiYdHDd9ZTdaGtNwX56pIVidGeP7kngyaUgImr3iFpHW0oqG9uMrXrD6sOo9QAugDQ8X43jgxnLJ513xApTD6eheAOJqm68Hgi3+e1Xs48SLDr9o4VcxfwCR29SgYM9M6qYzaK3h2fdHL7C3rPv76LshBfZZ0fb9BD+KXhxWQIBTAhaIG9KkG/GfQoJGg4xbwJbB5d21BWXaWGOIDIxz5zKzO7YGnO0m++OqJrDe8H8gX8wyoji+LOxsF0g4203j26qax7NBT2RKe+fJjwOHW9OIYnE+/W48vCNc/z3QwaYGdV9R9xPET3KmPMDJv2I4mmIHVFvSRS9/7nE7V26dms5xLR3RiQT6yR03EvBR00g0ydDg5RtG/tk68l04dCUMHIeWlcBtL/c5/ooJ5xFrKTZBaAvB5cSmwZ65/N9F/XINgTzEixoAixPbvpjeqYVvLYYuyvQS0F9lnR9v0EP4peHFZAgFMCFogb0qQb8Y1AUbAssg2zSjbtjwCe8SURf/++JM8GG1L1s8baStAu/f5pjbMiQ5elPMeuGfqi91rqTS5ZlUV3S0EiA59ETz2wB1vHwI9yT10NsGHfsZO6OPFNTC6utJDikseQhSeFkTUNXZgb6h4BuIat1nBCblJ/HZZxqvT2IluZRBAA3NV3oLwwvmJLlaydTmtyXYM2w9uxjLSYA4OSLzRXOBzrqyx6UiG/d+0OwgF6G2XGIwFwUGIASO3qUDBnpnVTGbRW8Oz7o5fYW9Z9/fRdkIL7LOj7foIfxS8OKyBAKYELRA3pUg34xqAo2BZZBtmlG3bHgE94koi//98SZ4MNqXrZ420laBd+/zTG2ZEhy9KeY9cM/VF7rXUmlyzKoruloJEBz6Innv0DvDSqbdp3vwkvEabo5ORs5+sd17dsU5X+wvvyCMyfxCIcVfUFVBdQCVLaHLZLfVqQCjYYizwxsjiA4/E3h3utZIeds5uZH4AuqWBCIRY/9QFaEE4+qnJqDDnEfgZBgN/+UVwxUyjb2SpT6b8IGVY6+8///upktFIT6eeXN3/zxUEqYap0zrT9MskNKDgJfHsMYnSQL+mLx9n5YHj7G23fseELm60oJHlstidx4ednioVtBaWpG/LPeSU8GZpruyIUGLwjuugo/PJOw/YAYPdHyGN1HLWzWjmEfQczHfXsrujabSSBrnZhc84ctXSVhVlwsG72B1mfSGVz4E5LiieInuW887rL7BkPHkhc4Y1zIVQUZnylJH0ecWd1Zxi8ad3PWqellg1KRERN33C+t8xTq0m/SLyD7i/h5CRXygw5xH4GQdLWzG/4J9HvkSFdNa+9T1sChj4kf/91MlopCfTzy5u/+eKglTDVOmdafplkhpQcBL49hjE6SBf0xePs/LA8fY2279jwhc456LB4caOuy7dr9nK9G9k4P+YDO7UTXW4b4DC/3G9sg1ggwr1nFP+kb3aY5wDJAhwlCs5xvhcY6YL/jqOT1VubsM57QEGR0PY1WmCUWdLGsxhiqUUaxgF5SJh0cN35wikh3h3n7OYgZjm/olUNuG/IXpxx/Ceze9c2JQw28bCQLHf1s50qctGPpA4Qa6mHaCoCtCCcfVTk1BhziPwMgwG//KK4YqZUbVcEMkVsEZjn0l33//3UyWikJ9PPLm7/54qCVMNU6Z1p+mWSGlBwEvj2GMTpIF/TF4+z8sDx9jbbv2PCERzuUgTYfMyvTmxKUxuGJnfUZhVDJXpwSpLKXwv9xvbINYIMK9ZxT/pG92mOcAyQIcJQrOcb4XGOmC/46jk9Vbm7DOe0BBkdD2NVpglFnSxrMYYqlFGsYBeUiYdHDd+cIpId4d5+zmIGY5v6JVDbhvyF6ccfwns3vXM+GMUKnj3KLo57/OIpo4aY9Xz9Ttn2Ve7VodCUMHIeWlcBtL/c1OX6wrozJJ9LEw3cI3AF4N3KoDLP//3UyWikJ9PPLm7/54qCVMNU6Z1p+mWSGlBwEvj2GMTpIF/TF4+z8sDx9jbbv2PCERzuUgTYfMyvTmxKUxuGJnfUZhVDJXpwSpLKXwv9xvbINYIMK9ZxT/pG92mOcAyQIcJQrOcb4XGOmC/46jk9Vbm7ESm+A2d9VX5zN23L8y8MFVLBCW6siT68WyzsB3gisSzsh7z9nMQMxzf0SqG3DfkL044/hPZveug/3BVJjwaHwNpDvKFkYqDGIMPc13grMGEe3YxlpMAcHJF5ornA511ZY9KRDfu/aHYQC9DbLjEYC4KQ++i/rkGwJ5iRY0ARYnt30xvVMK3lsMXZXoJaC+yzo+36CH8UvDisgQCmBC0QN6VIN+MagKNgWWQbZpRt2x4BPeJKIv//fEmeDDal62eNtJWgXfv80xtmRIcvSnmPXDP1Re611JpcsyqK7paCRAc+iJ579A7w0qm3ad78JLxGm6OTkbOfrHde3bFOV/sL78gjMn8QiHFX1BVQXUAlS2hy2S31akAo2GIs8MbI4gOPxN4d7rWSHnbObmR+ALqlgQiFRcjV04dCUMHIeWlcBtL/c5/ooJ5xFrKTZBaAvB5cSmwZ66OFehXo+64r4uwgAUdrlrnkbKf8mBaFl6MQCSfy2e0sV8xIGo2IVklA+6hwuuY8uSkhgfsmoxGzcOSHbmDG+9mYmOmERjjKLy2pwiqdnzyH2mBSYSAz63rcCcQdMGbG19Dbd7FSWxqswutnmlg++zqsV3GLxXOfPx8Zpx6G2DDv2MndHHimphdXWkhxSWPIQpPCyJqGrswN9Q8A3ENW6zghNyk/jss41Xp7ES3MoggAbmq70F4YXzElytZOpzW5LsD7xRaKYB3C35iEkA32bI+cjUGNQfVIFMCdmRlkVh3oRIXPSkt448QDOZzANppTMUFDIpCdP4jPP/Ovhd+MQfKC9O/rq/QHq+o2EfULA+B0GcdQe5X2jtj5Z/7rior9AvkcuLod7cQ3T8fvMU0vsP0OuU/fjPTDX+tSaFhS/MS+k4HmlPAgy2Zcwfskr+f/KOMHL3vWlWO0N9W4eWJsjwmi1SUrj5lOYO9NwAVfdcTJXpwSpLKXwv9xvbINYIMK9ZxT/pG92mOcAyQIcJQrOcb4XGOmC/46jk9NojZYKbxyxrnwn+wYhIApxtyGWje0Ft5Tk/zZLRw3fmVoZsvWm4L89UkKxOm1mp4160noSy4REGHIPmEsqJ0LczbW+e46aQaZOhwco2jkY8xYch0JQwch5aVwG0v9zn+ignnEWspNkFoC8HlxKbBnsCqrlp+YppfYfodcp+/GemGv9ak0LCl+Yl9JwPNKeBBlsy5g/ZJX8/+UcYOXvetKsdob6tRgG7UHTrBdWUX+WOlDOz3Tsz07zvRyIqnZ88h9pgUmEgM+t63AnEHTBmxtfQ23exUlsarMLrZ5pYPvs6rFdxi8Vznz8fGacehtgw79jJ3Rx4pqYXV1pIcUljyEKTwsiahq7MDfUPANxDVus4ITcpP47LONV6exEtzG6tR1D4Lyta3z3HTSDTJ0ODlG0cTOdje5RsI+oWB8DoM46g9ygr1PwgWwEXqffslSn034QMqx195///dTJaKQn088ubv/nioJUw1TpnWn6ZZIaUHAS+PYYxOkgX9MXj7PywPH2Ntu/Y8IRHO5SBNh8zK9ObEpTG4Ymd9RmFUMlenBKkspfC/3G9sg1ggwr1nFP+kb3aY5wDJAhwlCs5xvhcY6YL/jqOT1VubsRKb4DZ31VfnM3bcvzLwwVUsEJbqyJPrxbLOwHeCKxLOyHvP2cxAzHN/RKobcN+QvTjj+E9m966D/cFUmPBofA2kO8oWRioMYgw9zXeCzY+tgvVq692ZDlwVMXJTF72XLV+pYfDNJZ0Qaev0OYbGWmg+8///upktFIT6eeXN3/zxUEqYap0zrT9MskNKDgJfHsMYnSQL+mLx9n5YHj7G23fseEIjncpAmw+ZlenNiUpjcMTO+ozCqGSvTglSWUvhf7je2QawQYV6zin/SN7tMc4BkgQ4ShWc43wuMdMF/x1HJ6q3N2IlN8Bs76qvzmbtuX5l4YKqWCEt1ZEn14tlnYDvBFYlnZD3n7OYgZjm/olUNuG/IXpxx/Ceze9dB/uCqTHg0PgbSHeULIxUGMQYe5rvBaBI+wXq1de7Mhy4KmLkpi97Llq/UsPhmks6INPX6HMNjLTQfef//3UyWikJ9PPLm7/54qCVMNU6Z1p+mWSGlBwEvj2GMTpIF/TF4+z8sDx9jbbv2PCERzuUgTYfMyvTmxKUxuGJnfUZhVDJXpwSpLKXwv9xvbINYIMK9ZxT/pG92mOcAyQIcJQrOcb4XGOmC/46jk9Vbm7ESm+A2d9VX5zN23L8y8MFVLBCW6siT68WyzsB3gisSzsh7z9nMQMxzf0SqG3DfkL044/hPZveug/3BVJjwaHwNpDvKFkYqDGIMPc13gs2PrYL1auvdmQ5cFTFyUxe9ly1fqWHwzSWdEGnr9DmGxlpoPvP//7qZLRSE+nnlzd/88VBKmGqdM60/TLJDSg4CXx7DGJ0kC/pi8fZ+WB4+xtt37HhC5utKCR5bLYnceHnZ4qFbQWlqRvyz3klPBmaa7siFBi8I7roKPzyTsP2AGD3R8hjdRy1s1o5hH0HMx317K7o2m0kgop059Mu3zlULPU3nq4VmMMVSijWMAvKRMOjhu/OEUkO8O8/ZzEDMc39Eqhtw35C9OOP4T2b3rmfDF49A1dnsU90keha9sNMer5+p23YJz+yT8no0b/WEQnpqN7KlgRNIWDMHvuC2I7Iw12KZjF0hKGFrR1VzME9eWtep1/Iwf0COGcD2qRXLuKn1JVGaI2LFLSi0ruSJJqcpTiiJVzzKcqzBw/XU7iYC9+y3BwnxE8sJfk/96gvPL9L/q4atgI/u6OrjBbU41XoqXafzYGWyMQM/zPNMOKqPakuF35OMHI8anMVD7gX58Ptq71lBdwCqccd/y+NVVlJnRT+Ni8d223Jqq0PaLmZei1c7K2sWbqkdk0Su16QthdJGo7YDnIUSMZCWvniQAdvaCcFBjHQy/Swodb+VPyGSXOtOKIlXPMpyrMHD9dTuJgL37LcHCfETywl+T/3qC88v0v+rhq2Aj+7o6uMFtTjVeipdp/NgZbIxAz/M80w4qo9qS4Xfk4wcjxqcxUPuCSM0DTHIupaV3m3YIwDlCmOIFCFoGmF/rDUBIe+lkpjpr5r/MXKtL3L65BsCeYkWNAEWJ7d9Mb1TCt5bDF2V6CWgvss6Pt+gh/FLw4rIEApgQtEDelSDffqfHrlwnkcCBSn0sjfgPIuq3JlBZYqS9GdouG+Awv9xvbINYIMK9ZxT/pG92mOcAyQIcJQrOcb4XGOmC/46jk9Ehhnn2kfB+DCIuYu789KEN7/QPBYO79iqft209pxmCDUR5CpYO/YjiaYgdUW9JFL3/ucTtXbp2aznEtHdGJBgzfzJmWwOStbGfgC6pYEIhKf1BxCt9DG+WlX9AKOsO8YZhYX+sNQEhlWa15BYPqo7wGyp46fmKaX2H6HXKfvxnphr/WpNCwpfmJfScDzSngQZbMuYP2SV/P/lHGDl73rSrHaG+Zb3Py33PJuuCs1CFWpkbri45TB/RzAfjx0A9R53KZUOAzbrKWkC2jhfNvmXpfWfjec6I/TqNFAD7RVYOulBu/KgORwwHO2X1fwurFkgUUhsd/8BJY5hdXWkhxSWPIQpPCyJqGrswN9Q8A3ENW6zghNyk/jss41Xp7ES3Mbq1HUPgvK1rfPcdNINMnQ4OUbRyryBOT8no0b/WEQnpqN7KlgRNIWDMHvuC2I7Iw13NlBTpG1SYYkFDGHURerMJ6f9nCu5GeVNh/XZUWKBWLlpCCX0t6wqo/QhxkE39FjyFCwTW0cCSSh3IgmFt1PpMX+U9stVJk13xxPQbhZbnrAV/A0oel0Ns+X9QRtZ5xKsbLOzfccx1ilBTK3Fj7DSM/FzK6d2mHfz5mJ21S/a9WGRMbDw19qlxeDWUrXeinpO0HwkRU80ve9dIbkR8Hpp45LLfsyBvmBMpuJ2KgsVrWDep+NwcBV0Czd8TQuEw0DfE0REXnsfHXFq2leSCA7hFW/+Zdlf3xqnsSSRF+yJrWzAcEaLhqeYvHneAxOTRMVbiuXNX29NurOc4I6DBnJIGlPAgy2Zcwfskr+f/KOMHL3vWlWO0N8y3uflvueTdcFZqEKtTI3XFxymD+jmA/HjoB6jzuUyocBm3WUtIFtHC+bfMvS+s/G850R+nUaKAH2iqwddKDd+VAcjhgOdsvq/hdWLJAopDY7/4CSxzC6utJDikseQhSeFkTUNXZgb6h4BuIat1nBCblJ/HZZxqvT2IluY3VqOofBeVrW+e46aQaZOhwco2jh8zjXYy0mAODki80Vzgc6x39jSBSDtDgyimJcXRW9xGHQwtehXo+64r4uwgAUdrlrnkbKf8mBaFl6MQCSfy2e0sV8xIGo2IVklA+6hwuuY8uSkhggSQ7DpRxi3gS2Dy7tqCsu0sMcQF6+PaZSZtAWPztJvvjqiaw3vB/IF/MMqI4vizsbBdIONtN49uqmsezQU9kScKRdRKbwO9X8LqxZIFFIbHf/ASWOYXV1pIcUljyEKTwsiahq7MDfUPANxDVus4ITcpP47LONV6exEtzG6tR0qyBhrJDztnNzI/AF1SwIRCLH/qArQgnH1U5NQYc4j8DIMBv/yiuGKmUbE900Rpvu5kQzfMd3/91MlopCfTzy5u/+eKglTDVOmdafplkhpQcBL49hjE6SBf0xePs/LA8fY2279jwhc3WlBI8tlsTuPDzs8VCtoLS1I09nvJKeDM013ZEKDF4R3XQUfnknYfsAMHuj5DG6jlrZrRzCPoOZjvr2V3Rm9wBkfVl2I/rtwHGAeAiosfohlPcg8UKokk3QuBXcvgLAcs4lDEy2kq09LLv0YE8KEuCg8YEC1U5Hrq0fsL4tMXJw5GNM2QDrgfkF39pfWVtn32Ve7VodCUMHIeWlcBtL/c017njU+DxenpQinqUVvcCF0NVwRN//upktFIT6eeXN3/zxUEqYap0zrT9MskNKDgJfHsMYnSQL+mLx9n5YHj7G23fseELm60oJHlstidx4ednioVtBaWpG/LPeSU8GZpruyIUGLwjuugo/PJOw/YAYPdHyGN1HLWzWjmEfQczHfXsrujabSSBrnZhc84csQkNoY4iV3KhTGrfel6wE9AGLwapiGg/FZEyxrVaXnqkhWJ0WLOH0QolYi6SXPiK0f6zoR3fGpckBVFaEFPr73C+t8vRD/coSPsF6tXXuzIcuCpi5KYverJlf3xqmqqQturAvYU3VjnaqDLP//3UyWikJ9PPLm7/54qCVMNU6Z1p+mWSGlBwEvj2GMTpIF/TF4+z8sDx9jbbv2PCFzdaUEjy2WxO48POzxUK2gtLUjflnvJKeDM013ZEKDF4R3XQUfnknYfsAMHuj5DG6jlrZrRzCPoOZjvr2V3RtNpJA1zswuecOWISG0McRK7lQpjVvvS9YCegDF4NUxDQfisiZY1qtLz1SQrE6LFnD6IUSsRdJLnxFaP9Z0I7vjUuSAqitCCn197hfW+Xoh/uS5H2C9Wrr3ZkOXBUxclMXvVkyv741TVVIW3VgXsKbqxztVBln//7qZLRSE+nnlzd/88VBKmGqdM60/TLJDSg4CXx7DGJ0kC/pi8fZ+WB4+xtt37HhC5xz0WDw40ddl27X7OV6N7Jwf8wGd2omutw3wGF/uN7ZBrBBhXrOKf9I3u0xzgGSBDhKFZzjfC4x0wX/HUcnqrc3YZz2gIMjoemhIjSrdVMFpXlVxRd1JSaNwaChgLTdI8S4zk4oQJdyxKTVgTwoS4KDxgQLVTkeurRuCqOunmlmPA5ohwmKqL/FaOa9IfuCGAECSnAhB4AAFcKwgAABpcx2+4Qr9ST6N2gPyxtnnxzREYVCRst+ubrZdHC4AiNYD1h5cRZYLNCXEN1rJG8xb37izxj3o9kHl38m7SdQ/dM/A+rtyL+Y3pTMK5bOFcoS6dQO1zDKBCPhCwbpOfOTmyCRNwIpyDFIMzWU/5i1VUVIePyvyDPeLOIi5ek8WZv/VJ/nz9DmAf/++yr/lXlPs7fvlZ7tLJ2plDiK4MF76oNv0khmKqVnGHP3iy4PB+7QZhqMuFPKDEjCqyQuHKKrYN/6b+Wy2FL+wJKmcUZYktJPzd/dHD/+9wVl//5EAv08u31bKRn3PuHGTRvStIQqYOoe9oxCGAECSnAhBwAADIAAAaXJIGwoPTQMOwVtm52z8xALynB4qhlda9XIZuyuPvglK3D9REHaUbTLt7JLjAOZo5unYF2bMr5wP9wt0OUchmLPp4Ln9fwWhReir3cR16/KVnDETB0MVkGExIpSYLb8RXvpQGA+UeHRkNcc3cOoj74wq5KEbOhfVYwsjHY439fmNZVZKNQyh+LVH+XchRPf7mnnIeCjPKTkOiMZLU2d5UjCBlEgw+3mKGLzIyxDeJ1RofMpYcESy3SsEzxa0AdYwXfgny37IKwclEy285xGVXe2LL7cWcBoc1roxt1rXV8ee7v6t8XIsxn/ErbEL3IH9W/rigYl5JY3zTe0erT/hvR5pKYmpNHmX5QKf5RulkFx0xIG4ZzJAhgBAkpwIQYAAAyAAAGlyOGCGAECSnAhBgAADIAAAaXJIF3RfbyYPTR7lUa+GbHROFt+ZlQd6e3/15e4btuZLkR0vsXoSubM1yPX//iBQa2M1lz7spnkw3blG+/q/oB/vTcvDc/8kkz8srpXn4BYVqnvT2v4c8SQuirDUjmoj8WG57hlkyqe99rFTBPp6DYInR4PPYqclmgp//fcpQG4lJYfkiRaahX8fYUa2ZzoNrPXpe3jYrr+whgBAkqwIQYAAChJWY4+s5FPgAABpcx3GT+WjRGavUcd3Qbx18vub38+YzVm18Sf3m9uzVwd6pFYv7lxB4AdU7V6liYuuudvYpNmHUvgrxC2kSH0/6FDd3ikmsAI0tQ01n3X//xu+X5pk5njFOlEOwZwGtU9QFt9/tNkY/WYVKHvXeFVhaEFrR64azueYfceA8ucg+UxVo3Si1QcmECbqbBWM+qH46W/4i6BN1nRp0j/M0+Unlz9xj0SK0Fi8+/2ZOatri4TRKuHVrBir+zKGVM99NGoBY88Q91XfkUC2SfJu9Bp++1eDIPqVp+zWngDs6cye4BTkVxqx5DU0rJdzKmzzm4Z6ClBIX/qlo2WR5PJeaH/f0ETwyAbvZTRXj+fRJPyGbJAKGWUPaNy3g6Jehl0vGpkPYqRmwWBF/kdiyjHPJxICGo6IJhQLoEIcinFFtltLRXa5W8gJHbY4luslPi3fxVg0UDnQiAF70RUxv7i0EBU5foG7/bJG+wCGAMCSnAhBgAADcAAAaXMdxk/lkj30ZGS2CwZcYbwo/I13IU/0dvR+NO77AWP53ItmkTI8OEXPCQQKc6DuqYfNan2YiB7b/JdRZZZPNQucILZZ1uXAWbkRsPz+xOj6L3iV4aNhFZ5v71zv7z00ueHGM2X9e9hCX7f1//8E/i/y9//lkuhA/iHqSKEP//7skZEzIIy9HWCiMtErJAD4RWnhZdf1J8/m90ty/49UP03ZvzTRv//KsMueP/4wkf5pm519ZYiRKzV5qfwv3dvp4qKSnnejK1QLddTjhYQyz8/qqdgyFm0d9uYkQ4wLWL8R+IYAQJKsEEGAAANwAABpcx3HDP7m5OlhklEn+wZQ5bD0ZL2fzBMvZZdelgd/+g0HITsjcBG3Q2hyssBxmIXcI/ytbmln+zk+pE5fzj/8XxdWP/coRBueLLip6ClgEBGhlM2fqXqj0XU3pRCp3QRPl+rybeKddxiEF2JmdAIjsld+k9tmL9G7Ee98vXEw4T5lu2M9HFftEFhLV+686AKjv4q29wptwAvYqRrXsMnKP1Q443Lz6T65j4aiNnZnYEP70YEReNnGhDLodQARQMS9KewGuG30Q6gNQ8thBwBfUjOhKWX+j9f/CUWfGoYAQJKMEEGAAAdzvBmfwAAAarx0IcB6+LcbaC4X53b19sNkvLfvmW/6n7CVMKZA/TlPRrMUtHet5IHtKMRJhOA7///vTVz3SNgRvqf/8oTY5AsvEe0Hu41M5bsAwaxH0ox73jdrwWa/6c9KOVj6TX/XBnnX/5Nr4U96q7N5wsbQcr+qLoNM2JEEVJw3a7zf///m3quDR24wjxBD///mWUDz+59f8b6ttO0sdOj+bQylYJSGLa73phgAjwVjV5rWy1pF+wHpm2QjQrHHMNoDmcdfw17n2QKJzVZpqjJ/sQkUtZ1t3vef+yQV1PTp3fMlDdI94Q3pfO1/j+uyj6//rAU/IW/7Z57/9oytln1v+EBf9ZcgUxGc2+jFHKRZdY6ZIZ49kdWMxfQMifetDgCGAECSnBBBgAADcAAAaXMd2v8AXtGRJ1h1QpCktnTDvwoEB9X7WkkQsDqdv2Jv4MgQJeFk1JlrKhh1sC0TVuqDTzQcj36BNCTl5nXXWdiYPz/DqMC///96rlOsfMNOeLaau2n/le4SaTT////GMx75Kh84B4OpG55E8H7c2DfDCRsa9B/N1AbAQTIxkVTguYU+jUJpA9V9Ubx7kY7Trf+y1hhSG9n4RpZH9wLol///9v8peVf9WiySOZZttyjoKYTrbjycMpfCFVnp07qawqKQ3nvSqxVVdX66JXVgR63Lh2V/DWKSlxg/s7jW3HyCrPxxyf31WMxFCfefEgiy90P/KfdkQbkT/8xv/qOaeJja1h9z638gOQ3m7vvndxeOj2iGAECSnBBBgAADIAAAaXMd2wVPGH7Dk/6IWKQhvxP6H+yzLnwEy///+lA5Q9u1bEmeVleWP//onpv5wzgyd6jhqX4fhZHv5XW/xiXUW2SrEIyMrlt8YgQ/vSRHP47bPdHhZFOa0L/03WFF00DEzW0m58uHKgxxaE8Ce5D9MGqkf8UcDf78xD3nhe6OkTP///w54wutaHVetRKkcx3Dpl/7+sqqnSW+575aC2LI0oQRvTYfrAWzqkMuYxiAhgBAkvBBBgAADCAAAGfqGLQNb/BkN//7n5HV9m6Wpy1RCexCTkc8v8VvoaipfJYGCyHNdOMH239aqS5Ky/W28Hq/4f/WjDJumhMK5joi1n/9F8xp0OH7c+uexCOIHONCtg+uRJA/1D5+MwOdiHZ/DTkGX2iEUKQ0zWun/40AAO+2ZoGbs8KN9YCh8BgicKZeIMKOROHFsP+nftda6FoDOYtlDr8O6hwJNVfVwdod7Y/Qr03jn0mPPlWgsOdfT+auhciQLZjLn7ZFn8Kv+r7E/2pe55P/WqOq66dYbHVXJ7+rslhzHgDYv1MY62h90THurz8AgkmDQgAP8A72BDgkHBgYAA+Af9n6PHcz/f3+N/D+P7w/6Pmbq98X9mf7v5/vu/Qf7nyv3/L/d8b9H2z/xfpfoOkfwfE/R9ofi/d+z5H8Hi/Xfcx+j7F/F8j+L9H7/If+G+Z/jf8R/132N/nFJR58D6X2n/5P7W919RwP5naeGdm+f1T3X3X6pqP43z/e9m+f1T4fTvaas+f7r2nw/jcJ617fywfUXj918b3X7l8D+neqeu3pe/43tP9ie0/yT3v8z672/k56xwj9j97TAX2z7HjjdR9K6F7Fu703uR7F0/5H7Pifm+F/hkrOzW/P6fmfn+R+gjHRFVHETtBb+6/n9m+f1T4G7AFnIAB8gZpABpjRBc/QhfAGoKAiHuqKpUvUCyCCaA7VwFOD+iGPF7NSshpPm7ApnG8/v5RFEC030dpTGfZmT7tTWHvaxt0+r3j4lwr2dqTCJMRHpLiOEkNDU7suGZyxN2xuhoQZhRt6vFgDLuej72qb0/v1ArtIf9pDYVXJzzVkePwowEEkQOurD9TZzwstHAT8hDq/vyI3CKzDWKkjnd21MsK5fLKjmc9IqC2+Ww3flsv66QTNGraIo4qdxlxNmkmu/EbMTXL4fdFDxZu5i50MLSscIAO3MKKUb/wt16xvAuzEWmiR6Hh7vWFsDcspQ/Xh2kSVcJj01Vit0/sHi4TE4e6sjI4VnM4C7HlD09R8Z3k5aCwwL29ja+ALPKSAEVtgqGzDMNqiaKZs+FRkxB6+KnUbQIkQYzButUl3GmeduKnFjdaWdwXa+gt1ZaY4gIXHBleO6tvRcOtoPAkbbT4ErqUsRLUoKSae5ncJgdqkbXLjW7hl0QdhDF4+gL6R2yQnzMweQb/2T5BS+i9j0uV0tq8n71OuRuB9wwMeZwgyabU6vx8fRJw43YvJZBERFwI09j3NRf/+tBilVPjs2GQEbyV1TkZ01aITh/bf3aFy/UtINsRddJHeTRK6exqnOifvrkqrch8adjvM/1Ml6o5Lg/WWApQitwqlWWXUCPYnaIbSc0j/TFWB9vnjttSXVR7rySPZw4N0knDPYEN5JyBDaNKXhzps5v3HTtVonWp61EPnpP9x//0/FLV3eHjwOcG0nz/W7KNZiEUY672BS1F9qCNQCKetuLeWQaDaZKbmSxgxm7nP/dB50JW39SCTYr0u3m7GO9i8jJfJXUH0+wYDrYy1aq0AYZAyWJr/r2Z8989rZ1VnJHJ/9r4jho517gX734xLQ54M4BJ4GvRc+nsotXhr3iRd+e9t76ir+maCEFmj2dmhMT05Obkuvt18hlvW4rGdy+LYVQyywJoixRN+t8Ny1gqlQTEoQqS0RizKYm+mX/UcEzXfk6P3r02z6587/L48KMDSc+dTVbF7TYt1cpFREBb2F1N+r3sCgVj0LIkU9I1ctK/a3GuXqP7M7UbTdSKvdoVK8Sl4YGUX+ZvDMeg1wcdjm8JLey2kCeT+tdPF0tVPHprdKJPcbGmylEXuFtxA9gH1mPmJzK9xfbCVlTWTVmWWfAyvJ6YP7vyEHzGDv/YjotZy6w7EJu8F7f6udXPthZ6oNo9IcNdThfg+DKCO6aeaWyGlREF4RlvW4rGdy+LYVQyywJoixRN+t8Ny1gqlQTEoQqS0RizKYm+mX/UcEzXfk6ROaTA6RcqufdoKhkMeBjXOASuUDIgH9gQjdpURBeEZb1uKxncvi2FUMssCaIsUTfrfDctYKpUExKEKktEYsymJvpl/1HBM135OjjDaiubXWAt0IPzzGd29gC31h/sL+iy8MVPKV6+05ljDaUMj5dkKQLtxman+P9jP7r5zK6qZxZfkYe0Jg1jWmtGo+chv9FGji5JB6uAJtrN35Os/5mQ+Krp6phaLB8ZwnLbBhGR0UylYL5egOWIxgAYwixNbVRPmRqz+chkk1OQGPDgGTo8uMbkUimjPdtcrry52ztxSoV7RrpmJKxK0f7ba3tJkluV8z4TfED8YAhv8FOb2sCxLyIJB078sOgJ4ta3QPhcFcyhKM8tRtkBNygjhhTNLoin6kAU5vpAkvgKA0MToCArz+HOGupr7nH8L87szQXyS/FqmraXiNxV8+aRkU8YD3v33N81WLzf0C55Vdt0/vFI6iwSYlg8rdKZOzZrupplvkYuo+uCJWINh8jqzJ9DaVhBl8kPfzh+lGXg96Y2YLKdnFbw+SWeCkRcq9O9Osw1Uta3EW6qm/UJvqtxxYlWMhAvvkPnbcBiXUIPNn/jdcaChuy0Zag+6KGTxziw1/1XKDNt8EfzbGUA3CWPkT+gNhLPmIJCqHaizO08SiPawLEvdOyMFyi9rHz58wVnMY5I4kjqRIfWoGJqPmPxBBTbtzFpUikQg+3Yl3R+B7spcq7d3MPsobDiZpVcd150ey1FGc54SmDM2x0Ble5lb+ulfxPuKeJC62vHDZrXTsbHlULy80dhWtIS6BgZ38rDL2FNCAiLKS4DBGXX1U4aKMrw1NYMzGZZepI1vqp3rzbsOuzao5Fhn1uygdLY2v6WiMFb7WZ2IjjuQzwQoXcIcP7jm1boOlEbHXjRpTdOQUND4ILW+V8Yj2vq+IVjQJBpW3giAfjleG///4LDYgTMo/vaW4ozvQhpt5z1Ob3NXuWPcNoPyBKiHbwYKfQw1JMlmACxAP8+wRKM8INaMpHYIplQZoZq4tO0nmpR4RGV6so6azOSw83VC0QybpmaZ3+Zbu9LS/+jOSL1XuLHqDoQtjRfG3fYXZdh436GiQcQNi99AyCGVkihm9Ju3sd3LtSndsLlQE1ObvflC61DbcnXM3nAw99TFDbYZ3nwkLMvS1yhLPwzJqwbnDarH5x/62huoqqTpKMH3YVkOQvJuGhSrELTGop5VLjWk38f3jV1UJVaqQU8d4ZPjVL2rFD7rTxWb/uHayXUiBDKVEWgbyMnCDCJn05LqXV1kuctAks36YZz8GNNKd1jpKFuCGfCZSSUvemC8km0CW8j2r1vJpJxaw659VkN1QI2dj9veQZejbRNIX41LFKmIBOb6ugm3Cj9nfpDQGlbL/ha5TivNFmxtbQ9yp+Y9telwYjtr07pk1vZeE6k/u2fTf89F5msufNqi/vU8EEy7huTjLo5SPBqWo1oXCVTnSSNSxNzIcIaWx2ifDlQb7DGUvOe5KPd2ip3yK8bDCytVGDKo10fa+ej149xTUjnxeqqI8K+N3VeoH+kQi5I6v+uKTIebgmswcakTszA2dyLCyxzM9vbIjt8Fa9th09/3734iUUhFKVyStFuq+ICZHu97t8S50e4SZXgSYEdAv0c8PwbFIt+pQPhHKZGveIxAEh4M0Z6tXSjl1+b9cOAqRzJ/QQFn5gh6c8RwivKfdMkpDRYVWTjNt/PMiVaphRHakSzUeu+PYj/aelvUiKAvM2TjLD+0gTKT93Jo7NmWPnn236j+0rh6W+eq/k1WJXr4efJmzW67cPj/RIbt6vDW9U3xRJflMtdq0Ccc7Ozi5qY0ktRIhUFhRpSUN7kWT1rno3EWOfsdI4FGVwVU7/UF4CLk2LF+/37euBr1OOBSiA/Y1W4a4se01NhCiw/Tys+uTtX5fl6nrekWsaXHx2TtMVMUOR6nqQuOPJ4EcGmiS+jCSfPFt39smuqGcF1UWCnuCCwOrjLKOn2RJpI+KEvb4ABy4+VWPtKJoGnx5Rzx6emmfcKlj9A2kvT8dliJpSTO7fC4vgw6vDqUPQdC1tDYImvtanxrrjGZOHanrFMG1b8wa/WsCx67LZwgW9jUNNKHUJNZ0z77npMfC5+GEZDznzT10BalamzlojMH4dMtXWc02mBd31w5WPRuDX0bnpcArmjj0p2SNaYUyP2l4Npf+spWbDwAw/adCtPpPJBA0X9GUFgY/2sXY9pxwq/cUkxejrsozOalP53hmZnBD3+aT0tDfuAInJFutLNVUq8dn6QBIjZYPraQabwEZO9ZEUEYgXTJd0KZFAC48TikqCOoMIZkFJDBYAC/IhlRFsDwTR6C5TwWbphECNwAWETBMEcpXYjpQL2cM2jB9QZ1QAnMIDYimMEN31kx2lnfsYe+yrzbL5PmN7fAe8iTShFtUcbiPDcZAyfsspnz923QJSXuLMefJxnko1rm1+7CpGx/7DSLTxxv047npVVInoYEgAOvPc5QAW8yiSiHfGmVvisFrByXjtkSV0k0ueC9AbMKmqC1M3YqwsZ64cWVjCbf0yjYZWTyDJErKfSjPLygFm8+bbUjoJ2IkMTwaj7TEFRLB+fP07xwSPzQO/8azpTQbn7Ggi8mm6BOv5g4C9g6RLDOfea+6VsjzWl2Ow/V1AF72IkwSwI9dnJRzhnntgj56f51GDUdx/+0P306dwQUaubgh9xAcUNymFP/9w///JUd/WUMeX58Fsd1Mv80EP02v72D0QcfOWOI82Yf/6VRFFSOY5uAbXd5ccGTxMJhGWDoYYHdQLWIoteQKFxXxW9T0NBLt5vGsuqCw9Wqil0oXx+Zi0KRxTDPPeQLJVXZWux5lH+qZBFo8c+vv1bvG1nbHjlNw6pUdM2kU/0ChWNKPJILtawkDrrPmidDc1fsxbM2ef4TIzCrIR/jA/PtFIm6ZqwKNWvWnJ+DDyLTM9p1X7F7gSuaMpPxtWuBW++KyfT3CjNSAm+/Fi/TsupAK4YBIYiAGByNhFX2sIEMVjgUd7ztCsdZEEbB9bfLV5iMv0rVCYDl+L0lGt6Uq9mklQSeGj92xR+u7JsLVWkPiYyWCrfLKbVZSLMt1QSI2WD62kGqThDbUoRiBdMl3QpkUA/uP3md2xjBwxJrAK0Sh/DYEdyvP86L2oqzkC88E5KBE5It1pZqrA91c6awjEC6ZLuhTIoBfvRaXMJaWMS3Oiy9O+fu83Mumlz1lAnSbD+5a/gxZyZTlWaDNsxLAiwwLVHeysTw9DmdBl70ekFT4TGNcVyW9X76m9jylyU5B7wg1GyB31W9HKjs9hbnlevqodz+oBAwxu38CAtjBZ/0SZmTVDncJxLTRrZnZQFLVZu18h7vZA+7ly039J8DfZNlyJH3JwnD7qFa69eBEyX5Sb5T/tORw4a9isQe8lljRpGVfJ+2ywp3UFbfO2SzOaOt6OA7aJcHmCMceQLi4cYqZOdrKfb8N8Bhf6NRX6atDtI0zeZdp9zsZb4opz07erW7GCR2v8k0iK6d+YBFdGT5kyk8dMPfu1c67g1jc/qG/wdihWoPDLhV2NbUUXLsMZzZnaVVR2j1H1zO5WidEdXXv0yfJK6S1YGw6qw4w+uKepo2Am38+sEqiuZFLUHEzLJUMzC9rpDy0qkD973HIrlbkH541tDRu8OyiDAWozFuQeo5eEzo5RNBRSycZqO5ky1ZjfcvRUSR3DbzJA8hEhja4HmDx6qccl05yMYtjyMK8bQYo3rGrYwvChw8HC1Fiv3/Z/FyLZX6sG2GXZ++2FayF3f4FdHBi6JwOUDvXGF24PkMdDZ+jT3UH9uqmsezEG8nntwBhpTMgzeQ1bHbhLfe83aZYp2qpBpAqNj0Jf7ESfVM56q6jzRWby09IVadNxSDB5Nr444/F+1k45q1tYoEx5IUzvWe/SqXxowdpNbu7QbZDalBHeHlLJxQknZFOeInMM5wZe9HpBU+ExjXFclvV++pvZmkwteztD5B4Sk2wzrHEkjbZZQDEOT3LkTuxrE6S97fZKhmYXtdIeWlUgfve45Fcrcg/PGtoaN3h2UQYC1GYtyD1HLwmdHKJoKKWTjNR3MmWrMb7l6KiSO4beZIHkIkMbXA8wePVTjkunORjFseRhXjaDFG9Y1bGF4UOHg4WosV+/7P4uRbKxWOLZmLM/A052js3s260GEeU58I0MYqI4tizscMqF4p5Z0zm6zATRxrQY+/wRB23VtS86cMX+FzruDWNz+ob/B2JZAjwy4VdjW1FF0jHDQmDAiUMQ0R2sh12uDlswFe7s1iKzHitILQzX5Ur1Y5aZD3HTSDTJpWzQ03zkzgyKzz37r4gjAOT60KOBkQGy0J601JamAVBT1KIm3gsNNw1PMXQJwkhLUGuU7fjPjY6XOUacyfkc3Wr7PitqlKxXked8jXPjJ/XNVDhdcx5GFeNoMUb1jVsYXhQ4eDhaixX7/s/i5FsrFY4tmYsz8DTnaOzezbrQYR5TnwjQxioji2LOxwyoXinlnTObrMBNHGtBj7/BEHbdW1Lzpwxf4XOu4NY3P6hv8HYlkCPDLhV2NbUUXSMcNCYMCJQxDRHayHXa4OWzAV7uzWIrMeK0gtDNflSvVjlpkPcdNINMmlbNDTfOs7mjdz6uaUhoNk/rRsVDl8WOaQCAO0IAgteChLVKc5s/Z6l1ns7LNeVtYOcHbaGfqLEfV/4rMMoNBaYGslEqgGr230TmKxB7yWWYK5EGR1cWdaTXs5Vm2kGdUv6t6WAB1ZZLmhI/13iaP23a3S6QAcVNL7SwgMxiXe+5Eq1xmMYqI4tizscMqF4p5Z0zm6zATRxrQY/SUVVTfKISnn3FS43jcPSiNJKMYsGSlV8kt1LQWihEJLehfCS4E80Vm8tPSMMFor3IDlhC/ms/zL1sDCb5WZ0HnG8haZDTe8YG82Wc2PfKR/ho/H/q5erkB4TyHLgpr17WL3suez9SNTb8sNwK7OPoowjrEQ4Bz//+6bZYKRNsRYjXj19YFGlC1UdkaDvxRygBAe30TmKwSBBgskOA0VpF81yFO6grb2w7D8m604gzq9ObEpTG4W6alYMnw84tmYsz8DTnaOzezbrQYR5TnwjQxioji2LOxwyoXinlnTObrMBNHGtBj9VaQ+s04J08otADpKwqy38c/LHrPU1+Xnk0p2uQyKNaXrTj/Fc8SQcGY0RKrPp5YPTDjrO+RDU/wEoTySPjxoQ+fa+LCA4dYis4aa9tWmlSM52Q3h/a4xXi/cUv+BTOdcqIRDBUqvENfwZfBArRqxqkWvoS1P/7ptlgpE2xFiNePX1gUaULVR2RoO/FHKAEB7fROYrBIEGCyQ4DRWkXzXIU7qCtvbDsPybrTiDOr05sSlMbhbpqVgyZWOLZmLM/A052js3s260GEeU58I0MYqI4tizscMqF4p5Z0zm6zATRxrQY/CSQGfw/5ko/lriB4vRynHI68BXQK54QuXRrTpfSiC0cuk/YpSZQJTRVfBYgE+sbjOH5F1Czn+Ew6aK0f6zoR3fGo3MT6DX0i4H5Bd/S/1ky7lAh2Q3h/a4xXi/cUv+BTOdcqIRDBUqvENfwZfBArRqxqkWvoS1P/7ptlgpE2xFiNePX1gUaULVR2RoO/FHKAEB7fROYrBIEGCyQ4DRWkXzXIU7qCtvbDsPybrTiDOr05sSlMbhbpqVgyfDzi2ZizPwNOdo7N7NutBhHlOfCNDGKiOLYs7HDKheKeWdM5uswE0ca0GP1VpD6dlqnmPgApHcXsRcmua3pArnhC5dGtOl9KILRy6T9ilJlAlNFV8FiAT6xuM4fkXULOf4TDporR/rOhHd8ajcxPoNfSLgfkF39L/WTLuashoPxT0CFoG7B+pHBT6bl2zH6+OoX74Zd3QWCRtwCwiYLU3eiHpA+LVTx2FNJjqYs5Ok6Jg/Ujgp9Ny7Zj9fHUL98Mu79m3tkSI2ZG6vjB+R3li+X+r+Zbd4JXj2J0UFMPiBgTeVWj2nu946tej8qT0RNahuQDGYP8Akccgq0cdUTsCKwsIrVUTylQUw6JOg/AKgC1MMlHhvr1GyeZEwuyDn5RWcJBKIkkZYPHkF6MxN/Vf/IPsb8uq3FubFEdB/333yWunH2lhAZjEu7E1Xh5rHpSvEatbgyQ/CtV4ulArPNLB99nR4f/XeuUEDqb+9+6IuYu789KEHl/ESUmpMXWHy+sfGZQtgag/lFDZmdpVVHaPUfXPuVDJR2IbO+cLu/wEoYsPlSPpwH5K5YfVh1HqACGOSiyuoZLR0ffKziSTbqNp7W5MeLg55pjdqlizpQBBL0Nsl0rpCdufD4/dXZiN04ZbACLtcuY5sFoRW/ZaWUbw46VMps7Yr2KxB7yWWYK5KFVE1u6BvRYkMDdoMpfsFILNVyYN1uU5fkhcXDiAyIfAEfXuiCo7SmUXKsu2zfBvPK/JAWlE+E3X6Y8HqKYju+zNeCtFtjElsGFuouywUyr/jnCS+AmEqe0OROnigHYlkCPDLhV2NbUUXSMcNCYMCJQxDRHayHXa4OWzAV7uzWIrMeK0gtDNfj52+2sV+j6qREj77WqD8by6U8olNtOISwkKnX4RKwAwKXRe5CgmWxGi8P4GFQf2LTWD7eA25O8vbDgxJQkmCpg58jp9bykxw+nlsLnmm7bTmt3FtMHIzrexTDULgLl4kPKzhIJRElGKYBu0iyHjJ22JYYuHdq7Jor6hPeauJ4smJM013ZC7v8CujgxdE4HKB3rjC7cHyGOhs/Rp7qD+3VTWPZiDeTz24CFvHtxdxL/vsew4hIApaFyFyEoRzvYLXk+yG8hOSu7iXtru6w8J3GxzcKJxJvCH1uaTCg0KgDBQRZyftrnfJpM0U5X5sZkRLsjS2imJ8a8o0SG4pYwIwDk+tCjgZOY0oebFYjKUWuTfnBAzuPsi6wgW+/uOQVaOOqJ2BFYWu8XTBZjfcvRUSR3DbzJA8hEhja4HmDx6qccl05yMYtjyMK8bRlMoTb+eObLX6tZ019gfgb3esdKO+X6MP1gWZ420lZ/bC4Z9HgAfXfwl77wc56qL3ZdAnaeCtDh9oqsHW6E275ymnEDVXOzYBHPURqoXrgeka5/gshhWRZ338KX4Mv9f9LsIubM7SqqO0eo+ue27LTnWjiS61BUbpsjiBBEi3hSH2YOGS6cMG2/jZx4yMQ7cY0dq2QlhIVOvwiVgBgUuac0sIQ4omzg7whcAG60ascRlUMPv//3TbLBSJtiLEa8evrAo0oWqjsjQd+KOUAID2+icxWCQIMFkhwGitIvmuQp3UFbe2HYfk3WnEGdXpzYlKY3C3TUrBk+HnFszFmfgac7R2b2bdaDCPKc+EaGMVEcWxZ2OGVC8U8s6ZzdZgJo41oMfqrSH07LVPMfABSO4vYi5Nc1vSBXPCFy6NadL6UQWjl0n7FKTKBKaKr4LEAn1jcZw/IuoWc/wmHTRWj/WdCO741G5ifQa+kXA/ILv6X+smXcoEOyG8P7XGK8X7il/wKZzrl7eU8+JhWPORtWOQyH+OWnmGUYff//um2WCkTbEWI149fWBRpQtVHZGg78UcoAQHt9E5isEgQYLJDgNFaRfNchTuoK29sPChQAqfovsafmbR12Xf6Fw4gMJRMTRxE/DfAYX+jUV+mrNtVhKWQ3J/Hncj1bl1r9q9c4iyY/IAM+b46jk9VbtjDOemv49xBuckN23L6O0X+PfoW0NZHKo/rvBl/r/ySnx8AgHrxFLy9ZNgT0j205/thF9/v5Ma3hcVWShU8edcv3Ktrp/ZNf4reZy6jDiEz1vc/0KqdhrE29EtdQe5PmMtCetNKYoj63s8MejWlwjZ9jCb//dNssFIm2IsRrx6+sCjShaqOyNB34o5QAgPb6JzFYJAgwWSHAaK0i+a5CndQVt7PqkMW1Eyzrz7N42MGIS4Xm//3t7mIwEDsNbEnGt9LTHOvEiTqWvpIBaUT4TdfpjweopiO77M14K0W2MSWwYYPJOqSQiE5FvcYhJk94ga80Z+ug4JYHUNS9aDiBk8XbAa7Srnc8SQcGY0RKrPp5YPTDjrO+RDU/wEoTySQDdPNHpF29HLwJlL84aa9tWmlSKh2Q3h/a4xXi/cUv+BTOdcvbynnxMLenJEoTT1960tmYUggDn//902ywUibYixGvHr6wKNKFqo7I0HfijlACA9vonMVgkCDBZIcBorSL5rkKd1BW3s+qQxbUTLOvPs3jYwYhLheb//e3uYjAQOw1sSca30tMc68SJOpa+kgFpRPhN1+mPB6imI7vszXgrRbYxJbBhg8k6pvlEJTz7jEJMnvEDXmjP10HBKUNZHKo/rvBl/r/ySnx8AgHrxFLy9ZNgT0j205/thF9/v5Ma3hvZMxI4avkDw3oNSIiJu+4Xx0sO0iyBPzJEPtDS5yZhH7il/wKZzr+ajHDxQG0FJMX15YFomD0Si7LpxA5eEzo5RNBRSycZqO5ky1ZjfcvRUSR3DbzJA8hEhja4HmDx6qccl05yMYtjyMK8bRlMoTb+eObLX6tZ019gfgb3esdKO+X6MP1gWZ420lZ/bC4Z9HgAfXfwl77wc56qL3ZdAnaeCtDh9oqsHW6E275ymnEDVXOzYBHPURqoXrgeka5/gshhWRZ338KX4Mv9f9LsIubM7SqqO0eo+ue27LTnWjiS61BUbpsjiBBEi3hSH2YOGS6cMG2/jZx4yMQ+mB7nnQARlBSgnOUuUOsO9N94PZvssSQeYEAF4PLQ7auhPOxt9/ccgq0cdUTsCKwtd4umCzG+5eiokjuG3mSB5CJDG1wPMHj1U45LpzkYxbHkYV42jKZQm388c2Wv1azpr7A/A3u9Y6Ud8v0YfrAszxtpKz+2Fwz6PAA+u/hL33g5z1UXuy6BO08FaHD7RVYOt0Jt3zlNOIGqudmwCOeojVQvXA9I1z/BZDCsizvv4UvwZf6/6XYRc2Z2lVUdo9R9c9t2WnOtHEl1qCo3TZHECCJFvCkPswcMl04YNt/GzjxkYhvBe4+sYJcLfmISPjfCyi1TUOyZiSIhXALxc3I+M2G8zxMGmj28ZzLyJMDavFFzrcjvdG87octUYfpZmQ5HXrbL4Rd0pCmDJPyX+6+IIwDk+tCjgZOY0oebFYjKUWuTfnBAzuPsi6w4EAJHHIKtHHVE7AisLXeLpgsxvuXoqJI7ht5kgeQiQxtcDzB49VOOS6c5GMWx5GFeNoymUJt/PHNlr9Ws6a+wPwN7vWOlHfL9GH6wLM8baSs/thcM+jwAPrv4S994Oc9VF7sugTtPBWhw+0VWDrdCbd85TTiBqrnZsAjnqI1UL1wPSNc/wWQwrIs77+FL8GX+v+l2EXNmdpVVHaPUfXPbdlpzrRxJdagqN02RxAgiRbwpD7MHDJdOGDbfxs48ZGIe8mMOUqfhmBU6/CJWAGBS6L3IUEy2I0Xh/AwqD+xaawfbwiDYtp9OCwu6y4f7k4TiOQorZ8m3zU6uMm+U/4Mps7Yr2KxB7yWWYK5KFVE1u6BvRYkMD7DGLSHCSEVCI/uhAxb/gayxSKWY0TE0cRPw3wGF/o1FfpqzbVYSlkNyfx53I9W5da/avXOIsmPyADPm+Oo5PTaLabx7cXcS/77HsOISAKWhchchKEc72C15PshvITkru4l7a7usPCdxsc3CicSbwh9bmkwoNCoAwUESMS/hZ+xOzBwyXThg238bOPGRiHbjGjtWyEsJCp1+ESsAMClzVGLdbh179krBb7s8MejWlwjZ9jCb//dNssFIm2IsRrx6+sCjShaqOyNB34o5QAgPb6JzFYJAgwWSHAaK0i+a5CndQVt7PqkMW1Eyzrz7N42MGIS4Xm//3t7mIwEDsNbEnGt9LTHOvEiTqWvpIBaUT4TdfpjweopiO77M14K0W2MSWwYYPJOqb5RCU8+4xCTJ7xA15oz9dBwSlDWRyqP67wZf6/8kp8fAIB68RS8vWTYE9I9tOf7YRff7+TGt4b2TMSOGr5A8N6DUiIibvuF8dLDtIshZegpWYwCMoKUE5ylyh1h3j+jblZDHrYaU290OEaQ+WxlpoRRn//902ywUibYixGvHr6wKNKFqo7I0HfijlACA9vonMVgkCDBZIcBorSL5rkKd1BW3s+qQxbUTLOvPs3jYwYhLheb//e3uYjAQOw1sSca30tMc68SJOpa+kgFpRPhN1+mPB6imI7vszXgrRbYxJbBhg8k6pvlEJTz7jEJMnvEDXmjP10HBKUNZHKo/rvBl/r/ySnx8AgHrxFLy9ZNgT0j205/thF9/v5Ma3hvZMxI4avkDw3oNSIiJu+4Xx0sO0iyFyRepFAAIygpQTnKXKHWHeP6NuVkMethpTb3Q4RpD5bGWmhFGf//3TbLBSJtiLEa8evrAo0oWqjsjQd+KOUAID2+icxWCQIMFkhwGitIvmuQp3UFbez6pDFtRMs68+zeNjBiEuF5v/97e5iMBA7DWxJxrfS0xzrxIk6lr6SAWlE+E3X6Y8HqKYju+zNeCtFtjElsGGDyTqm+UQlPPuMQkye8QNeaM/XQcEpQ1kcqj+u8GX+v/JKfHwCAevEUvL1k2BPSPbTn+2EX3+/kxreG9kzEjhq+QPDeg1IiIm77hfHSw7SLIWXoKVmMAjKClBOcpcodYd4/o25WQx62GlNvdDhGkPlsZaaEUZ///dNssFIm2IsRrx6+sCjShaqOyNB34o5QAgPb6JzFYJAgwWSHAaK0i+a5CndQVt7Ydh+TdacQZ1enNiUpjcLdNSsGT4ecWzMWZ+BpztHZvZt1oMI8pz4RoYxURxbFnY4ZULxTyzpnN1mAmjjWgx+qtIfWacE6eUWgB0lYVZb+Oflj1nqa/LzyaU7XIZFGtL1px/iueJIODMaIlVn08sHphx1nfIhqf4CUJ5JHx40IfPtfFhAcOsRWcNNe2rTSp91s+C711FjfRegs4MIQite6eLptHvR94Cs8ILg11cmO8RNKeEslK/eAscIAHqzgB+4Jzb5jDvYqCY140VuemMHXj6oSF9FWdW1ppuas/AnhdS/jxP3Now/dtpPxrwiTC+OtYLmYwzCSCzogj4vwcYcUZeel0Lwz9BiOVGufCNN+gZoWUqM4rqcypBtJgA+ZYge5s8Vy5gWwMfXvEGRCJ1egu4R/ukgmzQYhyL1VLmaDm4HNbfZS88j6cNfwhetJm5LT5o/ZEdMPA7YH+Os3sz/Oq2TYHuRHlMfcMTuBBZaj2cRuaTEBB1v5U/B+Eswarh5/qX8eJ+5tGH7ttJ+NeESYXx1rBczGGYSQWdEEfF+DjDijLz0uheGfoMRyo1z4Rpv0DNCylRnFdTmVINpMAHzLED3NniuXMC2Bj7d1+wjuMzna0ucmYR+4pf8Cmc63pIVBKK5+wpBy8DTu9qzeJa7CXjMv3l/O5wd1s1U+T+7CDDhIyFP9yEmAcSObAFqYZKPDfXqNk8y1kWcjtF3oU7qCtvkP0U6uzoXFaujcvVU95CElS5h6jMHb3PJVR0O013ZC7v8CujgxdE4HKB3rjC7cHyGOhs/Rp7qD+3VTWPZiDeTzwoaG+lGal9+6IuYu789KEHl/ESUmpMXWHy+sfGZQtgaiBS6xuHmis3lp6Qq06bikGDybXxxx+L9rJxzVraxQJjyQpnes9+lUvjRg7Sa3d2ynTCYhYkCApQTnKXKHWHeYyXABTSnuedsL7TARm4SGK4yfpe5e2HBiShJMFTBz5HT63lJjh9PLYXPNN22nNbuLaYORnW9imGoXAXLxIeVnCQSiJJZv3E4cVvRwHaz3qgL6Ox9mKdLB/R3RUgejCkEpfC/0aiv01ZtqsJSyG5P487kercutftXrnEWTH5ABnzfHUcnokMM8+zz3fuTRFzF3fnpQg8v4iSk1Ji6w+X1j4zKFsDUQKXWNw80Vm8tPSFWnTcUgweTa+OOPxftZOOatbWKBMeSFM71nv0ql8aMHaTW7u3bR6W+JASMtfkfbOl1Y7YHNbfZS88j6cNfwhetJm5LT5o/ZEdMPA7YH+Os3sz/Oq2TYHuRHlMfcMTuBBZaj2cRuaTEBB1v5U/B+Eswarh5/qX8eJ+5tGH7ttJ+NeESYXx1rBczGGYSQWdEEfF+DjDijLz0uheGfoMRyo1z4Rpv0DNCylRnFdTmVINpMAHzLED3NniuXMC2Bj7d1+3pSSjepk4Rr+/oY0i5JREwzFHYEvDpH1IfG2/GJPIUBt7f/NnEZfsnELDNb33S3wsdI8ou8tXfRC5QR/MlHKUuz70HfMaslEwlhiEAU5NQX/ApnOu41RfKIz3oSJh9h8aIntWUeA2VPHT6cFhd1lw/3JwnEchRWz5Nvmp1cZN8p/wZTZ2xXsViD3ksswVyUKqJrd0DeixIYCVyBavtgZPbFIMEpzI4dL6X/m//3rq4jAQOw1sSca30tMc68SJOpa+kgFpRPhN1+mPB6imI7vszXgrRbYxJbBhXNOA4XFU0ex5FE6D/PxC7yF/eJrHDgu+XVcKSOuEI/rQbZgWOTzRWby09IVadNxSDB5Nr444/F+1k45q1tYoEx5IUzvWe/SqXxowdpNbu7Wn0qD9lZxJJt1G09rcmPFbBlGZrRP3+Xgsvp/4pcrX+Ytx2+/uOQVaOOqJ2BFYWu8XTBZjfcvRUSR3DbzJA8hEhja4HmDx6qccl05yMYtjyMK8bRoSA8eQXozE3onxICFLQ2uro1uMnOMWPxS7WaKzKZRcqy7bN8G88r8kBaUT4TdfpjweopiO77M14K0W2MSWwYVzTgOFxVNHseRROg/z8Qu8hf3iaxw4Lvl1XCkjrhCP60G2YFjk80Vm8tPSFWnTcUgweTa+OOPxftZOOatbWJ/b/exbTIe46aQaZNK2aGm+bBegpWYwCMoKUE5ylyh1h3j1laAFNKdlsKeEPjRE9qrYzR3Qlqf/3TbLBSJtiLEa8evrAo0oWqjsjQd+KOUAID2+icxWCQIMFkhwGitIvmuQp3UFbe2HYfk3WnEGdXpzYlKY3C3TUrBkyscWzMWZ+BpztHZvZt1oMI8pz4RoYxURxbFnY4ZULxTyzpnN1mAmjjWgx+EkgM/h/zJR/LXEDxejlOOR14CugVzwhcujWnS+lEFo5dJ+xSkygSmiq+CxAJ9Y3GcPyLqFnP8Jh00Vo/1nQju+NRuYn0GvpFwPyC7+l/rJl3KBDshvD+1xivF+4pf8Cmc65UQiGCpVeIa/gy+CBWjVjVItfQlqf/3TbLBSJtiLEa8evrAo0oWqjsjQd+KOUAID2+icxWCQIMFkhwGitIvmuQp3UFbe2HYfk3WnEGdXpzYlKY3C3TUrBk+HnFszFmfgac7R2b2bdaDCPKc+EaGMVEcWxZ2OGVC8U8s6ZzdZgJo41oMfqrSH07LVPMfABSO4vYi5Nc1vSBXPCFy6NadL6UQWjl0n7FKTKBKaKr4LEAn1jcZw/IuoWc/wmHTRWj/WdCO741G5ifQa+kXA/ILv6X+smXcoXOyG8P7XGK8X7il/wKZzrlRCIYKlV4hr+DL4IFaNWNUi19CWp//dNssFIm2IsRrx6+sCjShaqOyNB34o5QAgPb6JzFYJAgwWSHAaK0i+a5CndQVt7Ydh+TdacQZ1enNiUpjcLdNSsGT4ecWzMWZ+BpztHZvZt1oMI8pz4RoYxURxbFnY4ZULxTyzpnN1mAmjjWgx+qtIfTstU8x8AFI7i9iLk1zW9IFc8IXLo1p0vpRBaOXSfsUpMoEpoqvgsQCfWNxnD8i6hZz/CYdNFaP9Z0I7vjUbmJ9Br6RcD8gu/pf6yZdygQ7Ibw/tcYrxfuKX/ApnOuVEIhgqVXiGv4MvggVo1Y1SLX0Jan/902ywUibYixGvHr6wKNKFqo7I0HfijlACA9vonMVgkCDBZIcBorSL5rkKd1BW3th4UKAFT9F9jT8zaOuy7/QuHEBhKJiaOIn4b4DC/0aiv01ZtqsJSyG5P487kercutftXrnEWTH5ABnzfHUcnqrdsYZz01/HuINVIeNtSiBTYZVSwQrEFZ338KX4Mv9f+SU+PgEA9eIpeXrJsCeke2nP9sIvv9/JjW8LiqyUKnjzrl+5VtdP7Jr/FaN0wWV3ACGAECS8CEGAAAMIAAAZyKgQHbxpB371PV/iPm8casC3q4asP/9zlM/z/sanNi/zAeGf+acDo/f/4gSAk0jUXKL/etpeh92vFE5+EveK5yGITk/iloOa2NI5cqCQMEByAMkxCYIodgy96H9Ad2rWQWUm39g9TNjHG+An6DPeZskNw60MdV12JNX73zRKUM8pDgEMQcDp0MTsDZgykxq8Rky3GRYBLWFR8d0tnl4SvEuB0ed9r7W2F/s3kH2Af+CIC34M/iL/LLL3/egd2k7+gUGXQ8FKLH/ysz8KeIWwq0sowCGAECSnBhBgAADcAAAZ/rFfNBllzxH9FyXtQ6bpfI/Q077/LZHC9vMpjxV4pr5vn/zNASymC69jFyIeXz9u3nkOfTA5vwO/Xsn/+SyrT4WXyFjlGaxEfItk3/9k+K1u1XOdbIe/7m3/lOpGgsgXYg/4o5tV/8tcE5VY/Zv/0EwUUvwp6WxJtP4RsNg7/3AAZvIN0NBp9/+IK40b/PIIcROvf74tvgJr7gHA94J+RwdDSb9ua2emW0Uy1fXwNmYl3bTTwcAhgBAkqwYQYAABCasAABpmxO8wDgir5+5hv3xVAfDD/H6xPMIX//Mhei3tZiwZ3+i78aJgjZX4iyopbwZUwUTaBvx9ICb/yeniw1glD+4RbzcRt+XhviLop3v59J16eWLz/q+w/sti6cM5fkUQ3h8lFENAzgMi6HGTr6X+JnGQDPNIachj47ltRKa89/WPFzPvjxaweOpu+kJ2oc0vPGkfQKAhgBAkqwIQYAAAyAAAGq8dCr////6bRdbeSr2zyATz0MrjI+da1rHv/khQCjP6HCLfVf3TPw52TqK9witBjf48iN9f////TKxDILXrxwkq//7lGqEKFYd13DQbzZ66NFuOwOeJpECQ29Cwa81Rmd8Fv52h7uWRfsbSAXpyf7b81ul/7/psJBinAYIlyXVjvnSg5aIbfLsLd37//CTn2rQH/jVyH36RP//OXbkZH305jsS/GAkeYpPVxifeV+HTQdGbEPBlNZ5rxIMCgeKcUaQc9OCGNyUGUPveIzc/9FHbjyrOc3/HtvyZXtaOkR8PqVR/P//QmuKvyeL//ERo4qxPxZ//7ORbz2FAx//md7d0jcRGaIAhgBAkpwIQYAAAyAAAGlzHcqER+TD6ZyzdmjZvY///BxrMjyNHGq0/9Ky3///CHRpus///hqClyouQ5SZA8Xl//k3/+i8QQ3mBf+aPRhKOsP+s0VcW3yeZvXtBmJdtoYI/htY7FD7n1bjjHm9hem97X+AEGrGRKOe9YlkvOPvQ7YrHOP6DMML4MaMs6+7Swxz/+5rpZf0EsEZiGX/Bv7m63L32RUvU9P0zVI/PxXNuYnjYmnayMLe3jJ6YnAbfLMYo/X6qvblHFD8AIYAwJKcCEGAAAMgAABpcx2+fnycTnXtf/5WgDpg+HhUhQncDTriP//SzHF4Za+X0ByI//4BTFiZ0FecpDGN/p+tSyc2iv8qN43LviE/jh8wl6dIUBvBK87p9nP/3Ss9HwxenTERNZKuzyvUf+DHk1Pf47u/rzLq6N70e4MTuOj5Mobj8PR45O9pI//+G6v1V89pzc/G2VhwnPO+oPbihzDnNYs6w4N19ehSn0oNYwNvY8STr/zadP/oWnv6R5nQ7fpf/8vJ0P7ef0hlOb1J3YcgLD/NxqNQR6IjWt36e2i/jIQwpU+Zfw/72v+eHFzwduP/gJt9YhTjeAhzL/qZx0PxDFhqSD0VAqYaXoYAQJLwIQYAAAxwAABn6hitcnlbsH/bf+VENnzvodv///fvi0uH7Ke2BhMomp7vv/0pGuIysGyctRgg+HEKec+u61A/yNmMQHnTv5dcgtP/U37zFLvA4QBZZtIDbv3GYQiowLptkig8W80YpHnwUTigzXjYEk8pfg+0WdG33jqzixKgmFwkZc+xwTKpwBmfUIfpt+LrD7Nzr5KkTI8Osh0KsWgdhrLAxqf1h0RN7zA79e2yO49JvaCf8aJWJYUhrluKaBVqeZK+o2d0UE+RVv//hRFNNv93j2DZjwljQm22dyNDa4lwHmif5meVmXpMVLSZx2P/6DXWjNwTrkLtMj3bz9gUluImHgCGAECSnBhBgAAFcBOgAABpcx29cs/iANoItIgNe+1A8APn/XnDE6qf7sb10oo3hdY//mT/9rilt7x6I1HXxpgvif//8QcAr+m8/FWFL05yXMwzWvD8JY/8RjGyDKdD0GHfLyMae5YOCH6bytEmov2fjFk7Bxw9Jg9U82EE+mR+kx8xq8j1txnWqv66aZNIA+EO6+a1rxYRgkrcCVHF5UTh87xe2A8UsyK8mSR3aqb89aOnWMNhWuL2+D+zxIVU3P11///2MS5u3z8S4WC/Ibxyd//sbAqI+MmgyLO6yS+2f/oH08/mRfzFL86gV9////2rKC8/VuP4TnEBMwdcQsiIGadt4503rokzsABO9t/kG/36ENTHBXqjU6ExAIYAQJKcCEGAAAoTT9fMKSZeUgAAaXMdvbE9qnVng9zbjjBngnmo66wXU6A/2QhBHO5Uitul2Vbas6LCdNTs81JJrDT4cSiSVA43IpPq59TvlkC9+xONiHMPXHwv4x9IiqsnwIXec7cQSSr/e+FaLbQ3oK1IoTpNtVHZq1MBwQfT30fraVFfTK8UwMqsY2RlVbug9KcXxrp20VBn0bJHNEcPFHa6twSnmeNbBLQPyaWiLMVNAmw567Lvmo2a8UQ92XHEAPbvdb23pLFzEvlo+sRN9k16E//pF93ew9ZQE5W0FGulpuT2BPE2SSa9VslmA0yTbpH/iZt5cG+oXmGbzmTEAUNqnnhYeVSKbDo8Y3jqtBRMI8X7LLczhrntydMXQIYAQJLwIQYAACx3eC9ijlEvwecAAGfqGK1aphU4s34FpgyOjVDKhBPDxGOzXp0zmTxJRsmqzFuNSOH0QeHQnlMrSxeTNtJcWAlWVWfE9HzoNp72/0XrKmju5Zjgudtix+Z+E3jO8cViOqw39qWTeEIatmk79QYe0pSeKP2Asgx4Vn29wgCIRsU6MSL0MzbCd8YW+jqx1j0TIKQMj+KmX+2J46/DpqS4wU/beliSeR4g8ANGhPiMPhqNfLNHJttYp+E1nqf5ODPkRapMIo6qWSi4LA7jRB8iJjPHM5tAX/4pT5x3CqD/7m+OsHgajOPUW8f/IYb/Q2wmA6FQdl5PsszkWXAEtf+9F3iCK9+W/Oly//8zldeQFF/8us/WxVL5z3X2BWvhdZXwu12vvWUB3NBEXLUj0wjNEe1Ej4eEP2Z5L77VmOjIEx49LgKF9uHoiKVD7oYAQJLwEQYAABAn0QAAZtB9bxd9YwKV8xO/1VeGfv4BR0sMyBoqDoNavwT7jzd3/HxnuMWtVTL+nQmqWd/HyXA71IE/eYEUyriYehtUe3do24Dhurr7Vct3wj6H5I6iFDHyiIOWZfKv/3QXfwm7GTWUMFz6kxRbmk0VMqOQXPOqOzcqWv5+9vLtwYHDA3DQoTQb8F28Zsp1chzqPSJt9Y22McBLa5SfH92zhB1p6h4jklTLvd2FOizB7O2RuIJJg0IAD/AO9gI4JBwYGAAP0H/d+jx3M/39/yfm//V+P7xP6OIPVe+L+yP9338X0H/E/M/g+T+7436Ptn/i/jfm+i8b8j+D4n/XfaH4v3fu+R/B4v133Mfo+xfxfI/i/R+7z5f/Dfe9/xv+I/677G/ziko8+r9L7r/8n9uf6d+o1Z2zh/Zvk9U914taj+N8n4HYPn9U/4H072mrPn+99p7343Cete36d6i9Puvje6/cvgf0v1T129L3/G9p/sT2n+SfD/mfXe36R6xwj9j97TAX2z7HjkdR9K6F7F1F6703uR7F075H7Pifm+F/jErOzW/P6fmfn+R+gjHRFVHETtBb+6/n9m+f1T4G7AFnIAB8gZpAAr3gAhe0EKvrFjNmBpsPRuyzVF6Wn/m02/kBCGAWl/eO9g/ecV2QX9Jgb6NHhNZP+jtH58/ilQz5Oob6vI5YOnmRmXTLMBMZQH6PqZxHCXlCM51Mv4is/lHkJXKyS8ztD+zfes7JDK5UPDQhLbsVrtCEGKkjzgTmbmwUFqSB00IWgbfKnho6i1PMpNyX6STlwoHcnYpji4AE/LCuXyyo5nPSKgtvlsN35bL+ukEzRq2iKOKncZcTZpJrvxGzE1y+H3RQ8WbuYudDC0rHCADtzCilG/8LdesbwLsxFpokeh4e71hbA3LKUP14dpElXCY9NVYrdP7B4uExOHurIyOFZzOAux5Q9PUfGd5OWgsMC9vY2vgCzykgBFbYKhswzDaomimbPhUZMQevip1G0CJEGMwbrVJdxpnnbipxY3WlncF2voLdWWmOICFxwZXjurb0XDraDwJG20+BK6lLES1KCkmnuZ3CYHapG1y41u4ZdEHYQxePoC+kdskJ8zMHkG/9k+QUvovY9LldLavJ+9TrkbgfcMDHmcIMmm1Or8fH0ScON2LyWQRERcCNPY9zUX//rQYpVT47NhkBG8ldU5GdNWiE4f2392hcv1LSDbEXXSR3k0Sunsapzon765Kq3IfGnY7zP9TJeqOS4P1lgKUIrcKpVll1Aj2J2iG0nNI/0xVgfb547bUl1Ue68kj2cODdJJwz2BDeScgQ2jSl4c6bOb9x07VaJ1qetRD56T/cf/9PxS1d3h48DnBtJ8/1uyjWYhFGOu9gUtRfagjUAinrbi3lkGg2mSm5ksYMZu5z/3QedCVt/Ugk2K9Lt5uxjvYvIyXyV1B9PsGA62MtWqtAGGQMlia/69mfPfPa2dVZyRyf/a+I4aOde4F+9+MS0OeDOASeBr0XPp7KLV4a94kXfnvbe+oq/pmghBZo9nZoTE9OTm4ufKGwFTX4Kqq0b3OqFUMeXy6BpteNmXt58yzIUfNBCg2hzWyyFZszlL7bxznMHSxzOhRUj0Y4/tsjFkCAS96xUKh+bDwu2ytg7hVbUFvrN9Cih8fJ6ArIKoEqhUoSfBTIz8ZiPslaqrJeiIvvs0TE6D6BPe+EIuQjOyouko+lhul7vzn54UoFP1mAsr1k9EoIXqRAhAeT/0q1DZurvr/BEfY6/cX04Uh9M9lEDnufJEBn/tJFuQHkwpBIEJM+m9zqRAJLUM37zpryARHqQPMyEQE/1HH70XEInFFary7Nxc+UNgKmvwVVVo3udUKoY8vl0DTa8bMvbz5lmQo+aCFBtDmtlkKzZnKX23jnOYOlkJgiNWL1b2fna2RehGhsuIlxGF+xSv3wpk3dIWy1U2/bUUPlvV4sAZdrn4cuVDw0IS27Fa7QhBipI84E5m5sFBakgdNCFoG3yp42N+BXANw7HA28cYE4w8rIdjKozrH60AyNTrZUBa34kv77mrbCuzagR68vWTRD+GDF+xpDNakEqvgr67lKSy7ZbkOWQ02BXx9LkWT3hu1rDD75RpCtkdDJT+0rznzelLoLi/eC0slBaYFQlmz24xf+GSlH9bVnVTgGhU9aQjHvlMAHJ+HBwBwIUky6F6BtLFGD4Wx0699XWgpKOjSOQNT9ecGPuj5SIPrsYtLGRhcB85qdMQLNYW3dk2gtEiye6/Wdqk07Ti9m2F8N1XlLTkfMfiCCm3bmLSpGOI7mXjEHL4CvXGHqhEWEH6yOFlGnRWv6AP/3WzdRBC9Tc1LuzElfoWGwhwzcgkgsIPmYtl9HWPrOxr0afUlBamakMjQIiKB6FUDEHD4lDQ39h8CqBAf3gzE0sXQIVOrCV4bURbl4PemNmCyGo5hHP7uMcp+Q6uggfSuQbUEawDJ/17LxTkvKaRYq7w0c788i2PCijT92tWxRjjXqkzVxfG6QrHHs8c4sNf9VygzbfFrmpC/RVt2XuW2QNDqW1lchh7ZUYyfrpOQfULEvdOyCetEiye3eb8QjOQHFeg4gcQJyh6Epgp7HoRL3p7VmayqcBPN3YQ1vSxz4uU75KVORQ2HEeijBRcIc49EAcwgPwa1hQhZNNWiqTq6nG4RdSirNcbId0rrsEzkgY2p5ngsh4S+mh2tN3qYO4TsFHuEb8Rjx9jenpcUZuCU4Mh2DMxmWXqSNb6pp4827Drs2qORXyKEMIgg4ybg4aQZcY5wXY/YywcpV1b8wFbixMm2XuK3VDsHD/DkLWTmK1BEufa5h/1fWEQrGaXG7oK3fYh/1pv/79BwdQHgAlVDx3ie4fGJXi8I20m187vxtmvRN3bTAd5ju2Q5Qgz7eULj392fp6t9emNQkE692zLjrNp8MGjpG7Pu/u86Ol1AcUqsHLSdiyV2e2dsBomfuTZ/mVnbx1fKGM/hAtWidK+diuBgPlQTT4q35KZ3vdPLz5YwriTsv94J7yOJAa/bmrB3oUlj4F1F+2wnXM3nAw99TFDzYZ3nwkMyVDWltfP/vGEtqir3x37tCxJUpdEilxWN1oqE9/vjQrcUGvegOjY6OHwN1Mw2Stn8/xi/A+URfgbZ0500r6KaN8XP550asni59sIZSYiCOmf22qEROabUVheM3PNGgP1fgryp/lJ+7CJcBIQtwWyvx3OKMiE8qmjBdfFjVaCrCn49YG++EhzqHVtZ9irdhlr1UYfhb+6AhcL/diIul+Qwv4PP9OI0SSUeM6eq5EbgVL4jkdwEwpNmpEV/Mi+MrNcazAgRFsRDjGSkHIOMnMt5nPk8RqT3qKbBL8BS5RwWf6E2GlcgAfSVnUe+rr2Xq9P5+rmNbZhPlej7KTJFukl1GewhPfCFtqyz1H7mMxNWuqSXQB8Bquk8lmBmt/btQN5fhr8kvv3F1RYpxSZDzcE1mDjUidmYGzuRYWWOZnt7ZEdvgrXtsOnv+/e/ESikIpSuSVot1XxATI93vdviXOj3CTK8CTAjoF+jnh+DYpFv1KB8I5TI17xGIAkPBmjPVq6UcuvzfrhwFSOZO4uVae8EPTniOEV5T7pklIaKsDdCZwR3SHXqbgE/itDeSX3+oWFm6TZB5SIoC8uxP12FVexTBioxFjs1wC84nKa4w61Kt+XuNlrCb5tN5OsBZAT0unPgUBF8mRHAJRlXJngeDoYp4sE26EW1KtLug6jmQcvW5FUj48Jh+sVbD23UVmh5f97kqPQWiYHrST4tpV/79vUyArdRLck0C3XXIu5Jt8YT9zoPhJLKngcRb6XmzrPg69KzVNeER290s/dCPqX5ecduCSN2PRhwF+Vtvjs/5GftCRy/taDfTu6/LW66alr3bs4fWlCD9nrQOvn/vf0zLXuoF9tgQvSHcy8WhAEUQ7ZT2AgrrX9jmVFNYDGJWzgeiA7TDJCOGghB+UIxPbRZIeKWj00BhuaShS6/qXzoqJyN7OBb8nIxz2SZi2hYPAFbFfQWlwUxQWO6ATSJKxYYnRP68VTynRqVmaNtGNbhEOzAsd1nFKh4LbMJf55RgnK/hz9cBF4NQ/9aVa2LOwyayig9WbcGcciENTyn+gha8nGA0oonDYlFD4GqjIxpn982TIpXIx/6pwR8s3ulAjAj7W5nZdpu9WqegEYEfa3M7Lt42EZO9ZEUEeFj3iNQrGzmBceKhc4BJFf460f388DABepsWJiFGvuwCmOTW9T8VvPwnAA4BSZoLfKfOlfY6xCcbsH00NY9QI29g6Tnmq3y4Hqx3DGaAUothrKtY3wBaNUFiXu/8cSpH7iCFcnWzyUhZldrBcuaJeavQjTa/M9QXC0ZRpghkr/ysBcinmesGN0qMYEGLJrKHcb9zlABby7JHzzaX556uul1aYNIkm5xOYxmRRwjTOTLjtpP9MHHSFlBJ7Uk629f1S+hl4GihI+TsU0seug4muqMkCgzJLGQkZB7tB8lxwk3H6RR2D28m0uuf1tF/jEBVBQhfvf3vma/XjvMVDPo434SbfUEjrQkGKWD256mQjdFj7uwZsL6vyjtH2YWKxGFem/LdWFJtVqphTgsv/H1iy9WT2F+5rl3LxMUVWYkhaRnwjo5NbgXxe33cpBbnvGwEu3pPdu2/HzZSciS2hA3XQ7kYHc+1RGOoNRAhrWw8zdmbG3OW2W6RiX58xwnkxgfWC/zEa+0awkzqcllNz7ZADik5l56AWYMx297pUVrYtEriU+JEBz5BD3rKGY9n3PuDEa4VxS1L0agKeH84BPkNaC6Bq4xCPnEehwYJf0ix+/pJh6kSAo4HbyVtUMERN4ndcv25KeVlW1tXVo9XduNrVu+QATZ9QqxWOUS0j7tA7ARRQIdtrSLy610PzTuAyeu9W4F/D+EkV/jrR/f0OnesiKCPCx7xGoVjZzD8XMOmHCPncn+6wCtEolqZQUpP+CO+WiRfB0HioXOASRX+OtH9/Q6d6yIoI8LHvEahWNnMKbX/PgBXMjnW50VMwjH5oAkRBGc1A1VpOR2gsrFIq93BKEbmZ/Qqo9ebDrKmu5D1douPjEIfVSxLWOW7F2wMeWDu+u3veT8SmqBav1OoiJIZwJtI7Qc/n+tmP83CCFANN9H3IDmJAmW78U1SAw34bMVezn90NRA9hS2OQqkWzS9yvyCC4o6tmhY8LOl5ACLtcbYN4n87sHCl+UkDPRx3I+Xx7DEldMYmdEK3RTWA8fY210o49KXY5E06fqzfP1mL6pFuj/NW5ZKgiXaanEZ9+G+Awv9Gor9NUDeVLc7FRrl0tF6+HF1yXqqd1wKSbxgaar3IrCVD973uhiZceOqHvpWyJ63l+Nv1Df4OxQmwOfdbhpaQl0NlBFXQB0miq+CxAJ9Y8UV46bENwr6MeJxR3IWvMp+/3HKWueUShSmIPgptoUiDfdaTHTkSjT2z2ltvC2LJbkjUUmL12d9lPV3x7dOa9eUOYbGU2BdblMOTuE29Cf2P7zAtGFgTdfl8C0soxt4cac1mcxXsViD3kq9PYVnBtj9IbkAQxbWBvjLImjqPkBepSJJwx9OvpWxAEkUB0yppKhQBZS+F/o1FfpqgMXRPBygd64wu3B8hjgASaJw5rxH0HMx3v38q7im3+TC3eIbBJmyX/78Fv03q1lL/mipEWaSM0F3XTUAMT01j5mdpVVHaPUfXPZsOX+Wadq7dOvmlkbVoHPD3xf4Rr76WRZ8WLAlAQ003mRG/ssa2B/swOFVubAhLVjElidCpzAb8QMKV5+HPV91fvnq26BwlNeHerZqzW7Rq0c1L/J/n8/1syASoHj8DT1qffJb49UWyiCc6LGhqoRoZwhiTB7Fg8KXvwEQBuLxEjAiXuC319JkqicEJCp1+ESsAMCly+lnlanwelFyvgt6ChtlcnH2YL08VjcwNJaGgJVgRWFrlMrer4lUPEWGhCSuExXGLkq9tcDzB4s9GDIQtPXbugb0WG2YCttn6Kv1Zvn6GywIggEbLAPcWYMmJejsWTEmaa7shd3+BXRTnRzKtcZjGKiOLYs7G1Vwa//1lj7sRiDFfLrIbBXMpE8ysDvOpDdFCxyR4J0bfqG/wdiVtlz7rcNLSEuhtxHdtop8zgRWTIEqO0OWz4/5Zp2rt06+aWRtWgc8PfF/hGvvpZFnxYsCUBDTTeZbzH42i5dU7At1KYfEDAm8qcq5T0/E8Xx+4PDJJ9BFbBGYtyD1BxmEnZLYzLYARdrlroEgtfQIlohLm65QhsAVyG9MHIzrexH1OLW4+NDTehTuoJTiAmLh7aURGXe5+KlRLAaisLXc4qe4/NIsLJiTNNd2Qu7/Aropzo5lWuMxjFRHFsWdjaq4Nf/6yx92IxBivl1kNgrmUieZWB3nUhuihY5I8E6Nv1Df4OxK2y591uGlpCXQ24ju20U+ZwIrJkCVHaHLZ8f8s07V26dfNLI2rQOeHvi/wjX30siz4sWBKAhppvMvJYd6K9s1jjSZc+7lYgKhw9UQBu0d1Ce/sstvVS1D1QL4LwbuNUKxNyRTgMTkjCLEa8eb5z1050MygSzRiwGD2nFTYz8xWIPeSr09hVyyeLbghTuoJThcMNBY734oXlkYOzNbA+3BlvVRwNXW63SADippfaWEBmMS3aCMJWaG5P487kercunle3CqDpAk3jA01XuRWEpiKbOj+0A3qXo1/tyNP85Grn5iSueEEkHfgSlXfeQnAIV3iXA1MSk0VXwWIZIddl1cg/zSmGkpXQMC9Z/88bm6Cr5/f2vtvgHbdCSBDu3jWAsihegiPF+1xivF+4pf8Cmc65Zh8oTM9sQVM2114/9DmGxlpoPvdv/3TO4Tbz+KwIrCygtze5RoT2/jQd2zMb7rrTYz8xWCQIL9hMTh0X6pjFseRhW5oGRKtEeXOTThcaYhxc5+M3XOKnucs0iwsmJM013ZC7v8CuinOjmVa4zGMVEcWxZ2Nqrg1//rLH3YjEGK+XWQ2Ps8mnQ1d7zZCtB0eXIDbGrn5iSueE2bFO3bSmFbUUMPZpWwd6tZS2sNEdrIdXZ9t8dmUtXbq9m6AwmpxNvkkEmnq/y4WOhbk9vEIazrpxh24xoswZFoNE8hy4Ka9e1i96c7ezHW8E44dBXHlEUVyGLKGUMul/+6Z3CbefxWBFYWUFub3KNCe38aDu2ZjfddabGfmKwSBBfsJicOi/VMYtjyMK3NAyJVojy5yacLjTEOLnPxm65xU9x+aRYWTEmaa7shd3+BXRTnRzKtcZjGKiOLYs7G1Vwa//1lj7sRiDFfLrIbCHgwcN0TZTA7INJ9J3z8DB5OawvO1xQqiST+BV2UyuOMPZpWwd6tZS2sNEdrIdXZ9t8dmUtXbq9m6Awm846PzGLooeY1YRA7t2E3LD1JEmYDj9+HrYMpj/oxH0nd/wxPJ+UlyFhsdbwTjh0FceURRXIYsoZQy6X/7pncJt5/FYEVhZQW5vco0J7fxoO7ZmN911psZ+YrBIEF+wmJw6L9Uxi2PIwrc0DIlWiPLnJpwuNMQ4uc/GbrnFT3OWaRYWTEmaa7shd3+BXRTnRzKtcZjGKiOLYs7G1Vwa//1lj7sRiDFfLrIbH2eTTQnzX8e5n1U1kaVbskWFoP3nhCAKf2DwphW1FDD2aVsHerWUtrDRHayHV2fbfHZlLV26vZugMJvOOj8xi6KHmNWEQO7dhNyw9SRJmA5E3nrp2hV74Rcy+inoqsxz6dEStH2BxoYV2kANmqpVZ9W277Vl1xnC880+phTL7daVfpmhTNu6hbcnHQ60vKywppMUnX2kcjER8/CT4+mYELyajEeqz5+Enx9N/aoaJuNOJkbrEtiMkjv0JHSrXfyyVROCEhU6/CJWAGBS5fSzytT4PSi5XwW9BQ2yuTj7VcP/VaSZx4WdQWM/UWIFrkRtil+OS0+uFWgWQORyJOBLjvlO+VGIu41XNqzrSa9lm+GwSXvh6lPRRD0Yy+88vY3lXqDYogE7WU+34b4DC/0aiv01QGLong5QO9cYXbg+QxwAJNE4c14j6DmY737+VdwZ1ygf8rWDx1Q82tSCSihX5P6B4LBXfsVT+weFMK2ooYJSwH7UF00oxupSZ1ArA/hD63NJhUVrzaVSq0NFMf7t/MmSL13M/SB5N0yCGdbLsx2CmyYcL2ukPLSqQP3vccF4qjkufe6jgUWkHJZZXHro0xsO+XjIwTTYRdVQAi7XLXQJBa+gRLRCXN1yhDYArkN6YORnW9iPqcWtx8aGm9CndQSnEtXB82iEWWsfiLsKaqWA8x/h7U8B670iwsmJM013ZC7v8CuinOjmVa4zGMVEcWxZ2Nqrg1//rLH3YjEGK+XWQ2InxixiZ3v2bFB33k5RojZmLSCV5/FmKp/YPCmFbUUMPDVgP2oLppRjdSkzqBNg+OzAV7uzWIrMeK0gmDl7lXGEDcxo5KHq4TybpkEM62TyQOmqHbxy0dLbeFsWS3JGouhm0TvN2ZBPvR3Q8R5cSmmX4fAIPJjYQWj+VRhD/eXnPh3K2fJuBqwlyQEdXtzKZ3f9ltcDzB4s9GDIQtPXbugb0WG2Yl+dVbVyTSzP5F7QpRzpBur3FmDKdOPn7pABxU0vtLCAzGJbrewP0ohFNmU/sDYrAa7NEvFjS5c+o8e5zEG8nnsgeKCQg9PhdPfLz+FxYH9HbWUv+aKkRZpIzQXddNQAxPTWPmZ2lVUdo9R9c9mw5f5Zp2rt06+aWRtXsQKYUq/AYvD0l/8MEqlzwyYzVs3P5iw534ISFTr8IlYAYFLnEim+DwRaayC0XE/ctOEamszXnrHwJ3mzmmJyX/cDaoNZrC5Sd7S0KX5SQM9G85rM5ivYrEHvJV6ewrODbH6Q3IAhi2sJ9ISvyov7UDrXgRdzneTGy28aQmA448jil2s0VmUyi5Vl22GqNjzzdrAOXLIcHcmQs1ijbOIsmPyADPm+Oo5PTPCGMfaXp8Lp75efwuLA/o7ayl/zRUiLNJGaC7rpqAGJ6ax8zO0qqjtHqPrns2HL/LNO1dunXzSyNq9iBTClX4DF4ekv/hglUueGTGatmAttUBYPfuviCMA5PrQo4GQXFhFuJJX6ZwGtSnOb31Q1Uj6t+3f/3TO4Tbz+KwIrCygtze5RoT2/jQd2zMb7rrTYz8xWCQIL9hMTh0X6pjFseRhW5oGRKtEeXOTThcaYhxc5+M3XOKnucs0iwsmJM013ZC7v8CuinOjmVa4zGMVEcWxZ2Nqrg1//rLH3YjEGK+XWQ2Ps8mmhPmv49zPqprI0q3ZIsLQfvPCEAU/sHhTCtqKGHs0rYO9WspbWGiO1kOrs+2+OzKWrt1ezdAYTecdH5jF0UPMasIgd27Cblh6kiTMBx+/D1sGUx/0Yj6Tu/4Ynk/KT3BGvxsDdy8ha94qGXq1GHUfVv27/+6Z3CbefxWBFYWUFub3KNCe38aDu2ZjfddabGfmKwSBBfsJicOi/VMYtjyMK3NAyKZs4zdyyYji7l/+8PSUAiN+NIsn4umYsz8DTnaOzezbrKWkGErNDcn8edyPVuXTyvbhVB0gSbxgaar3IrCU/tubiAxlW+ZS91XuAjjlePo++CRlggKwHf+JgnhH2YEjz5kd837hfxov72CM3ksHphx1nfIhqf4CUJ/lDmqYqjne25oq9Tms1/it5xLqMO3GNFmDItBonkOXBTXr2sXvTnb2Y63gnHEvIsd+DgtolsAhj4uf/3TO4Tbz+KwIrCygtze5RoT2/jQd2zMb7rrTYz8xWCQIL9hMTh0X6pjFseRhW5oEPt9g5nlTirkvIcXRSRh83jSEvah4nEZ9+G+Awv9Gor9NUBi6J4OUDvXGF24PkMcACTROHNeI+g5mO9+/lXcmTQQqyt0VPKRll8qjzPCAvhl5bPkKqqc+63DS0hLobc46nanN31TBWTIEqO0CclyD/+8HfvuhRNKpUimJs5TVgQYVJfT3YIHHf4recS6jDtEz1SKbjsPR7XUbT2tyY8WZ/scrIs/oFMI131Y8tmA4I2c6pYn//dM7hNvP4rAisLKC3N7lGhPb+NB3bMxvuutNjPzFYJAgv2ExOHRfqmMWx5GFbmgQ+32DmeVOKuS8hxdFJGHzeNIS9qHicRn34b4DC/0aiv01QGLong5QO9cYXbg+QxwAJNE4c14j6DmY737+VdyZNBCyZJhPq2KblJcBHHK8fR98EjK56pKXbkHFeOD1Fo5pKdOgSmiq+CxAJ9Y2fkBNim+66VA2HFHcgxdDVbdauhfV5TN1CyMVBjEGHuaThNeiS/5dcwUQUe11G09rcmPFnfMbo3bGEV7PDZQDggc8qu6a7SNvmjSTOPCzqCxn6ixPbwZ0+j/ehuQkur7UQSto4+L55WrCTN8qRZxo0wJrMx5GFbmiCi5Bba1t2+fiLsKaqWA8x/h7U8B6xO1lPt+G+Awv9Gor9NUBi6J4OUDvXGF24PkMcACTROHNeI+g5mO9+/lXcXjTrePgR7kl7WXMwI8JaDwryVKQEAnwWv5HjNHhH2YCwFTC7W+RwFViQpli/PYChsCwpollwb/0OQepoHKeAbdaxYz0qFhQOlumQQzrZdj31B0Hv3XxBGAcn1oUcDIZtaBPOItZSa7idlznka0olF2XTiAcZhJ2S2My2AEXa5a6BILX0CJaIS5uuUIbAFchvTByM63sR9Ti1uPjQ03oU7qCU4ldSwNuTyjOit6BB+4sK5CNLkWiYdWJ2sp9vw3wGF/o1FfpqgMXRPBygd64wu3B8hjgASaJw5rxH0HMx3v38q7i8adbx8CPckvay5mBHhLQeFeSpSAgE+C1/I8Zo8I+zAWAqYXa3yOAqsSFMsX57AUNgWFNEsuDf+hyD1NA5TwDbrWLGelQsKB0t0yCGdbKFn7wBYi/osiN6m/B1x/OdZFlyBykW5pmE0UeujNhuvH8g3Yf2e5GmjZipIi4zmvShkMFfi2df/fjI+jw+bOewiQD4bVkjR7/RWCApQTnKXKHWHeSoHwCZc+rSJhdAcsC0ZYQmTmkqe/1WkmceFnUFjP1Fie3gzp9H+9DchJdX2oglbRx8XzytWEmb5UizjRpgTWZjyMK3NEFFyC21rbt8/EXYU1UsB5j/D2p4D1idrKfb8N8Bhf6NRX6aoDF0TwcoHeuMLtwfIY4AEmicOa8R9BzMd79/Ku4vGnW8fAj3JL2suZgR4S0HhXkqUgIBPgtfyPGaPCPswFgKmF2t8jgKrEhTLF+ewFDYFhTRLLg3/ocg9TQOU8A261ixnpULCgdLdMghnWy4eu1NrxJVTsNYm3olrqD3KmW22Nnbk2OGhfJehtlxiHGDqCfLyxuYGktDQEqwIrC1ymVvV8SqHiLDQhJXCYrjFyVe2uB5g8WejBkIWnrt3QN6LDbMXlkFNta27fPvoLTfPwKpI0tpxAZEDgoUz8kSHxztHZvZt1lLSDCVmhuT+PO5Hq3Lp5Xtwqg6QJN4wNNV7kVhKLdmLGJne/YCrGFiFyjaXMjZz9Xvr27Yp27aUwraihh4asB+1BdNKMbqUmdQJsHx2YCvd2axFZjxWkEwcvc2oaIytc1BjBGvo4yrZoadBYdoKgLB7918QRgHJ9aFHAyDirHkEevYzP8DTkNqK+a/zHHpLwe//dM7hNvP4rAisLKC3N7lGhPb+NB3bMxvuutNjPzFYJAgv2ExOHRfqmMWx5GFbmgQ+32DmeVOKuS8hxdFJGHzeNIS9qHicRn34b4DC/0aiv01QGLong5QO9cYXbg+QxwAJNE4c14j6DmY737+VdyZNBCyZJhPq2KblJcBHHK8fR98EjK56pKXbkHFeOD1Fo5pKdOgSmiq+CxAJ9Y2fkBNim+66VA2HFHcgxdDVbdauhfV5TN1CyMVBjEGHuaThOSH1sF8c2z2ltvC2LJbkjUWe4I1+NgctA2bXnioZerUYdR9W/bv/7pncJt5/FYEVhZQW5vco0J7fxoO7ZmN911psZ+YrBIEF+wmJw6L9Uxi2PIwrc0CH2+wczypxVyXkOLopIw+bxpCXtQ8TiM+/DfAYX+jUV+mqAxdE8HKB3rjC7cHyGOABJonDmvEfQczHe/fyruTJoIWTJMJ9WxTcpLgI45Xj6PvgkZXPVJS7cg4rxweotHNJTp0CU0VXwWIBPrGz8gJsU33XSoGw4o7kGLoarbrV0L6vKZuoWRioMYgw9zScJy2R9gvjm2e0tt4WxZLckaiz3BGvxsDloGza88VDL1ajDqPq37d//dM7hNvP4rAisLKC3N7lGhPb+NB3bMxvuutNjPzFYJAgv2ExOHRfqmMWx5GFbmgQ+32DmeVOKuS8hxdFJGHzeNIS9qHicRn34b4DC/0aiv01QGLong5QO9cYXbg+QxwAJNE4c14j6DmY737+VdyZNBCyZJhPq2KblJcBHHK8fR98EjK56pKXbkHFeOD1Fo5pKdOgSmiq+CxAJ9Y2fkBNim+66VA2HFHcgxdDVbdauhfV5TN1CyMVBjEGHuaThOSH1sF8c2z2ltvC2LJbkjUWe4I1+NgctA2bXnioZerUYdR9W/bv/7pncJt5/FYEVhZQW5vco0J7fxoO7ZmN911psZ+YrBIEF+wmJw6L9Uxi2PIwrc0DIlWiPLnJpwuNMQ4uc/GbrnFT3OWaRYWTEmaa7shd3+BXRTnRzKtcZjGKiOLYs7G1Vwa//1lj7sRiDFfLrIbH2eTToau95shWg6PLkBtjVz8xJXPCbNinbtpTCtqKGHs0rYO9WspbWGiO1kOrs+2+OzKWrt1ezdAYTU4m3ySCTT1f5cLHQtye3iENZ104w/xKbt+AWAkZa/I+2dLqx2wFz85KdTX/qa6KsoTlOeBH/m4Br80WgBUfEcHlMJDz+JP0oGb/BC49kTuQts9rVDeFjGl6cQoZyj7/A/FWt+awPu1PnSZc7np5nxCk2XaVUXG0g7Uo47vggPWzXK9586QCqy147lj0t1WUP0whpbjPMOk+arH6u2GR4WWq7Efi0QPc3souFl5i20MwYLp0V6SsXcAqnHJxXF7M0qa2MUJkw5S+Fmor2/n4D9BWdWUTgDqU18T2Fn5U8n+ToFCTapx5rrMj4+X+CFx7Inb/9iI3NjTFOpdqvFKznWSSxZAgLawPu1PnSZc7np5nxCk2XaVUXG0g7Uo47vggPWzXK9586QCqy147lj0t1WUP0whpbjPMOk+arH6u2GR4WWq7Efi0QPc3souFl5i20Sn304n9DVAR2cSSbdRtPa3JjxY4jCLcSSxOsr7C6MC9hTdqw0hB4yeMjBNNhF1VACLtctdAkFr6BEtEJc3XKENgCuQ3pg5Gdb2I+pxa3Hxoab0Kd1BKcQExcPbSiIy73PxUqJYDUVha7nFT3H5pFhZMSZpruyF3f4FdFOdHMq1xmMYqI4tizsbVXBr//WWPuxGIMV8ushsFcykTzKwO86kN0ULHJHgnRt+ob/B2JW2XPutw0tIS6G3Ed22inzOBFZMgSo7Q5bPj/lmnau3Tr5pZG1aBzw98X+Ea++lkWfFiwJQENNN5ljVEGGmCiCj2uo2ntbkx4saDlPT8TxfH5dD1j1QL4LwbsrV4yeMjBNNhF1VACLtctdAkFr6BEtEJc3XKENgCuQ3pg5Gdb2I+pxa3Hxoab0Kd1BKcQExcPbSiIy73PxUqJYDUVha7nFT3H5pFhZMSZpruyF3f4FdFOdHMq1xmMYqI4tizsbVXBr//WWPuxGIMV8ushsFcykTzKwO86kN0ULHJHgnRt+ob/B2JW2XPutw0tIS6G3Ed22inzOBFZMgSo7Q5bPj/lmnau3Tr5pZG1aBzw98X+Ea++lkWfFiwJQENNN5l5M4mv21FjfRegs4MIQitdW27xPvCT77gtixhl9trkHKWVGBpCBjuEOKubHBJDz+JP0oGb/BC49kTt/+xEbmxpinUu1XilZzrJJYsgQFtYH3anzpMudz08z4hSbLtKqLjaQdqUcd3wQHrZrle8+dIBVZa8dyx6W6rKH6YQ0txnmHSfNVj9XbDI8LLVdiPxaIHub2UXCy8xbaJT77sHpEkVMhaP2JOyJSwV7vHP+lmSZjvok6yb3rpDciPVBOOpwRxndQN8wJlNCjRiZBYx1toRk13eweHW/RsrGQ1eKaegRix57IHvhmBU6/CJWAGBS5jo9QBT6u2T1RLQR7GcZgOCNCw1O7WwgtH8qjCH+8vOfDuVs+TcDVhLkgI6vbmUzu/7La4HmDxZ6MGQhaeu3dA3osNswFbbP0VfqzfP0NlgRBAI2WAe4swZMS9HYsmJM013ZC7v8CuinOjmVa4zGMVEcWxZ2Nqrg1//rLH3YjEGK+XWQ2CuZSJ5lYHedSG6KFjkjwTo2/UN/g7ErbLn3W4aWkJdDbiO7bRT5nAismQJUdoctnx/yzTtXbp180sjatA54e+L/CNffSyLPixYEoCGmm8yrR7oOGjl5YWEQ1OktdQe4n2g5WRZ/QKaOftCZV2hYBD8OqE7BMTslopCh/7k4TiNREiacZDGwBe4RXKENgCuQ3pg5Gdb2I+pxa3Hxoab0Kd1BKcS1cHzaIRZax+IuwpqpYDzH+HtTwDgy3W6QAcVNL7SwgMxiW63sD9KIRTZlP7A2KwGuzRLxY0uXPqPHucxBvJ5341Y3QxMuPHVDza1IJKKFfk/oHgsFd+xVP7B4Uwraihh4asB+1BdNKMbqUmdQJsHx2YCvd2axFZjxWkEwcvcq4wgbmNHJQ9XCeTdMghnWyvrD1sGUx/0Yj6Tu/4Ynk/KS5Cw2Ot4Jxw6CuPKIorkMWUMoZdL/90zuE28/isCKwsoLc3uUaE9v40HdszG+6602M/MVgkCC/YTE4dF+qYxbHkYVuaBkSrRHlzk04XGmIcXOfjN1zip7j80iwsmJM013ZC7v8CuinOjmVa4zGMVEcWxZ2Nqrg1//rLH3YjEGK+XWQ2EPBg4bomymB2QaT6Tvn4GDyc1hedrihVEkn8CrsplccYezStg71ayltYaI7WQ6uz7b47Mpau3V7N0BhN5x0fmMXRQ8xqwiB3bsJuWHqSJMwHH78PWwZTH/RiPpO7/hieT8pLkLDY63gnHDoK48oiiuQxZQyhl0v/3TO4Tbz+KwIrCygtze5RoT2/jQd2zMb7rrTYz8xWCQIL9hMTh0X6pjFseRhW5oGRKtEeXOTThcaYhxc5+M3XOKnucs0iwsmJM013ZC7v8CuinOjmVa4zGMVEcWxZ2Nqrg1//rLH3YjEGK+XWQ2Ps8mmhPmv49zPqprI0q3ZIsLQfvPCEAU/sHhTCtqKGHs0rYO9WspbWGiO1kOrs+2+OzKWrt1ezdAYTecdH5jF0UPMasIgd27Cblh6kiTMBx/cfFsGUx/0Yj6Tu/4Ynk/KS5Cw2Ot4Jxw6CuPKIorkMWUMoZdL/90zuE28/isCKwsoLc3uUaE9v40HdszG+6602M/MVgkCC/YTE4dF+qYxbHkYVuaBkSrRHlzk04XGmIcXOfjN1zip7nLNIsLJiTNNd2Qu7/Aropzo5lWuMxjFRHFsWdjaq4Nf/6yx92IxBivl1kNj7PJpoT5r+Pcz6qayNKt2SLC0H7zwhAFP7B4Uwraihh7NK2DvVrKW1hojtZDq7Ptvjsylq7dXs3QGE3nHR+YxdFDzGrCIHduwm5YepIkzAcfvw9bBlMf9GI+k7v+GJ5PykuQsNjreCccOgrjyiKK5DFlDKGXS//dM7hNvP4rAisLKC3N7lGhPb+NB3bMxvuutNjPzFYJAgv2ExOHRfqmMWx5GFbmgZFM2cZu5ZMRxdy//eHpKARG/GkWT8XTMWZ+BpztHZvZt1lLSDCVmhuT+PO5Hq3Lp5Xtwqg6QJN4wNNV7kVhKf23NxAYyrfMpeuIsjSrdkiwtB+88Js2Kdu2lMK2ooYezStg71ayltYaI7WQ6uz7b47Mpau3V7N0BhNaPnCrXr4Ho6JU6PJpnLRj59ohue54AIYAQJLwIQYAABAmrAAAZ+oYrWkwjClRbM5Xsqx/CD0W1Jr9w3qQ/xQ8TDrkdS5JRPy7v9r+Pmbys02DlTNKTJjprCKUFsJhIZfC//Kvb2CZmiLfAtbv0L6N7FNHa5jZ9VVPF9oeu1NUtasnf//6+ev6F//SSC9Xq0yUnnBReWH9Rp56PP6OIiKO0NLU/yeujYYI+f2TjPd9yX40ONjhlD892rG1aKKgXzgKrew7ZI9gxg8P+ONSNtJcl6yCmx/+S7GSekPV8+taPe8V2DsR1wyf/4Twf1LqsJmRyM74A6bx3HApLMJ8yEjUowFussnUy971PpvjTj2zSK7lMK+fT0Ha99m/YgZz6Cu6AAAAA9Ftb292AAAAbG12aGQAAAAAAAAAAAAAAAAAAAPoAAAGgwABAAABAAAAAAAAAAAAAAAAAQAAAAAAAAAAAAAAAAAAAAEAAAAAAAAAAAAAAAAAAEAAAAAAAAAAAAAAAAAAAAAAAAAAAAAAAAAAAAAAAAACAAAC+3RyYWsAAABcdGtoZAAAAAMAAAAAAAAAAAAAAAEAAAAAAAAGgwAAAAAAAAAAAAAAAAAAAAAAAQAAAAAAAAAAAAAAAAAAAAEAAAAAAAAAAAAAAAAAAEAAAAABAAAAAPAAAAAAACRlZHRzAAAAHGVsc3QAAAAAAAAAAQAABoMAAAAAAAEAAAAAAnNtZGlhAAAAIG1kaGQAAAAAAAAAAAAAAAAAADwAAABkAFXEAAAAAAAtaGRscgAAAAAAAAAAdmlkZQAAAAAAAAAAAAAAAFZpZGVvSGFuZGxlcgAAAAIebWluZgAAABR2bWhkAAAAAQAAAAAAAAAAAAAAJGRpbmYAAAAcZHJlZgAAAAAAAAABAAAADHVybCAAAAABAAAB3nN0YmwAAACOc3RzZAAAAAAAAAABAAAAfnZwMDkAAAAAAAAAAQAAAAAAAAAAAAAAAAAAAAABAADwAEgAAABIAAAAAAAAAAEAAAAAAAAAAAAAAAAAAAAAAAAAAAAAAAAAAAAAAAAAAAAY//8AAAAUdnBjQwEAAAAAC4ICAgIAAAAAABRidHJ0AAAAAAA4QAAABPgTAAAAGHN0dHMAAAAAAAAAAQAAADIAAAIAAAAAJHN0c3MAAAAAAAAABQAAAAEAAAANAAAAGQAAACUAAAAxAAAAHHN0c2MAAAAAAAAAAQAAAAEAAAAyAAAAAQAAANxzdHN6AAAAAAAAAAAAAAAyAAAkxAAAABMAAACEAAAAZQAAABEAAAARAAALSwAAAMIAAACRAAAAngAAAJIAAADGAAAs1wAAAIEAAAC7AAAAEwAAABMAAAChAAAAuQAAAbwAAACuAAAA/wAAAMcAAADkAAAt/QAAAQUAAAEkAAAAEQAAAKYAAAF8AAAA7wAAAOoAAAEtAAABIAAAALsAAADzAAAuHwAAAOEAAADEAAAAogAAARQAAADKAAABCwAAAQkAAAEcAAABIAAAAVMAAAC9AAAuCwAAAQsAAAAUc3RjbwAAAAAAAAABAAAALAAAAGJ1ZHRhAAAAWm1ldGEAAAAAAAAAIWhkbHIAAAAAAAAAAG1kaXJhcHBsAAAAAAAAAAAAAAAALWlsc3QAAAAlqXRvbwAAAB1kYXRhAAAAAQAAAABMYXZmNTguNzYuMTAw\" type=\"video/mp4\">\n",
              "    </video>\n",
              "    "
            ],
            "text/plain": [
              "<IPython.core.display.HTML object>"
            ]
          },
          "execution_count": 5,
          "metadata": {},
          "output_type": "execute_result"
        }
      ],
      "source": [
        "display_vid(frames)"
      ]
    },
    {
      "attachments": {},
      "cell_type": "markdown",
      "metadata": {
        "id": "BNLa9SFHipWS"
      },
      "source": [
        "## Preprocessing Environment"
      ]
    },
    {
      "attachments": {},
      "cell_type": "markdown",
      "metadata": {
        "id": "K2mJZj2Eluj2"
      },
      "source": [
        "The original DDQN DeepMind papers for Atari games transforms the environments to make it easier for their DQN/DDQN to learn. In particular,\n",
        "\n",
        "1. Use only every 4th frame\n",
        "2. Grayscale each image, downscale to 110x84, then crop appropriately to remove unnecesssary info\n",
        "3. Pass a stack of 4 frames so that the model can see trajectory (falling and jumping are different contexts, but may lead to the same observation).\n",
        "\n",
        "\n",
        "We will implement some of these simplifying transformations for our PPO using Gymnasium's `gym.Wrapper`. Wrapper code is altered from https://blog.paperspace.com/building-double-deep-q-network-super-mario-bros/."
      ]
    },
    {
      "cell_type": "code",
      "execution_count": 6,
      "metadata": {
        "id": "xkegIeYhm-eD"
      },
      "outputs": [],
      "source": [
        "import collections\n",
        "import cv2\n",
        "\n",
        "class MaxAndSkipEnv(gym.Wrapper):\n",
        "    def __init__(self, env=None, skip=4):\n",
        "        super(MaxAndSkipEnv, self).__init__(env)\n",
        "        self._obs_buffer = collections.deque(maxlen=2)\n",
        "        self._replay_buffer = collections.deque(maxlen=4)\n",
        "        self._skip = skip\n",
        "\n",
        "    def step(self, action):\n",
        "        total_reward = 0.0\n",
        "        done = None\n",
        "        for _ in range(self._skip):\n",
        "            obs, reward, done, truncated, info = self.env.step(action)\n",
        "            self._obs_buffer.append(obs)\n",
        "            self._replay_buffer.append(obs.copy())\n",
        "            total_reward += reward\n",
        "            if done:\n",
        "                break\n",
        "        max_frame = np.max(np.stack(self._obs_buffer), axis=0)\n",
        "        return max_frame, total_reward, done, truncated, info\n",
        "\n",
        "    def render(self, mode='rgb_array'):\n",
        "        if mode == 'rgb_array':\n",
        "            return self._replay_buffer\n",
        "        \n",
        "        return self.env.render(mode=mode)\n",
        "\n",
        "    def reset(self, **kwargs):\n",
        "        self._obs_buffer.clear()\n",
        "        obs = self.env.reset()\n",
        "        self._obs_buffer.append(obs)\n",
        "        return obs\n",
        "\n",
        "\n",
        "class ProcessFrame84(gym.ObservationWrapper):\n",
        "    def __init__(self, env=None):\n",
        "        super(ProcessFrame84, self).__init__(env)\n",
        "        self.observation_space = gym.spaces.Box(low=0, high=255, shape=(84, 84, 1), dtype=np.uint8)\n",
        "\n",
        "    def observation(self, observation):\n",
        "        return ProcessFrame84.process(observation)\n",
        "\n",
        "    @staticmethod\n",
        "    def process(frame):\n",
        "        assert frame.size == 240 * 256 * 3, \"Unknown resolution.\"\n",
        "\n",
        "        img = np.reshape(frame, [240, 256, 3]).astype(np.float32)\n",
        "        img = img[:, :, 0] * 0.299 + img[:, :, 1] * 0.587 + img[:, :, 2] * 0.114\n",
        "        resized_screen = cv2.resize(img, (84, 110), interpolation=cv2.INTER_AREA)\n",
        "        x_t = resized_screen[18:102, :]\n",
        "        x_t = np.reshape(x_t, [84, 84, 1])\n",
        "        return x_t.astype(np.uint8)\n",
        "\n",
        "\n",
        "class TransposeObs(gym.ObservationWrapper):\n",
        "    def __init__(self, env):\n",
        "        super(TransposeObs, self).__init__(env)\n",
        "        w, h, n = self.observation_space.shape\n",
        "        self.observation_space = gym.spaces.Box(low=0.0, high=1.0, shape=(n, w, h), dtype=np.float32)\n",
        "\n",
        "    def observation(self, observation):\n",
        "        return np.moveaxis(observation, 2, 0)\n",
        "\n",
        "\n",
        "class ScaledFloatFrame(gym.ObservationWrapper):\n",
        "    def observation(self, observation):\n",
        "        return np.array(observation).astype(np.float32) / 255.0\n",
        "\n",
        "\n",
        "class BufferWrapper(gym.ObservationWrapper):\n",
        "    def __init__(self, env, n_steps, dtype=np.float32):\n",
        "        super(BufferWrapper, self).__init__(env)\n",
        "        self.dtype = dtype\n",
        "        old_space = env.observation_space\n",
        "        self.observation_space = gym.spaces.Box(old_space.low.repeat(n_steps, axis=0),\n",
        "                                                old_space.high.repeat(n_steps, axis=0), dtype=dtype)\n",
        "\n",
        "    def reset(self, **kwargs):\n",
        "        self.buffer = np.zeros_like(self.observation_space.low, dtype=self.dtype)\n",
        "        return self.observation(self.env.reset()), {}\n",
        "\n",
        "    def observation(self, observation):\n",
        "        self.buffer[:-1] = self.buffer[1:]\n",
        "        self.buffer[-1] = observation[0]\n",
        "        return self.buffer"
      ]
    },
    {
      "cell_type": "code",
      "execution_count": 7,
      "metadata": {
        "id": "7sWxQ2rAjFLX"
      },
      "outputs": [],
      "source": [
        "from gym.wrappers import FrameStack\n",
        "from nes_py.wrappers import JoypadSpace\n",
        "\n",
        "def preprocessed_env(world=1, level=1, movement='right'):\n",
        "    from gym_super_mario_bros.actions import RIGHT_ONLY, SIMPLE_MOVEMENT, COMPLEX_MOVEMENT\n",
        "\n",
        "    env = gym_super_mario_bros.make(f'SuperMarioBros-{world}-{level}-v0', apply_api_compatibility=True, render_mode='rgb_array')\n",
        "    env = MaxAndSkipEnv(env)\n",
        "    env = ProcessFrame84(env)\n",
        "    env = TransposeObs(env)\n",
        "    env = BufferWrapper(env, 4)\n",
        "    env = ScaledFloatFrame(env)\n",
        "\n",
        "    print(f'SuperMarioBros-{world}-{level}-v0', movement)\n",
        "\n",
        "    if movement == 'right':\n",
        "        return JoypadSpace(env, RIGHT_ONLY)\n",
        "    if movement == 'simple':\n",
        "        return JoypadSpace(env, SIMPLE_MOVEMENT)\n",
        "\n",
        "    return JoypadSpace(env, COMPLEX_MOVEMENT)"
      ]
    },
    {
      "cell_type": "code",
      "execution_count": 8,
      "metadata": {
        "colab": {
          "base_uri": "https://localhost:8080/"
        },
        "id": "v1Z7ud1a55kJ",
        "outputId": "c7fd887d-fdd7-4313-d20d-aad12765bc5d",
        "scrolled": true
      },
      "outputs": [
        {
          "name": "stdout",
          "output_type": "stream",
          "text": [
            "SuperMarioBros-1-1-v0 right\n",
            "obs space (4, 84, 84)\n",
            "act space 5\n"
          ]
        }
      ],
      "source": [
        "env = preprocessed_env()\n",
        "print('obs space', env.observation_space.shape)\n",
        "print('act space', env.action_space.n)"
      ]
    },
    {
      "cell_type": "code",
      "execution_count": 9,
      "metadata": {
        "colab": {
          "base_uri": "https://localhost:8080/",
          "height": 451
        },
        "id": "MN2eDywqR7kC",
        "outputId": "89514658-51f5-469b-9fd4-0f3a8e14077e"
      },
      "outputs": [
        {
          "data": {
            "text/plain": [
              "<matplotlib.image.AxesImage at 0x23cd33967d0>"
            ]
          },
          "execution_count": 9,
          "metadata": {},
          "output_type": "execute_result"
        },
        {
          "data": {
            "image/png": "[encoded data removed]",
            "text/plain": [
              "<Figure size 640x480 with 1 Axes>"
            ]
          },
          "metadata": {},
          "output_type": "display_data"
        }
      ],
      "source": [
        "import matplotlib.pyplot as plt\n",
        "\n",
        "plt.imshow(env.reset()[0][-1], cmap='gray')"
      ]
    },
    {
      "attachments": {},
      "cell_type": "markdown",
      "metadata": {
        "id": "RT_tBITRA6Ty"
      },
      "source": [
        "We now have a preprocessed environment! We can proceed to working on our Agent."
      ]
    },
    {
      "attachments": {},
      "cell_type": "markdown",
      "metadata": {
        "id": "vCd3JjKZA_s9"
      },
      "source": [
        "## Training Convolutional PPO"
      ]
    },
    {
      "attachments": {},
      "cell_type": "markdown",
      "metadata": {
        "id": "q655hjwkBWHy"
      },
      "source": [
        "I will be adapting a previous PPO implementation I made (https://github.com/arth-shukla/ppo-gym-cartpole) for training.\n",
        "\n",
        "I will be adding the following features:\n",
        "1. CNNs for actor and critic to process frame obs\n",
        "2. early stop based on approx kl\n",
        "3. advantage normalization\n",
        "4. entropy regularization\n",
        "5. GAE\n",
        "6. normal DL techniques like grad normalization and lr scheduling"
      ]
    },
    {
      "cell_type": "code",
      "execution_count": 10,
      "metadata": {},
      "outputs": [],
      "source": [
        "%load_ext autoreload\n",
        "%autoreload 2"
      ]
    },
    {
      "cell_type": "code",
      "execution_count": 11,
      "metadata": {
        "id": "Pln8Nen6ppv4"
      },
      "outputs": [],
      "source": [
        "from ppo.agent import PPOAgent\n",
        "from tqdm import tqdm\n",
        "import torch\n",
        "from pathlib import Path\n",
        "\n",
        "def train(\n",
        "    logging=True, log_init=True, wandb_proj='Mario-PPO', group_name=None, run_name=None, job_type=None,\n",
        "    world=1, level=1, movement='right', hard_lr_shift_avg_rew = None,\n",
        "    checkpoint_dir = './checkpoints', pretrained_path=None,\n",
        "    num_games = 2000, avg_over = 100, save_every = 100,\n",
        "    buffer_size = 512,\n",
        "    batch_size = 16,\n",
        "    epochs = 10,\n",
        "    lr = 1e-4,\n",
        "    scheduler_gamma = None,\n",
        "    discount = .9,\n",
        "    gae_lambda = 1.0,\n",
        "    policy_clip = 0.2,\n",
        "    norm_advantage = False,\n",
        "    entropy_coeff = None,\n",
        "    critic_coeff = 0.5,\n",
        "    max_grad_norm = None,\n",
        "    early_stop_kl = None,\n",
        "    embed = 512,\n",
        "):\n",
        "    if not os.path.exists(checkpoint_dir):\n",
        "        os.makedirs(checkpoint_dir)\n",
        "        print('created', checkpoint_dir)\n",
        "\n",
        "    import wandb\n",
        "\n",
        "    if logging and log_init:\n",
        "        wandb.login()\n",
        "        wandb.init(project=wandb_proj, name=run_name, job_type=job_type, group=group_name, config=dict(\n",
        "            buffer_size = buffer_size,\n",
        "            batch_size = batch_size,\n",
        "            epochs = epochs,\n",
        "            lr = lr,\n",
        "            scheduler_gamma = scheduler_gamma,\n",
        "            discount = discount,\n",
        "            gae_lambda = gae_lambda,\n",
        "            policy_clip = policy_clip,\n",
        "            norm_advantage = norm_advantage,\n",
        "            entropy_coeff = entropy_coeff,\n",
        "            critic_coeff = critic_coeff,\n",
        "            max_grad_norm = max_grad_norm,\n",
        "            early_stop_kl = early_stop_kl,\n",
        "            embed = embed,\n",
        "        ))\n",
        "\n",
        "    env = preprocessed_env(world=world, level=level, movement=movement)\n",
        "\n",
        "    # create agent (note this is done in train because it needs hyperparams)\n",
        "    agent = PPOAgent(\n",
        "        obs_shape=env.observation_space.shape,\n",
        "        act_shape=env.action_space.shape,\n",
        "        act_n=env.action_space.n,\n",
        "        buffer_size = buffer_size,\n",
        "        batch_size = batch_size,\n",
        "        epochs = epochs,\n",
        "        lr = lr,\n",
        "        scheduler_gamma = scheduler_gamma,\n",
        "        discount = discount,\n",
        "        gae_lambda = gae_lambda,\n",
        "        policy_clip = policy_clip,\n",
        "        norm_advantage = norm_advantage,\n",
        "        entropy_coeff = entropy_coeff,\n",
        "        critic_coeff = critic_coeff,\n",
        "        max_grad_norm = max_grad_norm,\n",
        "        early_stop_kl = early_stop_kl,\n",
        "        embed = embed,\n",
        "    )\n",
        "    \n",
        "    # load model if pretrained\n",
        "    if pretrained_path != None:\n",
        "        agent.load(load_path=pretrained_path)\n",
        "\n",
        "    agent.actor.train()\n",
        "    agent.critic.train()\n",
        "    \n",
        "    # data tracking\n",
        "    score_hist = []\n",
        "    num_steps = 0\n",
        "    learn_steps = 0\n",
        "    avg_score = 0\n",
        "    best_score = 0\n",
        "\n",
        "    # num_games is the number of games to play, where each game ends\n",
        "    # when the agent meets terminal conditions for the env\n",
        "    for ep_num in tqdm(range(num_games)):\n",
        "\n",
        "        obs = env.reset()[0].__array__()\n",
        "        done = False\n",
        "        score = 0\n",
        "        steps = 0\n",
        "\n",
        "        # run loop where model gathers data for \"learn_every\"\n",
        "        # steps then learns using that information\n",
        "        while not done:\n",
        "\n",
        "            # choose action (actor)\n",
        "            action, log_prob, val = agent.act(obs)\n",
        "\n",
        "            # get results of action\n",
        "            next_obs, reward, done, _, _ = env.step(action)\n",
        "\n",
        "            # save data to memory for experience learning\n",
        "            agent.cache(obs, action, log_prob, val, reward, done)\n",
        "\n",
        "            # when buffer full, learn and clear mem\n",
        "            if agent.mem_full():\n",
        "                log_dict = agent.learn(next_obs.__array__())\n",
        "                agent.clear_mem()\n",
        "\n",
        "                if logging:\n",
        "                    log_dict['learn_steps'] = learn_steps\n",
        "                    wandb.log(log_dict)\n",
        "\n",
        "                learn_steps += 1\n",
        "                \n",
        "            # update obs and tracking vars\n",
        "            obs = next_obs.__array__()\n",
        "            score += reward\n",
        "            steps += 1\n",
        "            num_steps += 1\n",
        "\n",
        "        score_hist.append(score)\n",
        "        \n",
        "        if (ep_num % save_every == 0) or (ep_num == num_games - 1):\n",
        "            save_path = Path(checkpoint_dir) / Path(f'mario_ppo_{ep_num}.pt')\n",
        "            agent.save(save_path=save_path)\n",
        "\n",
        "        \n",
        "        if len(score_hist) > avg_over:\n",
        "            avg_score = np.mean(score_hist[-avg_over:])\n",
        "            if avg_score > best_score:\n",
        "                best_score = avg_score\n",
        "                best_save_path = Path(checkpoint_dir) / Path('mario_ppo_best_model.pt')\n",
        "                agent.save(save_path=best_save_path)\n",
        "            if hard_lr_shift_avg_rew != None and avg_score > hard_lr_shift_avg_rew:\n",
        "                for g in agent.actor.optimizer.param_groups:\n",
        "                    g['lr'] = 1e-5\n",
        "                for g in agent.critic.optimizer.param_groups:\n",
        "                    g['lr'] = 1e-5\n",
        "    \n",
        "        if logging:\n",
        "            log_dict = {\n",
        "                'train/total_rewards': score,\n",
        "                'train/ep_len': steps,\n",
        "                'ep_num': ep_num,\n",
        "                'charts/actor_lr': agent.actor.optimizer.param_groups[0]['lr'],\n",
        "                'charts/critic_lr': agent.critic.optimizer.param_groups[0]['lr'],\n",
        "            }\n",
        "            if len(score_hist) > avg_over:\n",
        "                log_dict[f'train/avg_reward_last_{avg_over}'] = avg_score\n",
        "            wandb.log(log_dict)\n",
        "\n",
        "    env.close()\n",
        "    wandb.finish()"
      ]
    },
    {
      "attachments": {},
      "cell_type": "markdown",
      "metadata": {},
      "source": [
        "If you'd like to run training, you can use the below code. It takes about 1-2 hours for 2000 iters on a 3070 w/ 8GB VRAM. However, I have some pretrained checkpoints:\n",
        "\n",
        "1. Simple, standard PPO run\n",
        "2. PPO with early stopping using approx KL divergence\n",
        "3. PPO with advantage norming\n",
        "\n",
        "Different combinations of different techniques might help (or harm) training performance as well. Image charts can be seen below for the three runs mentioned below, as well as all the other tests I ran. Interactive charts are available on WandB: https://wandb.ai/arth-shukla/Mario-PPO\n",
        "\n",
        "Note that `run_name_1.0` indicates a run with `policy_clip=1.0`, likewise for `run_name_2.0`."
      ]
    },
    {
      "attachments": {},
      "cell_type": "markdown",
      "metadata": {},
      "source": [
        "<img src='./assets/std_run.png' width='48%' style='float:left;padding:1%' />\n",
        "<img src='./assets/adv_norm.png' width='48%' style='float:left;padding:1%' />\n",
        "<img src='./assets/early_stop.png' width='48%' style='float:left;padding:1%' />\n",
        "<img src='./assets/all_tests.png' width='48%' style='float:left;padding:1%' />"
      ]
    },
    {
      "cell_type": "code",
      "execution_count": 12,
      "metadata": {},
      "outputs": [],
      "source": [
        "# This is one train run; different train runs shown above changes inputted hparams\n",
        "\n",
        "# train(\n",
        "#     logging=False, log_init=False, wandb_proj='my-proj', run_name=None,\n",
        "#     checkpoint_dir = './checkpoints', pretrained_path=None,\n",
        "#     num_games = 2000, avg_over = 100, save_every = 100,\n",
        "#     buffer_size = 512,\n",
        "#     batch_size = 16,\n",
        "#     epochs = 10,\n",
        "#     lr = 1e-4,\n",
        "#     scheduler_gamma = None,\n",
        "#     discount = .9,\n",
        "#     gae_lambda = 1.0,\n",
        "#     policy_clip = 0.2,\n",
        "#     norm_advantage = False,\n",
        "#     entropy_coeff = None,\n",
        "#     critic_coeff = 0.5,\n",
        "#     max_grad_norm = None,\n",
        "#     early_stop_kl = None,\n",
        "#     embed = 512,\n",
        "# )"
      ]
    },
    {
      "cell_type": "code",
      "execution_count": 16,
      "metadata": {},
      "outputs": [
        {
          "data": {
            "text/html": [
              "Waiting for W&B process to finish... <strong style=\"color:green\">(success).</strong>"
            ],
            "text/plain": [
              "<IPython.core.display.HTML object>"
            ]
          },
          "metadata": {},
          "output_type": "display_data"
        },
        {
          "data": {
            "text/html": [
              "<style>\n",
              "    table.wandb td:nth-child(1) { padding: 0 10px; text-align: left ; width: auto;} td:nth-child(2) {text-align: left ; width: 100%}\n",
              "    .wandb-row { display: flex; flex-direction: row; flex-wrap: wrap; justify-content: flex-start; width: 100% }\n",
              "    .wandb-col { display: flex; flex-direction: column; flex-basis: 100%; flex: 1; padding: 10px; }\n",
              "    </style>\n",
              "<div class=\"wandb-row\"><div class=\"wandb-col\"><h3>Run history:</h3><br/><table class=\"wandb\"><tr><td>charts/actor_lr</td><td>█████████████████████▁▁▁▁▁▁▁▁▁▁▁▁▁▁▁▁▁▁▁</td></tr><tr><td>charts/critic_lr</td><td>█████████████████████▁▁▁▁▁▁▁▁▁▁▁▁▁▁▁▁▁▁▁</td></tr><tr><td>ep_num</td><td>▁▁▁▂▂▂▂▂▂▃▃▃▃▃▃▄▄▄▄▄▅▅▅▅▅▅▆▆▆▆▆▇▇▇▇▇▇███</td></tr><tr><td>learn_steps</td><td>▁▁▁▁▂▂▂▂▂▃▃▃▃▃▃▄▄▄▄▄▅▅▅▅▅▅▆▆▆▆▆▇▇▇▇▇▇███</td></tr><tr><td>losses/actor_loss</td><td>▆▇▆▆▆█▆▁▇▇▆▆▅▆▆▆▆▆▆▆▆▆▆▆▆▆▆▆▆▆▆▆▆▆▆▆▆▆▆▆</td></tr><tr><td>losses/approx_kl</td><td>▁▁▁▁▁█▁▅▁▁▂▂▂▁▁▁▁▁▁▁▁▁▁▁▁▁▁▁▁▁▁▁▁▁▁▁▁▁▁▁</td></tr><tr><td>losses/critic_loss</td><td>█▄▃▂▁▁▁▂▂▄▃▂▃▁▁▁▁▁▂▁▁▁▁▁▁▁▁▁▁▁▁▁▁▁▁▁▁▁▁▁</td></tr><tr><td>losses/entropy</td><td>█▆▄▃▂▂▁▁▂▁▂▁▁▁▁▁▁▁▂▁▁▁▁▁▁▁▁▂▁▁▂▁▂▁▂▁▂▁▂▁</td></tr><tr><td>train/avg_reward_last_100</td><td>▁▁▁▂▂▂▃▄▄▄▄▃▃▄▅▄▅▅▅▆▆▇▇█▇▇▇▇▇▇▇▇▇▇██████</td></tr><tr><td>train/ep_len</td><td>▂▁▁▂▁▂▁▁▄▅▄▄▁▃▄█▇▄▄▅█▇▇▇▇▆▇▇▆▆▆▆▇▇██▇▇▇▇</td></tr><tr><td>train/total_rewards</td><td>▁▁▁▂▁▂▁▁▄▅▄▄▁▄▄▇▇▄▄▆███▇▇▇▇▇▇▇▇▇████████</td></tr></table><br/></div><div class=\"wandb-col\"><h3>Run summary:</h3><br/><table class=\"wandb\"><tr><td>charts/actor_lr</td><td>1e-05</td></tr><tr><td>charts/critic_lr</td><td>1e-05</td></tr><tr><td>ep_num</td><td>1682</td></tr><tr><td>learn_steps</td><td>459</td></tr><tr><td>losses/actor_loss</td><td>0.0238</td></tr><tr><td>losses/approx_kl</td><td>0.00786</td></tr><tr><td>losses/critic_loss</td><td>0.17658</td></tr><tr><td>losses/entropy</td><td>0.08471</td></tr><tr><td>train/avg_reward_last_100</td><td>2148.94</td></tr><tr><td>train/ep_len</td><td>192</td></tr><tr><td>train/total_rewards</td><td>2182.0</td></tr></table><br/></div></div>"
            ],
            "text/plain": [
              "<IPython.core.display.HTML object>"
            ]
          },
          "metadata": {},
          "output_type": "display_data"
        },
        {
          "data": {
            "text/html": [
              " View run <strong style=\"color:#cdcd00\">w1_l4_t0_hardlrshift</strong> at: <a href='https://wandb.ai/arth-shukla/Mario-PPO/runs/j4xp4gc1' target=\"_blank\">https://wandb.ai/arth-shukla/Mario-PPO/runs/j4xp4gc1</a><br/>Synced 6 W&B file(s), 0 media file(s), 0 artifact file(s) and 0 other file(s)"
            ],
            "text/plain": [
              "<IPython.core.display.HTML object>"
            ]
          },
          "metadata": {},
          "output_type": "display_data"
        },
        {
          "data": {
            "text/html": [
              "Find logs at: <code>.\\wandb\\run-20230608_141108-j4xp4gc1\\logs</code>"
            ],
            "text/plain": [
              "<IPython.core.display.HTML object>"
            ]
          },
          "metadata": {},
          "output_type": "display_data"
        }
      ],
      "source": [
        "import wandb\n",
        "wandb.finish()"
      ]
    },
    {
      "cell_type": "code",
      "execution_count": 14,
      "metadata": {},
      "outputs": [],
      "source": [
        "NUM_TRIALS = 4\n",
        "LEVELS = [(1, 4), (1, 3), (1, 2)]"
      ]
    },
    {
      "cell_type": "code",
      "execution_count": 15,
      "metadata": {},
      "outputs": [
        {
          "name": "stderr",
          "output_type": "stream",
          "text": [
            "Failed to detect the name of this notebook, you can set it manually with the WANDB_NOTEBOOK_NAME environment variable to enable code saving.\n",
            "\u001b[34m\u001b[1mwandb\u001b[0m: Currently logged in as: \u001b[33marth-shukla\u001b[0m. Use \u001b[1m`wandb login --relogin`\u001b[0m to force relogin\n"
          ]
        },
        {
          "data": {
            "text/html": [
              "wandb version 0.15.4 is available!  To upgrade, please run:\n",
              " $ pip install wandb --upgrade"
            ],
            "text/plain": [
              "<IPython.core.display.HTML object>"
            ]
          },
          "metadata": {},
          "output_type": "display_data"
        },
        {
          "data": {
            "text/html": [
              "Tracking run with wandb version 0.15.3"
            ],
            "text/plain": [
              "<IPython.core.display.HTML object>"
            ]
          },
          "metadata": {},
          "output_type": "display_data"
        },
        {
          "data": {
            "text/html": [
              "Run data is saved locally in <code>c:\\Users\\arths\\Documents\\Coding\\Personal\\ppo-mario\\wandb\\run-20230608_141108-j4xp4gc1</code>"
            ],
            "text/plain": [
              "<IPython.core.display.HTML object>"
            ]
          },
          "metadata": {},
          "output_type": "display_data"
        },
        {
          "data": {
            "text/html": [
              "Syncing run <strong><a href='https://wandb.ai/arth-shukla/Mario-PPO/runs/j4xp4gc1' target=\"_blank\">w1_l4_t0_hardlrshift</a></strong> to <a href='https://wandb.ai/arth-shukla/Mario-PPO' target=\"_blank\">Weights & Biases</a> (<a href='https://wandb.me/run' target=\"_blank\">docs</a>)<br/>"
            ],
            "text/plain": [
              "<IPython.core.display.HTML object>"
            ]
          },
          "metadata": {},
          "output_type": "display_data"
        },
        {
          "data": {
            "text/html": [
              " View project at <a href='https://wandb.ai/arth-shukla/Mario-PPO' target=\"_blank\">https://wandb.ai/arth-shukla/Mario-PPO</a>"
            ],
            "text/plain": [
              "<IPython.core.display.HTML object>"
            ]
          },
          "metadata": {},
          "output_type": "display_data"
        },
        {
          "data": {
            "text/html": [
              " View run at <a href='https://wandb.ai/arth-shukla/Mario-PPO/runs/j4xp4gc1' target=\"_blank\">https://wandb.ai/arth-shukla/Mario-PPO/runs/j4xp4gc1</a>"
            ],
            "text/plain": [
              "<IPython.core.display.HTML object>"
            ]
          },
          "metadata": {},
          "output_type": "display_data"
        },
        {
          "name": "stdout",
          "output_type": "stream",
          "text": [
            "SuperMarioBros-1-4-v0 simple\n"
          ]
        },
        {
          "name": "stderr",
          "output_type": "stream",
          "text": [
            " 42%|████▏     | 1683/4000 [1:01:37<1:24:50,  2.20s/it]\n"
          ]
        },
        {
          "ename": "KeyboardInterrupt",
          "evalue": "",
          "output_type": "error",
          "traceback": [
            "\u001b[1;31m---------------------------------------------------------------------------\u001b[0m",
            "\u001b[1;31mKeyboardInterrupt\u001b[0m                         Traceback (most recent call last)",
            "Cell \u001b[1;32mIn[15], line 5\u001b[0m\n\u001b[0;32m      3\u001b[0m group_name \u001b[39m=\u001b[39m \u001b[39mf\u001b[39m\u001b[39m'\u001b[39m\u001b[39mw\u001b[39m\u001b[39m{\u001b[39;00mw\u001b[39m}\u001b[39;00m\u001b[39m_l\u001b[39m\u001b[39m{\u001b[39;00ml\u001b[39m}\u001b[39;00m\u001b[39m'\u001b[39m\n\u001b[0;32m      4\u001b[0m run_name \u001b[39m=\u001b[39m group_name \u001b[39m+\u001b[39m \u001b[39mf\u001b[39m\u001b[39m'\u001b[39m\u001b[39m_t\u001b[39m\u001b[39m{\u001b[39;00mi\u001b[39m}\u001b[39;00m\u001b[39m_hardlrshift\u001b[39m\u001b[39m'\u001b[39m\n\u001b[1;32m----> 5\u001b[0m train(\n\u001b[0;32m      6\u001b[0m     logging\u001b[39m=\u001b[39;49m\u001b[39mTrue\u001b[39;49;00m, log_init\u001b[39m=\u001b[39;49m\u001b[39mTrue\u001b[39;49;00m, wandb_proj\u001b[39m=\u001b[39;49m\u001b[39m'\u001b[39;49m\u001b[39mMario-PPO\u001b[39;49m\u001b[39m'\u001b[39;49m, group_name\u001b[39m=\u001b[39;49mgroup_name, run_name\u001b[39m=\u001b[39;49mrun_name, job_type\u001b[39m=\u001b[39;49m\u001b[39m'\u001b[39;49m\u001b[39mtrain\u001b[39;49m\u001b[39m'\u001b[39;49m,\n\u001b[0;32m      7\u001b[0m     world\u001b[39m=\u001b[39;49mw, level\u001b[39m=\u001b[39;49ml, movement\u001b[39m=\u001b[39;49m\u001b[39m'\u001b[39;49m\u001b[39msimple\u001b[39;49m\u001b[39m'\u001b[39;49m,\n\u001b[0;32m      8\u001b[0m     hard_lr_shift_avg_rew\u001b[39m=\u001b[39;49m\u001b[39m1600\u001b[39;49m,\n\u001b[0;32m      9\u001b[0m     checkpoint_dir \u001b[39m=\u001b[39;49m \u001b[39mf\u001b[39;49m\u001b[39m'\u001b[39;49m\u001b[39m./checkpoints/\u001b[39;49m\u001b[39m{\u001b[39;49;00mgroup_name\u001b[39m}\u001b[39;49;00m\u001b[39m/\u001b[39;49m\u001b[39m{\u001b[39;49;00mrun_name\u001b[39m}\u001b[39;49;00m\u001b[39m'\u001b[39;49m, pretrained_path\u001b[39m=\u001b[39;49m\u001b[39mNone\u001b[39;49;00m,\n\u001b[0;32m     10\u001b[0m     num_games \u001b[39m=\u001b[39;49m \u001b[39m4000\u001b[39;49m, avg_over \u001b[39m=\u001b[39;49m \u001b[39m100\u001b[39;49m, save_every \u001b[39m=\u001b[39;49m \u001b[39m100\u001b[39;49m,\n\u001b[0;32m     11\u001b[0m     buffer_size \u001b[39m=\u001b[39;49m \u001b[39m512\u001b[39;49m,\n\u001b[0;32m     12\u001b[0m     batch_size \u001b[39m=\u001b[39;49m \u001b[39m16\u001b[39;49m,\n\u001b[0;32m     13\u001b[0m     epochs \u001b[39m=\u001b[39;49m \u001b[39m10\u001b[39;49m,\n\u001b[0;32m     14\u001b[0m     lr \u001b[39m=\u001b[39;49m \u001b[39m1e-4\u001b[39;49m,\n\u001b[0;32m     15\u001b[0m     scheduler_gamma \u001b[39m=\u001b[39;49m \u001b[39mNone\u001b[39;49;00m,\n\u001b[0;32m     16\u001b[0m     discount \u001b[39m=\u001b[39;49m \u001b[39m.9\u001b[39;49m,\n\u001b[0;32m     17\u001b[0m     gae_lambda \u001b[39m=\u001b[39;49m \u001b[39m1.0\u001b[39;49m,\n\u001b[0;32m     18\u001b[0m     policy_clip \u001b[39m=\u001b[39;49m \u001b[39m0.2\u001b[39;49m,\n\u001b[0;32m     19\u001b[0m     norm_advantage \u001b[39m=\u001b[39;49m \u001b[39mTrue\u001b[39;49;00m,\n\u001b[0;32m     20\u001b[0m     entropy_coeff \u001b[39m=\u001b[39;49m \u001b[39m0.01\u001b[39;49m,\n\u001b[0;32m     21\u001b[0m     critic_coeff \u001b[39m=\u001b[39;49m \u001b[39m0.5\u001b[39;49m,\n\u001b[0;32m     22\u001b[0m     max_grad_norm \u001b[39m=\u001b[39;49m \u001b[39m0.5\u001b[39;49m,\n\u001b[0;32m     23\u001b[0m     early_stop_kl \u001b[39m=\u001b[39;49m \u001b[39mNone\u001b[39;49;00m,\n\u001b[0;32m     24\u001b[0m     embed \u001b[39m=\u001b[39;49m \u001b[39m512\u001b[39;49m,\n\u001b[0;32m     25\u001b[0m )\n",
            "Cell \u001b[1;32mIn[11], line 112\u001b[0m, in \u001b[0;36mtrain\u001b[1;34m(logging, log_init, wandb_proj, group_name, run_name, job_type, world, level, movement, hard_lr_shift_avg_rew, checkpoint_dir, pretrained_path, num_games, avg_over, save_every, buffer_size, batch_size, epochs, lr, scheduler_gamma, discount, gae_lambda, policy_clip, norm_advantage, entropy_coeff, critic_coeff, max_grad_norm, early_stop_kl, embed)\u001b[0m\n\u001b[0;32m    110\u001b[0m \u001b[39m# when buffer full, learn and clear mem\u001b[39;00m\n\u001b[0;32m    111\u001b[0m \u001b[39mif\u001b[39;00m agent\u001b[39m.\u001b[39mmem_full():\n\u001b[1;32m--> 112\u001b[0m     log_dict \u001b[39m=\u001b[39m agent\u001b[39m.\u001b[39;49mlearn(next_obs\u001b[39m.\u001b[39;49m__array__())\n\u001b[0;32m    113\u001b[0m     agent\u001b[39m.\u001b[39mclear_mem()\n\u001b[0;32m    115\u001b[0m     \u001b[39mif\u001b[39;00m logging:\n",
            "File \u001b[1;32mc:\\Users\\arths\\Documents\\Coding\\Personal\\ppo-mario\\ppo\\agent.py:98\u001b[0m, in \u001b[0;36mPPOAgent.learn\u001b[1;34m(self, next_state)\u001b[0m\n\u001b[0;32m     91\u001b[0m next_val \u001b[39m=\u001b[39m vals_mem[k \u001b[39m+\u001b[39m \u001b[39m1\u001b[39m]\n\u001b[0;32m     92\u001b[0m \u001b[39m# if k == rewards_mem - 1:\u001b[39;00m\n\u001b[0;32m     93\u001b[0m \u001b[39m#     next_val = self.critic(next_state)\u001b[39;00m\n\u001b[0;32m     94\u001b[0m \u001b[39m# else:\u001b[39;00m\n\u001b[0;32m     95\u001b[0m \u001b[39m#     next_val = vals_mem[k + 1]\u001b[39;00m\n\u001b[0;32m     96\u001b[0m \n\u001b[0;32m     97\u001b[0m \u001b[39m# delta_k = r_k + discount * V(s_k+1) - V(s_k)\u001b[39;00m\n\u001b[1;32m---> 98\u001b[0m delta_k \u001b[39m=\u001b[39m rewards_mem[k] \u001b[39m+\u001b[39m \u001b[39mself\u001b[39m\u001b[39m.\u001b[39mdiscount \u001b[39m*\u001b[39m next_val \u001b[39m*\u001b[39m (\u001b[39m1\u001b[39m \u001b[39m-\u001b[39m \u001b[39mint\u001b[39;49m(dones_mem[k])) \u001b[39m-\u001b[39m vals_mem[k]\n\u001b[0;32m    100\u001b[0m \u001b[39m# add to A_t\u001b[39;00m\n\u001b[0;32m    101\u001b[0m A_t \u001b[39m+\u001b[39m\u001b[39m=\u001b[39m discount \u001b[39m*\u001b[39m delta_k\n",
            "\u001b[1;31mKeyboardInterrupt\u001b[0m: "
          ]
        }
      ],
      "source": [
        "for w, l in [(1,4)]:\n",
        "    for i in range(NUM_TRIALS):\n",
        "        group_name = f'w{w}_l{l}'\n",
        "        run_name = group_name + f'_t{i}_hardlrshift'\n",
        "        train(\n",
        "            logging=True, log_init=True, wandb_proj='Mario-PPO', group_name=group_name, run_name=run_name, job_type='train',\n",
        "            world=w, level=l, movement='simple',\n",
        "            hard_lr_shift_avg_rew=1600,\n",
        "            checkpoint_dir = f'./checkpoints/{group_name}/{run_name}', pretrained_path=None,\n",
        "            num_games = 4000, avg_over = 100, save_every = 100,\n",
        "            buffer_size = 512,\n",
        "            batch_size = 16,\n",
        "            epochs = 10,\n",
        "            lr = 1e-4,\n",
        "            scheduler_gamma = None,\n",
        "            discount = .9,\n",
        "            gae_lambda = 1.0,\n",
        "            policy_clip = 0.2,\n",
        "            norm_advantage = True,\n",
        "            entropy_coeff = 0.01,\n",
        "            critic_coeff = 0.5,\n",
        "            max_grad_norm = 0.5,\n",
        "            early_stop_kl = None,\n",
        "            embed = 512,\n",
        "        )"
      ]
    },
    {
      "attachments": {},
      "cell_type": "markdown",
      "metadata": {
        "id": "fwZRdwmKppv5"
      },
      "source": [
        "## Let's Watch Our Bot Play!"
      ]
    },
    {
      "attachments": {},
      "cell_type": "markdown",
      "metadata": {},
      "source": [
        "Below we have the code to run a level and save the rendered frames."
      ]
    },
    {
      "cell_type": "code",
      "execution_count": null,
      "metadata": {
        "id": "XIaLmkKmppv4"
      },
      "outputs": [],
      "source": [
        "def run_level(pretrained_path=None, world=1, level=1):\n",
        "    with torch.no_grad():\n",
        "        frames = []\n",
        "        \n",
        "        env = preprocessed_env(world=world, level=level, movement='right')\n",
        "\n",
        "        agent = PPOAgent(\n",
        "            obs_shape=env.observation_space.shape,\n",
        "            act_shape=env.action_space.shape,\n",
        "            act_n=env.action_space.n,\n",
        "        )\n",
        "\n",
        "        if pretrained_path != None:\n",
        "            agent.load(pretrained_path)\n",
        "\n",
        "        agent.actor.eval()\n",
        "        agent.critic.eval()\n",
        "\n",
        "        obs = env.reset()[0].__array__()\n",
        "        done = False\n",
        "        score = 0\n",
        "\n",
        "        # run loop where model gathers data for \"learn_every\"\n",
        "        # steps then learns using that information\n",
        "        while not done:\n",
        "\n",
        "            # choose action (actor)\n",
        "            action, log_prob, val = agent.act(obs)\n",
        "\n",
        "            # get results of action\n",
        "            next_obs, reward, done, _, _ = env.step(action)\n",
        "\n",
        "            # save data to memory for experience learning\n",
        "            agent.cache(obs, action, log_prob, val, reward, done)\n",
        "\n",
        "            # when buffer full, learn and clear mem\n",
        "            if agent.mem_full():\n",
        "                agent.learn(next_obs.__array__())\n",
        "                agent.clear_mem()\n",
        "                \n",
        "            # update obs and tracking vars\n",
        "            obs = next_obs.__array__()\n",
        "            score += reward\n",
        "\n",
        "            for x in env.render():\n",
        "                frames.append(x.copy())\n",
        "        \n",
        "        env.close()\n",
        "\n",
        "        return frames"
      ]
    },
    {
      "cell_type": "code",
      "execution_count": null,
      "metadata": {
        "colab": {
          "base_uri": "https://localhost:8080/"
        },
        "id": "E8SlNcbpppv5",
        "outputId": "3a7139c3-df5d-42d8-a4ac-57b8a286efa5"
      },
      "outputs": [],
      "source": [
        "frames = run_level(pretrained_path='./selected_checkpoints/std_run_best_model.pt', world=1, level=1)"
      ]
    },
    {
      "attachments": {},
      "cell_type": "markdown",
      "metadata": {
        "id": "alX-AQ6Tppv5"
      },
      "source": [
        "Let's watch our Standard PPO Run play Mario! Note that it might still lose sometimes..."
      ]
    },
    {
      "cell_type": "code",
      "execution_count": null,
      "metadata": {
        "colab": {
          "base_uri": "https://localhost:8080/",
          "height": 414
        },
        "id": "hDdVp210ppv5",
        "outputId": "d10045db-6f16-4c03-8d0b-117d0ab6e57a"
      },
      "outputs": [],
      "source": [
        "display_vid(frames, fps=60)"
      ]
    }
  ],
  "metadata": {
    "accelerator": "GPU",
    "colab": {
      "gpuType": "T4",
      "provenance": []
    },
    "kernelspec": {
      "display_name": "Python 3 (ipykernel)",
      "language": "python",
      "name": "python3"
    },
    "language_info": {
      "codemirror_mode": {
        "name": "ipython",
        "version": 3
      },
      "file_extension": ".py",
      "mimetype": "text/x-python",
      "name": "python",
      "nbconvert_exporter": "python",
      "pygments_lexer": "ipython3",
      "version": "3.11.3"
    }
  },
  "nbformat": 4,
  "nbformat_minor": 0
}
