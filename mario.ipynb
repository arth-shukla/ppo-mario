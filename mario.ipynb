{
  "cells": [
    {
      "attachments": {},
      "cell_type": "markdown",
      "metadata": {
        "id": "Vsu3DASF9oOZ"
      },
      "source": [
        "# DDQN to Beat Mario"
      ]
    },
    {
      "attachments": {},
      "cell_type": "markdown",
      "metadata": {
        "id": "TmJC6m4o-bg3"
      },
      "source": [
        "## Background\n",
        "\n",
        "In 2013, DeepMind made the Deep Q Network to play Atari Games (https://arxiv.org/pdf/1312.5602.pdf). This DQN was able to learn to play simple Atari games at human level, kickstarting the past decade of DeepRL research.\n",
        "\n",
        "In 2015, DeepMind published another paper which played even more Atari Games (https://storage.googleapis.com/deepmind-media/dqn/DQNNaturePaper.pdf). This new model included a target network to reduce Q-value overestimation in the previous DQN model. This model is sometimes called DDQNs, and it's what we'll implement here to beat Mario!"
      ]
    },
    {
      "attachments": {},
      "cell_type": "markdown",
      "metadata": {
        "id": "zmmHHVWJ91H5"
      },
      "source": [
        "## Setup and Some Exploration"
      ]
    },
    {
      "attachments": {},
      "cell_type": "markdown",
      "metadata": {
        "id": "EK8eCfnF-Hpu"
      },
      "source": [
        "First, we install gymnasium and the Mario Env.\n",
        "\n",
        "The Mario env can be found here: https://pypi.org/project/gym-super-mario-bros/"
      ]
    },
    {
      "cell_type": "code",
      "execution_count": null,
      "metadata": {
        "colab": {
          "base_uri": "https://localhost:8080/"
        },
        "id": "97LB2zyA90n1",
        "outputId": "eccff4f4-9906-4e25-b962-485bd788dac8"
      },
      "outputs": [],
      "source": [
        "# uncomment if using colab; if running locally it's recommended to install via conda\n",
        "!pip install gymnasium\n",
        "!pip install gym_super_mario_bros==7.3.0"
      ]
    },
    {
      "attachments": {},
      "cell_type": "markdown",
      "metadata": {
        "id": "AoJma_vthJhe"
      },
      "source": [
        "Before we transform the env with wrappers and make our agent, let's take a look at the environment as-is. Below we take some random actions and generate a video"
      ]
    },
    {
      "cell_type": "code",
      "execution_count": null,
      "metadata": {
        "id": "5PeKvTbRImQ_"
      },
      "outputs": [],
      "source": [
        "import gymnasium as gym\n",
        "from gym.wrappers import RecordVideo\n",
        "\n",
        "from nes_py.wrappers import JoypadSpace\n",
        "import gym_super_mario_bros\n",
        "from gym_super_mario_bros.actions import SIMPLE_MOVEMENT\n",
        "\n",
        "import numpy as np\n",
        "\n",
        "import warnings\n",
        "warnings.filterwarnings('ignore')\n",
        "\n",
        "env = gym_super_mario_bros.make(\"SuperMarioBros-1-1-v0\")\n",
        "env = JoypadSpace(env, SIMPLE_MOVEMENT)\n",
        "\n",
        "def run_test(env, num_steps=100):\n",
        "    frames = []\n",
        "    out = env.reset()\n",
        "    for _ in range(num_steps):\n",
        "        next_state, reward, done, info = env.step(action=env.action_space.sample())\n",
        "        frames.append(np.copy(env.render(mode='rgb_array')))\n",
        "    return frames\n",
        "\n",
        "frames = run_test(env)"
      ]
    },
    {
      "cell_type": "code",
      "execution_count": null,
      "metadata": {
        "colab": {
          "base_uri": "https://localhost:8080/"
        },
        "id": "ZAeHNXeZp_4K",
        "outputId": "ff1ae860-d0b5-456b-b980-c3e14567cc26"
      },
      "outputs": [],
      "source": [
        "print(frames[-1].shape)"
      ]
    },
    {
      "attachments": {},
      "cell_type": "markdown",
      "metadata": {
        "id": "rmdoA8i-hejy"
      },
      "source": [
        "We can reuse the following code to see what our bot does later on:"
      ]
    },
    {
      "cell_type": "code",
      "execution_count": null,
      "metadata": {
        "id": "mM80quT3QU6r"
      },
      "outputs": [],
      "source": [
        "from IPython.display import HTML\n",
        "from base64 import b64encode\n",
        "import os\n",
        "import cv2\n",
        "\n",
        "def display_vid(frames, vid_name='./video.mp4', compressed_name='./compressed.mp4', fps=30):\n",
        "    h, w, c = frames[-1].shape\n",
        "    out = cv2.VideoWriter(vid_name, cv2.VideoWriter_fourcc(*'DIVX'), fps, (w, h))\n",
        "    for frame in frames:\n",
        "        out.write(frame)\n",
        "    out.release()\n",
        "\n",
        "    os.system(f\"ffmpeg -i {vid_name} -vcodec libx264 {compressed_name}\")\n",
        "\n",
        "    mp4 = open(compressed_name,'rb').read()\n",
        "    data_url = \"data:video/mp4;base64,\" + b64encode(mp4).decode()\n",
        "    return HTML(\"\"\"\n",
        "    <video width=400 controls>\n",
        "          <source src=\"%s\" type=\"video/mp4\">\n",
        "    </video>\n",
        "    \"\"\" % data_url)"
      ]
    },
    {
      "cell_type": "code",
      "execution_count": null,
      "metadata": {
        "colab": {
          "base_uri": "https://localhost:8080/",
          "height": 396
        },
        "id": "FIJF-g33QpHx",
        "outputId": "6ddb44ae-2d7c-48c7-8926-0c6713fd9953"
      },
      "outputs": [],
      "source": [
        "display_vid(frames)"
      ]
    },
    {
      "attachments": {},
      "cell_type": "markdown",
      "metadata": {
        "id": "BNLa9SFHipWS"
      },
      "source": [
        "## Preprocessing Environment"
      ]
    },
    {
      "attachments": {},
      "cell_type": "markdown",
      "metadata": {
        "id": "K2mJZj2Eluj2"
      },
      "source": [
        "The DeepMind papers for Atari games transforms the environments to make it easier for the DQN/DDQN to learn.\n",
        "\n",
        "We will implemnet some of these simplifying transformations using Gymnasium's wrappers.\n",
        "\n",
        "To begin with, we create a wrapper to only use every kth frame. The original paper only uses every fourth frame, with the in-between frames copying the previous action.\n",
        "\n",
        "Since this requires altering out step function, we will use `gym.Wrapper` as the parent class."
      ]
    },
    {
      "cell_type": "code",
      "execution_count": null,
      "metadata": {
        "id": "VfpyIUsamGRu"
      },
      "outputs": [],
      "source": [
        "class SkipFrames(gym.Wrapper):\n",
        "    def __init__(self, env, skip=4):\n",
        "        super(SkipFrames, self).__init__(env)\n",
        "        self.skip = skip\n",
        "\n",
        "    def step(self, action):\n",
        "\n",
        "        # accumulate rewards\n",
        "        total_reward = 0\n",
        "\n",
        "        for i in range(self.skip):\n",
        "\n",
        "            # use same action accross all skipped frames\n",
        "            obs, reward, done, info = self.env.step(action)\n",
        "            total_reward += reward\n",
        "\n",
        "            # note that our episode might end during the skipped frames\n",
        "            # in this case, break the loop\n",
        "            if done: break\n",
        "        \n",
        "        return obs, total_reward, done, info"
      ]
    },
    {
      "attachments": {},
      "cell_type": "markdown",
      "metadata": {
        "id": "PTv_qz73m-zJ"
      },
      "source": [
        "Next, we will warp each frame (our observation). The original paper\n",
        "1. converts the screen to grayscale\n",
        "2. downscales each frame from 210x160 to 110x84\n",
        "3. crops an 84x84 view of the playing space\n",
        "\n",
        "In our case, **we will directly downscale to 84x84** since our input frames are already near-square, at (240, 256, 3).\n",
        "\n",
        "Luckily, the `torchvision.transforms` library can do most of our heavy-lifting. Since we are only altering the observation here, we can use `gym.ObservationWrapper`."
      ]
    },
    {
      "cell_type": "code",
      "execution_count": null,
      "metadata": {
        "id": "xkegIeYhm-eD"
      },
      "outputs": [],
      "source": [
        "import torch\n",
        "from torchvision import transforms as T\n",
        "\n",
        "class WarpFrame(gym.ObservationWrapper):\n",
        "    def __init__(self, env, shape=84):\n",
        "        super(WarpFrame, self).__init__(env)\n",
        "\n",
        "        self.width = shape\n",
        "        self.height = shape\n",
        "\n",
        "        self.observation_space = gym.spaces.Box(low=0, high=255, shape=(shape, shape), dtype=np.uint8)\n",
        "\n",
        "    #--------------------------------------------------------------------\n",
        "    # NOTE: gymnasium ObservationWrapper implements reset and step\n",
        "    #       differently than our env; in particular, it expects\n",
        "    #       2 items from reset() and 5 items from step(), while\n",
        "    #       our env gives 1 item from reset() and 4 items from step()\n",
        "    #--------------------------------------------------------------------\n",
        "    def reset(self, *, seed = None, options = None):\n",
        "        obs = self.env.reset(seed=seed, options=options)\n",
        "        return self.observation(obs)\n",
        "    def step(self, action):\n",
        "        observation, reward, terminated, info = self.env.step(action)\n",
        "        return self.observation(observation), reward, terminated, info\n",
        "    #--------------------------------------------------------------------\n",
        "      \n",
        "    def observation(self, frame):\n",
        "        assert frame.shape == (240, 256, 3), \"Incorrect frame size\"\n",
        "\n",
        "        # set to C, H, W and convert to tensor for transforms\n",
        "        frame = np.transpose(frame, (2, 0, 1))\n",
        "        frame = torch.tensor(frame.copy(), dtype=torch.float)\n",
        "\n",
        "        transforms = T.Compose([\n",
        "            # converts tensor to grayscale (sets C to 1)\n",
        "            T.Grayscale(),\n",
        "            # resizes image using bilinear interpolation\n",
        "            T.Resize((84, 84)),\n",
        "            # normalizer takes mean 0 and std 255, thus normalizing vals to [0,1]\n",
        "            # this is mainly to provide less extreme input to our network (nicer for training)\n",
        "            T.Normalize(0, 255)\n",
        "        ])\n",
        "\n",
        "        return transforms(frame).squeeze()"
      ]
    },
    {
      "attachments": {},
      "cell_type": "markdown",
      "metadata": {
        "id": "pLP_d57AvG5K"
      },
      "source": [
        "Finally, the paper takes data from the past 4 observed frames and sends them as a stack to the agent. In the case of Mario, one single state could correspond to mulitple previous actions (e.g. Mario midair could mean he's falling or jumping). So, returning a stack of 4 frames lets the agent glean some context for each state inputs.\n",
        "\n",
        "Gymnasium already has a `FrameStack` wrapper which we can simply call.\n",
        "\n",
        "We will also use a Wrapper suggested by the Mario Gym env called `JoypadSpace`. The original NES technically had 256 different viable actions. Here, we will constraing this to `RIGHT_ONLY`, provided by the Mario env, which only allows Mario to move right while jumping/ducking."
      ]
    },
    {
      "cell_type": "code",
      "execution_count": null,
      "metadata": {
        "id": "7sWxQ2rAjFLX"
      },
      "outputs": [],
      "source": [
        "from gym.wrappers import FrameStack\n",
        "from nes_py.wrappers import JoypadSpace\n",
        "from gym_super_mario_bros.actions import RIGHT_ONLY\n",
        "\n",
        "def preprocessed_env():\n",
        "    env = gym_super_mario_bros.make(\"SuperMarioBros-1-1-v0\")\n",
        "    env = SkipFrames(env, skip=4)\n",
        "    env = WarpFrame(env, shape=84)\n",
        "    env = FrameStack(env, num_stack=4)\n",
        "    env = JoypadSpace(env, RIGHT_ONLY)\n",
        "    return env"
      ]
    },
    {
      "cell_type": "code",
      "execution_count": null,
      "metadata": {
        "colab": {
          "base_uri": "https://localhost:8080/"
        },
        "id": "v1Z7ud1a55kJ",
        "outputId": "e661196c-322e-4492-81fd-bbb0a8c36e12"
      },
      "outputs": [],
      "source": [
        "env = preprocessed_env()\n",
        "print('obs space', env.observation_space.shape)\n",
        "print('act space', env.action_space.n)"
      ]
    },
    {
      "attachments": {},
      "cell_type": "markdown",
      "metadata": {
        "id": "RT_tBITRA6Ty"
      },
      "source": [
        "We now have a preprocessed environment! We can proceed to working on our Agent."
      ]
    },
    {
      "attachments": {},
      "cell_type": "markdown",
      "metadata": {
        "id": "vCd3JjKZA_s9"
      },
      "source": [
        "## Building DDQN"
      ]
    },
    {
      "attachments": {},
      "cell_type": "markdown",
      "metadata": {
        "id": "SGdVAC8vS3Qn"
      },
      "source": [
        "The original DQN paper from 2013 uses the following algorithm:\n",
        "\n",
        "![Screenshot 2023-05-30 at 9.15.26 PM.png](data:image/png;base64,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)"
      ]
    },
    {
      "attachments": {},
      "cell_type": "markdown",
      "metadata": {
        "id": "svktcwvhTDVE"
      },
      "source": [
        "The 2015 paper updates the loss function to that pictured below to include a target network whose parameters, $\\theta ^{-}_{i}$, are updated to the Q-network's parameters, $\\theta_{i}$ every $C$ steps:\n",
        "\n",
        "![Screenshot 2023-05-31 at 3.14.49 AM.png](data:image/png;base64,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)"
      ]
    },
    {
      "attachments": {},
      "cell_type": "markdown",
      "metadata": {
        "id": "q655hjwkBWHy"
      },
      "source": [
        "We will first build the solver architecture, then we will proceed to building the agent which implements the above algorithm.\n",
        "\n",
        "The Q-Network and Target network in our DDQN share the following architecture:\n",
        "1. Conv2d with 32 8x8 kernels, stride 4 + nonlinearlity (we will use ReLU)\n",
        "2. Conv2d with 64 4x4 kernels, stride 2 + nonlinearity\n",
        "3. Conv2d with 64 3x3 kernels, stride 1 + nonlinearity\n",
        "3. FC layer with 512 nodes + nonlinearity\n",
        "4. FC layer with # nodes equal to # actions (note this assumes a discrete action space)\n",
        "\n",
        "We implement this with Pytorch:"
      ]
    },
    {
      "cell_type": "code",
      "execution_count": null,
      "metadata": {
        "id": "1-bqk3MTCduO"
      },
      "outputs": [],
      "source": [
        "import torch.nn as nn\n",
        "\n",
        "class DQN(nn.Module):\n",
        "    def __init__(self, obs_space_shape, n_actions, target=False):\n",
        "        super(DQN, self).__init__()\n",
        "\n",
        "        self.obs_space_shape = obs_space_shape\n",
        "        self.n_actions = n_actions\n",
        "\n",
        "        # convolution steps as described above\n",
        "        self.conv = nn.Sequential(\n",
        "            nn.Conv2d(obs_space_shape[0], 32, 8, 4),\n",
        "            nn.ReLU(),\n",
        "            nn.Conv2d(32, 64, 4, 2),\n",
        "            nn.ReLU(),\n",
        "            nn.Conv2d(64, 64, 3, 1),\n",
        "            nn.ReLU(),\n",
        "        )\n",
        "\n",
        "        # fully connected layers to discrete action space\n",
        "        conv_out_size = self._get_conv_out_shape()\n",
        "        self.fcs = nn.Sequential(\n",
        "            nn.Linear(conv_out_size, 512),\n",
        "            nn.ReLU(),\n",
        "            nn.Linear(512, n_actions),\n",
        "        )\n",
        "\n",
        "        if target:\n",
        "            for p in self.parameters():\n",
        "                p.requires_grad = False\n",
        "    \n",
        "    # helper func to calc conv output size\n",
        "    def _get_conv_out_shape(self):\n",
        "        o = self.conv(torch.zeros(1, *self.obs_space_shape))\n",
        "        return int(np.prod(o.size()))\n",
        "\n",
        "    def forward(self, x):\n",
        "        conv = self.conv(x)\n",
        "        conv = conv.view(x.size(0), -1)\n",
        "        out = self.fcs(conv)\n",
        "        return out"
      ]
    },
    {
      "attachments": {},
      "cell_type": "markdown",
      "metadata": {
        "id": "PiKVbEYBKdw5"
      },
      "source": [
        "We can test input/output shapes as well"
      ]
    },
    {
      "cell_type": "code",
      "execution_count": null,
      "metadata": {
        "colab": {
          "base_uri": "https://localhost:8080/"
        },
        "id": "3YOK6yp4EoB2",
        "outputId": "410038d7-89ec-4fc7-a257-c95d183b9b01"
      },
      "outputs": [],
      "source": [
        "# tensor of form N, C, H, W\n",
        "x = torch.tensor(np.random.randint(low=0, high=255, size=(1, 4, 84, 84)), dtype=torch.float)\n",
        "x = T.Normalize(0, 255)(x)\n",
        "\n",
        "print('input shape', x.shape)\n",
        "dqn = DQN(env.observation_space.shape, env.action_space.n)\n",
        "print('output shape', dqn.forward(x).shape)"
      ]
    },
    {
      "attachments": {},
      "cell_type": "markdown",
      "metadata": {
        "id": "yE-GleoMLRW_"
      },
      "source": [
        "As one last step before building our model, we will build a memory system:"
      ]
    },
    {
      "cell_type": "code",
      "execution_count": null,
      "metadata": {
        "id": "_H8ep_xNRFcv"
      },
      "outputs": [],
      "source": [
        "from collections import deque\n",
        "import random\n",
        "\n",
        "class AgentMemory():\n",
        "    def __init__(self, batch_size=32, mem_max=100000):\n",
        "\n",
        "        # get device\n",
        "        self.device = torch.device('cpu') if not torch.cuda.is_available() else torch.device('cuda')\n",
        "        self.cpu = torch.device('cpu')\n",
        "\n",
        "        # memory management vars\n",
        "        self.batch_size = batch_size\n",
        "        self.mem_max = mem_max\n",
        "        self.memory = deque(maxlen=self.mem_max)\n",
        "\n",
        "    def get_batch(self):\n",
        "\n",
        "        # randomly sample batch of memories\n",
        "        batch = random.sample(self.memory, self.batch_size)\n",
        "\n",
        "        # get tensors for each item\n",
        "        state, next_state, action, reward, done = map(torch.stack, zip(*batch))\n",
        "\n",
        "        state = state.to(self.device)\n",
        "        next_state = next_state.to(self.device)\n",
        "        action = action.to(self.device)\n",
        "        reward = reward.to(self.device)\n",
        "        done = done.to(self.device)\n",
        "\n",
        "        return state, next_state, action.squeeze(), reward.squeeze(), done.squeeze()\n",
        "    \n",
        "    def save_memory(self, state, next_state, action, reward, done):\n",
        "  \n",
        "        # save everything as tensors and send to device\n",
        "        state = torch.from_numpy(state).to(self.cpu)\n",
        "        next_state = torch.from_numpy(next_state).to(self.cpu)\n",
        "        action = torch.tensor([action]).to(self.cpu)\n",
        "        reward = torch.tensor([reward]).to(self.cpu)\n",
        "        done = torch.tensor([done]).to(self.cpu)\n",
        "\n",
        "        self.memory.append((state, next_state, action, reward, done))\n",
        "\n",
        "    def clear_memory(self):\n",
        "\n",
        "        # reset memory\n",
        "        self.memory = deque(maxlen=self.mem_max)\n",
        "\n",
        "    # len hook\n",
        "    def __len__(self):\n",
        "        return len(self.memory)"
      ]
    },
    {
      "attachments": {},
      "cell_type": "markdown",
      "metadata": {
        "id": "9EbMT31QxNTU"
      },
      "source": [
        "We're finally ready to build our model! We will combine the memory, DNN, and the learning algorithm to create an agent which can improve its optimal Q-value approximations over time.\n",
        "\n",
        "We'll also throw in some model saving and loading in case our training is interrupted."
      ]
    },
    {
      "cell_type": "code",
      "execution_count": null,
      "metadata": {
        "id": "eAWT2sSyLQ51"
      },
      "outputs": [],
      "source": [
        "from pathlib import Path\n",
        "\n",
        "class DDQNAgent:\n",
        "    def __init__(\n",
        "        self, obs_space_shape, act_space_shape,\n",
        "        discount=0.9, lr=2.5e-4,\n",
        "        sync_every=1e4, learn_every=3, burnin=1e5, save_every=5e5,\n",
        "        exploration_min=0.02, exploration_max=1, exploration_decay=0.99,\n",
        "        mem_max=30000, batch_size=32,\n",
        "        checkpoint_dir='./checkpoints', load_pretrain=False,\n",
        "    ):\n",
        "        # get device\n",
        "        self.device = torch.device('cpu') if not torch.cuda.is_available() else torch.device('cuda')\n",
        "\n",
        "        # obs and act space\n",
        "        self.obs_space_shape = obs_space_shape\n",
        "        self.act_space_shape = act_space_shape\n",
        "\n",
        "        # hyperparams\n",
        "        self.discount = discount\n",
        "        self.lr = lr\n",
        "        # exploration_vars\n",
        "        self.exploration_rate = exploration_max\n",
        "        self.exploration_min = exploration_min\n",
        "        self.exploration_decay = exploration_decay\n",
        "        # loss func\n",
        "        self.l1 = nn.SmoothL1Loss().to(self.device)\n",
        "\n",
        "        # exp replay vars\n",
        "        self.mem_max = mem_max\n",
        "        self.batch_size = batch_size\n",
        "        self.mem = AgentMemory(batch_size, mem_max=mem_max)\n",
        "        self.curr_step = 0\n",
        "        self.sync_every = sync_every\n",
        "        self.learn_every = learn_every\n",
        "        self.burnin = burnin\n",
        "        self.save_every = save_every\n",
        "        \n",
        "\n",
        "        # save loc\n",
        "        self.checkpoint_dir = checkpoint_dir\n",
        "\n",
        "        # load pretrained or proceed with init\n",
        "        if load_pretrain:\n",
        "            # load dqn weights and optimizer state\n",
        "            self.load_model(load_fn='model_opt.pth')\n",
        "        # make new networks\n",
        "        else:\n",
        "            # make q network and target network\n",
        "            self.q_net = DQN(self.obs_space_shape, self.act_space_shape)\n",
        "            self.target = DQN(self.obs_space_shape, self.act_space_shape, target=True)\n",
        "            # finally set optimizer for our dqn net\n",
        "            self.optimizer = torch.optim.Adam(self.q_net.parameters(), lr=lr)\n",
        "        \n",
        "        self.q_net.to(self.device)\n",
        "        self.target.to(self.device)\n",
        "\n",
        "    def act(self, state):\n",
        "\n",
        "        self.curr_step += 1\n",
        "\n",
        "        action = -1\n",
        "        state = torch.from_numpy(state.__array__()).to(self.device)\n",
        "\n",
        "        if np.random.rand() < self.exploration_rate:\n",
        "            action = np.random.randint(self.act_space_shape)\n",
        "        else:\n",
        "            state = state.to(self.device).unsqueeze(0)\n",
        "            out = self.q_net(state)\n",
        "            action = torch.argmax(out, axis=1).item()\n",
        "\n",
        "        return action\n",
        "\n",
        "    def copy_model(self):        \n",
        "        self.target.load_state_dict(self.q_net.state_dict())\n",
        "\n",
        "    def learn(self):\n",
        "\n",
        "        if self.curr_step % self.sync_every == 0:\n",
        "            self.copy_model()\n",
        "        if self.curr_step % self.save_every == 0:\n",
        "            self.save_model()\n",
        "        if self.curr_step < self.burnin:\n",
        "            return\n",
        "        if self.curr_step % self.learn_every != 0:\n",
        "            return\n",
        "        # if self.batch_size > len(self.mem):\n",
        "        #     return\n",
        "        \n",
        "        # get batched memories\n",
        "        state, next_state, action, reward, done = self.mem.get_batch()\n",
        "\n",
        "        # zero out gradients\n",
        "        self.optimizer.zero_grad()\n",
        "\n",
        "        # recall loss func computes r + γ max_a' Q(s', a'; 𝜃-) - Q(s, a; 𝜃)\n",
        "\n",
        "        # # γ max_a' Q(s', a'; 𝜃-)\n",
        "        targ_update = self.discount * self.target(next_state).max(1).values.unsqueeze(1)\n",
        "        targ_update = targ_update * (~done).long()\n",
        "\n",
        "        # # r + γ max_a' Q(s', a'; 𝜃-)\n",
        "        target = reward + targ_update\n",
        "\n",
        "        # # Q(s, a; 𝜃)\n",
        "        current = self.q_net(state).max(1).values.unsqueeze(1)\n",
        "\n",
        "        # # loss here is | r + γ max_a' Q(s', a'; 𝜃-) - Q(s, a; 𝜃) |\n",
        "        loss = self.l1(current, target)\n",
        "\n",
        "        \n",
        "        # backprop and descent\n",
        "        loss.backward()\n",
        "        self.optimizer.step()\n",
        "        \n",
        "        # update exploration rate\n",
        "        self.exploration_rate *= self.exploration_decay\n",
        "        self.exploration_rate = max(self.exploration_rate, self.exploration_min)\n",
        "        \n",
        "    \n",
        "    # conveniece methods to interact with child objects\n",
        "    def save_memory(self, *args):\n",
        "        self.mem.save_memory(*args)\n",
        "    def train(self):\n",
        "        self.q_net.train()\n",
        "    def eval(self):\n",
        "        self.q_net.eval()\n",
        "    \n",
        "\n",
        "    # model save/load functions\n",
        "    def load_model(self, load_fn='model_opt.pth', num=0):\n",
        "        self.q_net = DQN(self.obs_space_shape, self.act_space_shape)\n",
        "        self.target = DQN(self.obs_space_shape, self.act_space_shape, target=True)\n",
        "        self.optimizer = torch.optim.Adam(self.q_net.parameters(), lr=self.lr)\n",
        "\n",
        "        load_path = Path(self.checkpoint_dir) / Path(load_fn)\n",
        "        checkpoint = torch.load(load_path, map_location='cpu')\n",
        "\n",
        "        self.q_net.model.load_state_dict(checkpoint['qnet_state_dict'])\n",
        "        self.target.model.load_state_dict(checkpoint['target_state_dict'])\n",
        "        self.optimizer.load_state_dict(checkpoint['optimizer_state_dict'])\n",
        "        self.exploration_rate = checkpoint['explore_rate']\n",
        "\n",
        "    def save_model(self, save_fn='model_opt.pth'):\n",
        "\n",
        "        save_path = Path(self.checkpoint_dir) / Path(save_fn)\n",
        "\n",
        "        torch.save({\n",
        "            'qnet_state_dict': self.q_net.state_dict(),\n",
        "            'target_state_dict': self.target.state_dict(),\n",
        "            'optimizer_state_dict': self.optimizer.state_dict(),\n",
        "            'explore_rate': self.exploration_rate,\n",
        "        }, save_path)"
      ]
    },
    {
      "attachments": {},
      "cell_type": "markdown",
      "metadata": {
        "id": "72SFalqb4Z3x"
      },
      "source": [
        "## Training"
      ]
    },
    {
      "attachments": {},
      "cell_type": "markdown",
      "metadata": {
        "id": "GGGPHKwY4eE5"
      },
      "source": [
        "We will log to WandB to see how training progresses"
      ]
    },
    {
      "cell_type": "code",
      "execution_count": null,
      "metadata": {
        "colab": {
          "base_uri": "https://localhost:8080/"
        },
        "id": "mevc0uEP4bL1",
        "outputId": "42cde270-9bbb-4e5a-ab45-1fdcc8f3695b"
      },
      "outputs": [],
      "source": [
        "# Uncomment if using colab\n",
        "!pip install wandb"
      ]
    },
    {
      "cell_type": "code",
      "execution_count": null,
      "metadata": {
        "colab": {
          "base_uri": "https://localhost:8080/"
        },
        "id": "FLDacGjT8EOZ",
        "outputId": "a8d81c7e-fbcd-47ac-9e37-0a4d178f0c5c"
      },
      "outputs": [],
      "source": [
        "import wandb\n",
        "\n",
        "wandb.login()"
      ]
    },
    {
      "cell_type": "code",
      "execution_count": null,
      "metadata": {
        "id": "FneVTy895TjA"
      },
      "outputs": [],
      "source": [
        "NUM_EPISODES = 10000\n",
        "BATCH_SIZE = 32\n",
        "LR = 0.00025\n",
        "DISCOUNT = 0.9\n",
        "EXPLORATION_DECAY = 0.99999975\n",
        "EXPLORATION_MIN = 0.1\n",
        "EXPLORATION_MAX = 1\n",
        "MEM_MAX = 100000\n",
        "SYNC_EVERY = 1e4\n",
        "LEARN_EVERY = 3\n",
        "BURNIN = 1e5\n",
        "SAVE_EVERY = 5e5"
      ]
    },
    {
      "cell_type": "code",
      "execution_count": null,
      "metadata": {
        "id": "exvIEdC55zXW"
      },
      "outputs": [],
      "source": [
        "from tqdm import tqdm\n",
        "\n",
        "def train_agent(\n",
        "    num_episodes=NUM_EPISODES, discount=DISCOUNT, lr=LR,\n",
        "    exploration_min=EXPLORATION_MIN, exploration_max=EXPLORATION_MAX, exploration_decay=EXPLORATION_DECAY,\n",
        "    mem_max=MEM_MAX, batch_size=BATCH_SIZE,\n",
        "    sync_every=SYNC_EVERY, learn_every=LEARN_EVERY, burnin=BURNIN, save_every=SAVE_EVERY,\n",
        "    checkpoint_dir='./checkpoints', load_pretrain=False,\n",
        "    log_ep_reward_trend_every = 1000, wandb_logging=True\n",
        "):\n",
        "    device = torch.device('cpu') if not torch.cuda.is_available() else torch.device('cuda')\n",
        "\n",
        "    env = preprocessed_env()\n",
        "    obs_space_shape = env.observation_space.shape\n",
        "    act_space_shape = env.action_space.n\n",
        "\n",
        "    agent = DDQNAgent(\n",
        "        obs_space_shape=obs_space_shape,\n",
        "        act_space_shape=act_space_shape,\n",
        "        discount=discount, lr=lr,\n",
        "        exploration_min=exploration_min, exploration_max=exploration_max, exploration_decay=exploration_decay,\n",
        "        mem_max=mem_max, batch_size=batch_size,\n",
        "        checkpoint_dir=checkpoint_dir, load_pretrain=load_pretrain,\n",
        "    )\n",
        "\n",
        "    # stat logging\n",
        "    total_rewards = []\n",
        "    ep_lens = []\n",
        "    tot_rewards_by_ep = dict()\n",
        "\n",
        "    # prep env and agent for training\n",
        "    env.reset()\n",
        "    agent.train()\n",
        "\n",
        "    for episode in tqdm(range(num_episodes)):\n",
        "        total_reward = 0\n",
        "        step = 0\n",
        "        ep_rewards = []\n",
        "\n",
        "        log_reward_trend = (episode % log_ep_reward_trend_every == 0) or (episode == num_episodes - 1)\n",
        "\n",
        "        state = env.reset()\n",
        "        state = state.__array__()\n",
        "\n",
        "        while True:\n",
        "            step += 1\n",
        "\n",
        "            # get action from agent\n",
        "            action = agent.act(state)\n",
        "            \n",
        "            # step using action\n",
        "            next_state, reward, done, info = env.step(action=action)\n",
        "\n",
        "            # accumulate reward for episode and save\n",
        "            total_reward += reward\n",
        "\n",
        "            # add experience to memory\n",
        "            next_state = next_state.__array__()\n",
        "            agent.save_memory(state, next_state, action, reward, done)\n",
        "\n",
        "            # perform experience replay\n",
        "            agent.learn()\n",
        "\n",
        "            # prep for next loop\n",
        "            state = next_state\n",
        "\n",
        "            # break loop if end of episode\n",
        "            if done: break\n",
        "\n",
        "            if log_reward_trend:\n",
        "                ep_rewards.append(total_reward)\n",
        "\n",
        "        # save/log episode metrics\n",
        "        total_rewards.append(total_reward)\n",
        "        ep_lens.append(step)\n",
        "        if log_reward_trend:\n",
        "            tot_rewards_by_ep[episode] = ep_rewards\n",
        "            agent.save_model(save_fn=f'model_opt_{episode}.pth')\n",
        "\n",
        "        if wandb_logging:\n",
        "            sum_past_n = sum(total_rewards[:-500])\n",
        "            len_past_n = len(total_rewards[:-500])\n",
        "\n",
        "            avg_past_n = 0\n",
        "            if len_past_n != 0:\n",
        "                avg_past_n = sum_past_n / len_past_n\n",
        "            wandb.log({\n",
        "                'train/total_reward': total_reward,\n",
        "                'train/avg_reward (past 500 episodes)': avg_past_n,\n",
        "                'train/episode_len': step,\n",
        "            })\n",
        "    \n",
        "    return agent, env, total_rewards, ep_lens, tot_rewards_by_ep"
      ]
    },
    {
      "cell_type": "code",
      "execution_count": null,
      "metadata": {
        "colab": {
          "base_uri": "https://localhost:8080/",
          "height": 766
        },
        "id": "wfGkL79QoTpE",
        "outputId": "3af0e657-27b1-4e4e-a2fb-5281192bb3c4"
      },
      "outputs": [],
      "source": [
        "run = wandb.init(\n",
        "    project='Mario DQN',\n",
        "    notes='Training a DQN similar to the original DeepMind paper for Atari Games.'\n",
        ")\n",
        "\n",
        "wandb.config = {\n",
        "    'episodes': NUM_EPISODES,\n",
        "    'batch_size': BATCH_SIZE,\n",
        "    'learning_rate': LR,\n",
        "    'discount': DISCOUNT,\n",
        "    'exploration_decay': EXPLORATION_DECAY,\n",
        "    'exploration_min': EXPLORATION_MIN,\n",
        "    'exploration_max': EXPLORATION_MAX,\n",
        "    'mem_max': MEM_MAX,\n",
        "    'sync_every': SYNC_EVERY,\n",
        "    'learn_every': LEARN_EVERY,\n",
        "    'burnin': BURNIN,\n",
        "    'save_every': SAVE_EVERY,\n",
        "}\n",
        "\n",
        "!mkdir ./checkpoints\n",
        "\n",
        "agent, env, total_rewards, ep_lens, tot_rewards_by_ep = train_agent(wandb_logging=True)"
      ]
    },
    {
      "cell_type": "code",
      "execution_count": null,
      "metadata": {
        "id": "Kc3pSR8mBnao"
      },
      "outputs": [],
      "source": [
        "import pickle\n",
        "\n",
        "with open('tot_rewards_by_ep.pkl', 'wb') as fp:\n",
        "    pickle.dump(tot_rewards_by_ep, fp)\n",
        "    print('dictionary saved successfully to file')"
      ]
    }
  ],
  "metadata": {
    "accelerator": "GPU",
    "colab": {
      "gpuType": "T4",
      "provenance": []
    },
    "kernelspec": {
      "display_name": "Python 3",
      "name": "python3"
    },
    "language_info": {
      "codemirror_mode": {
        "name": "ipython",
        "version": 3
      },
      "file_extension": ".py",
      "mimetype": "text/x-python",
      "name": "python",
      "nbconvert_exporter": "python",
      "pygments_lexer": "ipython3",
      "version": "3.11.3"
    },
    "orig_nbformat": 4
  },
  "nbformat": 4,
  "nbformat_minor": 0
}
