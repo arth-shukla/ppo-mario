{
  "cells": [
    {
      "attachments": {},
      "cell_type": "markdown",
      "metadata": {
        "id": "Vsu3DASF9oOZ"
      },
      "source": [
        "# DDQN to Beat Mario"
      ]
    },
    {
      "attachments": {},
      "cell_type": "markdown",
      "metadata": {
        "id": "TmJC6m4o-bg3"
      },
      "source": [
        "## Background\n",
        "\n",
        "In 2013, DeepMind made the Deep Q Network to play Atari Games (https://arxiv.org/pdf/1312.5602.pdf). This DQN was able to learn to play simple Atari games at human level, kickstarting the past decade of DeepRL research.\n",
        "\n",
        "In 2015, DeepMind published another paper which played even more Atari Games (https://storage.googleapis.com/deepmind-media/dqn/DQNNaturePaper.pdf). This new model included a target network to reduce Q-value overestimation in the previous DQN model. This model is sometimes called DDQNs, and it's what we'll implement here to beat Mario!"
      ]
    },
    {
      "attachments": {},
      "cell_type": "markdown",
      "metadata": {
        "id": "zmmHHVWJ91H5"
      },
      "source": [
        "## Setup and Some Exploration"
      ]
    },
    {
      "attachments": {},
      "cell_type": "markdown",
      "metadata": {
        "id": "EK8eCfnF-Hpu"
      },
      "source": [
        "First, we install gymnasium and the Mario Env.\n",
        "\n",
        "The Mario env can be found here: https://pypi.org/project/gym-super-mario-bros/"
      ]
    },
    {
      "cell_type": "code",
      "execution_count": 26,
      "metadata": {
        "colab": {
          "base_uri": "https://localhost:8080/"
        },
        "id": "97LB2zyA90n1",
        "outputId": "ace16065-3afb-4b63-a812-3412c3c88422"
      },
      "outputs": [],
      "source": [
        "# uncomment if using colab; if running locally it's recommended to install via conda\n",
        "# !pip uninstall -y gym\n",
        "# !pip install gymnasium\n",
        "# !pip install gym_super_mario_bros==7.3.0\n",
        "# !pip install wandb"
      ]
    },
    {
      "attachments": {},
      "cell_type": "markdown",
      "metadata": {
        "id": "AoJma_vthJhe"
      },
      "source": [
        "Before we transform the env with wrappers and make our agent, let's take a look at the environment as-is. Below we take some random actions and generate a video"
      ]
    },
    {
      "cell_type": "code",
      "execution_count": 27,
      "metadata": {
        "id": "5PeKvTbRImQ_"
      },
      "outputs": [],
      "source": [
        "import gymnasium as gym\n",
        "from gym.wrappers import RecordVideo\n",
        "\n",
        "from nes_py.wrappers import JoypadSpace\n",
        "import gym_super_mario_bros\n",
        "from gym_super_mario_bros.actions import SIMPLE_MOVEMENT\n",
        "\n",
        "import numpy as np\n",
        "\n",
        "import warnings\n",
        "warnings.filterwarnings('ignore')\n",
        "\n",
        "env = gym_super_mario_bros.make(\"SuperMarioBros-1-1-v0\", apply_api_compatibility=True, render_mode='rgb_array')\n",
        "env = JoypadSpace(env, SIMPLE_MOVEMENT)\n",
        "\n",
        "def run_test(env, num_steps=50):\n",
        "    frames = []\n",
        "    out = env.reset()\n",
        "    for _ in range(num_steps):\n",
        "        next_state, reward, done, truncated, info = env.step(action=env.action_space.sample())\n",
        "        frames.append(np.copy(env.render()))\n",
        "    return frames\n",
        "\n",
        "frames = run_test(env)"
      ]
    },
    {
      "cell_type": "code",
      "execution_count": 28,
      "metadata": {
        "colab": {
          "base_uri": "https://localhost:8080/"
        },
        "id": "ZAeHNXeZp_4K",
        "outputId": "128bac45-414d-44ff-987c-5d61ab3f1725"
      },
      "outputs": [
        {
          "name": "stdout",
          "output_type": "stream",
          "text": [
            "(240, 256, 3)\n"
          ]
        }
      ],
      "source": [
        "print(frames[-1].shape)"
      ]
    },
    {
      "attachments": {},
      "cell_type": "markdown",
      "metadata": {
        "id": "rmdoA8i-hejy"
      },
      "source": [
        "We can reuse the following code to see what our bot does later on:"
      ]
    },
    {
      "cell_type": "code",
      "execution_count": 29,
      "metadata": {
        "id": "mM80quT3QU6r"
      },
      "outputs": [],
      "source": [
        "from IPython.display import HTML\n",
        "from base64 import b64encode\n",
        "import numpy as np\n",
        "import os\n",
        "import cv2\n",
        "from tqdm import tqdm\n",
        "\n",
        "def display_vid(frames, vid_name='./video.mp4', compressed_name='./compressed.mp4', fps=30):\n",
        "\n",
        "    if os.path.isfile(vid_name):\n",
        "      !rm video.mp4\n",
        "    if os.path.isfile(compressed_name):\n",
        "      !rm compressed.mp4\n",
        "\n",
        "    h, w, c = frames[-1].shape\n",
        "    out = cv2.VideoWriter(vid_name, cv2.VideoWriter_fourcc(*'VP90'), fps, (w, h))\n",
        "    for frame in tqdm(frames):\n",
        "        img = cv2.cvtColor(frame, cv2.COLOR_BGR2RGB)\n",
        "        out.write(img)\n",
        "    out.release()\n",
        "\n",
        "    mp4 = open(vid_name,'rb').read()\n",
        "    data_url = \"data:video/mp4;base64,\" + b64encode(mp4).decode()\n",
        "    return HTML(\"\"\"\n",
        "    <video width=400 controls>\n",
        "          <source src=\"%s\" type=\"video/mp4\">\n",
        "    </video>\n",
        "    \"\"\" % data_url)"
      ]
    },
    {
      "cell_type": "code",
      "execution_count": 30,
      "metadata": {
        "colab": {
          "base_uri": "https://localhost:8080/",
          "height": 414
        },
        "id": "FIJF-g33QpHx",
        "outputId": "89d1c426-82fb-4605-da9e-3162e93329f7"
      },
      "outputs": [
        {
          "name": "stderr",
          "output_type": "stream",
          "text": [
            "OpenCV: FFMPEG: tag 0x30395056/'VP90' is not supported with codec id 167 and format 'mp4 / MP4 (MPEG-4 Part 14)'\n",
            "OpenCV: FFMPEG: fallback to use tag 0x39307076/'vp09'\n",
            "100%|██████████| 50/50 [00:00<00:00, 178.18it/s]\n"
          ]
        },
        {
          "data": {
            "text/html": [
              "\n",
              "    <video width=400 controls>\n",
              "          <source src=\"data:video/mp4;base64,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\" type=\"video/mp4\">\n",
              "    </video>\n",
              "    "
            ],
            "text/plain": [
              "<IPython.core.display.HTML object>"
            ]
          },
          "execution_count": 30,
          "metadata": {},
          "output_type": "execute_result"
        }
      ],
      "source": [
        "display_vid(frames)"
      ]
    },
    {
      "attachments": {},
      "cell_type": "markdown",
      "metadata": {
        "id": "BNLa9SFHipWS"
      },
      "source": [
        "## Preprocessing Environment"
      ]
    },
    {
      "attachments": {},
      "cell_type": "markdown",
      "metadata": {
        "id": "K2mJZj2Eluj2"
      },
      "source": [
        "The DeepMind papers for Atari games transforms the environments to make it easier for the DQN/DDQN to learn. In particular,\n",
        "\n",
        "1. Use only every 4th frame\n",
        "2. Grayscale each image, downscale to 110x84, then crop appropriately to remove unnecesssary info\n",
        "3. Pass a stack of 4 frames so that the model can see trajectory (falling and jumping are different contexts, but may lead to the same observation).\n",
        "\n",
        "\n",
        "We will implement some of these simplifying transformations using Gymnasium's `gym.Wrapper`. Wrapper code is altered from https://blog.paperspace.com/building-double-deep-q-network-super-mario-bros/."
      ]
    },
    {
      "cell_type": "code",
      "execution_count": 31,
      "metadata": {
        "id": "xkegIeYhm-eD"
      },
      "outputs": [],
      "source": [
        "import collections\n",
        "import cv2\n",
        "\n",
        "class MaxAndSkipEnv(gym.Wrapper):\n",
        "    def __init__(self, env=None, skip=4):\n",
        "        super(MaxAndSkipEnv, self).__init__(env)\n",
        "        self._obs_buffer = collections.deque(maxlen=2)\n",
        "        self._replay_buffer = collections.deque(maxlen=4)\n",
        "        self._skip = skip\n",
        "\n",
        "    def step(self, action):\n",
        "        total_reward = 0.0\n",
        "        done = None\n",
        "        for _ in range(self._skip):\n",
        "            obs, reward, done, truncated, info = self.env.step(action)\n",
        "            self._obs_buffer.append(obs)\n",
        "            self._replay_buffer.append(obs.copy())\n",
        "            total_reward += reward\n",
        "            if done:\n",
        "                break\n",
        "        max_frame = np.max(np.stack(self._obs_buffer), axis=0)\n",
        "        return max_frame, total_reward, done, truncated, info\n",
        "\n",
        "    def render(self, mode='rgb_array'):\n",
        "        if mode == 'rgb_array':\n",
        "            return self._replay_buffer\n",
        "        \n",
        "        return self.env.render(mode=mode)\n",
        "\n",
        "    def reset(self, **kwargs):\n",
        "        self._obs_buffer.clear()\n",
        "        obs = self.env.reset()\n",
        "        self._obs_buffer.append(obs)\n",
        "        return obs\n",
        "\n",
        "\n",
        "class ProcessFrame84(gym.ObservationWrapper):\n",
        "    def __init__(self, env=None):\n",
        "        super(ProcessFrame84, self).__init__(env)\n",
        "        self.observation_space = gym.spaces.Box(low=0, high=255, shape=(84, 84, 1), dtype=np.uint8)\n",
        "\n",
        "    def observation(self, observation):\n",
        "        return ProcessFrame84.process(observation)\n",
        "\n",
        "    @staticmethod\n",
        "    def process(frame):\n",
        "        assert frame.size == 240 * 256 * 3, \"Unknown resolution.\"\n",
        "\n",
        "        img = np.reshape(frame, [240, 256, 3]).astype(np.float32)\n",
        "        img = img[:, :, 0] * 0.299 + img[:, :, 1] * 0.587 + img[:, :, 2] * 0.114\n",
        "        resized_screen = cv2.resize(img, (84, 110), interpolation=cv2.INTER_AREA)\n",
        "        x_t = resized_screen[18:102, :]\n",
        "        x_t = np.reshape(x_t, [84, 84, 1])\n",
        "        return x_t.astype(np.uint8)\n",
        "\n",
        "\n",
        "class TransposeObs(gym.ObservationWrapper):\n",
        "    def __init__(self, env):\n",
        "        super(TransposeObs, self).__init__(env)\n",
        "        w, h, n = self.observation_space.shape\n",
        "        self.observation_space = gym.spaces.Box(low=0.0, high=1.0, shape=(n, w, h), dtype=np.float32)\n",
        "\n",
        "    def observation(self, observation):\n",
        "        return np.moveaxis(observation, 2, 0)\n",
        "\n",
        "\n",
        "class ScaledFloatFrame(gym.ObservationWrapper):\n",
        "    def observation(self, observation):\n",
        "        return np.array(observation).astype(np.float32) / 255.0\n",
        "\n",
        "\n",
        "class BufferWrapper(gym.ObservationWrapper):\n",
        "    def __init__(self, env, n_steps, dtype=np.float32):\n",
        "        super(BufferWrapper, self).__init__(env)\n",
        "        self.dtype = dtype\n",
        "        old_space = env.observation_space\n",
        "        self.observation_space = gym.spaces.Box(old_space.low.repeat(n_steps, axis=0),\n",
        "                                                old_space.high.repeat(n_steps, axis=0), dtype=dtype)\n",
        "\n",
        "    def reset(self, **kwargs):\n",
        "        self.buffer = np.zeros_like(self.observation_space.low, dtype=self.dtype)\n",
        "        return self.observation(self.env.reset()), {}\n",
        "\n",
        "    def observation(self, observation):\n",
        "        self.buffer[:-1] = self.buffer[1:]\n",
        "        self.buffer[-1] = observation[0]\n",
        "        return self.buffer"
      ]
    },
    {
      "cell_type": "code",
      "execution_count": 32,
      "metadata": {
        "id": "7sWxQ2rAjFLX"
      },
      "outputs": [],
      "source": [
        "from gym.wrappers import FrameStack\n",
        "from nes_py.wrappers import JoypadSpace\n",
        "from gym_super_mario_bros.actions import RIGHT_ONLY\n",
        "\n",
        "def preprocessed_env(world=1, level=1):\n",
        "    env = gym_super_mario_bros.make(f'SuperMarioBros-{world}-{level}-v0', apply_api_compatibility=True, render_mode='rgb_array')\n",
        "    env = MaxAndSkipEnv(env)\n",
        "    env = ProcessFrame84(env)\n",
        "    env = TransposeObs(env)\n",
        "    env = BufferWrapper(env, 4)\n",
        "    env = ScaledFloatFrame(env)\n",
        "    # we will use complex movement for PPO instead of right only since it's a more advanced algo\n",
        "    return JoypadSpace(env, RIGHT_ONLY)"
      ]
    },
    {
      "cell_type": "code",
      "execution_count": 33,
      "metadata": {
        "colab": {
          "base_uri": "https://localhost:8080/"
        },
        "id": "v1Z7ud1a55kJ",
        "outputId": "c7fd887d-fdd7-4313-d20d-aad12765bc5d",
        "scrolled": true
      },
      "outputs": [
        {
          "name": "stdout",
          "output_type": "stream",
          "text": [
            "obs space (4, 84, 84)\n",
            "act space 5\n"
          ]
        }
      ],
      "source": [
        "env = preprocessed_env()\n",
        "print('obs space', env.observation_space.shape)\n",
        "print('act space', env.action_space.n)"
      ]
    },
    {
      "cell_type": "code",
      "execution_count": 34,
      "metadata": {
        "colab": {
          "base_uri": "https://localhost:8080/",
          "height": 451
        },
        "id": "MN2eDywqR7kC",
        "outputId": "89514658-51f5-469b-9fd4-0f3a8e14077e"
      },
      "outputs": [
        {
          "data": {
            "text/plain": [
              "<matplotlib.image.AxesImage at 0x14a146890>"
            ]
          },
          "execution_count": 34,
          "metadata": {},
          "output_type": "execute_result"
        },
        {
          "data": {
            "image/png": "[encoded data removed]",
            "text/plain": [
              "<Figure size 640x480 with 1 Axes>"
            ]
          },
          "metadata": {},
          "output_type": "display_data"
        }
      ],
      "source": [
        "import matplotlib.pyplot as plt\n",
        "\n",
        "plt.imshow(env.reset()[0][-1], cmap='gray')"
      ]
    },
    {
      "attachments": {},
      "cell_type": "markdown",
      "metadata": {
        "id": "RT_tBITRA6Ty"
      },
      "source": [
        "We now have a preprocessed environment! We can proceed to working on our Agent."
      ]
    },
    {
      "attachments": {},
      "cell_type": "markdown",
      "metadata": {
        "id": "vCd3JjKZA_s9"
      },
      "source": [
        "## Training Convolutional PPO"
      ]
    },
    {
      "attachments": {},
      "cell_type": "markdown",
      "metadata": {
        "id": "q655hjwkBWHy"
      },
      "source": [
        "I will be adapting a previous PPO implementation I made (https://github.com/arth-shukla/ppo-gym-cartpole) to use convolutions to process the observations.\n",
        "\n",
        "I will use the same convolutions as in the original DeepMind papers, which I implemented for a DDQN (https://github.com/arth-shukla/ddqn-mario).\n",
        "\n",
        "1. Conv2d with 32 8x8 kernels, stride 4 + nonlinearlity (we will use ReLU)\n",
        "2. Conv2d with 64 4x4 kernels, stride 2 + nonlinearity\n",
        "3. Conv2d with 64 3x3 kernels, stride 1 + nonlinearity\n",
        "4. FC layer with 512 nodes + nonlinearity\n",
        "5. FC layer with # nodes equal to # actions\n",
        "6. Softmax &rarr; Categorical distr\n",
        "\n",
        "The implementation can be found in `ppo-conv.py`."
      ]
    },
    {
      "cell_type": "code",
      "execution_count": 35,
      "metadata": {},
      "outputs": [
        {
          "name": "stdout",
          "output_type": "stream",
          "text": [
            "The autoreload extension is already loaded. To reload it, use:\n",
            "  %reload_ext autoreload\n"
          ]
        }
      ],
      "source": [
        "%load_ext autoreload\n",
        "%autoreload 2"
      ]
    },
    {
      "cell_type": "code",
      "execution_count": 45,
      "metadata": {
        "id": "Pln8Nen6ppv4"
      },
      "outputs": [],
      "source": [
        "from ppo.agent import PPOAgent\n",
        "from tqdm import tqdm\n",
        "import torch\n",
        "from pathlib import Path\n",
        "\n",
        "def train(\n",
        "        logging=True, log_init=True, wandb_proj='Mario-PPO', run_name=None,\n",
        "        checkpoint_dir = './checkpoints', pretrained_path=None,\n",
        "        num_games = 10000, avg_over = 100, save_every = 500,\n",
        "        buffer_size = 512,\n",
        "        batch_size = 16,\n",
        "        epochs = 10,\n",
        "        lr = 1e-4,\n",
        "        scheduler_gamma = None,\n",
        "        discount = 0.9,\n",
        "        gae_lambda = 1.0,\n",
        "        policy_clip = 0.2,\n",
        "        norm_advantage = False,\n",
        "        entropy_coeff = None,\n",
        "        critic_coeff = 0.5,\n",
        "        max_grad_norm = None,\n",
        "        early_stop_kl = None,\n",
        "        embed = 512,\n",
        "    ):\n",
        "    import wandb\n",
        "\n",
        "    if logging and log_init:\n",
        "        wandb.login()\n",
        "        wandb.init(project=wandb_proj, name=run_name, config=dict(\n",
        "            buffer_size = buffer_size,\n",
        "            batch_size = batch_size,\n",
        "            epochs = epochs,\n",
        "            lr = lr,\n",
        "            scheduler_gamma = scheduler_gamma,\n",
        "            discount = discount,\n",
        "            gae_lambda = gae_lambda,\n",
        "            policy_clip = policy_clip,\n",
        "            norm_advantage = norm_advantage,\n",
        "            entropy_coeff = entropy_coeff,\n",
        "            critic_coeff = critic_coeff,\n",
        "            max_grad_norm = max_grad_norm,\n",
        "            early_stop_kl = early_stop_kl,\n",
        "            embed = embed,\n",
        "        ))\n",
        "\n",
        "    env = preprocessed_env()\n",
        "\n",
        "    # create agent (note this is done in train because it needs hyperparams)\n",
        "    agent = PPOAgent(\n",
        "        obs_shape=env.observation_space.shape,\n",
        "        act_shape=env.action_space.shape,\n",
        "        act_n=env.action_space.n,\n",
        "        buffer_size = buffer_size,\n",
        "        batch_size = batch_size,\n",
        "        epochs = epochs,\n",
        "        lr = lr,\n",
        "        scheduler_gamma = scheduler_gamma,\n",
        "        discount = discount,\n",
        "        gae_lambda = gae_lambda,\n",
        "        policy_clip = policy_clip,\n",
        "        norm_advantage = norm_advantage,\n",
        "        entropy_coeff = entropy_coeff,\n",
        "        critic_coeff = critic_coeff,\n",
        "        max_grad_norm = max_grad_norm,\n",
        "        early_stop_kl = early_stop_kl,\n",
        "        embed = embed,\n",
        "    )\n",
        "    \n",
        "    # load model if pretrained\n",
        "    if pretrained_path != None:\n",
        "        agent.load(load_path=pretrained_path)\n",
        "    \n",
        "    # data tracking\n",
        "    score_hist = []\n",
        "    avg_score = 0\n",
        "    num_steps = 0\n",
        "\n",
        "    # if using kldiv early end, track with this var\n",
        "    early_end = False\n",
        "\n",
        "    # num_games is the number of games to play, where each game ends\n",
        "    # when the agent meets terminal conditions for the env\n",
        "    for ep_num in tqdm(range(num_games)):\n",
        "\n",
        "        obs = env.reset()[0].__array__()\n",
        "        done = False\n",
        "        score = 0\n",
        "        steps = 0\n",
        "\n",
        "        # run loop where model gathers data for \"learn_every\"\n",
        "        # steps then learns using that information\n",
        "        while not done:\n",
        "\n",
        "            # choose action (actor)\n",
        "            action, log_prob, val = agent.act(obs)\n",
        "\n",
        "            # get results of action\n",
        "            next_obs, reward, done, _, _ = env.step(action)\n",
        "\n",
        "            # save data to memory for experience learning\n",
        "            agent.cache(obs, action, log_prob, val, reward, done)\n",
        "\n",
        "            # when buffer full, learn and clear mem\n",
        "            if agent.mem_full():\n",
        "                learn_log_dict = agent.learn(next_obs.__array__())\n",
        "                agent.clear_mem()\n",
        "                if logging:\n",
        "                    learn_log_dict['step'] = num_steps\n",
        "                    wandb.log(learn_log_dict)\n",
        "                \n",
        "            # update obs and tracking vars\n",
        "            obs = next_obs.__array__()\n",
        "            score += reward\n",
        "            steps += 1\n",
        "            num_steps += 1\n",
        "\n",
        "        score_hist.append(score)\n",
        "        \n",
        "        if (ep_num % save_every == 0) or (ep_num == num_games - 1):\n",
        "            save_path = Path(checkpoint_dir) / Path(f'mario_ppo_{ep_num}.pt')\n",
        "            agent.save(save_path=save_path)\n",
        "    \n",
        "        if logging:\n",
        "            log_dict = {\n",
        "                'train/total_rewards': score,\n",
        "                'train/ep_len': steps,\n",
        "                'ep_num': ep_num,\n",
        "            }\n",
        "            if len(score_hist) > avg_over:\n",
        "                log_dict[f'train/avg_reward_last_{avg_over}'] = np.mean(score_hist[-avg_over:])\n",
        "            wandb.log(log_dict)\n",
        "\n",
        "    env.close()\n",
        "    wandb.finish()"
      ]
    },
    {
      "cell_type": "code",
      "execution_count": null,
      "metadata": {},
      "outputs": [],
      "source": [
        "def fancy_feature_testing(\n",
        "    run_name='standard_run',\n",
        "    entropy_coeff = None,\n",
        "    early_stop_kl = None,\n",
        "    scheduler_gamma = None,\n",
        "    norm_advantage = False,\n",
        "    max_grad_norm = None\n",
        "):\n",
        "    train(\n",
        "        logging=False, log_init=False, wandb_proj='Mario-PPO', run_name=run_name,\n",
        "        checkpoint_dir = f'./checkpoints/{run_name}', pretrained_path=None,\n",
        "        num_games = 10000, avg_over = 100, save_every = 500,\n",
        "        buffer_size = 512,\n",
        "        batch_size = 16,\n",
        "        epochs = 10,\n",
        "        lr = 1e-4,\n",
        "        discount = 0.9,\n",
        "        gae_lambda = 1.0,\n",
        "        policy_clip = 0.2,\n",
        "        critic_coeff = 0.5,\n",
        "        embed = 512,\n",
        "\n",
        "        entropy_coeff = entropy_coeff,\n",
        "        early_stop_kl = early_stop_kl,\n",
        "        scheduler_gamma = scheduler_gamma,\n",
        "        norm_advantage = norm_advantage,\n",
        "        max_grad_norm = max_grad_norm\n",
        "    )"
      ]
    },
    {
      "cell_type": "code",
      "execution_count": null,
      "metadata": {},
      "outputs": [],
      "source": [
        "# entropy_coeff = None,   # 0.01\n",
        "# early_stop_kl = None,   # 0.01\n",
        "# scheduler_gamma = None  # 0.9\n",
        "# norm_advantage = False, # True\n",
        "# max_grad_norm = None,  # 0.5\n",
        "# ['standard_run', 'entropy', 'ent_earlystopkl', 'ent_early_scheduler', 'ent_early_sch_norms']"
      ]
    },
    {
      "cell_type": "code",
      "execution_count": null,
      "metadata": {},
      "outputs": [],
      "source": [
        "fancy_feature_testing(run_name='entropy', entropy_coeff=0.01)"
      ]
    },
    {
      "cell_type": "code",
      "execution_count": null,
      "metadata": {},
      "outputs": [],
      "source": [
        "fancy_feature_testing(run_name='ent_earlystopkl', entropy_coeff=0.01, early_stop_kl=0.01)"
      ]
    },
    {
      "cell_type": "code",
      "execution_count": null,
      "metadata": {},
      "outputs": [],
      "source": [
        "fancy_feature_testing(run_name='ent_early_scheduler', entropy_coeff=0.01, early_stop_kl=0.0, scheduler_gamma=0.9)"
      ]
    },
    {
      "cell_type": "code",
      "execution_count": null,
      "metadata": {},
      "outputs": [],
      "source": [
        "fancy_feature_testing(run_name='ent_early_sch_norms', entropy_coeff=0.01, early_stop_kl=0.01, scheduler_gamma=0.9, norm_advantage=True, max_grad_norm=0.5)"
      ]
    },
    {
      "cell_type": "code",
      "execution_count": null,
      "metadata": {},
      "outputs": [],
      "source": [
        "fancy_feature_testing(run_name='standard_run')"
      ]
    },
    {
      "cell_type": "code",
      "execution_count": null,
      "metadata": {},
      "outputs": [],
      "source": [
        "# import wandb\n",
        "# wandb.finish()"
      ]
    },
    {
      "attachments": {},
      "cell_type": "markdown",
      "metadata": {
        "id": "fwZRdwmKppv5"
      },
      "source": [
        "## Let's Watch Our Bot Play!"
      ]
    },
    {
      "cell_type": "code",
      "execution_count": null,
      "metadata": {
        "id": "XIaLmkKmppv4"
      },
      "outputs": [],
      "source": [
        "# def run_level(pretrained_path=None):\n",
        "#     with torch.no_grad():\n",
        "#         frames = []\n",
        "        \n",
        "#         env = preprocessed_env()\n",
        "\n",
        "#         agent = DQNAgent(\n",
        "#             state_space=env.observation_space.shape,\n",
        "#             action_space=env.action_space.n,\n",
        "#             max_memory_size=30000,\n",
        "#             batch_size=32,\n",
        "#             gamma=0.90,\n",
        "#             lr=0.00025,\n",
        "#             exploration_max=1.0,\n",
        "#             exploration_min=0.02,\n",
        "#             exploration_decay=0.99,\n",
        "#             have_mem=False\n",
        "#         )\n",
        "\n",
        "#         if pretrained_path != None:\n",
        "#             agent.load(pretrained_path)\n",
        "\n",
        "#         agent.local_net.eval()\n",
        "\n",
        "#         env.reset()\n",
        "\n",
        "#         state, _ = env.reset()\n",
        "#         state = torch.Tensor([state])\n",
        "#         total_reward = 0\n",
        "#         steps = 0\n",
        "\n",
        "#         total_reward = 0\n",
        "#         while True:\n",
        "#             action = agent.act(state)\n",
        "#             steps += 1\n",
        "\n",
        "#             next_state, reward, terminal, truncated, info = env.step(int(action[0]))\n",
        "\n",
        "#             total_reward += reward\n",
        "\n",
        "#             state = torch.Tensor([next_state])\n",
        "            \n",
        "#             for x in env.render():\n",
        "#                 frames.append(x.copy())\n",
        "\n",
        "#             if terminal:\n",
        "#                 break\n",
        "\n",
        "#         env.close()\n",
        "        \n",
        "#         return frames"
      ]
    },
    {
      "cell_type": "code",
      "execution_count": null,
      "metadata": {
        "colab": {
          "base_uri": "https://localhost:8080/"
        },
        "id": "E8SlNcbpppv5",
        "outputId": "3a7139c3-df5d-42d8-a4ac-57b8a286efa5"
      },
      "outputs": [],
      "source": [
        "# frames = run_level(pretrained_path='./acm_ai_ddqn_checkpoint.pt')"
      ]
    },
    {
      "attachments": {},
      "cell_type": "markdown",
      "metadata": {
        "id": "alX-AQ6Tppv5"
      },
      "source": [
        "Let's watch our DDQN play Mario! Note that it might still lose sometimes..."
      ]
    },
    {
      "cell_type": "code",
      "execution_count": null,
      "metadata": {
        "colab": {
          "base_uri": "https://localhost:8080/",
          "height": 414
        },
        "id": "hDdVp210ppv5",
        "outputId": "d10045db-6f16-4c03-8d0b-117d0ab6e57a"
      },
      "outputs": [],
      "source": [
        "# display_vid(frames, fps=60)"
      ]
    }
  ],
  "metadata": {
    "accelerator": "GPU",
    "colab": {
      "gpuType": "T4",
      "provenance": []
    },
    "kernelspec": {
      "display_name": "Python 3 (ipykernel)",
      "language": "python",
      "name": "python3"
    },
    "language_info": {
      "codemirror_mode": {
        "name": "ipython",
        "version": 3
      },
      "file_extension": ".py",
      "mimetype": "text/x-python",
      "name": "python",
      "nbconvert_exporter": "python",
      "pygments_lexer": "ipython3",
      "version": "3.11.3"
    }
  },
  "nbformat": 4,
  "nbformat_minor": 0
}
