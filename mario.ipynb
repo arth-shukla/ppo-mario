{
  "cells": [
    {
      "attachments": {},
      "cell_type": "markdown",
      "metadata": {
        "id": "Vsu3DASF9oOZ"
      },
      "source": [
        "# DDQN to Beat Mario"
      ]
    },
    {
      "attachments": {},
      "cell_type": "markdown",
      "metadata": {
        "id": "TmJC6m4o-bg3"
      },
      "source": [
        "## Background\n",
        "\n",
        "In 2013, DeepMind made the Deep Q Network to play Atari Games (https://arxiv.org/pdf/1312.5602.pdf). This DQN was able to learn to play simple Atari games at human level, kickstarting the past decade of DeepRL research.\n",
        "\n",
        "In 2015, DeepMind published another paper which played even more Atari Games (https://storage.googleapis.com/deepmind-media/dqn/DQNNaturePaper.pdf). This new model included a target network to reduce Q-value overestimation in the previous DQN model. This model is sometimes called DDQNs, and it's what we'll implement here to beat Mario!"
      ]
    },
    {
      "attachments": {},
      "cell_type": "markdown",
      "metadata": {
        "id": "zmmHHVWJ91H5"
      },
      "source": [
        "## Setup and Some Exploration"
      ]
    },
    {
      "attachments": {},
      "cell_type": "markdown",
      "metadata": {
        "id": "EK8eCfnF-Hpu"
      },
      "source": [
        "First, we install gymnasium and the Mario Env.\n",
        "\n",
        "The Mario env can be found here: https://pypi.org/project/gym-super-mario-bros/"
      ]
    },
    {
      "cell_type": "code",
      "execution_count": 1,
      "metadata": {
        "colab": {
          "base_uri": "https://localhost:8080/"
        },
        "id": "97LB2zyA90n1",
        "outputId": "ace16065-3afb-4b63-a812-3412c3c88422"
      },
      "outputs": [],
      "source": [
        "# uncomment if using colab; if running locally it's recommended to install via conda\n",
        "# !pip uninstall -y gym\n",
        "# !pip install gymnasium\n",
        "# !pip install gym_super_mario_bros==7.3.0\n",
        "# !pip install wandb"
      ]
    },
    {
      "attachments": {},
      "cell_type": "markdown",
      "metadata": {
        "id": "AoJma_vthJhe"
      },
      "source": [
        "Before we transform the env with wrappers and make our agent, let's take a look at the environment as-is. Below we take some random actions and generate a video"
      ]
    },
    {
      "cell_type": "code",
      "execution_count": 2,
      "metadata": {
        "id": "5PeKvTbRImQ_"
      },
      "outputs": [],
      "source": [
        "import gymnasium as gym\n",
        "from gym.wrappers import RecordVideo\n",
        "\n",
        "from nes_py.wrappers import JoypadSpace\n",
        "import gym_super_mario_bros\n",
        "from gym_super_mario_bros.actions import SIMPLE_MOVEMENT\n",
        "\n",
        "import numpy as np\n",
        "\n",
        "import warnings\n",
        "warnings.filterwarnings('ignore')\n",
        "\n",
        "env = gym_super_mario_bros.make(\"SuperMarioBros-1-1-v0\", apply_api_compatibility=True, render_mode='rgb_array')\n",
        "env = JoypadSpace(env, SIMPLE_MOVEMENT)\n",
        "\n",
        "def run_test(env, num_steps=50):\n",
        "    frames = []\n",
        "    out = env.reset()\n",
        "    for _ in range(num_steps):\n",
        "        next_state, reward, done, truncated, info = env.step(action=env.action_space.sample())\n",
        "        frames.append(np.copy(env.render()))\n",
        "    return frames\n",
        "\n",
        "frames = run_test(env)"
      ]
    },
    {
      "cell_type": "code",
      "execution_count": 3,
      "metadata": {
        "colab": {
          "base_uri": "https://localhost:8080/"
        },
        "id": "ZAeHNXeZp_4K",
        "outputId": "128bac45-414d-44ff-987c-5d61ab3f1725"
      },
      "outputs": [
        {
          "name": "stdout",
          "output_type": "stream",
          "text": [
            "(240, 256, 3)\n"
          ]
        }
      ],
      "source": [
        "print(frames[-1].shape)"
      ]
    },
    {
      "attachments": {},
      "cell_type": "markdown",
      "metadata": {
        "id": "rmdoA8i-hejy"
      },
      "source": [
        "We can reuse the following code to see what our bot does later on:"
      ]
    },
    {
      "cell_type": "code",
      "execution_count": 4,
      "metadata": {
        "id": "mM80quT3QU6r"
      },
      "outputs": [],
      "source": [
        "from IPython.display import HTML\n",
        "from base64 import b64encode\n",
        "import numpy as np\n",
        "import os\n",
        "import cv2\n",
        "from tqdm import tqdm\n",
        "\n",
        "def display_vid(frames, vid_name='./video.mp4', compressed_name='./compressed.mp4', fps=30):\n",
        "\n",
        "    if os.path.isfile(vid_name):\n",
        "      !rm video.mp4\n",
        "    if os.path.isfile(compressed_name):\n",
        "      !rm compressed.mp4\n",
        "\n",
        "    h, w, c = frames[-1].shape\n",
        "    out = cv2.VideoWriter(vid_name, cv2.VideoWriter_fourcc(*'VP90'), fps, (w, h))\n",
        "    for frame in tqdm(frames):\n",
        "        img = cv2.cvtColor(frame, cv2.COLOR_BGR2RGB)\n",
        "        out.write(img)\n",
        "    out.release()\n",
        "\n",
        "    mp4 = open(vid_name,'rb').read()\n",
        "    data_url = \"data:video/mp4;base64,\" + b64encode(mp4).decode()\n",
        "    return HTML(\"\"\"\n",
        "    <video width=400 controls>\n",
        "          <source src=\"%s\" type=\"video/mp4\">\n",
        "    </video>\n",
        "    \"\"\" % data_url)"
      ]
    },
    {
      "cell_type": "code",
      "execution_count": 5,
      "metadata": {
        "colab": {
          "base_uri": "https://localhost:8080/",
          "height": 414
        },
        "id": "FIJF-g33QpHx",
        "outputId": "89d1c426-82fb-4605-da9e-3162e93329f7"
      },
      "outputs": [
        {
          "name": "stderr",
          "output_type": "stream",
          "text": [
            "'rm' is not recognized as an internal or external command,\n",
            "operable program or batch file.\n",
            "100%|██████████| 50/50 [00:00<00:00, 308.56it/s]\n"
          ]
        },
        {
          "data": {
            "text/html": [
              "\n",
              "    <video width=400 controls>\n",
              "          <source src=\"data:video/mp4;base64,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\" type=\"video/mp4\">\n",
              "    </video>\n",
              "    "
            ],
            "text/plain": [
              "<IPython.core.display.HTML object>"
            ]
          },
          "execution_count": 5,
          "metadata": {},
          "output_type": "execute_result"
        }
      ],
      "source": [
        "display_vid(frames)"
      ]
    },
    {
      "attachments": {},
      "cell_type": "markdown",
      "metadata": {
        "id": "BNLa9SFHipWS"
      },
      "source": [
        "## Preprocessing Environment"
      ]
    },
    {
      "attachments": {},
      "cell_type": "markdown",
      "metadata": {
        "id": "K2mJZj2Eluj2"
      },
      "source": [
        "The DeepMind papers for Atari games transforms the environments to make it easier for the DQN/DDQN to learn. In particular,\n",
        "\n",
        "1. Use only every 4th frame\n",
        "2. Grayscale each image, downscale to 110x84, then crop appropriately to remove unnecesssary info\n",
        "3. Pass a stack of 4 frames so that the model can see trajectory (falling and jumping are different contexts, but may lead to the same observation).\n",
        "\n",
        "\n",
        "We will implement some of these simplifying transformations using Gymnasium's `gym.Wrapper`. Wrapper code is altered from https://blog.paperspace.com/building-double-deep-q-network-super-mario-bros/."
      ]
    },
    {
      "cell_type": "code",
      "execution_count": 6,
      "metadata": {
        "id": "xkegIeYhm-eD"
      },
      "outputs": [],
      "source": [
        "import collections\n",
        "import cv2\n",
        "\n",
        "class MaxAndSkipEnv(gym.Wrapper):\n",
        "    def __init__(self, env=None, skip=4):\n",
        "        super(MaxAndSkipEnv, self).__init__(env)\n",
        "        self._obs_buffer = collections.deque(maxlen=2)\n",
        "        self._replay_buffer = collections.deque(maxlen=4)\n",
        "        self._skip = skip\n",
        "\n",
        "    def step(self, action):\n",
        "        total_reward = 0.0\n",
        "        done = None\n",
        "        for _ in range(self._skip):\n",
        "            obs, reward, done, truncated, info = self.env.step(action)\n",
        "            self._obs_buffer.append(obs)\n",
        "            self._replay_buffer.append(obs.copy())\n",
        "            total_reward += reward\n",
        "            if done:\n",
        "                break\n",
        "        max_frame = np.max(np.stack(self._obs_buffer), axis=0)\n",
        "        return max_frame, total_reward, done, truncated, info\n",
        "\n",
        "    def render(self, mode='rgb_array'):\n",
        "        if mode == 'rgb_array':\n",
        "            return self._replay_buffer\n",
        "        \n",
        "        return self.env.render(mode=mode)\n",
        "\n",
        "    def reset(self, **kwargs):\n",
        "        self._obs_buffer.clear()\n",
        "        obs = self.env.reset()\n",
        "        self._obs_buffer.append(obs)\n",
        "        return obs\n",
        "\n",
        "\n",
        "class ProcessFrame84(gym.ObservationWrapper):\n",
        "    def __init__(self, env=None):\n",
        "        super(ProcessFrame84, self).__init__(env)\n",
        "        self.observation_space = gym.spaces.Box(low=0, high=255, shape=(84, 84, 1), dtype=np.uint8)\n",
        "\n",
        "    def observation(self, observation):\n",
        "        return ProcessFrame84.process(observation)\n",
        "\n",
        "    @staticmethod\n",
        "    def process(frame):\n",
        "        assert frame.size == 240 * 256 * 3, \"Unknown resolution.\"\n",
        "\n",
        "        img = np.reshape(frame, [240, 256, 3]).astype(np.float32)\n",
        "        img = img[:, :, 0] * 0.299 + img[:, :, 1] * 0.587 + img[:, :, 2] * 0.114\n",
        "        resized_screen = cv2.resize(img, (84, 110), interpolation=cv2.INTER_AREA)\n",
        "        x_t = resized_screen[18:102, :]\n",
        "        x_t = np.reshape(x_t, [84, 84, 1])\n",
        "        return x_t.astype(np.uint8)\n",
        "\n",
        "\n",
        "class TransposeObs(gym.ObservationWrapper):\n",
        "    def __init__(self, env):\n",
        "        super(TransposeObs, self).__init__(env)\n",
        "        w, h, n = self.observation_space.shape\n",
        "        self.observation_space = gym.spaces.Box(low=0.0, high=1.0, shape=(n, w, h), dtype=np.float32)\n",
        "\n",
        "    def observation(self, observation):\n",
        "        return np.moveaxis(observation, 2, 0)\n",
        "\n",
        "\n",
        "class ScaledFloatFrame(gym.ObservationWrapper):\n",
        "    def observation(self, observation):\n",
        "        return np.array(observation).astype(np.float32) / 255.0\n",
        "\n",
        "\n",
        "class BufferWrapper(gym.ObservationWrapper):\n",
        "    def __init__(self, env, n_steps, dtype=np.float32):\n",
        "        super(BufferWrapper, self).__init__(env)\n",
        "        self.dtype = dtype\n",
        "        old_space = env.observation_space\n",
        "        self.observation_space = gym.spaces.Box(old_space.low.repeat(n_steps, axis=0),\n",
        "                                                old_space.high.repeat(n_steps, axis=0), dtype=dtype)\n",
        "\n",
        "    def reset(self, **kwargs):\n",
        "        self.buffer = np.zeros_like(self.observation_space.low, dtype=self.dtype)\n",
        "        return self.observation(self.env.reset()), {}\n",
        "\n",
        "    def observation(self, observation):\n",
        "        self.buffer[:-1] = self.buffer[1:]\n",
        "        self.buffer[-1] = observation[0]\n",
        "        return self.buffer"
      ]
    },
    {
      "cell_type": "code",
      "execution_count": 7,
      "metadata": {
        "id": "7sWxQ2rAjFLX"
      },
      "outputs": [],
      "source": [
        "from gym.wrappers import FrameStack\n",
        "from nes_py.wrappers import JoypadSpace\n",
        "from gym_super_mario_bros.actions import RIGHT_ONLY\n",
        "\n",
        "def preprocessed_env(world=1, level=1):\n",
        "    env = gym_super_mario_bros.make(f'SuperMarioBros-{world}-{level}-v0', apply_api_compatibility=True, render_mode='rgb_array')\n",
        "    env = MaxAndSkipEnv(env)\n",
        "    env = ProcessFrame84(env)\n",
        "    env = TransposeObs(env)\n",
        "    env = BufferWrapper(env, 4)\n",
        "    env = ScaledFloatFrame(env)\n",
        "    # we will use complex movement for PPO instead of right only since it's a more advanced algo\n",
        "    return JoypadSpace(env, RIGHT_ONLY)"
      ]
    },
    {
      "cell_type": "code",
      "execution_count": 8,
      "metadata": {
        "colab": {
          "base_uri": "https://localhost:8080/"
        },
        "id": "v1Z7ud1a55kJ",
        "outputId": "c7fd887d-fdd7-4313-d20d-aad12765bc5d",
        "scrolled": true
      },
      "outputs": [
        {
          "name": "stdout",
          "output_type": "stream",
          "text": [
            "obs space (4, 84, 84)\n",
            "act space 5\n"
          ]
        }
      ],
      "source": [
        "env = preprocessed_env()\n",
        "print('obs space', env.observation_space.shape)\n",
        "print('act space', env.action_space.n)"
      ]
    },
    {
      "cell_type": "code",
      "execution_count": 9,
      "metadata": {
        "colab": {
          "base_uri": "https://localhost:8080/",
          "height": 451
        },
        "id": "MN2eDywqR7kC",
        "outputId": "89514658-51f5-469b-9fd4-0f3a8e14077e"
      },
      "outputs": [
        {
          "data": {
            "text/plain": [
              "<matplotlib.image.AxesImage at 0x2169e9b7250>"
            ]
          },
          "execution_count": 9,
          "metadata": {},
          "output_type": "execute_result"
        },
        {
          "data": {
            "image/png": "[encoded data removed]",
            "text/plain": [
              "<Figure size 640x480 with 1 Axes>"
            ]
          },
          "metadata": {},
          "output_type": "display_data"
        }
      ],
      "source": [
        "import matplotlib.pyplot as plt\n",
        "\n",
        "plt.imshow(env.reset()[0][-1], cmap='gray')"
      ]
    },
    {
      "attachments": {},
      "cell_type": "markdown",
      "metadata": {
        "id": "RT_tBITRA6Ty"
      },
      "source": [
        "We now have a preprocessed environment! We can proceed to working on our Agent."
      ]
    },
    {
      "attachments": {},
      "cell_type": "markdown",
      "metadata": {
        "id": "vCd3JjKZA_s9"
      },
      "source": [
        "## Training Convolutional PPO"
      ]
    },
    {
      "attachments": {},
      "cell_type": "markdown",
      "metadata": {
        "id": "q655hjwkBWHy"
      },
      "source": [
        "I will be adapting a previous PPO implementation I made (https://github.com/arth-shukla/ppo-gym-cartpole) to use convolutions to process the observations.\n",
        "\n",
        "I will use the same convolutions as in the original DeepMind papers, which I implemented for a DDQN (https://github.com/arth-shukla/ddqn-mario).\n",
        "\n",
        "1. Conv2d with 32 8x8 kernels, stride 4 + nonlinearlity (we will use ReLU)\n",
        "2. Conv2d with 64 4x4 kernels, stride 2 + nonlinearity\n",
        "3. Conv2d with 64 3x3 kernels, stride 1 + nonlinearity\n",
        "4. FC layer with 512 nodes + nonlinearity\n",
        "5. FC layer with # nodes equal to # actions\n",
        "6. Softmax &rarr; Categorical distr\n",
        "\n",
        "The implementation can be found in `ppo-conv.py`."
      ]
    },
    {
      "cell_type": "code",
      "execution_count": 10,
      "metadata": {},
      "outputs": [],
      "source": [
        "%load_ext autoreload\n",
        "%autoreload 2"
      ]
    },
    {
      "cell_type": "code",
      "execution_count": 18,
      "metadata": {
        "id": "Pln8Nen6ppv4"
      },
      "outputs": [],
      "source": [
        "from ppo.agent import PPOAgent\n",
        "from tqdm import tqdm\n",
        "import torch\n",
        "from pathlib import Path\n",
        "\n",
        "def train(\n",
        "        logging=False, log_init=False, wandb_proj='Mario-PPO', checkpoint_dir = './checkpoints',\n",
        "        pretrained_path=None,\n",
        "        num_games=300, avg_over = 500, save_every = 100,\n",
        "        buffer_size = 2048,\n",
        "        batch_size = 64,\n",
        "        epochs = 4,\n",
        "        lr = 2.5e-4,\n",
        "        scheduler_gamma = None,\n",
        "        discount = .99,\n",
        "        gae_lambda = 0.95,\n",
        "        policy_clip = 0.2,\n",
        "        norm_advantage = False,\n",
        "        entropy_coeff = 0.01,\n",
        "        critic_coeff = 0.5,\n",
        "        max_grad_norm = 0.5,\n",
        "        early_stop_kl = None,\n",
        "        embed = 512,\n",
        "    ):\n",
        "    import wandb\n",
        "\n",
        "    if logging and log_init:\n",
        "        wandb.login()\n",
        "        wandb.init(project=wandb_proj, config=dict(\n",
        "            buffer_size = buffer_size,\n",
        "            batch_size = batch_size,\n",
        "            epochs = epochs,\n",
        "            lr = lr,\n",
        "            scheduler_gamma = scheduler_gamma,\n",
        "            discount = discount,\n",
        "            gae_lambda = gae_lambda,\n",
        "            policy_clip = policy_clip,\n",
        "            norm_advantage = norm_advantage,\n",
        "            entropy_coeff = entropy_coeff,\n",
        "            critic_coeff = critic_coeff,\n",
        "            max_grad_norm = max_grad_norm,\n",
        "            early_stop_kl = early_stop_kl,\n",
        "            embed = embed,\n",
        "        ))\n",
        "\n",
        "    env = preprocessed_env()\n",
        "\n",
        "    # create agent (note this is done in train because it needs hyperparams)\n",
        "    agent = PPOAgent(\n",
        "        obs_shape=env.observation_space.shape,\n",
        "        act_shape=env.action_space.shape,\n",
        "        act_n=env.action_space.n,\n",
        "        buffer_size = buffer_size,\n",
        "        batch_size = batch_size,\n",
        "        epochs = epochs,\n",
        "        lr = lr,\n",
        "        scheduler_gamma = scheduler_gamma,\n",
        "        discount = discount,\n",
        "        gae_lambda = gae_lambda,\n",
        "        policy_clip = policy_clip,\n",
        "        norm_advantage = norm_advantage,\n",
        "        entropy_coeff = entropy_coeff,\n",
        "        critic_coeff = critic_coeff,\n",
        "        max_grad_norm = max_grad_norm,\n",
        "        early_stop_kl = early_stop_kl,\n",
        "        embed = embed,\n",
        "    )\n",
        "    \n",
        "    # load model if pretrained\n",
        "    if pretrained_path != None:\n",
        "        agent.load(load_path=pretrained_path)\n",
        "    \n",
        "    # data tracking\n",
        "    score_hist = []\n",
        "    avg_score = 0\n",
        "    num_steps = 0\n",
        "\n",
        "    # if using kldiv early end, track with this var\n",
        "    early_end = False\n",
        "\n",
        "    # num_games is the number of games to play, where each game ends\n",
        "    # when the agent meets terminal conditions for the env\n",
        "    for ep_num in tqdm(range(num_games)):\n",
        "\n",
        "        obs = env.reset()[0].__array__()\n",
        "        done = False\n",
        "        score = 0\n",
        "        steps = 0\n",
        "\n",
        "        # run loop where model gathers data for \"learn_every\"\n",
        "        # steps then learns using that information\n",
        "        while not done:\n",
        "\n",
        "            # choose action (actor)\n",
        "            action, log_prob, val = agent.act(obs)\n",
        "\n",
        "            # get results of action\n",
        "            next_obs, reward, done, _, _ = env.step(action)\n",
        "\n",
        "            # save data to memory for experience learning\n",
        "            agent.cache(obs, action, log_prob, val, reward, done)\n",
        "\n",
        "            # when buffer full, learn and clear mem\n",
        "            if agent.mem_full():\n",
        "                agent.learn(next_obs.__array__())\n",
        "                agent.clear_mem()\n",
        "                \n",
        "            # update obs and tracking vars\n",
        "            obs = next_obs.__array__()\n",
        "            score += reward\n",
        "            steps += 1\n",
        "            num_steps += 1\n",
        "\n",
        "        score_hist.append(score)\n",
        "        \n",
        "        if (ep_num % save_every == 0) or (ep_num == num_games - 1):\n",
        "            save_path = Path(checkpoint_dir) / Path(f'mario_ppo_{ep_num}.pt')\n",
        "            agent.save(save_path=save_path)\n",
        "    \n",
        "        if logging:\n",
        "            log_dict = {\n",
        "                'train/total_rewards': score,\n",
        "                'train/ep_len': steps,\n",
        "                'ep_num': ep_num,\n",
        "            }\n",
        "            if len(score_hist) > avg_over:\n",
        "                log_dict[f'train/avg_reward_last_{avg_over}'] = np.mean(score_hist[-avg_over:])\n",
        "            wandb.log(log_dict)\n",
        "\n",
        "    env.close()\n",
        "    wandb.finish()"
      ]
    },
    {
      "cell_type": "code",
      "execution_count": null,
      "metadata": {},
      "outputs": [],
      "source": [
        "train(\n",
        "    logging=True, log_init=True, wandb_proj='Mario-PPO', checkpoint_dir = './checkpoints',\n",
        "    pretrained_path=None,\n",
        "    num_games = 10000, avg_over = 100, save_every = 500,\n",
        "    buffer_size = 512,\n",
        "    batch_size = 16,\n",
        "    epochs = 10,\n",
        "    lr = 1e-4,\n",
        "    scheduler_gamma = None,\n",
        "    discount = .9,\n",
        "    gae_lambda = 1.0,\n",
        "    policy_clip = 0.2,\n",
        "    norm_advantage = False,\n",
        "    entropy_coeff = 0.01,\n",
        "    critic_coeff = 0.5,\n",
        "    max_grad_norm = 0.5,\n",
        "    early_stop_kl = .75,\n",
        "    embed = 512,\n",
        ")"
      ]
    },
    {
      "cell_type": "code",
      "execution_count": 13,
      "metadata": {},
      "outputs": [
        {
          "data": {
            "text/html": [
              "Waiting for W&B process to finish... <strong style=\"color:green\">(success).</strong>"
            ],
            "text/plain": [
              "<IPython.core.display.HTML object>"
            ]
          },
          "metadata": {},
          "output_type": "display_data"
        },
        {
          "data": {
            "text/html": [
              "<style>\n",
              "    table.wandb td:nth-child(1) { padding: 0 10px; text-align: left ; width: auto;} td:nth-child(2) {text-align: left ; width: 100%}\n",
              "    .wandb-row { display: flex; flex-direction: row; flex-wrap: wrap; justify-content: flex-start; width: 100% }\n",
              "    .wandb-col { display: flex; flex-direction: column; flex-basis: 100%; flex: 1; padding: 10px; }\n",
              "    </style>\n",
              "<div class=\"wandb-row\"><div class=\"wandb-col\"><h3>Run history:</h3><br/><table class=\"wandb\"><tr><td>ep_num</td><td>▁█</td></tr><tr><td>train/ep_len</td><td>▁█</td></tr><tr><td>train/total_rewards</td><td>▁█</td></tr></table><br/></div><div class=\"wandb-col\"><h3>Run summary:</h3><br/><table class=\"wandb\"><tr><td>ep_num</td><td>1</td></tr><tr><td>train/ep_len</td><td>269</td></tr><tr><td>train/total_rewards</td><td>1025.0</td></tr></table><br/></div></div>"
            ],
            "text/plain": [
              "<IPython.core.display.HTML object>"
            ]
          },
          "metadata": {},
          "output_type": "display_data"
        },
        {
          "data": {
            "text/html": [
              " View run <strong style=\"color:#cdcd00\">worldly-planet-33</strong> at: <a href='https://wandb.ai/arth-shukla/Mario-PPO/runs/1xfrah03' target=\"_blank\">https://wandb.ai/arth-shukla/Mario-PPO/runs/1xfrah03</a><br/>Synced 6 W&B file(s), 0 media file(s), 0 artifact file(s) and 0 other file(s)"
            ],
            "text/plain": [
              "<IPython.core.display.HTML object>"
            ]
          },
          "metadata": {},
          "output_type": "display_data"
        },
        {
          "data": {
            "text/html": [
              "Find logs at: <code>.\\wandb\\run-20230604_205013-1xfrah03\\logs</code>"
            ],
            "text/plain": [
              "<IPython.core.display.HTML object>"
            ]
          },
          "metadata": {},
          "output_type": "display_data"
        }
      ],
      "source": [
        "import wandb\n",
        "wandb.finish()"
      ]
    },
    {
      "cell_type": "code",
      "execution_count": 14,
      "metadata": {
        "id": "-D7suegWppv4"
      },
      "outputs": [],
      "source": [
        "# for lr in [5e-6, 1e-5, 5e-5, 1e-4, 5e-4, 1e-4]:\n",
        "#     train(logging=True, log_init=True, lr=lr, wandb_proj='Mario-PPO', num_games=100, avg_over=100)"
      ]
    },
    {
      "attachments": {},
      "cell_type": "markdown",
      "metadata": {
        "id": "fwZRdwmKppv5"
      },
      "source": [
        "## Let's Watch Our Bot Play!"
      ]
    },
    {
      "cell_type": "code",
      "execution_count": 15,
      "metadata": {
        "id": "XIaLmkKmppv4"
      },
      "outputs": [],
      "source": [
        "# def run_level(pretrained_path=None):\n",
        "#     with torch.no_grad():\n",
        "#         frames = []\n",
        "        \n",
        "#         env = preprocessed_env()\n",
        "\n",
        "#         agent = DQNAgent(\n",
        "#             state_space=env.observation_space.shape,\n",
        "#             action_space=env.action_space.n,\n",
        "#             max_memory_size=30000,\n",
        "#             batch_size=32,\n",
        "#             gamma=0.90,\n",
        "#             lr=0.00025,\n",
        "#             exploration_max=1.0,\n",
        "#             exploration_min=0.02,\n",
        "#             exploration_decay=0.99,\n",
        "#             have_mem=False\n",
        "#         )\n",
        "\n",
        "#         if pretrained_path != None:\n",
        "#             agent.load(pretrained_path)\n",
        "\n",
        "#         agent.local_net.eval()\n",
        "\n",
        "#         env.reset()\n",
        "\n",
        "#         state, _ = env.reset()\n",
        "#         state = torch.Tensor([state])\n",
        "#         total_reward = 0\n",
        "#         steps = 0\n",
        "\n",
        "#         total_reward = 0\n",
        "#         while True:\n",
        "#             action = agent.act(state)\n",
        "#             steps += 1\n",
        "\n",
        "#             next_state, reward, terminal, truncated, info = env.step(int(action[0]))\n",
        "\n",
        "#             total_reward += reward\n",
        "\n",
        "#             state = torch.Tensor([next_state])\n",
        "            \n",
        "#             for x in env.render():\n",
        "#                 frames.append(x.copy())\n",
        "\n",
        "#             if terminal:\n",
        "#                 break\n",
        "\n",
        "#         env.close()\n",
        "        \n",
        "#         return frames"
      ]
    },
    {
      "cell_type": "code",
      "execution_count": 16,
      "metadata": {
        "colab": {
          "base_uri": "https://localhost:8080/"
        },
        "id": "E8SlNcbpppv5",
        "outputId": "3a7139c3-df5d-42d8-a4ac-57b8a286efa5"
      },
      "outputs": [],
      "source": [
        "# frames = run_level(pretrained_path='./acm_ai_ddqn_checkpoint.pt')"
      ]
    },
    {
      "attachments": {},
      "cell_type": "markdown",
      "metadata": {
        "id": "alX-AQ6Tppv5"
      },
      "source": [
        "Let's watch our DDQN play Mario! Note that it might still lose sometimes..."
      ]
    },
    {
      "cell_type": "code",
      "execution_count": 17,
      "metadata": {
        "colab": {
          "base_uri": "https://localhost:8080/",
          "height": 414
        },
        "id": "hDdVp210ppv5",
        "outputId": "d10045db-6f16-4c03-8d0b-117d0ab6e57a"
      },
      "outputs": [],
      "source": [
        "# display_vid(frames, fps=60)"
      ]
    }
  ],
  "metadata": {
    "accelerator": "GPU",
    "colab": {
      "gpuType": "T4",
      "provenance": []
    },
    "kernelspec": {
      "display_name": "Python 3 (ipykernel)",
      "language": "python",
      "name": "python3"
    },
    "language_info": {
      "codemirror_mode": {
        "name": "ipython",
        "version": 3
      },
      "file_extension": ".py",
      "mimetype": "text/x-python",
      "name": "python",
      "nbconvert_exporter": "python",
      "pygments_lexer": "ipython3",
      "version": "3.11.3"
    }
  },
  "nbformat": 4,
  "nbformat_minor": 0
}
