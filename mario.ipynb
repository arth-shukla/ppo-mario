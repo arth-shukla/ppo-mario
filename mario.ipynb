{
  "cells": [
    {
      "attachments": {},
      "cell_type": "markdown",
      "metadata": {
        "id": "Vsu3DASF9oOZ"
      },
      "source": [
        "# DDQN to Beat Mario"
      ]
    },
    {
      "attachments": {},
      "cell_type": "markdown",
      "metadata": {
        "id": "TmJC6m4o-bg3"
      },
      "source": [
        "## Background\n",
        "\n",
        "In 2013, DeepMind made the Deep Q Network to play Atari Games (https://arxiv.org/pdf/1312.5602.pdf). This DQN was able to learn to play simple Atari games at human level, kickstarting the past decade of DeepRL research.\n",
        "\n",
        "In 2015, DeepMind published another paper which played even more Atari Games (https://storage.googleapis.com/deepmind-media/dqn/DQNNaturePaper.pdf). This new model included a target network to reduce Q-value overestimation in the previous DQN model. This model is sometimes called DDQNs, and it's what we'll implement here to beat Mario!"
      ]
    },
    {
      "attachments": {},
      "cell_type": "markdown",
      "metadata": {
        "id": "zmmHHVWJ91H5"
      },
      "source": [
        "## Setup and Some Exploration"
      ]
    },
    {
      "attachments": {},
      "cell_type": "markdown",
      "metadata": {
        "id": "EK8eCfnF-Hpu"
      },
      "source": [
        "First, we install gymnasium and the Mario Env.\n",
        "\n",
        "The Mario env can be found here: https://pypi.org/project/gym-super-mario-bros/"
      ]
    },
    {
      "cell_type": "code",
      "execution_count": 1,
      "metadata": {
        "colab": {
          "base_uri": "https://localhost:8080/"
        },
        "id": "97LB2zyA90n1",
        "outputId": "ace16065-3afb-4b63-a812-3412c3c88422"
      },
      "outputs": [],
      "source": [
        "# uncomment if using colab; if running locally it's recommended to install via conda\n",
        "# !pip uninstall -y gym\n",
        "# !pip install gymnasium\n",
        "# !pip install gym_super_mario_bros==7.3.0\n",
        "# !pip install wandb"
      ]
    },
    {
      "attachments": {},
      "cell_type": "markdown",
      "metadata": {
        "id": "AoJma_vthJhe"
      },
      "source": [
        "Before we transform the env with wrappers and make our agent, let's take a look at the environment as-is. Below we take some random actions and generate a video"
      ]
    },
    {
      "cell_type": "code",
      "execution_count": 2,
      "metadata": {
        "id": "5PeKvTbRImQ_"
      },
      "outputs": [],
      "source": [
        "import gymnasium as gym\n",
        "from gym.wrappers import RecordVideo\n",
        "\n",
        "from nes_py.wrappers import JoypadSpace\n",
        "import gym_super_mario_bros\n",
        "from gym_super_mario_bros.actions import SIMPLE_MOVEMENT\n",
        "\n",
        "import numpy as np\n",
        "\n",
        "import warnings\n",
        "warnings.filterwarnings('ignore')\n",
        "\n",
        "env = gym_super_mario_bros.make(\"SuperMarioBros-1-1-v0\", apply_api_compatibility=True, render_mode='rgb_array')\n",
        "env = JoypadSpace(env, SIMPLE_MOVEMENT)\n",
        "\n",
        "def run_test(env, num_steps=50):\n",
        "    frames = []\n",
        "    out = env.reset()\n",
        "    for _ in range(num_steps):\n",
        "        next_state, reward, done, truncated, info = env.step(action=env.action_space.sample())\n",
        "        frames.append(np.copy(env.render()))\n",
        "    return frames\n",
        "\n",
        "frames = run_test(env)"
      ]
    },
    {
      "cell_type": "code",
      "execution_count": 3,
      "metadata": {
        "colab": {
          "base_uri": "https://localhost:8080/"
        },
        "id": "ZAeHNXeZp_4K",
        "outputId": "128bac45-414d-44ff-987c-5d61ab3f1725"
      },
      "outputs": [
        {
          "name": "stdout",
          "output_type": "stream",
          "text": [
            "(240, 256, 3)\n"
          ]
        }
      ],
      "source": [
        "print(frames[-1].shape)"
      ]
    },
    {
      "attachments": {},
      "cell_type": "markdown",
      "metadata": {
        "id": "rmdoA8i-hejy"
      },
      "source": [
        "We can reuse the following code to see what our bot does later on:"
      ]
    },
    {
      "cell_type": "code",
      "execution_count": 4,
      "metadata": {
        "id": "mM80quT3QU6r"
      },
      "outputs": [],
      "source": [
        "from IPython.display import HTML\n",
        "from base64 import b64encode\n",
        "import numpy as np\n",
        "import os\n",
        "import cv2\n",
        "from tqdm import tqdm\n",
        "\n",
        "def display_vid(frames, vid_name='./video.mp4', compressed_name='./compressed.mp4', fps=30):\n",
        "\n",
        "    if os.path.isfile(vid_name):\n",
        "      !rm video.mp4\n",
        "    if os.path.isfile(compressed_name):\n",
        "      !rm compressed.mp4\n",
        "\n",
        "    h, w, c = frames[-1].shape\n",
        "    out = cv2.VideoWriter(vid_name, cv2.VideoWriter_fourcc(*'VP90'), fps, (w, h))\n",
        "    for frame in tqdm(frames):\n",
        "        img = cv2.cvtColor(frame, cv2.COLOR_BGR2RGB)\n",
        "        out.write(img)\n",
        "    out.release()\n",
        "\n",
        "    mp4 = open(vid_name,'rb').read()\n",
        "    data_url = \"data:video/mp4;base64,\" + b64encode(mp4).decode()\n",
        "    return HTML(\"\"\"\n",
        "    <video width=400 controls>\n",
        "          <source src=\"%s\" type=\"video/mp4\">\n",
        "    </video>\n",
        "    \"\"\" % data_url)"
      ]
    },
    {
      "cell_type": "code",
      "execution_count": 5,
      "metadata": {
        "colab": {
          "base_uri": "https://localhost:8080/",
          "height": 414
        },
        "id": "FIJF-g33QpHx",
        "outputId": "89d1c426-82fb-4605-da9e-3162e93329f7"
      },
      "outputs": [
        {
          "name": "stderr",
          "output_type": "stream",
          "text": [
            "OpenCV: FFMPEG: tag 0x30395056/'VP90' is not supported with codec id 167 and format 'mp4 / MP4 (MPEG-4 Part 14)'\n",
            "OpenCV: FFMPEG: fallback to use tag 0x39307076/'vp09'\n",
            "100%|██████████| 50/50 [00:00<00:00, 179.39it/s]\n"
          ]
        },
        {
          "data": {
            "text/html": [
              "\n",
              "    <video width=400 controls>\n",
              "          <source src=\"data:video/mp4;base64,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\" type=\"video/mp4\">\n",
              "    </video>\n",
              "    "
            ],
            "text/plain": [
              "<IPython.core.display.HTML object>"
            ]
          },
          "execution_count": 5,
          "metadata": {},
          "output_type": "execute_result"
        }
      ],
      "source": [
        "display_vid(frames)"
      ]
    },
    {
      "attachments": {},
      "cell_type": "markdown",
      "metadata": {
        "id": "BNLa9SFHipWS"
      },
      "source": [
        "## Preprocessing Environment"
      ]
    },
    {
      "attachments": {},
      "cell_type": "markdown",
      "metadata": {
        "id": "K2mJZj2Eluj2"
      },
      "source": [
        "The DeepMind papers for Atari games transforms the environments to make it easier for the DQN/DDQN to learn. In particular,\n",
        "\n",
        "1. Use only every 4th frame\n",
        "2. Grayscale each image, downscale to 110x84, then crop appropriately to remove unnecesssary info\n",
        "3. Pass a stack of 4 frames so that the model can see trajectory (falling and jumping are different contexts, but may lead to the same observation).\n",
        "\n",
        "\n",
        "We will implement some of these simplifying transformations using Gymnasium's `gym.Wrapper`. Wrapper code is altered from https://blog.paperspace.com/building-double-deep-q-network-super-mario-bros/."
      ]
    },
    {
      "cell_type": "code",
      "execution_count": 6,
      "metadata": {
        "id": "xkegIeYhm-eD"
      },
      "outputs": [],
      "source": [
        "import collections\n",
        "import cv2\n",
        "\n",
        "class MaxAndSkipEnv(gym.Wrapper):\n",
        "    def __init__(self, env=None, skip=4):\n",
        "        super(MaxAndSkipEnv, self).__init__(env)\n",
        "        self._obs_buffer = collections.deque(maxlen=2)\n",
        "        self._replay_buffer = collections.deque(maxlen=4)\n",
        "        self._skip = skip\n",
        "\n",
        "    def step(self, action):\n",
        "        total_reward = 0.0\n",
        "        done = None\n",
        "        for _ in range(self._skip):\n",
        "            obs, reward, done, truncated, info = self.env.step(action)\n",
        "            self._obs_buffer.append(obs)\n",
        "            self._replay_buffer.append(obs.copy())\n",
        "            total_reward += reward\n",
        "            if done:\n",
        "                break\n",
        "        max_frame = np.max(np.stack(self._obs_buffer), axis=0)\n",
        "        return max_frame, total_reward, done, truncated, info\n",
        "\n",
        "    def render(self, mode='rgb_array'):\n",
        "        if mode == 'rgb_array':\n",
        "            return self._replay_buffer\n",
        "        \n",
        "        return self.env.render(mode=mode)\n",
        "\n",
        "    def reset(self, **kwargs):\n",
        "        self._obs_buffer.clear()\n",
        "        obs = self.env.reset()\n",
        "        self._obs_buffer.append(obs)\n",
        "        return obs\n",
        "\n",
        "\n",
        "class ProcessFrame84(gym.ObservationWrapper):\n",
        "    def __init__(self, env=None):\n",
        "        super(ProcessFrame84, self).__init__(env)\n",
        "        self.observation_space = gym.spaces.Box(low=0, high=255, shape=(84, 84, 1), dtype=np.uint8)\n",
        "\n",
        "    def observation(self, observation):\n",
        "        return ProcessFrame84.process(observation)\n",
        "\n",
        "    @staticmethod\n",
        "    def process(frame):\n",
        "        assert frame.size == 240 * 256 * 3, \"Unknown resolution.\"\n",
        "\n",
        "        img = np.reshape(frame, [240, 256, 3]).astype(np.float32)\n",
        "        img = img[:, :, 0] * 0.299 + img[:, :, 1] * 0.587 + img[:, :, 2] * 0.114\n",
        "        resized_screen = cv2.resize(img, (84, 110), interpolation=cv2.INTER_AREA)\n",
        "        x_t = resized_screen[18:102, :]\n",
        "        x_t = np.reshape(x_t, [84, 84, 1])\n",
        "        return x_t.astype(np.uint8)\n",
        "\n",
        "\n",
        "class TransposeObs(gym.ObservationWrapper):\n",
        "    def __init__(self, env):\n",
        "        super(TransposeObs, self).__init__(env)\n",
        "        w, h, n = self.observation_space.shape\n",
        "        self.observation_space = gym.spaces.Box(low=0.0, high=1.0, shape=(n, w, h), dtype=np.float32)\n",
        "\n",
        "    def observation(self, observation):\n",
        "        return np.moveaxis(observation, 2, 0)\n",
        "\n",
        "\n",
        "class ScaledFloatFrame(gym.ObservationWrapper):\n",
        "    def observation(self, observation):\n",
        "        return np.array(observation).astype(np.float32) / 255.0\n",
        "\n",
        "\n",
        "class BufferWrapper(gym.ObservationWrapper):\n",
        "    def __init__(self, env, n_steps, dtype=np.float32):\n",
        "        super(BufferWrapper, self).__init__(env)\n",
        "        self.dtype = dtype\n",
        "        old_space = env.observation_space\n",
        "        self.observation_space = gym.spaces.Box(old_space.low.repeat(n_steps, axis=0),\n",
        "                                                old_space.high.repeat(n_steps, axis=0), dtype=dtype)\n",
        "\n",
        "    def reset(self, **kwargs):\n",
        "        self.buffer = np.zeros_like(self.observation_space.low, dtype=self.dtype)\n",
        "        return self.observation(self.env.reset()), {}\n",
        "\n",
        "    def observation(self, observation):\n",
        "        self.buffer[:-1] = self.buffer[1:]\n",
        "        self.buffer[-1] = observation[0]\n",
        "        return self.buffer"
      ]
    },
    {
      "cell_type": "code",
      "execution_count": 7,
      "metadata": {
        "id": "7sWxQ2rAjFLX"
      },
      "outputs": [],
      "source": [
        "from gym.wrappers import FrameStack\n",
        "from nes_py.wrappers import JoypadSpace\n",
        "from gym_super_mario_bros.actions import RIGHT_ONLY\n",
        "\n",
        "def preprocessed_env(world=1, level=1):\n",
        "    env = gym_super_mario_bros.make(f'SuperMarioBros-{world}-{level}-v0', apply_api_compatibility=True, render_mode='rgb_array')\n",
        "    env = MaxAndSkipEnv(env)\n",
        "    env = ProcessFrame84(env)\n",
        "    env = TransposeObs(env)\n",
        "    env = BufferWrapper(env, 4)\n",
        "    env = ScaledFloatFrame(env)\n",
        "    # we will use complex movement for PPO instead of right only since it's a more advanced algo\n",
        "    return JoypadSpace(env, RIGHT_ONLY)"
      ]
    },
    {
      "cell_type": "code",
      "execution_count": 8,
      "metadata": {
        "colab": {
          "base_uri": "https://localhost:8080/"
        },
        "id": "v1Z7ud1a55kJ",
        "outputId": "c7fd887d-fdd7-4313-d20d-aad12765bc5d",
        "scrolled": true
      },
      "outputs": [
        {
          "name": "stdout",
          "output_type": "stream",
          "text": [
            "obs space (4, 84, 84)\n",
            "act space 5\n"
          ]
        }
      ],
      "source": [
        "env = preprocessed_env()\n",
        "print('obs space', env.observation_space.shape)\n",
        "print('act space', env.action_space.n)"
      ]
    },
    {
      "cell_type": "code",
      "execution_count": 9,
      "metadata": {
        "colab": {
          "base_uri": "https://localhost:8080/",
          "height": 451
        },
        "id": "MN2eDywqR7kC",
        "outputId": "89514658-51f5-469b-9fd4-0f3a8e14077e"
      },
      "outputs": [
        {
          "data": {
            "text/plain": [
              "<matplotlib.image.AxesImage at 0x141b4ead0>"
            ]
          },
          "execution_count": 9,
          "metadata": {},
          "output_type": "execute_result"
        },
        {
          "data": {
            "image/png": "[encoded data removed]",
            "text/plain": [
              "<Figure size 640x480 with 1 Axes>"
            ]
          },
          "metadata": {},
          "output_type": "display_data"
        }
      ],
      "source": [
        "import matplotlib.pyplot as plt\n",
        "\n",
        "plt.imshow(env.reset()[0][-1], cmap='gray')"
      ]
    },
    {
      "attachments": {},
      "cell_type": "markdown",
      "metadata": {
        "id": "RT_tBITRA6Ty"
      },
      "source": [
        "We now have a preprocessed environment! We can proceed to working on our Agent."
      ]
    },
    {
      "attachments": {},
      "cell_type": "markdown",
      "metadata": {
        "id": "vCd3JjKZA_s9"
      },
      "source": [
        "## Training Convolutional PPO"
      ]
    },
    {
      "attachments": {},
      "cell_type": "markdown",
      "metadata": {
        "id": "q655hjwkBWHy"
      },
      "source": [
        "I will be adapting a previous PPO implementation I made (https://github.com/arth-shukla/ppo-gym-cartpole) to use convolutions to process the observations.\n",
        "\n",
        "I will use the same convolutions as in the original DeepMind papers, which I implemented for a DDQN (https://github.com/arth-shukla/ddqn-mario).\n",
        "\n",
        "1. Conv2d with 32 8x8 kernels, stride 4 + nonlinearlity (we will use ReLU)\n",
        "2. Conv2d with 64 4x4 kernels, stride 2 + nonlinearity\n",
        "3. Conv2d with 64 3x3 kernels, stride 1 + nonlinearity\n",
        "4. FC layer with 512 nodes + nonlinearity\n",
        "5. FC layer with # nodes equal to # actions\n",
        "6. Softmax &rarr; Categorical distr\n",
        "\n",
        "The implementation can be found in `ppo-conv.py`."
      ]
    },
    {
      "cell_type": "code",
      "execution_count": 10,
      "metadata": {},
      "outputs": [],
      "source": [
        "%load_ext autoreload\n",
        "%autoreload 2"
      ]
    },
    {
      "cell_type": "code",
      "execution_count": 24,
      "metadata": {
        "id": "Pln8Nen6ppv4"
      },
      "outputs": [],
      "source": [
        "from ppo.agent import PPOAgent\n",
        "from tqdm import tqdm\n",
        "import torch\n",
        "from pathlib import Path\n",
        "\n",
        "def train(\n",
        "        logging=False, log_init=False, wandb_proj='Mario-PPO', checkpoint_dir = './checkpoints',\n",
        "        pretrained_path=None,\n",
        "        num_games=300, avg_over = 500, save_every = 100,\n",
        "        buffer_size = 2048,\n",
        "        batch_size = 64,\n",
        "        epochs = 4,\n",
        "        lr = 2.5e-4,\n",
        "        scheduler_gamma = None,\n",
        "        discount = .99,\n",
        "        gae_lambda = 0.95,\n",
        "        policy_clip = 0.2,\n",
        "        norm_advantage = False,\n",
        "        entropy_coeff = 0.01,\n",
        "        critic_coeff = 0.5,\n",
        "        max_grad_norm = 0.5,\n",
        "        early_stop_kl = None,\n",
        "        embed = 512,\n",
        "    ):\n",
        "    import wandb\n",
        "\n",
        "    if logging and log_init:\n",
        "        wandb.login()\n",
        "        wandb.init(project=wandb_proj, config=dict(\n",
        "            buffer_size = buffer_size,\n",
        "            batch_size = batch_size,\n",
        "            epochs = epochs,\n",
        "            lr = lr,\n",
        "            scheduler_gamma = scheduler_gamma,\n",
        "            discount = discount,\n",
        "            gae_lambda = gae_lambda,\n",
        "            policy_clip = policy_clip,\n",
        "            norm_advantage = norm_advantage,\n",
        "            entropy_coeff = entropy_coeff,\n",
        "            critic_coeff = critic_coeff,\n",
        "            max_grad_norm = max_grad_norm,\n",
        "            early_stop_kl = early_stop_kl,\n",
        "            embed = embed,\n",
        "        ))\n",
        "\n",
        "    env = preprocessed_env()\n",
        "\n",
        "    # create agent (note this is done in train because it needs hyperparams)\n",
        "    agent = PPOAgent(\n",
        "        obs_shape=env.observation_space.shape,\n",
        "        act_shape=env.action_space.shape,\n",
        "        act_n=env.action_space.n,\n",
        "        buffer_size = buffer_size,\n",
        "        batch_size = batch_size,\n",
        "        epochs = epochs,\n",
        "        lr = lr,\n",
        "        scheduler_gamma = scheduler_gamma,\n",
        "        discount = discount,\n",
        "        gae_lambda = gae_lambda,\n",
        "        policy_clip = policy_clip,\n",
        "        norm_advantage = norm_advantage,\n",
        "        entropy_coeff = entropy_coeff,\n",
        "        critic_coeff = critic_coeff,\n",
        "        max_grad_norm = max_grad_norm,\n",
        "        early_stop_kl = early_stop_kl,\n",
        "        embed = embed,\n",
        "    )\n",
        "    \n",
        "    # load model if pretrained\n",
        "    if pretrained_path != None:\n",
        "        agent.load(load_path=pretrained_path)\n",
        "    \n",
        "    # data tracking\n",
        "    score_hist = []\n",
        "    avg_score = 0\n",
        "    num_steps = 0\n",
        "\n",
        "    # if using kldiv early end, track with this var\n",
        "    early_end = False\n",
        "\n",
        "    # num_games is the number of games to play, where each game ends\n",
        "    # when the agent meets terminal conditions for the env\n",
        "    for ep_num in tqdm(range(num_games)):\n",
        "\n",
        "        obs = env.reset()[0].__array__()\n",
        "        done = False\n",
        "        score = 0\n",
        "        steps = 0\n",
        "\n",
        "        # run loop where model gathers data for \"learn_every\"\n",
        "        # steps then learns using that information\n",
        "        while not done:\n",
        "\n",
        "            # choose action (actor)\n",
        "            action, log_prob, val = agent.act(obs)\n",
        "\n",
        "            # get results of action\n",
        "            next_obs, reward, done, _, _ = env.step(action)\n",
        "\n",
        "            # save data to memory for experience learning\n",
        "            agent.cache(obs, action, log_prob, val, reward, done)\n",
        "\n",
        "            # when buffer full, learn and clear mem\n",
        "            if agent.mem_full():\n",
        "                log_info = agent.learn(next_obs.__array__())\n",
        "                agent.clear_mem()\n",
        "\n",
        "                if logging:\n",
        "                    log_info['num_steps'] = num_steps\n",
        "                    wandb.log(log_info)\n",
        "                \n",
        "            # update obs and tracking vars\n",
        "            obs = next_obs.__array__()\n",
        "            score += reward\n",
        "            steps += 1\n",
        "            num_steps += 1\n",
        "\n",
        "        score_hist.append(score)\n",
        "        \n",
        "        if (ep_num % save_every == 0) or (ep_num == num_games - 1):\n",
        "            save_path = Path(checkpoint_dir) / Path(f'mario_ppo_{ep_num}.pt')\n",
        "            agent.save(save_path=save_path)\n",
        "    \n",
        "        if logging:\n",
        "            log_dict = {\n",
        "                'train/total_rewards': score,\n",
        "                'train/ep_len': steps,\n",
        "                'ep_num': ep_num,\n",
        "            }\n",
        "            if len(score_hist) > avg_over:\n",
        "                log_dict[f'train/avg_reward_last_{avg_over}'] = np.mean(score_hist[-avg_over:])\n",
        "            wandb.log(log_dict)\n",
        "\n",
        "    env.close()\n",
        "    wandb.finish()"
      ]
    },
    {
      "cell_type": "code",
      "execution_count": null,
      "metadata": {},
      "outputs": [],
      "source": [
        "train(\n",
        "    logging=False, log_init=False, wandb_proj='Mario-PPO', checkpoint_dir = './checkpoints',\n",
        "    pretrained_path=None,\n",
        "    num_games = 10000, avg_over = 100, save_every = 500,\n",
        "    buffer_size = 512,\n",
        "    batch_size = 16,\n",
        "    epochs = 10,\n",
        "    lr = 1e-4,\n",
        "    scheduler_gamma = None,\n",
        "    discount = .9,\n",
        "    gae_lambda = 1.0,\n",
        "    policy_clip = 0.2,\n",
        "    norm_advantage = False,\n",
        "    entropy_coeff = 0.01,\n",
        "    critic_coeff = 0.5,\n",
        "    max_grad_norm = 0.5,\n",
        "    early_stop_kl = .75,\n",
        "    embed = 512,\n",
        ")"
      ]
    },
    {
      "cell_type": "code",
      "execution_count": null,
      "metadata": {},
      "outputs": [],
      "source": [
        "import wandb\n",
        "wandb.finish()"
      ]
    },
    {
      "cell_type": "code",
      "execution_count": null,
      "metadata": {
        "id": "-D7suegWppv4"
      },
      "outputs": [],
      "source": [
        "# for lr in [5e-6, 1e-5, 5e-5, 1e-4, 5e-4, 1e-4]:\n",
        "#     train(logging=True, log_init=True, lr=lr, wandb_proj='Mario-PPO', num_games=100, avg_over=100)"
      ]
    },
    {
      "attachments": {},
      "cell_type": "markdown",
      "metadata": {
        "id": "fwZRdwmKppv5"
      },
      "source": [
        "## Let's Watch Our Bot Play!"
      ]
    },
    {
      "cell_type": "code",
      "execution_count": null,
      "metadata": {
        "id": "XIaLmkKmppv4"
      },
      "outputs": [],
      "source": [
        "# def run_level(pretrained_path=None):\n",
        "#     with torch.no_grad():\n",
        "#         frames = []\n",
        "        \n",
        "#         env = preprocessed_env()\n",
        "\n",
        "#         agent = DQNAgent(\n",
        "#             state_space=env.observation_space.shape,\n",
        "#             action_space=env.action_space.n,\n",
        "#             max_memory_size=30000,\n",
        "#             batch_size=32,\n",
        "#             gamma=0.90,\n",
        "#             lr=0.00025,\n",
        "#             exploration_max=1.0,\n",
        "#             exploration_min=0.02,\n",
        "#             exploration_decay=0.99,\n",
        "#             have_mem=False\n",
        "#         )\n",
        "\n",
        "#         if pretrained_path != None:\n",
        "#             agent.load(pretrained_path)\n",
        "\n",
        "#         agent.local_net.eval()\n",
        "\n",
        "#         env.reset()\n",
        "\n",
        "#         state, _ = env.reset()\n",
        "#         state = torch.Tensor([state])\n",
        "#         total_reward = 0\n",
        "#         steps = 0\n",
        "\n",
        "#         total_reward = 0\n",
        "#         while True:\n",
        "#             action = agent.act(state)\n",
        "#             steps += 1\n",
        "\n",
        "#             next_state, reward, terminal, truncated, info = env.step(int(action[0]))\n",
        "\n",
        "#             total_reward += reward\n",
        "\n",
        "#             state = torch.Tensor([next_state])\n",
        "            \n",
        "#             for x in env.render():\n",
        "#                 frames.append(x.copy())\n",
        "\n",
        "#             if terminal:\n",
        "#                 break\n",
        "\n",
        "#         env.close()\n",
        "        \n",
        "#         return frames"
      ]
    },
    {
      "cell_type": "code",
      "execution_count": null,
      "metadata": {
        "colab": {
          "base_uri": "https://localhost:8080/"
        },
        "id": "E8SlNcbpppv5",
        "outputId": "3a7139c3-df5d-42d8-a4ac-57b8a286efa5"
      },
      "outputs": [],
      "source": [
        "# frames = run_level(pretrained_path='./acm_ai_ddqn_checkpoint.pt')"
      ]
    },
    {
      "attachments": {},
      "cell_type": "markdown",
      "metadata": {
        "id": "alX-AQ6Tppv5"
      },
      "source": [
        "Let's watch our DDQN play Mario! Note that it might still lose sometimes..."
      ]
    },
    {
      "cell_type": "code",
      "execution_count": null,
      "metadata": {
        "colab": {
          "base_uri": "https://localhost:8080/",
          "height": 414
        },
        "id": "hDdVp210ppv5",
        "outputId": "d10045db-6f16-4c03-8d0b-117d0ab6e57a"
      },
      "outputs": [],
      "source": [
        "# display_vid(frames, fps=60)"
      ]
    }
  ],
  "metadata": {
    "accelerator": "GPU",
    "colab": {
      "gpuType": "T4",
      "provenance": []
    },
    "kernelspec": {
      "display_name": "Python 3 (ipykernel)",
      "language": "python",
      "name": "python3"
    },
    "language_info": {
      "codemirror_mode": {
        "name": "ipython",
        "version": 3
      },
      "file_extension": ".py",
      "mimetype": "text/x-python",
      "name": "python",
      "nbconvert_exporter": "python",
      "pygments_lexer": "ipython3",
      "version": "3.11.3"
    }
  },
  "nbformat": 4,
  "nbformat_minor": 0
}
