{
  "cells": [
    {
      "attachments": {},
      "cell_type": "markdown",
      "metadata": {
        "id": "Vsu3DASF9oOZ"
      },
      "source": [
        "# DDQN to Beat Mario"
      ]
    },
    {
      "attachments": {},
      "cell_type": "markdown",
      "metadata": {
        "id": "TmJC6m4o-bg3"
      },
      "source": [
        "## Background\n",
        "\n",
        "In 2013, DeepMind made the Deep Q Network to play Atari Games (https://arxiv.org/pdf/1312.5602.pdf). This DQN was able to learn to play simple Atari games at human level, kickstarting the past decade of DeepRL research.\n",
        "\n",
        "In 2015, DeepMind published another paper which played even more Atari Games (https://storage.googleapis.com/deepmind-media/dqn/DQNNaturePaper.pdf). This new model included a target network to reduce Q-value overestimation in the previous DQN model. This model is sometimes called DDQNs, and it's what we'll implement here to beat Mario!"
      ]
    },
    {
      "attachments": {},
      "cell_type": "markdown",
      "metadata": {
        "id": "zmmHHVWJ91H5"
      },
      "source": [
        "## Setup and Some Exploration"
      ]
    },
    {
      "attachments": {},
      "cell_type": "markdown",
      "metadata": {
        "id": "EK8eCfnF-Hpu"
      },
      "source": [
        "First, we install gymnasium and the Mario Env.\n",
        "\n",
        "The Mario env can be found here: https://pypi.org/project/gym-super-mario-bros/"
      ]
    },
    {
      "cell_type": "code",
      "execution_count": 1,
      "metadata": {
        "colab": {
          "base_uri": "https://localhost:8080/"
        },
        "id": "97LB2zyA90n1",
        "outputId": "ace16065-3afb-4b63-a812-3412c3c88422"
      },
      "outputs": [],
      "source": [
        "# uncomment if using colab; if running locally it's recommended to install via conda\n",
        "# !pip uninstall -y gym\n",
        "# !pip install gymnasium\n",
        "# !pip install gym_super_mario_bros==7.3.0\n",
        "# !pip install wandb"
      ]
    },
    {
      "attachments": {},
      "cell_type": "markdown",
      "metadata": {
        "id": "AoJma_vthJhe"
      },
      "source": [
        "Before we transform the env with wrappers and make our agent, let's take a look at the environment as-is. Below we take some random actions and generate a video"
      ]
    },
    {
      "cell_type": "code",
      "execution_count": 2,
      "metadata": {
        "id": "5PeKvTbRImQ_"
      },
      "outputs": [],
      "source": [
        "import gymnasium as gym\n",
        "from gym.wrappers import RecordVideo\n",
        "\n",
        "from nes_py.wrappers import JoypadSpace\n",
        "import gym_super_mario_bros\n",
        "from gym_super_mario_bros.actions import SIMPLE_MOVEMENT\n",
        "\n",
        "import numpy as np\n",
        "\n",
        "import warnings\n",
        "warnings.filterwarnings('ignore')\n",
        "\n",
        "env = gym_super_mario_bros.make(\"SuperMarioBros-1-1-v0\", apply_api_compatibility=True, render_mode='rgb_array')\n",
        "env = JoypadSpace(env, SIMPLE_MOVEMENT)\n",
        "\n",
        "def run_test(env, num_steps=50):\n",
        "    frames = []\n",
        "    out = env.reset()\n",
        "    for _ in range(num_steps):\n",
        "        next_state, reward, done, truncated, info = env.step(action=env.action_space.sample())\n",
        "        frames.append(np.copy(env.render()))\n",
        "    return frames\n",
        "\n",
        "frames = run_test(env)"
      ]
    },
    {
      "cell_type": "code",
      "execution_count": 3,
      "metadata": {
        "colab": {
          "base_uri": "https://localhost:8080/"
        },
        "id": "ZAeHNXeZp_4K",
        "outputId": "128bac45-414d-44ff-987c-5d61ab3f1725"
      },
      "outputs": [
        {
          "name": "stdout",
          "output_type": "stream",
          "text": [
            "(240, 256, 3)\n"
          ]
        }
      ],
      "source": [
        "print(frames[-1].shape)"
      ]
    },
    {
      "attachments": {},
      "cell_type": "markdown",
      "metadata": {
        "id": "rmdoA8i-hejy"
      },
      "source": [
        "We can reuse the following code to see what our bot does later on:"
      ]
    },
    {
      "cell_type": "code",
      "execution_count": 4,
      "metadata": {
        "id": "mM80quT3QU6r"
      },
      "outputs": [],
      "source": [
        "from IPython.display import HTML\n",
        "from base64 import b64encode\n",
        "import numpy as np\n",
        "import os\n",
        "import cv2\n",
        "from tqdm import tqdm\n",
        "\n",
        "def display_vid(frames, vid_name='./video.mp4', compressed_name='./compressed.mp4', fps=30):\n",
        "\n",
        "    if os.path.isfile(vid_name):\n",
        "      !rm video.mp4\n",
        "    if os.path.isfile(compressed_name):\n",
        "      !rm compressed.mp4\n",
        "\n",
        "    h, w, c = frames[-1].shape\n",
        "    out = cv2.VideoWriter(vid_name, cv2.VideoWriter_fourcc(*'VP90'), fps, (w, h))\n",
        "    for frame in tqdm(frames):\n",
        "        img = cv2.cvtColor(frame, cv2.COLOR_BGR2RGB)\n",
        "        out.write(img)\n",
        "    out.release()\n",
        "\n",
        "    mp4 = open(vid_name,'rb').read()\n",
        "    data_url = \"data:video/mp4;base64,\" + b64encode(mp4).decode()\n",
        "    return HTML(\"\"\"\n",
        "    <video width=400 controls>\n",
        "          <source src=\"%s\" type=\"video/mp4\">\n",
        "    </video>\n",
        "    \"\"\" % data_url)"
      ]
    },
    {
      "cell_type": "code",
      "execution_count": 5,
      "metadata": {
        "colab": {
          "base_uri": "https://localhost:8080/",
          "height": 414
        },
        "id": "FIJF-g33QpHx",
        "outputId": "89d1c426-82fb-4605-da9e-3162e93329f7"
      },
      "outputs": [
        {
          "name": "stderr",
          "output_type": "stream",
          "text": [
            "OpenCV: FFMPEG: tag 0x30395056/'VP90' is not supported with codec id 167 and format 'mp4 / MP4 (MPEG-4 Part 14)'\n",
            "OpenCV: FFMPEG: fallback to use tag 0x39307076/'vp09'\n",
            "100%|██████████| 50/50 [00:00<00:00, 171.24it/s]\n"
          ]
        },
        {
          "data": {
            "text/html": [
              "\n",
              "    <video width=400 controls>\n",
              "          <source src=\"data:video/mp4;base64,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\" type=\"video/mp4\">\n",
              "    </video>\n",
              "    "
            ],
            "text/plain": [
              "<IPython.core.display.HTML object>"
            ]
          },
          "execution_count": 5,
          "metadata": {},
          "output_type": "execute_result"
        }
      ],
      "source": [
        "display_vid(frames)"
      ]
    },
    {
      "attachments": {},
      "cell_type": "markdown",
      "metadata": {
        "id": "BNLa9SFHipWS"
      },
      "source": [
        "## Preprocessing Environment"
      ]
    },
    {
      "attachments": {},
      "cell_type": "markdown",
      "metadata": {
        "id": "K2mJZj2Eluj2"
      },
      "source": [
        "The DeepMind papers for Atari games transforms the environments to make it easier for the DQN/DDQN to learn. In particular,\n",
        "\n",
        "1. Use only every 4th frame\n",
        "2. Grayscale each image, downscale to 110x84, then crop appropriately to remove unnecesssary info\n",
        "3. Pass a stack of 4 frames so that the model can see trajectory (falling and jumping are different contexts, but may lead to the same observation).\n",
        "\n",
        "\n",
        "We will implement some of these simplifying transformations using Gymnasium's `gym.Wrapper`. Wrapper code is altered from https://blog.paperspace.com/building-double-deep-q-network-super-mario-bros/."
      ]
    },
    {
      "cell_type": "code",
      "execution_count": 6,
      "metadata": {
        "id": "xkegIeYhm-eD"
      },
      "outputs": [],
      "source": [
        "import collections\n",
        "import cv2\n",
        "\n",
        "class MaxAndSkipEnv(gym.Wrapper):\n",
        "    def __init__(self, env=None, skip=4):\n",
        "        super(MaxAndSkipEnv, self).__init__(env)\n",
        "        self._obs_buffer = collections.deque(maxlen=2)\n",
        "        self._replay_buffer = collections.deque(maxlen=4)\n",
        "        self._skip = skip\n",
        "\n",
        "    def step(self, action):\n",
        "        total_reward = 0.0\n",
        "        done = None\n",
        "        for _ in range(self._skip):\n",
        "            obs, reward, done, truncated, info = self.env.step(action)\n",
        "            self._obs_buffer.append(obs)\n",
        "            self._replay_buffer.append(obs.copy())\n",
        "            total_reward += reward\n",
        "            if done:\n",
        "                break\n",
        "        max_frame = np.max(np.stack(self._obs_buffer), axis=0)\n",
        "        return max_frame, total_reward, done, truncated, info\n",
        "\n",
        "    def render(self, mode='rgb_array'):\n",
        "        if mode == 'rgb_array':\n",
        "            return self._replay_buffer\n",
        "        \n",
        "        return self.env.render(mode=mode)\n",
        "\n",
        "    def reset(self, **kwargs):\n",
        "        self._obs_buffer.clear()\n",
        "        obs = self.env.reset()\n",
        "        self._obs_buffer.append(obs)\n",
        "        return obs\n",
        "\n",
        "\n",
        "class ProcessFrame84(gym.ObservationWrapper):\n",
        "    def __init__(self, env=None):\n",
        "        super(ProcessFrame84, self).__init__(env)\n",
        "        self.observation_space = gym.spaces.Box(low=0, high=255, shape=(84, 84, 1), dtype=np.uint8)\n",
        "\n",
        "    def observation(self, observation):\n",
        "        return ProcessFrame84.process(observation)\n",
        "\n",
        "    @staticmethod\n",
        "    def process(frame):\n",
        "        assert frame.size == 240 * 256 * 3, \"Unknown resolution.\"\n",
        "\n",
        "        img = np.reshape(frame, [240, 256, 3]).astype(np.float32)\n",
        "        img = img[:, :, 0] * 0.299 + img[:, :, 1] * 0.587 + img[:, :, 2] * 0.114\n",
        "        resized_screen = cv2.resize(img, (84, 110), interpolation=cv2.INTER_AREA)\n",
        "        x_t = resized_screen[18:102, :]\n",
        "        x_t = np.reshape(x_t, [84, 84, 1])\n",
        "        return x_t.astype(np.uint8)\n",
        "\n",
        "\n",
        "class TransposeObs(gym.ObservationWrapper):\n",
        "    def __init__(self, env):\n",
        "        super(TransposeObs, self).__init__(env)\n",
        "        w, h, n = self.observation_space.shape\n",
        "        self.observation_space = gym.spaces.Box(low=0.0, high=1.0, shape=(n, w, h), dtype=np.float32)\n",
        "\n",
        "    def observation(self, observation):\n",
        "        return np.moveaxis(observation, 2, 0)\n",
        "\n",
        "\n",
        "class ScaledFloatFrame(gym.ObservationWrapper):\n",
        "    def observation(self, observation):\n",
        "        return np.array(observation).astype(np.float32) / 255.0\n",
        "\n",
        "\n",
        "class BufferWrapper(gym.ObservationWrapper):\n",
        "    def __init__(self, env, n_steps, dtype=np.float32):\n",
        "        super(BufferWrapper, self).__init__(env)\n",
        "        self.dtype = dtype\n",
        "        old_space = env.observation_space\n",
        "        self.observation_space = gym.spaces.Box(old_space.low.repeat(n_steps, axis=0),\n",
        "                                                old_space.high.repeat(n_steps, axis=0), dtype=dtype)\n",
        "\n",
        "    def reset(self, **kwargs):\n",
        "        self.buffer = np.zeros_like(self.observation_space.low, dtype=self.dtype)\n",
        "        return self.observation(self.env.reset()), {}\n",
        "\n",
        "    def observation(self, observation):\n",
        "        self.buffer[:-1] = self.buffer[1:]\n",
        "        self.buffer[-1] = observation[0]\n",
        "        return self.buffer"
      ]
    },
    {
      "cell_type": "code",
      "execution_count": 7,
      "metadata": {
        "id": "7sWxQ2rAjFLX"
      },
      "outputs": [],
      "source": [
        "from gym.wrappers import FrameStack\n",
        "from nes_py.wrappers import JoypadSpace\n",
        "from gym_super_mario_bros.actions import RIGHT_ONLY\n",
        "\n",
        "def preprocessed_env(world=1, level=1):\n",
        "    env = gym_super_mario_bros.make(f'SuperMarioBros-{world}-{level}-v0', apply_api_compatibility=True, render_mode='rgb_array')\n",
        "    env = MaxAndSkipEnv(env)\n",
        "    env = ProcessFrame84(env)\n",
        "    env = TransposeObs(env)\n",
        "    env = BufferWrapper(env, 4)\n",
        "    env = ScaledFloatFrame(env)\n",
        "    # we will use complex movement for PPO instead of right only since it's a more advanced algo\n",
        "    return JoypadSpace(env, RIGHT_ONLY)"
      ]
    },
    {
      "cell_type": "code",
      "execution_count": 8,
      "metadata": {
        "colab": {
          "base_uri": "https://localhost:8080/"
        },
        "id": "v1Z7ud1a55kJ",
        "outputId": "c7fd887d-fdd7-4313-d20d-aad12765bc5d",
        "scrolled": true
      },
      "outputs": [
        {
          "name": "stdout",
          "output_type": "stream",
          "text": [
            "obs space (4, 84, 84)\n",
            "act space 5\n"
          ]
        }
      ],
      "source": [
        "env = preprocessed_env()\n",
        "print('obs space', env.observation_space.shape)\n",
        "print('act space', env.action_space.n)"
      ]
    },
    {
      "cell_type": "code",
      "execution_count": 9,
      "metadata": {
        "colab": {
          "base_uri": "https://localhost:8080/",
          "height": 451
        },
        "id": "MN2eDywqR7kC",
        "outputId": "89514658-51f5-469b-9fd4-0f3a8e14077e"
      },
      "outputs": [
        {
          "data": {
            "text/plain": [
              "<matplotlib.image.AxesImage at 0x13fac2150>"
            ]
          },
          "execution_count": 9,
          "metadata": {},
          "output_type": "execute_result"
        },
        {
          "data": {
            "image/png": "[encoded data removed]",
            "text/plain": [
              "<Figure size 640x480 with 1 Axes>"
            ]
          },
          "metadata": {},
          "output_type": "display_data"
        }
      ],
      "source": [
        "import matplotlib.pyplot as plt\n",
        "\n",
        "plt.imshow(env.reset()[0][-1], cmap='gray')"
      ]
    },
    {
      "attachments": {},
      "cell_type": "markdown",
      "metadata": {
        "id": "RT_tBITRA6Ty"
      },
      "source": [
        "We now have a preprocessed environment! We can proceed to working on our Agent."
      ]
    },
    {
      "attachments": {},
      "cell_type": "markdown",
      "metadata": {
        "id": "vCd3JjKZA_s9"
      },
      "source": [
        "## Training Convolutional PPO"
      ]
    },
    {
      "attachments": {},
      "cell_type": "markdown",
      "metadata": {
        "id": "q655hjwkBWHy"
      },
      "source": [
        "I will be adapting a previous PPO implementation I made (https://github.com/arth-shukla/ppo-gym-cartpole) to use convolutions to process the observations.\n",
        "\n",
        "I will use the same convolutions as in the original DeepMind papers, which I implemented for a DDQN (https://github.com/arth-shukla/ddqn-mario).\n",
        "\n",
        "1. Conv2d with 32 8x8 kernels, stride 4 + nonlinearlity (we will use ReLU)\n",
        "2. Conv2d with 64 4x4 kernels, stride 2 + nonlinearity\n",
        "3. Conv2d with 64 3x3 kernels, stride 1 + nonlinearity\n",
        "4. FC layer with 512 nodes + nonlinearity\n",
        "5. FC layer with # nodes equal to # actions\n",
        "6. Softmax &rarr; Categorical distr\n",
        "\n",
        "The implementation can be found in `ppo-conv.py`."
      ]
    },
    {
      "cell_type": "code",
      "execution_count": 10,
      "metadata": {},
      "outputs": [],
      "source": [
        "%load_ext autoreload\n",
        "%autoreload 2"
      ]
    },
    {
      "cell_type": "code",
      "execution_count": 11,
      "metadata": {
        "id": "Pln8Nen6ppv4"
      },
      "outputs": [],
      "source": [
        "from ppo.agent import PPOAgent\n",
        "from tqdm import tqdm\n",
        "import torch\n",
        "from pathlib import Path\n",
        "\n",
        "def train(\n",
        "        logging=False, log_init=False, wandb_proj='Mario-PPO', run_name=None,\n",
        "        checkpoint_dir = './checkpoints', pretrained_path=None,\n",
        "        num_games=300, avg_over = 500, save_every = 100,\n",
        "        buffer_size = 2048,\n",
        "        batch_size = 64,\n",
        "        epochs = 4,\n",
        "        lr = 2.5e-4,\n",
        "        scheduler_gamma = None,\n",
        "        discount = .99,\n",
        "        gae_lambda = 0.95,\n",
        "        policy_clip = 0.2,\n",
        "        norm_advantage = False,\n",
        "        entropy_coeff = 0.01,\n",
        "        critic_coeff = 0.5,\n",
        "        max_grad_norm = 0.5,\n",
        "        early_stop_kl = None,\n",
        "        embed = 512,\n",
        "    ):\n",
        "    import wandb\n",
        "\n",
        "    if logging and log_init:\n",
        "        wandb.login()\n",
        "        wandb.init(project=wandb_proj, name=run_name, config=dict(\n",
        "            buffer_size = buffer_size,\n",
        "            batch_size = batch_size,\n",
        "            epochs = epochs,\n",
        "            lr = lr,\n",
        "            scheduler_gamma = scheduler_gamma,\n",
        "            discount = discount,\n",
        "            gae_lambda = gae_lambda,\n",
        "            policy_clip = policy_clip,\n",
        "            norm_advantage = norm_advantage,\n",
        "            entropy_coeff = entropy_coeff,\n",
        "            critic_coeff = critic_coeff,\n",
        "            max_grad_norm = max_grad_norm,\n",
        "            early_stop_kl = early_stop_kl,\n",
        "            embed = embed,\n",
        "        ))\n",
        "\n",
        "    env = preprocessed_env()\n",
        "\n",
        "    # create agent (note this is done in train because it needs hyperparams)\n",
        "    agent = PPOAgent(\n",
        "        obs_shape=env.observation_space.shape,\n",
        "        act_shape=env.action_space.shape,\n",
        "        act_n=env.action_space.n,\n",
        "        buffer_size = buffer_size,\n",
        "        batch_size = batch_size,\n",
        "        epochs = epochs,\n",
        "        lr = lr,\n",
        "        scheduler_gamma = scheduler_gamma,\n",
        "        discount = discount,\n",
        "        gae_lambda = gae_lambda,\n",
        "        policy_clip = policy_clip,\n",
        "        norm_advantage = norm_advantage,\n",
        "        entropy_coeff = entropy_coeff,\n",
        "        critic_coeff = critic_coeff,\n",
        "        max_grad_norm = max_grad_norm,\n",
        "        early_stop_kl = early_stop_kl,\n",
        "        embed = embed,\n",
        "    )\n",
        "    \n",
        "    # load model if pretrained\n",
        "    if pretrained_path != None:\n",
        "        agent.load(load_path=pretrained_path)\n",
        "    \n",
        "    # data tracking\n",
        "    score_hist = []\n",
        "    avg_score = 0\n",
        "    num_steps = 0\n",
        "\n",
        "    # if using kldiv early end, track with this var\n",
        "    early_end = False\n",
        "\n",
        "    # num_games is the number of games to play, where each game ends\n",
        "    # when the agent meets terminal conditions for the env\n",
        "    for ep_num in tqdm(range(num_games)):\n",
        "\n",
        "        obs = env.reset()[0].__array__()\n",
        "        done = False\n",
        "        score = 0\n",
        "        steps = 0\n",
        "        learn_step = 0\n",
        "\n",
        "        # run loop where model gathers data for \"learn_every\"\n",
        "        # steps then learns using that information\n",
        "        while not done:\n",
        "\n",
        "            # choose action (actor)\n",
        "            action, log_prob, val = agent.act(obs)\n",
        "\n",
        "            # get results of action\n",
        "            next_obs, reward, done, _, _ = env.step(action)\n",
        "\n",
        "            # save data to memory for experience learning\n",
        "            agent.cache(obs, action, log_prob, val, reward, done)\n",
        "\n",
        "            # when buffer full, learn and clear mem\n",
        "            if agent.mem_full():\n",
        "                log_dict = agent.learn(next_obs.__array__())\n",
        "                agent.clear_mem()\n",
        "\n",
        "                log_dict['steps'] = steps\n",
        "                log_dict['learn_step'] = learn_step\n",
        "                \n",
        "                if logging:\n",
        "                    wandb.log(log_dict)\n",
        "                    \n",
        "                learn_step += 1\n",
        "                \n",
        "            # update obs and tracking vars\n",
        "            obs = next_obs.__array__()\n",
        "            score += reward\n",
        "            steps += 1\n",
        "            num_steps += 1\n",
        "\n",
        "        score_hist.append(score)\n",
        "        \n",
        "        if (ep_num % save_every == 0) or (ep_num == num_games - 1):\n",
        "            save_path = Path(checkpoint_dir) / Path(f'mario_ppo_{ep_num}.pt')\n",
        "            agent.save(save_path=save_path)\n",
        "    \n",
        "        if logging:\n",
        "            log_dict = {\n",
        "                'train/total_rewards': score,\n",
        "                'train/ep_len': steps,\n",
        "                'ep_num': ep_num,\n",
        "            }\n",
        "            if len(score_hist) > avg_over:\n",
        "                log_dict[f'train/avg_reward_last_{avg_over}'] = np.mean(score_hist[-avg_over:])\n",
        "            wandb.log(log_dict)\n",
        "\n",
        "    env.close()\n",
        "    wandb.finish()"
      ]
    },
    {
      "cell_type": "code",
      "execution_count": 14,
      "metadata": {},
      "outputs": [
        {
          "name": "stderr",
          "output_type": "stream",
          "text": [
            "\u001b[34m\u001b[1mwandb\u001b[0m: \u001b[33mWARNING\u001b[0m Calling wandb.login() after wandb.init() has no effect.\n"
          ]
        },
        {
          "data": {
            "text/html": [
              "Finishing last run (ID:nab213ls) before initializing another..."
            ],
            "text/plain": [
              "<IPython.core.display.HTML object>"
            ]
          },
          "metadata": {},
          "output_type": "display_data"
        },
        {
          "data": {
            "text/html": [
              "Waiting for W&B process to finish... <strong style=\"color:green\">(success).</strong>"
            ],
            "text/plain": [
              "<IPython.core.display.HTML object>"
            ]
          },
          "metadata": {},
          "output_type": "display_data"
        },
        {
          "data": {
            "text/html": [
              " View run <strong style=\"color:#cdcd00\">no_bells</strong> at: <a href='https://wandb.ai/arth-shukla/Mario-PPO/runs/nab213ls' target=\"_blank\">https://wandb.ai/arth-shukla/Mario-PPO/runs/nab213ls</a><br/>Synced 6 W&B file(s), 0 media file(s), 0 artifact file(s) and 0 other file(s)"
            ],
            "text/plain": [
              "<IPython.core.display.HTML object>"
            ]
          },
          "metadata": {},
          "output_type": "display_data"
        },
        {
          "data": {
            "text/html": [
              "Find logs at: <code>./wandb/run-20230606_011715-nab213ls/logs</code>"
            ],
            "text/plain": [
              "<IPython.core.display.HTML object>"
            ]
          },
          "metadata": {},
          "output_type": "display_data"
        },
        {
          "data": {
            "text/html": [
              "Successfully finished last run (ID:nab213ls). Initializing new run:<br/>"
            ],
            "text/plain": [
              "<IPython.core.display.HTML object>"
            ]
          },
          "metadata": {},
          "output_type": "display_data"
        },
        {
          "data": {
            "text/html": [
              "Tracking run with wandb version 0.15.3"
            ],
            "text/plain": [
              "<IPython.core.display.HTML object>"
            ]
          },
          "metadata": {},
          "output_type": "display_data"
        },
        {
          "data": {
            "text/html": [
              "Run data is saved locally in <code>/Users/arths/Documents/Coding/Personal/ppo-mario/wandb/run-20230606_011846-h440gfii</code>"
            ],
            "text/plain": [
              "<IPython.core.display.HTML object>"
            ]
          },
          "metadata": {},
          "output_type": "display_data"
        },
        {
          "data": {
            "text/html": [
              "Syncing run <strong><a href='https://wandb.ai/arth-shukla/Mario-PPO/runs/h440gfii' target=\"_blank\">no_bells</a></strong> to <a href='https://wandb.ai/arth-shukla/Mario-PPO' target=\"_blank\">Weights & Biases</a> (<a href='https://wandb.me/run' target=\"_blank\">docs</a>)<br/>"
            ],
            "text/plain": [
              "<IPython.core.display.HTML object>"
            ]
          },
          "metadata": {},
          "output_type": "display_data"
        },
        {
          "data": {
            "text/html": [
              " View project at <a href='https://wandb.ai/arth-shukla/Mario-PPO' target=\"_blank\">https://wandb.ai/arth-shukla/Mario-PPO</a>"
            ],
            "text/plain": [
              "<IPython.core.display.HTML object>"
            ]
          },
          "metadata": {},
          "output_type": "display_data"
        },
        {
          "data": {
            "text/html": [
              " View run at <a href='https://wandb.ai/arth-shukla/Mario-PPO/runs/h440gfii' target=\"_blank\">https://wandb.ai/arth-shukla/Mario-PPO/runs/h440gfii</a>"
            ],
            "text/plain": [
              "<IPython.core.display.HTML object>"
            ]
          },
          "metadata": {},
          "output_type": "display_data"
        },
        {
          "name": "stderr",
          "output_type": "stream",
          "text": [
            "  0%|          | 1/10000 [01:08<190:53:11, 68.73s/it]\n"
          ]
        },
        {
          "ename": "KeyboardInterrupt",
          "evalue": "",
          "output_type": "error",
          "traceback": [
            "\u001b[0;31m---------------------------------------------------------------------------\u001b[0m",
            "\u001b[0;31mKeyboardInterrupt\u001b[0m                         Traceback (most recent call last)",
            "Cell \u001b[0;32mIn[14], line 1\u001b[0m\n\u001b[0;32m----> 1\u001b[0m train(\n\u001b[1;32m      2\u001b[0m     logging\u001b[39m=\u001b[39;49m\u001b[39mTrue\u001b[39;49;00m, log_init\u001b[39m=\u001b[39;49m\u001b[39mTrue\u001b[39;49;00m, wandb_proj\u001b[39m=\u001b[39;49m\u001b[39m'\u001b[39;49m\u001b[39mMario-PPO\u001b[39;49m\u001b[39m'\u001b[39;49m, run_name\u001b[39m=\u001b[39;49m\u001b[39m'\u001b[39;49m\u001b[39mno_bells\u001b[39;49m\u001b[39m'\u001b[39;49m,\n\u001b[1;32m      3\u001b[0m     checkpoint_dir \u001b[39m=\u001b[39;49m \u001b[39m'\u001b[39;49m\u001b[39m./checkpoints/no_bells\u001b[39;49m\u001b[39m'\u001b[39;49m, pretrained_path\u001b[39m=\u001b[39;49m\u001b[39mNone\u001b[39;49;00m,\n\u001b[1;32m      4\u001b[0m     num_games \u001b[39m=\u001b[39;49m \u001b[39m10000\u001b[39;49m, avg_over \u001b[39m=\u001b[39;49m \u001b[39m100\u001b[39;49m, save_every \u001b[39m=\u001b[39;49m \u001b[39m100\u001b[39;49m,\n\u001b[1;32m      5\u001b[0m     buffer_size \u001b[39m=\u001b[39;49m \u001b[39m512\u001b[39;49m,\n\u001b[1;32m      6\u001b[0m     batch_size \u001b[39m=\u001b[39;49m \u001b[39m16\u001b[39;49m,\n\u001b[1;32m      7\u001b[0m     epochs \u001b[39m=\u001b[39;49m \u001b[39m10\u001b[39;49m,\n\u001b[1;32m      8\u001b[0m     lr \u001b[39m=\u001b[39;49m \u001b[39m1e-4\u001b[39;49m,\n\u001b[1;32m      9\u001b[0m     scheduler_gamma \u001b[39m=\u001b[39;49m \u001b[39mNone\u001b[39;49;00m,\n\u001b[1;32m     10\u001b[0m     discount \u001b[39m=\u001b[39;49m \u001b[39m.9\u001b[39;49m,\n\u001b[1;32m     11\u001b[0m     gae_lambda \u001b[39m=\u001b[39;49m \u001b[39m1.0\u001b[39;49m,\n\u001b[1;32m     12\u001b[0m     policy_clip \u001b[39m=\u001b[39;49m \u001b[39m0.2\u001b[39;49m,\n\u001b[1;32m     13\u001b[0m     norm_advantage \u001b[39m=\u001b[39;49m \u001b[39mTrue\u001b[39;49;00m,\n\u001b[1;32m     14\u001b[0m     entropy_coeff \u001b[39m=\u001b[39;49m \u001b[39m0.01\u001b[39;49m,\n\u001b[1;32m     15\u001b[0m     critic_coeff \u001b[39m=\u001b[39;49m \u001b[39m0.5\u001b[39;49m,\n\u001b[1;32m     16\u001b[0m     max_grad_norm \u001b[39m=\u001b[39;49m \u001b[39m0.5\u001b[39;49m,\n\u001b[1;32m     17\u001b[0m     early_stop_kl \u001b[39m=\u001b[39;49m \u001b[39m0.01\u001b[39;49m,\n\u001b[1;32m     18\u001b[0m     embed \u001b[39m=\u001b[39;49m \u001b[39m512\u001b[39;49m,\n\u001b[1;32m     19\u001b[0m )\n",
            "Cell \u001b[0;32mIn[11], line 106\u001b[0m, in \u001b[0;36mtrain\u001b[0;34m(logging, log_init, wandb_proj, run_name, checkpoint_dir, pretrained_path, num_games, avg_over, save_every, buffer_size, batch_size, epochs, lr, scheduler_gamma, discount, gae_lambda, policy_clip, norm_advantage, entropy_coeff, critic_coeff, max_grad_norm, early_stop_kl, embed)\u001b[0m\n\u001b[1;32m    104\u001b[0m \u001b[39m# when buffer full, learn and clear mem\u001b[39;00m\n\u001b[1;32m    105\u001b[0m \u001b[39mif\u001b[39;00m agent\u001b[39m.\u001b[39mmem_full():\n\u001b[0;32m--> 106\u001b[0m     log_dict \u001b[39m=\u001b[39m agent\u001b[39m.\u001b[39;49mlearn(next_obs\u001b[39m.\u001b[39;49m__array__())\n\u001b[1;32m    107\u001b[0m     agent\u001b[39m.\u001b[39mclear_mem()\n\u001b[1;32m    109\u001b[0m     log_dict[\u001b[39m'\u001b[39m\u001b[39msteps\u001b[39m\u001b[39m'\u001b[39m] \u001b[39m=\u001b[39m steps\n",
            "File \u001b[0;32m~/Documents/Coding/Personal/ppo-mario/ppo/agent.py:190\u001b[0m, in \u001b[0;36mPPOAgent.learn\u001b[0;34m(self, next_state)\u001b[0m\n\u001b[1;32m    186\u001b[0m     torch\u001b[39m.\u001b[39mnn\u001b[39m.\u001b[39mutils\u001b[39m.\u001b[39mclip_grad_norm_(\u001b[39mself\u001b[39m\u001b[39m.\u001b[39mactor\u001b[39m.\u001b[39mparameters(), \u001b[39mself\u001b[39m\u001b[39m.\u001b[39mmax_grad_norm)\n\u001b[1;32m    189\u001b[0m \u001b[39m# descent steps on each network\u001b[39;00m\n\u001b[0;32m--> 190\u001b[0m \u001b[39mself\u001b[39;49m\u001b[39m.\u001b[39;49mactor\u001b[39m.\u001b[39;49moptimizer\u001b[39m.\u001b[39;49mstep()\n\u001b[1;32m    191\u001b[0m \u001b[39mself\u001b[39m\u001b[39m.\u001b[39mcritic\u001b[39m.\u001b[39moptimizer\u001b[39m.\u001b[39mstep()\n\u001b[1;32m    194\u001b[0m \u001b[39mif\u001b[39;00m \u001b[39mself\u001b[39m\u001b[39m.\u001b[39mscheduler_gamma \u001b[39m!=\u001b[39m \u001b[39mNone\u001b[39;00m:\n",
            "File \u001b[0;32m~/opt/anaconda3/envs/dqn-mario/lib/python3.11/site-packages/torch/optim/optimizer.py:280\u001b[0m, in \u001b[0;36mOptimizer.profile_hook_step.<locals>.wrapper\u001b[0;34m(*args, **kwargs)\u001b[0m\n\u001b[1;32m    276\u001b[0m         \u001b[39melse\u001b[39;00m:\n\u001b[1;32m    277\u001b[0m             \u001b[39mraise\u001b[39;00m \u001b[39mRuntimeError\u001b[39;00m(\u001b[39mf\u001b[39m\u001b[39m\"\u001b[39m\u001b[39m{\u001b[39;00mfunc\u001b[39m}\u001b[39;00m\u001b[39m must return None or a tuple of (new_args, new_kwargs),\u001b[39m\u001b[39m\"\u001b[39m\n\u001b[1;32m    278\u001b[0m                                \u001b[39mf\u001b[39m\u001b[39m\"\u001b[39m\u001b[39mbut got \u001b[39m\u001b[39m{\u001b[39;00mresult\u001b[39m}\u001b[39;00m\u001b[39m.\u001b[39m\u001b[39m\"\u001b[39m)\n\u001b[0;32m--> 280\u001b[0m out \u001b[39m=\u001b[39m func(\u001b[39m*\u001b[39;49margs, \u001b[39m*\u001b[39;49m\u001b[39m*\u001b[39;49mkwargs)\n\u001b[1;32m    281\u001b[0m \u001b[39mself\u001b[39m\u001b[39m.\u001b[39m_optimizer_step_code()\n\u001b[1;32m    283\u001b[0m \u001b[39m# call optimizer step post hooks\u001b[39;00m\n",
            "File \u001b[0;32m~/opt/anaconda3/envs/dqn-mario/lib/python3.11/site-packages/torch/optim/optimizer.py:33\u001b[0m, in \u001b[0;36m_use_grad_for_differentiable.<locals>._use_grad\u001b[0;34m(self, *args, **kwargs)\u001b[0m\n\u001b[1;32m     31\u001b[0m \u001b[39mtry\u001b[39;00m:\n\u001b[1;32m     32\u001b[0m     torch\u001b[39m.\u001b[39mset_grad_enabled(\u001b[39mself\u001b[39m\u001b[39m.\u001b[39mdefaults[\u001b[39m'\u001b[39m\u001b[39mdifferentiable\u001b[39m\u001b[39m'\u001b[39m])\n\u001b[0;32m---> 33\u001b[0m     ret \u001b[39m=\u001b[39m func(\u001b[39mself\u001b[39;49m, \u001b[39m*\u001b[39;49margs, \u001b[39m*\u001b[39;49m\u001b[39m*\u001b[39;49mkwargs)\n\u001b[1;32m     34\u001b[0m \u001b[39mfinally\u001b[39;00m:\n\u001b[1;32m     35\u001b[0m     torch\u001b[39m.\u001b[39mset_grad_enabled(prev_grad)\n",
            "File \u001b[0;32m~/opt/anaconda3/envs/dqn-mario/lib/python3.11/site-packages/torch/optim/adam.py:141\u001b[0m, in \u001b[0;36mAdam.step\u001b[0;34m(self, closure)\u001b[0m\n\u001b[1;32m    130\u001b[0m     beta1, beta2 \u001b[39m=\u001b[39m group[\u001b[39m'\u001b[39m\u001b[39mbetas\u001b[39m\u001b[39m'\u001b[39m]\n\u001b[1;32m    132\u001b[0m     \u001b[39mself\u001b[39m\u001b[39m.\u001b[39m_init_group(\n\u001b[1;32m    133\u001b[0m         group,\n\u001b[1;32m    134\u001b[0m         params_with_grad,\n\u001b[0;32m   (...)\u001b[0m\n\u001b[1;32m    138\u001b[0m         max_exp_avg_sqs,\n\u001b[1;32m    139\u001b[0m         state_steps)\n\u001b[0;32m--> 141\u001b[0m     adam(\n\u001b[1;32m    142\u001b[0m         params_with_grad,\n\u001b[1;32m    143\u001b[0m         grads,\n\u001b[1;32m    144\u001b[0m         exp_avgs,\n\u001b[1;32m    145\u001b[0m         exp_avg_sqs,\n\u001b[1;32m    146\u001b[0m         max_exp_avg_sqs,\n\u001b[1;32m    147\u001b[0m         state_steps,\n\u001b[1;32m    148\u001b[0m         amsgrad\u001b[39m=\u001b[39;49mgroup[\u001b[39m'\u001b[39;49m\u001b[39mamsgrad\u001b[39;49m\u001b[39m'\u001b[39;49m],\n\u001b[1;32m    149\u001b[0m         beta1\u001b[39m=\u001b[39;49mbeta1,\n\u001b[1;32m    150\u001b[0m         beta2\u001b[39m=\u001b[39;49mbeta2,\n\u001b[1;32m    151\u001b[0m         lr\u001b[39m=\u001b[39;49mgroup[\u001b[39m'\u001b[39;49m\u001b[39mlr\u001b[39;49m\u001b[39m'\u001b[39;49m],\n\u001b[1;32m    152\u001b[0m         weight_decay\u001b[39m=\u001b[39;49mgroup[\u001b[39m'\u001b[39;49m\u001b[39mweight_decay\u001b[39;49m\u001b[39m'\u001b[39;49m],\n\u001b[1;32m    153\u001b[0m         eps\u001b[39m=\u001b[39;49mgroup[\u001b[39m'\u001b[39;49m\u001b[39meps\u001b[39;49m\u001b[39m'\u001b[39;49m],\n\u001b[1;32m    154\u001b[0m         maximize\u001b[39m=\u001b[39;49mgroup[\u001b[39m'\u001b[39;49m\u001b[39mmaximize\u001b[39;49m\u001b[39m'\u001b[39;49m],\n\u001b[1;32m    155\u001b[0m         foreach\u001b[39m=\u001b[39;49mgroup[\u001b[39m'\u001b[39;49m\u001b[39mforeach\u001b[39;49m\u001b[39m'\u001b[39;49m],\n\u001b[1;32m    156\u001b[0m         capturable\u001b[39m=\u001b[39;49mgroup[\u001b[39m'\u001b[39;49m\u001b[39mcapturable\u001b[39;49m\u001b[39m'\u001b[39;49m],\n\u001b[1;32m    157\u001b[0m         differentiable\u001b[39m=\u001b[39;49mgroup[\u001b[39m'\u001b[39;49m\u001b[39mdifferentiable\u001b[39;49m\u001b[39m'\u001b[39;49m],\n\u001b[1;32m    158\u001b[0m         fused\u001b[39m=\u001b[39;49mgroup[\u001b[39m'\u001b[39;49m\u001b[39mfused\u001b[39;49m\u001b[39m'\u001b[39;49m],\n\u001b[1;32m    159\u001b[0m         grad_scale\u001b[39m=\u001b[39;49m\u001b[39mgetattr\u001b[39;49m(\u001b[39mself\u001b[39;49m, \u001b[39m\"\u001b[39;49m\u001b[39mgrad_scale\u001b[39;49m\u001b[39m\"\u001b[39;49m, \u001b[39mNone\u001b[39;49;00m),\n\u001b[1;32m    160\u001b[0m         found_inf\u001b[39m=\u001b[39;49m\u001b[39mgetattr\u001b[39;49m(\u001b[39mself\u001b[39;49m, \u001b[39m\"\u001b[39;49m\u001b[39mfound_inf\u001b[39;49m\u001b[39m\"\u001b[39;49m, \u001b[39mNone\u001b[39;49;00m),\n\u001b[1;32m    161\u001b[0m     )\n\u001b[1;32m    163\u001b[0m \u001b[39mreturn\u001b[39;00m loss\n",
            "File \u001b[0;32m~/opt/anaconda3/envs/dqn-mario/lib/python3.11/site-packages/torch/optim/adam.py:281\u001b[0m, in \u001b[0;36madam\u001b[0;34m(params, grads, exp_avgs, exp_avg_sqs, max_exp_avg_sqs, state_steps, foreach, capturable, differentiable, fused, grad_scale, found_inf, amsgrad, beta1, beta2, lr, weight_decay, eps, maximize)\u001b[0m\n\u001b[1;32m    278\u001b[0m \u001b[39melse\u001b[39;00m:\n\u001b[1;32m    279\u001b[0m     func \u001b[39m=\u001b[39m _single_tensor_adam\n\u001b[0;32m--> 281\u001b[0m func(params,\n\u001b[1;32m    282\u001b[0m      grads,\n\u001b[1;32m    283\u001b[0m      exp_avgs,\n\u001b[1;32m    284\u001b[0m      exp_avg_sqs,\n\u001b[1;32m    285\u001b[0m      max_exp_avg_sqs,\n\u001b[1;32m    286\u001b[0m      state_steps,\n\u001b[1;32m    287\u001b[0m      amsgrad\u001b[39m=\u001b[39;49mamsgrad,\n\u001b[1;32m    288\u001b[0m      beta1\u001b[39m=\u001b[39;49mbeta1,\n\u001b[1;32m    289\u001b[0m      beta2\u001b[39m=\u001b[39;49mbeta2,\n\u001b[1;32m    290\u001b[0m      lr\u001b[39m=\u001b[39;49mlr,\n\u001b[1;32m    291\u001b[0m      weight_decay\u001b[39m=\u001b[39;49mweight_decay,\n\u001b[1;32m    292\u001b[0m      eps\u001b[39m=\u001b[39;49meps,\n\u001b[1;32m    293\u001b[0m      maximize\u001b[39m=\u001b[39;49mmaximize,\n\u001b[1;32m    294\u001b[0m      capturable\u001b[39m=\u001b[39;49mcapturable,\n\u001b[1;32m    295\u001b[0m      differentiable\u001b[39m=\u001b[39;49mdifferentiable,\n\u001b[1;32m    296\u001b[0m      grad_scale\u001b[39m=\u001b[39;49mgrad_scale,\n\u001b[1;32m    297\u001b[0m      found_inf\u001b[39m=\u001b[39;49mfound_inf)\n",
            "File \u001b[0;32m~/opt/anaconda3/envs/dqn-mario/lib/python3.11/site-packages/torch/optim/adam.py:391\u001b[0m, in \u001b[0;36m_single_tensor_adam\u001b[0;34m(params, grads, exp_avgs, exp_avg_sqs, max_exp_avg_sqs, state_steps, grad_scale, found_inf, amsgrad, beta1, beta2, lr, weight_decay, eps, maximize, capturable, differentiable)\u001b[0m\n\u001b[1;32m    389\u001b[0m     denom \u001b[39m=\u001b[39m (max_exp_avg_sqs[i]\u001b[39m.\u001b[39msqrt() \u001b[39m/\u001b[39m bias_correction2_sqrt)\u001b[39m.\u001b[39madd_(eps)\n\u001b[1;32m    390\u001b[0m \u001b[39melse\u001b[39;00m:\n\u001b[0;32m--> 391\u001b[0m     denom \u001b[39m=\u001b[39m (exp_avg_sq\u001b[39m.\u001b[39;49msqrt() \u001b[39m/\u001b[39m bias_correction2_sqrt)\u001b[39m.\u001b[39madd_(eps)\n\u001b[1;32m    393\u001b[0m param\u001b[39m.\u001b[39maddcdiv_(exp_avg, denom, value\u001b[39m=\u001b[39m\u001b[39m-\u001b[39mstep_size)\n",
            "\u001b[0;31mKeyboardInterrupt\u001b[0m: "
          ]
        }
      ],
      "source": [
        "train(\n",
        "    logging=True, log_init=True, wandb_proj='Mario-PPO', run_name='no_bells',\n",
        "    checkpoint_dir = './checkpoints/no_bells', pretrained_path=None,\n",
        "    num_games = 10000, avg_over = 100, save_every = 100,\n",
        "    buffer_size = 512,\n",
        "    batch_size = 16,\n",
        "    epochs = 10,\n",
        "    lr = 1e-4,\n",
        "    scheduler_gamma = None,\n",
        "    discount = .9,\n",
        "    gae_lambda = 1.0,\n",
        "    policy_clip = 0.2,\n",
        "    norm_advantage = True,\n",
        "    entropy_coeff = 0.01,\n",
        "    critic_coeff = 0.5,\n",
        "    max_grad_norm = 0.5,\n",
        "    early_stop_kl = 0.01,\n",
        "    embed = 512,\n",
        ")"
      ]
    },
    {
      "cell_type": "code",
      "execution_count": null,
      "metadata": {},
      "outputs": [],
      "source": [
        "# train(\n",
        "#     logging=True, log_init=True, wandb_proj='Mario-PPO', run_name='no_bells',\n",
        "#     checkpoint_dir = './checkpoints/no_bells', pretrained_path=None,\n",
        "#     num_games = 10000, avg_over = 100, save_every = 100,\n",
        "#     buffer_size = 512,\n",
        "#     batch_size = 16,\n",
        "#     epochs = 10,\n",
        "#     lr = 1e-4,\n",
        "#     scheduler_gamma = None,\n",
        "#     discount = .9,\n",
        "#     gae_lambda = 1.0,\n",
        "#     policy_clip = 0.2,\n",
        "#     norm_advantage = False,\n",
        "#     entropy_coeff = None,\n",
        "#     critic_coeff = 0.5,\n",
        "#     max_grad_norm = None,\n",
        "#     early_stop_kl = None,\n",
        "#     embed = 512,\n",
        "# )"
      ]
    },
    {
      "cell_type": "code",
      "execution_count": null,
      "metadata": {},
      "outputs": [],
      "source": [
        "# import wandb\n",
        "# wandb.finish()"
      ]
    },
    {
      "cell_type": "code",
      "execution_count": null,
      "metadata": {
        "id": "-D7suegWppv4"
      },
      "outputs": [],
      "source": [
        "# for lr in [5e-6, 1e-5, 5e-5, 1e-4, 5e-4, 1e-4]:\n",
        "#     train(logging=True, log_init=True, lr=lr, wandb_proj='Mario-PPO', num_games=100, avg_over=100)"
      ]
    },
    {
      "attachments": {},
      "cell_type": "markdown",
      "metadata": {
        "id": "fwZRdwmKppv5"
      },
      "source": [
        "## Let's Watch Our Bot Play!"
      ]
    },
    {
      "cell_type": "code",
      "execution_count": null,
      "metadata": {
        "id": "XIaLmkKmppv4"
      },
      "outputs": [],
      "source": [
        "# def run_level(pretrained_path=None):\n",
        "#     with torch.no_grad():\n",
        "#         frames = []\n",
        "        \n",
        "#         env = preprocessed_env()\n",
        "\n",
        "#         agent = DQNAgent(\n",
        "#             state_space=env.observation_space.shape,\n",
        "#             action_space=env.action_space.n,\n",
        "#             max_memory_size=30000,\n",
        "#             batch_size=32,\n",
        "#             gamma=0.90,\n",
        "#             lr=0.00025,\n",
        "#             exploration_max=1.0,\n",
        "#             exploration_min=0.02,\n",
        "#             exploration_decay=0.99,\n",
        "#             have_mem=False\n",
        "#         )\n",
        "\n",
        "#         if pretrained_path != None:\n",
        "#             agent.load(pretrained_path)\n",
        "\n",
        "#         agent.local_net.eval()\n",
        "\n",
        "#         env.reset()\n",
        "\n",
        "#         state, _ = env.reset()\n",
        "#         state = torch.Tensor([state])\n",
        "#         total_reward = 0\n",
        "#         steps = 0\n",
        "\n",
        "#         total_reward = 0\n",
        "#         while True:\n",
        "#             action = agent.act(state)\n",
        "#             steps += 1\n",
        "\n",
        "#             next_state, reward, terminal, truncated, info = env.step(int(action[0]))\n",
        "\n",
        "#             total_reward += reward\n",
        "\n",
        "#             state = torch.Tensor([next_state])\n",
        "            \n",
        "#             for x in env.render():\n",
        "#                 frames.append(x.copy())\n",
        "\n",
        "#             if terminal:\n",
        "#                 break\n",
        "\n",
        "#         env.close()\n",
        "        \n",
        "#         return frames"
      ]
    },
    {
      "cell_type": "code",
      "execution_count": null,
      "metadata": {
        "colab": {
          "base_uri": "https://localhost:8080/"
        },
        "id": "E8SlNcbpppv5",
        "outputId": "3a7139c3-df5d-42d8-a4ac-57b8a286efa5"
      },
      "outputs": [],
      "source": [
        "# frames = run_level(pretrained_path='./acm_ai_ddqn_checkpoint.pt')"
      ]
    },
    {
      "attachments": {},
      "cell_type": "markdown",
      "metadata": {
        "id": "alX-AQ6Tppv5"
      },
      "source": [
        "Let's watch our DDQN play Mario! Note that it might still lose sometimes..."
      ]
    },
    {
      "cell_type": "code",
      "execution_count": null,
      "metadata": {
        "colab": {
          "base_uri": "https://localhost:8080/",
          "height": 414
        },
        "id": "hDdVp210ppv5",
        "outputId": "d10045db-6f16-4c03-8d0b-117d0ab6e57a"
      },
      "outputs": [],
      "source": [
        "# display_vid(frames, fps=60)"
      ]
    }
  ],
  "metadata": {
    "accelerator": "GPU",
    "colab": {
      "gpuType": "T4",
      "provenance": []
    },
    "kernelspec": {
      "display_name": "Python 3 (ipykernel)",
      "language": "python",
      "name": "python3"
    },
    "language_info": {
      "codemirror_mode": {
        "name": "ipython",
        "version": 3
      },
      "file_extension": ".py",
      "mimetype": "text/x-python",
      "name": "python",
      "nbconvert_exporter": "python",
      "pygments_lexer": "ipython3",
      "version": "3.11.3"
    }
  },
  "nbformat": 4,
  "nbformat_minor": 0
}
