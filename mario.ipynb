{
  "cells": [
    {
      "attachments": {},
      "cell_type": "markdown",
      "metadata": {
        "id": "Vsu3DASF9oOZ"
      },
      "source": [
        "# DDQN to Beat Mario"
      ]
    },
    {
      "attachments": {},
      "cell_type": "markdown",
      "metadata": {
        "id": "TmJC6m4o-bg3"
      },
      "source": [
        "## Background\n",
        "\n",
        "In 2013, DeepMind made the Deep Q Network to play Atari Games (https://arxiv.org/pdf/1312.5602.pdf). This DQN was able to learn to play simple Atari games at human level, kickstarting the past decade of DeepRL research.\n",
        "\n",
        "In 2015, DeepMind published another paper which played even more Atari Games (https://storage.googleapis.com/deepmind-media/dqn/DQNNaturePaper.pdf). This new model included a target network to reduce Q-value overestimation in the previous DQN model. This model is sometimes called DDQNs, and it's what we'll implement here to beat Mario!"
      ]
    },
    {
      "attachments": {},
      "cell_type": "markdown",
      "metadata": {
        "id": "zmmHHVWJ91H5"
      },
      "source": [
        "## Setup and Some Exploration"
      ]
    },
    {
      "attachments": {},
      "cell_type": "markdown",
      "metadata": {
        "id": "EK8eCfnF-Hpu"
      },
      "source": [
        "First, we install gymnasium and the Mario Env.\n",
        "\n",
        "The Mario env can be found here: https://pypi.org/project/gym-super-mario-bros/"
      ]
    },
    {
      "cell_type": "code",
      "execution_count": 1,
      "metadata": {
        "colab": {
          "base_uri": "https://localhost:8080/"
        },
        "id": "97LB2zyA90n1",
        "outputId": "ace16065-3afb-4b63-a812-3412c3c88422"
      },
      "outputs": [],
      "source": [
        "# uncomment if using colab; if running locally it's recommended to install via conda\n",
        "# !pip uninstall -y gym\n",
        "# !pip install gymnasium\n",
        "# !pip install gym_super_mario_bros==7.3.0\n",
        "# !pip install wandb"
      ]
    },
    {
      "attachments": {},
      "cell_type": "markdown",
      "metadata": {
        "id": "AoJma_vthJhe"
      },
      "source": [
        "Before we transform the env with wrappers and make our agent, let's take a look at the environment as-is. Below we take some random actions and generate a video"
      ]
    },
    {
      "cell_type": "code",
      "execution_count": 2,
      "metadata": {
        "id": "5PeKvTbRImQ_"
      },
      "outputs": [],
      "source": [
        "import gymnasium as gym\n",
        "from gym.wrappers import RecordVideo\n",
        "\n",
        "from nes_py.wrappers import JoypadSpace\n",
        "import gym_super_mario_bros\n",
        "from gym_super_mario_bros.actions import SIMPLE_MOVEMENT\n",
        "\n",
        "import numpy as np\n",
        "\n",
        "import warnings\n",
        "warnings.filterwarnings('ignore')\n",
        "\n",
        "env = gym_super_mario_bros.make(\"SuperMarioBros-1-1-v0\", apply_api_compatibility=True, render_mode='rgb_array')\n",
        "env = JoypadSpace(env, SIMPLE_MOVEMENT)\n",
        "\n",
        "def run_test(env, num_steps=50):\n",
        "    frames = []\n",
        "    out = env.reset()\n",
        "    for _ in range(num_steps):\n",
        "        next_state, reward, done, truncated, info = env.step(action=env.action_space.sample())\n",
        "        frames.append(np.copy(env.render()))\n",
        "    return frames\n",
        "\n",
        "frames = run_test(env)"
      ]
    },
    {
      "cell_type": "code",
      "execution_count": 3,
      "metadata": {
        "colab": {
          "base_uri": "https://localhost:8080/"
        },
        "id": "ZAeHNXeZp_4K",
        "outputId": "128bac45-414d-44ff-987c-5d61ab3f1725"
      },
      "outputs": [
        {
          "name": "stdout",
          "output_type": "stream",
          "text": [
            "(240, 256, 3)\n"
          ]
        }
      ],
      "source": [
        "print(frames[-1].shape)"
      ]
    },
    {
      "attachments": {},
      "cell_type": "markdown",
      "metadata": {
        "id": "rmdoA8i-hejy"
      },
      "source": [
        "We can reuse the following code to see what our bot does later on:"
      ]
    },
    {
      "cell_type": "code",
      "execution_count": 4,
      "metadata": {
        "id": "mM80quT3QU6r"
      },
      "outputs": [],
      "source": [
        "from IPython.display import HTML\n",
        "from base64 import b64encode\n",
        "import numpy as np\n",
        "import os\n",
        "import cv2\n",
        "from tqdm import tqdm\n",
        "\n",
        "def display_vid(frames, vid_name='./video.mp4', compressed_name='./compressed.mp4', fps=30):\n",
        "\n",
        "    if os.path.isfile(vid_name):\n",
        "      !rm video.mp4\n",
        "    if os.path.isfile(compressed_name):\n",
        "      !rm compressed.mp4\n",
        "\n",
        "    h, w, c = frames[-1].shape\n",
        "    out = cv2.VideoWriter(vid_name, cv2.VideoWriter_fourcc(*'VP90'), fps, (w, h))\n",
        "    for frame in tqdm(frames):\n",
        "        img = cv2.cvtColor(frame, cv2.COLOR_BGR2RGB)\n",
        "        out.write(img)\n",
        "    out.release()\n",
        "\n",
        "    mp4 = open(vid_name,'rb').read()\n",
        "    data_url = \"data:video/mp4;base64,\" + b64encode(mp4).decode()\n",
        "    return HTML(\"\"\"\n",
        "    <video width=400 controls>\n",
        "          <source src=\"%s\" type=\"video/mp4\">\n",
        "    </video>\n",
        "    \"\"\" % data_url)"
      ]
    },
    {
      "cell_type": "code",
      "execution_count": 5,
      "metadata": {
        "colab": {
          "base_uri": "https://localhost:8080/",
          "height": 414
        },
        "id": "FIJF-g33QpHx",
        "outputId": "89d1c426-82fb-4605-da9e-3162e93329f7"
      },
      "outputs": [
        {
          "name": "stderr",
          "output_type": "stream",
          "text": [
            "'rm' is not recognized as an internal or external command,\n",
            "operable program or batch file.\n",
            "100%|██████████| 50/50 [00:00<00:00, 318.38it/s]\n"
          ]
        },
        {
          "data": {
            "text/html": [
              "\n",
              "    <video width=400 controls>\n",
              "          <source src=\"data:video/mp4;base64,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\" type=\"video/mp4\">\n",
              "    </video>\n",
              "    "
            ],
            "text/plain": [
              "<IPython.core.display.HTML object>"
            ]
          },
          "execution_count": 5,
          "metadata": {},
          "output_type": "execute_result"
        }
      ],
      "source": [
        "display_vid(frames)"
      ]
    },
    {
      "attachments": {},
      "cell_type": "markdown",
      "metadata": {
        "id": "BNLa9SFHipWS"
      },
      "source": [
        "## Preprocessing Environment"
      ]
    },
    {
      "attachments": {},
      "cell_type": "markdown",
      "metadata": {
        "id": "K2mJZj2Eluj2"
      },
      "source": [
        "The DeepMind papers for Atari games transforms the environments to make it easier for the DQN/DDQN to learn. In particular,\n",
        "\n",
        "1. Use only every 4th frame\n",
        "2. Grayscale each image, downscale to 110x84, then crop appropriately to remove unnecesssary info\n",
        "3. Pass a stack of 4 frames so that the model can see trajectory (falling and jumping are different contexts, but may lead to the same observation).\n",
        "\n",
        "\n",
        "We will implement some of these simplifying transformations using Gymnasium's `gym.Wrapper`. Wrapper code is altered from https://blog.paperspace.com/building-double-deep-q-network-super-mario-bros/."
      ]
    },
    {
      "cell_type": "code",
      "execution_count": 6,
      "metadata": {
        "id": "xkegIeYhm-eD"
      },
      "outputs": [],
      "source": [
        "import collections\n",
        "import cv2\n",
        "\n",
        "class MaxAndSkipEnv(gym.Wrapper):\n",
        "    def __init__(self, env=None, skip=4):\n",
        "        super(MaxAndSkipEnv, self).__init__(env)\n",
        "        self._obs_buffer = collections.deque(maxlen=2)\n",
        "        self._replay_buffer = collections.deque(maxlen=4)\n",
        "        self._skip = skip\n",
        "\n",
        "    def step(self, action):\n",
        "        total_reward = 0.0\n",
        "        done = None\n",
        "        for _ in range(self._skip):\n",
        "            obs, reward, done, truncated, info = self.env.step(action)\n",
        "            self._obs_buffer.append(obs)\n",
        "            self._replay_buffer.append(obs.copy())\n",
        "            total_reward += reward\n",
        "            if done:\n",
        "                break\n",
        "        max_frame = np.max(np.stack(self._obs_buffer), axis=0)\n",
        "        return max_frame, total_reward, done, truncated, info\n",
        "\n",
        "    def render(self, mode='rgb_array'):\n",
        "        if mode == 'rgb_array':\n",
        "            return self._replay_buffer\n",
        "        \n",
        "        return self.env.render(mode=mode)\n",
        "\n",
        "    def reset(self, **kwargs):\n",
        "        self._obs_buffer.clear()\n",
        "        obs = self.env.reset()\n",
        "        self._obs_buffer.append(obs)\n",
        "        return obs\n",
        "\n",
        "\n",
        "class ProcessFrame84(gym.ObservationWrapper):\n",
        "    def __init__(self, env=None):\n",
        "        super(ProcessFrame84, self).__init__(env)\n",
        "        self.observation_space = gym.spaces.Box(low=0, high=255, shape=(84, 84, 1), dtype=np.uint8)\n",
        "\n",
        "    def observation(self, observation):\n",
        "        return ProcessFrame84.process(observation)\n",
        "\n",
        "    @staticmethod\n",
        "    def process(frame):\n",
        "        assert frame.size == 240 * 256 * 3, \"Unknown resolution.\"\n",
        "\n",
        "        img = np.reshape(frame, [240, 256, 3]).astype(np.float32)\n",
        "        img = img[:, :, 0] * 0.299 + img[:, :, 1] * 0.587 + img[:, :, 2] * 0.114\n",
        "        resized_screen = cv2.resize(img, (84, 110), interpolation=cv2.INTER_AREA)\n",
        "        x_t = resized_screen[18:102, :]\n",
        "        x_t = np.reshape(x_t, [84, 84, 1])\n",
        "        return x_t.astype(np.uint8)\n",
        "\n",
        "\n",
        "class TransposeObs(gym.ObservationWrapper):\n",
        "    def __init__(self, env):\n",
        "        super(TransposeObs, self).__init__(env)\n",
        "        w, h, n = self.observation_space.shape\n",
        "        self.observation_space = gym.spaces.Box(low=0.0, high=1.0, shape=(n, w, h), dtype=np.float32)\n",
        "\n",
        "    def observation(self, observation):\n",
        "        return np.moveaxis(observation, 2, 0)\n",
        "\n",
        "\n",
        "class ScaledFloatFrame(gym.ObservationWrapper):\n",
        "    def observation(self, observation):\n",
        "        return np.array(observation).astype(np.float32) / 255.0\n",
        "\n",
        "\n",
        "class BufferWrapper(gym.ObservationWrapper):\n",
        "    def __init__(self, env, n_steps, dtype=np.float32):\n",
        "        super(BufferWrapper, self).__init__(env)\n",
        "        self.dtype = dtype\n",
        "        old_space = env.observation_space\n",
        "        self.observation_space = gym.spaces.Box(old_space.low.repeat(n_steps, axis=0),\n",
        "                                                old_space.high.repeat(n_steps, axis=0), dtype=dtype)\n",
        "\n",
        "    def reset(self, **kwargs):\n",
        "        self.buffer = np.zeros_like(self.observation_space.low, dtype=self.dtype)\n",
        "        return self.observation(self.env.reset()), {}\n",
        "\n",
        "    def observation(self, observation):\n",
        "        self.buffer[:-1] = self.buffer[1:]\n",
        "        self.buffer[-1] = observation[0]\n",
        "        return self.buffer"
      ]
    },
    {
      "cell_type": "code",
      "execution_count": 7,
      "metadata": {
        "id": "7sWxQ2rAjFLX"
      },
      "outputs": [],
      "source": [
        "from gym.wrappers import FrameStack\n",
        "from nes_py.wrappers import JoypadSpace\n",
        "from gym_super_mario_bros.actions import RIGHT_ONLY\n",
        "\n",
        "def preprocessed_env(world=1, level=1):\n",
        "    env = gym_super_mario_bros.make(f'SuperMarioBros-{world}-{level}-v0', apply_api_compatibility=True, render_mode='rgb_array')\n",
        "    env = MaxAndSkipEnv(env)\n",
        "    env = ProcessFrame84(env)\n",
        "    env = TransposeObs(env)\n",
        "    env = BufferWrapper(env, 4)\n",
        "    env = ScaledFloatFrame(env)\n",
        "    # we will use complex movement for PPO instead of right only since it's a more advanced algo\n",
        "    return JoypadSpace(env, RIGHT_ONLY)"
      ]
    },
    {
      "cell_type": "code",
      "execution_count": 8,
      "metadata": {
        "colab": {
          "base_uri": "https://localhost:8080/"
        },
        "id": "v1Z7ud1a55kJ",
        "outputId": "c7fd887d-fdd7-4313-d20d-aad12765bc5d",
        "scrolled": true
      },
      "outputs": [
        {
          "name": "stdout",
          "output_type": "stream",
          "text": [
            "obs space (4, 84, 84)\n",
            "act space 5\n"
          ]
        }
      ],
      "source": [
        "env = preprocessed_env()\n",
        "print('obs space', env.observation_space.shape)\n",
        "print('act space', env.action_space.n)"
      ]
    },
    {
      "cell_type": "code",
      "execution_count": 9,
      "metadata": {
        "colab": {
          "base_uri": "https://localhost:8080/",
          "height": 451
        },
        "id": "MN2eDywqR7kC",
        "outputId": "89514658-51f5-469b-9fd4-0f3a8e14077e"
      },
      "outputs": [
        {
          "data": {
            "text/plain": [
              "<matplotlib.image.AxesImage at 0x219e8730650>"
            ]
          },
          "execution_count": 9,
          "metadata": {},
          "output_type": "execute_result"
        },
        {
          "data": {
            "image/png": "[encoded data removed]",
            "text/plain": [
              "<Figure size 640x480 with 1 Axes>"
            ]
          },
          "metadata": {},
          "output_type": "display_data"
        }
      ],
      "source": [
        "import matplotlib.pyplot as plt\n",
        "\n",
        "plt.imshow(env.reset()[0][-1], cmap='gray')"
      ]
    },
    {
      "attachments": {},
      "cell_type": "markdown",
      "metadata": {
        "id": "RT_tBITRA6Ty"
      },
      "source": [
        "We now have a preprocessed environment! We can proceed to working on our Agent."
      ]
    },
    {
      "attachments": {},
      "cell_type": "markdown",
      "metadata": {
        "id": "vCd3JjKZA_s9"
      },
      "source": [
        "## Training Convolutional PPO"
      ]
    },
    {
      "attachments": {},
      "cell_type": "markdown",
      "metadata": {
        "id": "q655hjwkBWHy"
      },
      "source": [
        "I will be adapting a previous PPO implementation I made (https://github.com/arth-shukla/ppo-gym-cartpole) to use convolutions to process the observations.\n",
        "\n",
        "I will use the same convolutions as in the original DeepMind papers, which I implemented for a DDQN (https://github.com/arth-shukla/ddqn-mario).\n",
        "\n",
        "1. Conv2d with 32 8x8 kernels, stride 4 + nonlinearlity (we will use ReLU)\n",
        "2. Conv2d with 64 4x4 kernels, stride 2 + nonlinearity\n",
        "3. Conv2d with 64 3x3 kernels, stride 1 + nonlinearity\n",
        "4. FC layer with 512 nodes + nonlinearity\n",
        "5. FC layer with # nodes equal to # actions\n",
        "6. Softmax &rarr; Categorical distr\n",
        "\n",
        "The implementation can be found in `ppo-conv.py`."
      ]
    },
    {
      "cell_type": "code",
      "execution_count": 10,
      "metadata": {},
      "outputs": [],
      "source": [
        "%load_ext autoreload\n",
        "%autoreload 2"
      ]
    },
    {
      "cell_type": "code",
      "execution_count": 11,
      "metadata": {
        "id": "Pln8Nen6ppv4"
      },
      "outputs": [],
      "source": [
        "from ppo.agent import PPOAgent\n",
        "from tqdm import tqdm\n",
        "import torch\n",
        "from pathlib import Path\n",
        "\n",
        "def train(\n",
        "        logging=True, log_init=True, wandb_proj='Mario-PPO', run_name=None,\n",
        "        checkpoint_dir = './checkpoints', pretrained_path=None,\n",
        "        num_games = 10000, avg_over = 100, save_every = 500,\n",
        "        buffer_size = 512,\n",
        "        batch_size = 16,\n",
        "        epochs = 10,\n",
        "        lr = 1e-4,\n",
        "        sch_end_f = None,\n",
        "        discount = 0.9,\n",
        "        gae_lambda = 1.0,\n",
        "        policy_clip = 0.2,\n",
        "        norm_advantage = False,\n",
        "        entropy_coeff = None,\n",
        "        critic_coeff = 0.5,\n",
        "        max_grad_norm = None,\n",
        "        early_stop_kl = None,\n",
        "        embed = 512,\n",
        "    ):\n",
        "    import wandb\n",
        "\n",
        "    if logging and log_init:\n",
        "        wandb.login()\n",
        "        wandb.init(project=wandb_proj, name=run_name, config=dict(\n",
        "            buffer_size = buffer_size,\n",
        "            batch_size = batch_size,\n",
        "            epochs = epochs,\n",
        "            lr = lr,\n",
        "            sch_end_f = sch_end_f,\n",
        "            discount = discount,\n",
        "            gae_lambda = gae_lambda,\n",
        "            policy_clip = policy_clip,\n",
        "            norm_advantage = norm_advantage,\n",
        "            entropy_coeff = entropy_coeff,\n",
        "            critic_coeff = critic_coeff,\n",
        "            max_grad_norm = max_grad_norm,\n",
        "            early_stop_kl = early_stop_kl,\n",
        "            embed = embed,\n",
        "        ))\n",
        "\n",
        "    env = preprocessed_env()\n",
        "\n",
        "    # create agent (note this is done in train because it needs hyperparams)\n",
        "    agent = PPOAgent(\n",
        "        obs_shape=env.observation_space.shape,\n",
        "        act_shape=env.action_space.shape,\n",
        "        act_n=env.action_space.n,\n",
        "        buffer_size = buffer_size,\n",
        "        batch_size = batch_size,\n",
        "        epochs = epochs,\n",
        "        lr = lr,\n",
        "        sch_end_f = sch_end_f,\n",
        "        discount = discount,\n",
        "        gae_lambda = gae_lambda,\n",
        "        policy_clip = policy_clip,\n",
        "        norm_advantage = norm_advantage,\n",
        "        entropy_coeff = entropy_coeff,\n",
        "        critic_coeff = critic_coeff,\n",
        "        max_grad_norm = max_grad_norm,\n",
        "        early_stop_kl = early_stop_kl,\n",
        "        embed = embed,\n",
        "    )\n",
        "    \n",
        "    # load model if pretrained\n",
        "    if pretrained_path != None:\n",
        "        agent.load(load_path=pretrained_path)\n",
        "    \n",
        "    # data tracking\n",
        "    score_hist = []\n",
        "    avg_score = 0\n",
        "    num_steps = 0\n",
        "\n",
        "    # if using kldiv early end, track with this var\n",
        "    early_end = False\n",
        "\n",
        "    # num_games is the number of games to play, where each game ends\n",
        "    # when the agent meets terminal conditions for the env\n",
        "    for ep_num in tqdm(range(num_games)):\n",
        "\n",
        "        obs = env.reset()[0].__array__()\n",
        "        done = False\n",
        "        score = 0\n",
        "        steps = 0\n",
        "\n",
        "        # run loop where model gathers data for \"learn_every\"\n",
        "        # steps then learns using that information\n",
        "        while not done:\n",
        "\n",
        "            # choose action (actor)\n",
        "            action, log_prob, val = agent.act(obs)\n",
        "\n",
        "            # get results of action\n",
        "            next_obs, reward, done, _, _ = env.step(action)\n",
        "\n",
        "            # save data to memory for experience learning\n",
        "            agent.cache(obs, action, log_prob, val, reward, done)\n",
        "\n",
        "            # when buffer full, learn and clear mem\n",
        "            if agent.mem_full():\n",
        "                learn_log_dict = agent.learn(next_obs.__array__())\n",
        "                agent.clear_mem()\n",
        "                if logging:\n",
        "                    learn_log_dict['step'] = num_steps\n",
        "                    wandb.log(learn_log_dict)\n",
        "                \n",
        "            # update obs and tracking vars\n",
        "            obs = next_obs.__array__()\n",
        "            score += reward\n",
        "            steps += 1\n",
        "            num_steps += 1\n",
        "\n",
        "        score_hist.append(score)\n",
        "        \n",
        "        if (ep_num % save_every == 0) or (ep_num == num_games - 1):\n",
        "            save_path = Path(checkpoint_dir) / Path(f'mario_ppo_{ep_num}.pt')\n",
        "            agent.save(save_path=save_path)\n",
        "    \n",
        "        if logging:\n",
        "            log_dict = {\n",
        "                'train/total_rewards': score,\n",
        "                'train/ep_len': steps,\n",
        "                'ep_num': ep_num,\n",
        "            }\n",
        "            if len(score_hist) > avg_over:\n",
        "                log_dict[f'train/avg_reward_last_{avg_over}'] = np.mean(score_hist[-avg_over:])\n",
        "            wandb.log(log_dict)\n",
        "\n",
        "    env.close()\n",
        "    wandb.finish()"
      ]
    },
    {
      "cell_type": "code",
      "execution_count": 12,
      "metadata": {},
      "outputs": [],
      "source": [
        "def fancy_feature_testing(\n",
        "    run_name='standard_run',\n",
        "    entropy_coeff = None,\n",
        "    early_stop_kl = None,\n",
        "    lr = 1e-4,\n",
        "    sch_end_f = None,\n",
        "    norm_advantage = False,\n",
        "    max_grad_norm = None\n",
        "):\n",
        "    checkpoint_dir = f'./checkpoints/{run_name}'\n",
        "    NUM_GAMES = 1500\n",
        "    if not os.path.exists(checkpoint_dir):\n",
        "        os.makedirs(checkpoint_dir)\n",
        "    train(\n",
        "        logging=True, log_init=True, wandb_proj='Mario-PPO', run_name=run_name,\n",
        "        checkpoint_dir = checkpoint_dir, pretrained_path=None,\n",
        "        num_games = NUM_GAMES, avg_over = 100, save_every = 100,\n",
        "        buffer_size = 512,\n",
        "        batch_size = 16,\n",
        "        epochs = 10,\n",
        "        lr = lr,\n",
        "        discount = 0.9,\n",
        "        gae_lambda = 1.0,\n",
        "        policy_clip = 0.2,\n",
        "        critic_coeff = 0.5,\n",
        "        embed = 512,\n",
        "\n",
        "        entropy_coeff = entropy_coeff,\n",
        "        early_stop_kl = early_stop_kl,\n",
        "        sch_end_f = sch_end_f,\n",
        "        norm_advantage = norm_advantage,\n",
        "        max_grad_norm = max_grad_norm\n",
        "    )"
      ]
    },
    {
      "cell_type": "code",
      "execution_count": 13,
      "metadata": {},
      "outputs": [],
      "source": [
        "# entropy_coeff = None,   # 0.01\n",
        "# early_stop_kl = None,   # 0.01\n",
        "# sch_end_f = None  # 0.9\n",
        "# norm_advantage = False, # True\n",
        "# max_grad_norm = None,  # 0.5\n",
        "# ['standard_run', 'entropy', 'ent_earlystopkl', 'ent_early_scheduler', 'ent_early_sch_norms']"
      ]
    },
    {
      "cell_type": "code",
      "execution_count": 14,
      "metadata": {},
      "outputs": [],
      "source": [
        "# fancy_feature_testing(run_name='entropy', entropy_coeff=0.01)"
      ]
    },
    {
      "cell_type": "code",
      "execution_count": 15,
      "metadata": {},
      "outputs": [],
      "source": [
        "# fancy_feature_testing(run_name='ent_earlystopkl', entropy_coeff=0.01, early_stop_kl=0.01)"
      ]
    },
    {
      "cell_type": "code",
      "execution_count": 16,
      "metadata": {},
      "outputs": [],
      "source": [
        "# fancy_feature_testing(run_name='ent_early_norms', entropy_coeff=0.01, early_stop_kl=0.01, norm_advantage=True, max_grad_norm=0.5)"
      ]
    },
    {
      "cell_type": "code",
      "execution_count": 17,
      "metadata": {},
      "outputs": [],
      "source": [
        "# fancy_feature_testing(run_name='ent_early_scheduler', entropy_coeff=0.01, early_stop_kl=0.01, norm_advantage=True, max_grad_norm=0.5, sch_end_f=0.34)"
      ]
    },
    {
      "cell_type": "code",
      "execution_count": 18,
      "metadata": {},
      "outputs": [],
      "source": [
        "# fancy_feature_testing(run_name='standard_run')"
      ]
    },
    {
      "cell_type": "code",
      "execution_count": 19,
      "metadata": {},
      "outputs": [],
      "source": [
        "# fancy_feature_testing(run_name='earlystopkl', early_stop_kl=0.1)"
      ]
    },
    {
      "cell_type": "code",
      "execution_count": 20,
      "metadata": {},
      "outputs": [
        {
          "name": "stderr",
          "output_type": "stream",
          "text": [
            "Failed to detect the name of this notebook, you can set it manually with the WANDB_NOTEBOOK_NAME environment variable to enable code saving.\n",
            "\u001b[34m\u001b[1mwandb\u001b[0m: Currently logged in as: \u001b[33marth-shukla\u001b[0m. Use \u001b[1m`wandb login --relogin`\u001b[0m to force relogin\n"
          ]
        },
        {
          "data": {
            "text/html": [
              "Tracking run with wandb version 0.15.3"
            ],
            "text/plain": [
              "<IPython.core.display.HTML object>"
            ]
          },
          "metadata": {},
          "output_type": "display_data"
        },
        {
          "data": {
            "text/html": [
              "Run data is saved locally in <code>c:\\Users\\arths\\Documents\\GitHub\\ppo-mario\\wandb\\run-20230605_180931-h27ix063</code>"
            ],
            "text/plain": [
              "<IPython.core.display.HTML object>"
            ]
          },
          "metadata": {},
          "output_type": "display_data"
        },
        {
          "data": {
            "text/html": [
              "Syncing run <strong><a href='https://wandb.ai/arth-shukla/Mario-PPO/runs/h27ix063' target=\"_blank\">scheduler</a></strong> to <a href='https://wandb.ai/arth-shukla/Mario-PPO' target=\"_blank\">Weights & Biases</a> (<a href='https://wandb.me/run' target=\"_blank\">docs</a>)<br/>"
            ],
            "text/plain": [
              "<IPython.core.display.HTML object>"
            ]
          },
          "metadata": {},
          "output_type": "display_data"
        },
        {
          "data": {
            "text/html": [
              " View project at <a href='https://wandb.ai/arth-shukla/Mario-PPO' target=\"_blank\">https://wandb.ai/arth-shukla/Mario-PPO</a>"
            ],
            "text/plain": [
              "<IPython.core.display.HTML object>"
            ]
          },
          "metadata": {},
          "output_type": "display_data"
        },
        {
          "data": {
            "text/html": [
              " View run at <a href='https://wandb.ai/arth-shukla/Mario-PPO/runs/h27ix063' target=\"_blank\">https://wandb.ai/arth-shukla/Mario-PPO/runs/h27ix063</a>"
            ],
            "text/plain": [
              "<IPython.core.display.HTML object>"
            ]
          },
          "metadata": {},
          "output_type": "display_data"
        },
        {
          "name": "stderr",
          "output_type": "stream",
          "text": [
            "100%|██████████| 1500/1500 [1:19:37<00:00,  3.18s/it]\n"
          ]
        },
        {
          "data": {
            "text/html": [
              "Waiting for W&B process to finish... <strong style=\"color:green\">(success).</strong>"
            ],
            "text/plain": [
              "<IPython.core.display.HTML object>"
            ]
          },
          "metadata": {},
          "output_type": "display_data"
        },
        {
          "data": {
            "text/html": [
              "<style>\n",
              "    table.wandb td:nth-child(1) { padding: 0 10px; text-align: left ; width: auto;} td:nth-child(2) {text-align: left ; width: 100%}\n",
              "    .wandb-row { display: flex; flex-direction: row; flex-wrap: wrap; justify-content: flex-start; width: 100% }\n",
              "    .wandb-col { display: flex; flex-direction: column; flex-basis: 100%; flex: 1; padding: 10px; }\n",
              "    </style>\n",
              "<div class=\"wandb-row\"><div class=\"wandb-col\"><h3>Run history:</h3><br/><table class=\"wandb\"><tr><td>charts/actor_learning_rate</td><td>███▇▇▇▇▇▇▆▆▆▆▆▆▅▅▅▅▅▄▄▄▄▄▄▃▃▃▃▃▃▂▂▂▂▂▁▁▁</td></tr><tr><td>charts/critic_learning_rate</td><td>███▇▇▇▇▇▇▆▆▆▆▆▆▅▅▅▅▅▄▄▄▄▄▄▃▃▃▃▃▃▂▂▂▂▂▁▁▁</td></tr><tr><td>ep_num</td><td>▁▁▁▂▂▂▂▂▂▃▃▃▃▃▄▄▄▄▄▄▅▅▅▅▅▅▆▆▆▆▆▇▇▇▇▇▇███</td></tr><tr><td>losses/actor_loss</td><td>▁▄▅▅▆▃▃▁▇▄▃▆▄█▄▂▅▅▄▂▄▃▄▆▅▄▅▅▃▄▄▅▃▅▆▄▅▇▃▃</td></tr><tr><td>losses/approx_kl</td><td>▁▁▁▁▁▁▁▁▁▄▁▁▁▁▄▁▇▁█▁▂▁▁▁▁▁▁▁▆▁▁▁▁▁▁▁▁▁▁▁</td></tr><tr><td>losses/critic_loss</td><td>▅▄▆▆▇▆▆▇█▂▆█▇▆▅▂▄▃▇█▄▇▅█▇▅▅▆█▇▇▆▅▄▅▁▄▇▄▇</td></tr><tr><td>losses/entropy</td><td>█▆▃▅▃▂▂▃▅▁▄▆▅▇▃▁▂▃▃▄▂▆▆▆▄▃▄▄▃▃▃▅▂▃▅▁▁▅▂▂</td></tr><tr><td>step</td><td>▁▁▁▂▂▂▂▂▂▃▃▃▃▃▃▄▄▄▄▄▅▅▅▅▅▅▆▆▆▆▆▆▇▇▇▇▇███</td></tr><tr><td>train/avg_reward_last_100</td><td>▆▇██▇█▆▃▁▂▅▇▇▇▇█▇▇▇███▇████████▆▅▃▃▃▃▄▅▇</td></tr><tr><td>train/ep_len</td><td>▂▂▂▃▃▂▂▅▁▁▁▃▂▂▃▂▂▃▃▂▄█▅▃▂▂▃▂▂▃▅▁▁▁▁▁▁▂▁▂</td></tr><tr><td>train/total_rewards</td><td>▄▃▄▆▆▆▆▆▁▁▁▆▆▄▆▅▅▆▃▄▆▆▆▆▃▃▆▆▃▆█▃▃▃▃▃▃▆▃▃</td></tr></table><br/></div><div class=\"wandb-col\"><h3>Run summary:</h3><br/><table class=\"wandb\"><tr><td>charts/actor_learning_rate</td><td>6e-05</td></tr><tr><td>charts/critic_learning_rate</td><td>6e-05</td></tr><tr><td>ep_num</td><td>1499</td></tr><tr><td>losses/actor_loss</td><td>-25.73838</td></tr><tr><td>losses/approx_kl</td><td>0.01581</td></tr><tr><td>losses/critic_loss</td><td>1483.09298</td></tr><tr><td>losses/entropy</td><td>0.1623</td></tr><tr><td>step</td><td>272895</td></tr><tr><td>train/avg_reward_last_100</td><td>1087.08</td></tr><tr><td>train/ep_len</td><td>241</td></tr><tr><td>train/total_rewards</td><td>1418.0</td></tr></table><br/></div></div>"
            ],
            "text/plain": [
              "<IPython.core.display.HTML object>"
            ]
          },
          "metadata": {},
          "output_type": "display_data"
        },
        {
          "data": {
            "text/html": [
              " View run <strong style=\"color:#cdcd00\">scheduler</strong> at: <a href='https://wandb.ai/arth-shukla/Mario-PPO/runs/h27ix063' target=\"_blank\">https://wandb.ai/arth-shukla/Mario-PPO/runs/h27ix063</a><br/>Synced 6 W&B file(s), 0 media file(s), 0 artifact file(s) and 0 other file(s)"
            ],
            "text/plain": [
              "<IPython.core.display.HTML object>"
            ]
          },
          "metadata": {},
          "output_type": "display_data"
        },
        {
          "data": {
            "text/html": [
              "Find logs at: <code>.\\wandb\\run-20230605_180931-h27ix063\\logs</code>"
            ],
            "text/plain": [
              "<IPython.core.display.HTML object>"
            ]
          },
          "metadata": {},
          "output_type": "display_data"
        }
      ],
      "source": [
        "fancy_feature_testing(run_name='scheduler', sch_end_f=0.34)"
      ]
    },
    {
      "cell_type": "code",
      "execution_count": 21,
      "metadata": {},
      "outputs": [
        {
          "data": {
            "text/html": [
              "Tracking run with wandb version 0.15.3"
            ],
            "text/plain": [
              "<IPython.core.display.HTML object>"
            ]
          },
          "metadata": {},
          "output_type": "display_data"
        },
        {
          "data": {
            "text/html": [
              "Run data is saved locally in <code>c:\\Users\\arths\\Documents\\GitHub\\ppo-mario\\wandb\\run-20230605_192922-g21925pe</code>"
            ],
            "text/plain": [
              "<IPython.core.display.HTML object>"
            ]
          },
          "metadata": {},
          "output_type": "display_data"
        },
        {
          "data": {
            "text/html": [
              "Syncing run <strong><a href='https://wandb.ai/arth-shukla/Mario-PPO/runs/g21925pe' target=\"_blank\">norms</a></strong> to <a href='https://wandb.ai/arth-shukla/Mario-PPO' target=\"_blank\">Weights & Biases</a> (<a href='https://wandb.me/run' target=\"_blank\">docs</a>)<br/>"
            ],
            "text/plain": [
              "<IPython.core.display.HTML object>"
            ]
          },
          "metadata": {},
          "output_type": "display_data"
        },
        {
          "data": {
            "text/html": [
              " View project at <a href='https://wandb.ai/arth-shukla/Mario-PPO' target=\"_blank\">https://wandb.ai/arth-shukla/Mario-PPO</a>"
            ],
            "text/plain": [
              "<IPython.core.display.HTML object>"
            ]
          },
          "metadata": {},
          "output_type": "display_data"
        },
        {
          "data": {
            "text/html": [
              " View run at <a href='https://wandb.ai/arth-shukla/Mario-PPO/runs/g21925pe' target=\"_blank\">https://wandb.ai/arth-shukla/Mario-PPO/runs/g21925pe</a>"
            ],
            "text/plain": [
              "<IPython.core.display.HTML object>"
            ]
          },
          "metadata": {},
          "output_type": "display_data"
        },
        {
          "name": "stderr",
          "output_type": "stream",
          "text": [
            "100%|██████████| 1500/1500 [1:17:38<00:00,  3.11s/it]\n"
          ]
        },
        {
          "data": {
            "text/html": [
              "Waiting for W&B process to finish... <strong style=\"color:green\">(success).</strong>"
            ],
            "text/plain": [
              "<IPython.core.display.HTML object>"
            ]
          },
          "metadata": {},
          "output_type": "display_data"
        },
        {
          "data": {
            "text/html": [
              "<style>\n",
              "    table.wandb td:nth-child(1) { padding: 0 10px; text-align: left ; width: auto;} td:nth-child(2) {text-align: left ; width: 100%}\n",
              "    .wandb-row { display: flex; flex-direction: row; flex-wrap: wrap; justify-content: flex-start; width: 100% }\n",
              "    .wandb-col { display: flex; flex-direction: column; flex-basis: 100%; flex: 1; padding: 10px; }\n",
              "    </style>\n",
              "<div class=\"wandb-row\"><div class=\"wandb-col\"><h3>Run history:</h3><br/><table class=\"wandb\"><tr><td>ep_num</td><td>▁▁▁▂▂▂▂▂▂▃▃▃▃▃▄▄▄▄▄▄▅▅▅▅▅▅▆▆▆▆▆▇▇▇▇▇▇███</td></tr><tr><td>losses/actor_loss</td><td>▅▅▆▄▆▂▃▃▆▁▆▂▃▄▄▇▂▄▆▇▃▃▃▅█▅▅▅▃▄▃▄▅▆▇▃▆▄▅▄</td></tr><tr><td>losses/approx_kl</td><td>▁▁▁▁▁▁▁▁▅▁▃▁▂▁▁▁▃▁▁▁▁▂▁▁▃▁▁█▂▄▁▄▁▂▃▁▁▁▁▁</td></tr><tr><td>losses/critic_loss</td><td>▂▅▁▃▂▃▃▃▁▁▁▁▂▂▃▁▃▂▅▁▇█▅▁▁▂▄▁▂▃▁▂▂▂▁█▂▂▃▃</td></tr><tr><td>losses/entropy</td><td>█▅▅▅▅▂▃▂▃▃▁▆▂▁▃▅▁▂▇▅▇▃▁▁▁▁▁▁▁▂▆▂▂▄▁▁▂▇▃▅</td></tr><tr><td>step</td><td>▁▁▁▂▂▂▂▂▂▃▃▃▃▃▃▄▄▄▄▄▅▅▅▅▅▅▆▆▆▆▆▇▇▇▇▇▇███</td></tr><tr><td>train/avg_reward_last_100</td><td>▁▂▂▃▅▆▅▄▂▃▃▅▅▆▄▇██▆▆▆▄▃▃▄▄▃▂▁▁▂▄▅▆▆▆▆▇▇█</td></tr><tr><td>train/ep_len</td><td>▂▅▃▂▂▂▅▄▂▆▂▃▃▂▃▁▃▃▂▃▂▂▂▂▂▂▂▂▂▂▂█▃▂▂▄▃▃▃▃</td></tr><tr><td>train/total_rewards</td><td>▂▄▃▂▂▄▆▇▂▅▂▅▅▂▆▁▄▅▂▃▄▄▄▄▄▄▄▂▂▂▄█▅▂▂▃▃▅▅▅</td></tr></table><br/></div><div class=\"wandb-col\"><h3>Run summary:</h3><br/><table class=\"wandb\"><tr><td>ep_num</td><td>1499</td></tr><tr><td>losses/actor_loss</td><td>-0.31146</td></tr><tr><td>losses/approx_kl</td><td>0.94249</td></tr><tr><td>losses/critic_loss</td><td>0.09414</td></tr><tr><td>losses/entropy</td><td>0.1413</td></tr><tr><td>step</td><td>259583</td></tr><tr><td>train/avg_reward_last_100</td><td>1531.22</td></tr><tr><td>train/ep_len</td><td>38</td></tr><tr><td>train/total_rewards</td><td>227.0</td></tr></table><br/></div></div>"
            ],
            "text/plain": [
              "<IPython.core.display.HTML object>"
            ]
          },
          "metadata": {},
          "output_type": "display_data"
        },
        {
          "data": {
            "text/html": [
              " View run <strong style=\"color:#cdcd00\">norms</strong> at: <a href='https://wandb.ai/arth-shukla/Mario-PPO/runs/g21925pe' target=\"_blank\">https://wandb.ai/arth-shukla/Mario-PPO/runs/g21925pe</a><br/>Synced 6 W&B file(s), 0 media file(s), 0 artifact file(s) and 0 other file(s)"
            ],
            "text/plain": [
              "<IPython.core.display.HTML object>"
            ]
          },
          "metadata": {},
          "output_type": "display_data"
        },
        {
          "data": {
            "text/html": [
              "Find logs at: <code>.\\wandb\\run-20230605_192922-g21925pe\\logs</code>"
            ],
            "text/plain": [
              "<IPython.core.display.HTML object>"
            ]
          },
          "metadata": {},
          "output_type": "display_data"
        }
      ],
      "source": [
        "fancy_feature_testing(run_name='norms', norm_advantage=True, max_grad_norm=0.5)"
      ]
    },
    {
      "cell_type": "code",
      "execution_count": 22,
      "metadata": {},
      "outputs": [
        {
          "data": {
            "text/html": [
              "Tracking run with wandb version 0.15.3"
            ],
            "text/plain": [
              "<IPython.core.display.HTML object>"
            ]
          },
          "metadata": {},
          "output_type": "display_data"
        },
        {
          "data": {
            "text/html": [
              "Run data is saved locally in <code>c:\\Users\\arths\\Documents\\GitHub\\ppo-mario\\wandb\\run-20230605_204712-m8komxwd</code>"
            ],
            "text/plain": [
              "<IPython.core.display.HTML object>"
            ]
          },
          "metadata": {},
          "output_type": "display_data"
        },
        {
          "data": {
            "text/html": [
              "Syncing run <strong><a href='https://wandb.ai/arth-shukla/Mario-PPO/runs/m8komxwd' target=\"_blank\">entropy2</a></strong> to <a href='https://wandb.ai/arth-shukla/Mario-PPO' target=\"_blank\">Weights & Biases</a> (<a href='https://wandb.me/run' target=\"_blank\">docs</a>)<br/>"
            ],
            "text/plain": [
              "<IPython.core.display.HTML object>"
            ]
          },
          "metadata": {},
          "output_type": "display_data"
        },
        {
          "data": {
            "text/html": [
              " View project at <a href='https://wandb.ai/arth-shukla/Mario-PPO' target=\"_blank\">https://wandb.ai/arth-shukla/Mario-PPO</a>"
            ],
            "text/plain": [
              "<IPython.core.display.HTML object>"
            ]
          },
          "metadata": {},
          "output_type": "display_data"
        },
        {
          "data": {
            "text/html": [
              " View run at <a href='https://wandb.ai/arth-shukla/Mario-PPO/runs/m8komxwd' target=\"_blank\">https://wandb.ai/arth-shukla/Mario-PPO/runs/m8komxwd</a>"
            ],
            "text/plain": [
              "<IPython.core.display.HTML object>"
            ]
          },
          "metadata": {},
          "output_type": "display_data"
        },
        {
          "name": "stderr",
          "output_type": "stream",
          "text": [
            "100%|██████████| 1500/1500 [1:33:41<00:00,  3.75s/it]  \n"
          ]
        },
        {
          "data": {
            "text/html": [
              "Waiting for W&B process to finish... <strong style=\"color:green\">(success).</strong>"
            ],
            "text/plain": [
              "<IPython.core.display.HTML object>"
            ]
          },
          "metadata": {},
          "output_type": "display_data"
        },
        {
          "data": {
            "text/html": [
              "<style>\n",
              "    table.wandb td:nth-child(1) { padding: 0 10px; text-align: left ; width: auto;} td:nth-child(2) {text-align: left ; width: 100%}\n",
              "    .wandb-row { display: flex; flex-direction: row; flex-wrap: wrap; justify-content: flex-start; width: 100% }\n",
              "    .wandb-col { display: flex; flex-direction: column; flex-basis: 100%; flex: 1; padding: 10px; }\n",
              "    </style>\n",
              "<div class=\"wandb-row\"><div class=\"wandb-col\"><h3>Run history:</h3><br/><table class=\"wandb\"><tr><td>ep_num</td><td>▁▁▁▂▂▂▂▂▂▃▃▃▃▃▄▄▄▄▄▄▅▅▅▅▅▅▆▆▆▆▆▇▇▇▇▇▇███</td></tr><tr><td>losses/actor_loss</td><td>▃▂▆▆▇▆▃▆▄▃▄▄▄▆▅▅▆▄▇▇▂▄▆▃▃▁▅▄▂▅▆▅▂▁▃▆▃▄█▅</td></tr><tr><td>losses/approx_kl</td><td>▁▁▁▁▁▁▁▃▁▇▅▁▁▁▁▁▁▁▁▂▁▁▁▃▁▁▁▁▁▃▁▄▁▁▂▁▁█▂▁</td></tr><tr><td>losses/critic_loss</td><td>▂▇▅▁▄▂▇▆▄▄▅▇█▆▇▆▇█▆▄█▆▇▅▂▄▆▅▄▅▅▂▆▄▅▇▂▄▄▅</td></tr><tr><td>losses/entropy</td><td>▇▇▇█▇█▆▄▂▁▃▄▃▄▅▄▃▃▇▆▅▃▆▂▁▂▄▄▃▁▇▂▃▁▂▄▁▂█▅</td></tr><tr><td>step</td><td>▁▁▁▁▂▂▂▂▂▃▃▃▃▃▃▄▄▄▄▄▅▅▅▅▅▅▆▆▆▆▆▇▇▇▇▇▇███</td></tr><tr><td>train/avg_reward_last_100</td><td>▂▂▂▃▅▆▆▅▆▆▆▆▇▇▇██▆▇█▇▄▂▁▂▃▃▃▄▆▇█▇▇█▅▂▁▁▄</td></tr><tr><td>train/ep_len</td><td>▂▁▃▁▁▁▄▂▂▂▂▃▂▂▂▃▄▂▁▅▂▂▁▁▁▁▂▂▃▁▂▁█▄▂▁▁▁▂▂</td></tr><tr><td>train/total_rewards</td><td>▂▁▃▂▁▂▇▅▄▄▂▄▂▂▅▄█▂▂▆▅▄▂▂▂▂▄▂▂▂▄▂▆▄▂▂▂▂▄▅</td></tr></table><br/></div><div class=\"wandb-col\"><h3>Run summary:</h3><br/><table class=\"wandb\"><tr><td>ep_num</td><td>1499</td></tr><tr><td>losses/actor_loss</td><td>7.09437</td></tr><tr><td>losses/approx_kl</td><td>0.03632</td></tr><tr><td>losses/critic_loss</td><td>1468.52394</td></tr><tr><td>losses/entropy</td><td>0.77609</td></tr><tr><td>step</td><td>319487</td></tr><tr><td>train/avg_reward_last_100</td><td>1046.82</td></tr><tr><td>train/ep_len</td><td>298</td></tr><tr><td>train/total_rewards</td><td>1683.0</td></tr></table><br/></div></div>"
            ],
            "text/plain": [
              "<IPython.core.display.HTML object>"
            ]
          },
          "metadata": {},
          "output_type": "display_data"
        },
        {
          "data": {
            "text/html": [
              " View run <strong style=\"color:#cdcd00\">entropy2</strong> at: <a href='https://wandb.ai/arth-shukla/Mario-PPO/runs/m8komxwd' target=\"_blank\">https://wandb.ai/arth-shukla/Mario-PPO/runs/m8komxwd</a><br/>Synced 6 W&B file(s), 0 media file(s), 0 artifact file(s) and 0 other file(s)"
            ],
            "text/plain": [
              "<IPython.core.display.HTML object>"
            ]
          },
          "metadata": {},
          "output_type": "display_data"
        },
        {
          "data": {
            "text/html": [
              "Find logs at: <code>.\\wandb\\run-20230605_204712-m8komxwd\\logs</code>"
            ],
            "text/plain": [
              "<IPython.core.display.HTML object>"
            ]
          },
          "metadata": {},
          "output_type": "display_data"
        }
      ],
      "source": [
        "fancy_feature_testing(run_name='entropy2', entropy_coeff=0.01)"
      ]
    },
    {
      "cell_type": "code",
      "execution_count": 23,
      "metadata": {},
      "outputs": [],
      "source": [
        "# import wandb\n",
        "# wandb.finish()"
      ]
    },
    {
      "attachments": {},
      "cell_type": "markdown",
      "metadata": {
        "id": "fwZRdwmKppv5"
      },
      "source": [
        "## Let's Watch Our Bot Play!"
      ]
    },
    {
      "cell_type": "code",
      "execution_count": 24,
      "metadata": {
        "id": "XIaLmkKmppv4"
      },
      "outputs": [],
      "source": [
        "# def run_level(pretrained_path=None):\n",
        "#     with torch.no_grad():\n",
        "#         frames = []\n",
        "        \n",
        "#         env = preprocessed_env()\n",
        "\n",
        "#         agent = DQNAgent(\n",
        "#             state_space=env.observation_space.shape,\n",
        "#             action_space=env.action_space.n,\n",
        "#             max_memory_size=30000,\n",
        "#             batch_size=32,\n",
        "#             gamma=0.90,\n",
        "#             lr=0.00025,\n",
        "#             exploration_max=1.0,\n",
        "#             exploration_min=0.02,\n",
        "#             exploration_decay=0.99,\n",
        "#             have_mem=False\n",
        "#         )\n",
        "\n",
        "#         if pretrained_path != None:\n",
        "#             agent.load(pretrained_path)\n",
        "\n",
        "#         agent.local_net.eval()\n",
        "\n",
        "#         env.reset()\n",
        "\n",
        "#         state, _ = env.reset()\n",
        "#         state = torch.Tensor([state])\n",
        "#         total_reward = 0\n",
        "#         steps = 0\n",
        "\n",
        "#         total_reward = 0\n",
        "#         while True:\n",
        "#             action = agent.act(state)\n",
        "#             steps += 1\n",
        "\n",
        "#             next_state, reward, terminal, truncated, info = env.step(int(action[0]))\n",
        "\n",
        "#             total_reward += reward\n",
        "\n",
        "#             state = torch.Tensor([next_state])\n",
        "            \n",
        "#             for x in env.render():\n",
        "#                 frames.append(x.copy())\n",
        "\n",
        "#             if terminal:\n",
        "#                 break\n",
        "\n",
        "#         env.close()\n",
        "        \n",
        "#         return frames"
      ]
    },
    {
      "cell_type": "code",
      "execution_count": 25,
      "metadata": {
        "colab": {
          "base_uri": "https://localhost:8080/"
        },
        "id": "E8SlNcbpppv5",
        "outputId": "3a7139c3-df5d-42d8-a4ac-57b8a286efa5"
      },
      "outputs": [],
      "source": [
        "# frames = run_level(pretrained_path='./acm_ai_ddqn_checkpoint.pt')"
      ]
    },
    {
      "attachments": {},
      "cell_type": "markdown",
      "metadata": {
        "id": "alX-AQ6Tppv5"
      },
      "source": [
        "Let's watch our DDQN play Mario! Note that it might still lose sometimes..."
      ]
    },
    {
      "cell_type": "code",
      "execution_count": 26,
      "metadata": {
        "colab": {
          "base_uri": "https://localhost:8080/",
          "height": 414
        },
        "id": "hDdVp210ppv5",
        "outputId": "d10045db-6f16-4c03-8d0b-117d0ab6e57a"
      },
      "outputs": [],
      "source": [
        "# display_vid(frames, fps=60)"
      ]
    }
  ],
  "metadata": {
    "accelerator": "GPU",
    "colab": {
      "gpuType": "T4",
      "provenance": []
    },
    "kernelspec": {
      "display_name": "Python 3 (ipykernel)",
      "language": "python",
      "name": "python3"
    },
    "language_info": {
      "codemirror_mode": {
        "name": "ipython",
        "version": 3
      },
      "file_extension": ".py",
      "mimetype": "text/x-python",
      "name": "python",
      "nbconvert_exporter": "python",
      "pygments_lexer": "ipython3",
      "version": "3.11.3"
    }
  },
  "nbformat": 4,
  "nbformat_minor": 0
}
